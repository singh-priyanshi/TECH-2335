{
  "nbformat": 4,
  "nbformat_minor": 0,
  "metadata": {
    "colab": {
      "provenance": [],
      "include_colab_link": true
    },
    "kernelspec": {
      "name": "python3",
      "display_name": "Python 3"
    },
    "language_info": {
      "name": "python"
    }
  },
  "cells": [
    {
      "cell_type": "markdown",
      "metadata": {
        "id": "view-in-github",
        "colab_type": "text"
      },
      "source": [
        "<a href=\"https://colab.research.google.com/github/singh-priyanshi/TECH-2335/blob/main/2_Variables_and_Conditional_Logic_Exercise_(Summer_2023).ipynb\" target=\"_parent\"><img src=\"https://colab.research.google.com/assets/colab-badge.svg\" alt=\"Open In Colab\"/></a>"
      ]
    },
    {
      "cell_type": "markdown",
      "source": [
        "## Challenge 1: Temperature Conversion Logic"
      ],
      "metadata": {
        "id": "NcgIpssJSMkk"
      }
    },
    {
      "cell_type": "code",
      "source": [],
      "metadata": {
        "id": "4m67Xz5xiA48"
      },
      "execution_count": null,
      "outputs": []
    },
    {
      "cell_type": "markdown",
      "source": [
        "\n",
        "\n",
        "The International Space Station periodically sends back temperature readings from space, and recently sent back a report that the temperature was around **-270 degrees Celsius**.\n",
        "\n",
        "Write Python code to model the Celsius temperature concept in a variable, and then convert this Celsius temperature to Farenheit.\n",
        "\n",
        "> HINT: see conversion formulae here https://www.almanac.com/temperature-conversion-celsius-fahrenheit\n",
        ">\n",
        "> \"To convert temperatures in degrees Celsius to Fahrenheit, multiply by 1.8 (or 9/5) and add 32.\"\n",
        "\n"
      ],
      "metadata": {
        "id": "Fe1qDUpKSQKH"
      }
    },
    {
      "cell_type": "code",
      "execution_count": 2,
      "metadata": {
        "id": "S2k3vxUeRfLU",
        "colab": {
          "base_uri": "https://localhost:8080/"
        },
        "outputId": "56ef8c9d-7df5-4d21-b951-3254b5dbf334"
      },
      "outputs": [
        {
          "output_type": "stream",
          "name": "stdout",
          "text": [
            "-454.0\n"
          ]
        }
      ],
      "source": [
        "Celsius = -270\n",
        "Fahrenheit = (Celsius * 1.8) + 32\n",
        "print (Fahrenheit)"
      ]
    },
    {
      "cell_type": "code",
      "source": [
        "celsius_temperature = -270\n",
        "fahrenheit_temperature = celsius_temperature * 1.8 + 32\n",
        "\n",
        "print(\"Celsius Temperature:\", celsius_temperature)\n",
        "print(\"Fahrenheit Temperature:\", fahrenheit_temperature)\n"
      ],
      "metadata": {
        "id": "Ffatod-HTdQm",
        "colab": {
          "base_uri": "https://localhost:8080/"
        },
        "outputId": "a99c686c-94c8-4d11-e41c-95cda01a017e"
      },
      "execution_count": 3,
      "outputs": [
        {
          "output_type": "stream",
          "name": "stdout",
          "text": [
            "Celsius Temperature: -270\n",
            "Fahrenheit Temperature: -454.0\n"
          ]
        }
      ]
    },
    {
      "cell_type": "code",
      "source": [],
      "metadata": {
        "id": "X3LqUWgaTdHf"
      },
      "execution_count": null,
      "outputs": []
    },
    {
      "cell_type": "markdown",
      "source": [
        "## Challenge 2: Rock Paper Scissors Winner Determination Logic"
      ],
      "metadata": {
        "id": "YxwJ2PmLRi-H"
      }
    },
    {
      "cell_type": "markdown",
      "source": [
        "Given the provided `user_choice` and `computer_choice` variables provided below, write Python code to determine which is the winner, and print who won (i.e. \"The computer wins\").\n",
        "\n",
        "\n",
        "> NOTE: rock beats paper, paper beats scissors, scissors beats rock, and same selections result in a tie.\n",
        "\n",
        "> NOTE: your solution should still work if we were to change the user choice and computer choice to other options.\n"
      ],
      "metadata": {
        "id": "thXZ640sRncX"
      }
    },
    {
      "cell_type": "code",
      "source": [
        "# SETUP CELL (RUN THIS AND DON'T MODIFY)\n",
        "\n",
        "user_choice = \"rock\"\n",
        "print(\"USER CHOSE:\", user_choice)\n",
        "\n",
        "computer_choice = \"paper\"\n",
        "print(\"COMPUTER CHOSE:\", computer_choice)"
      ],
      "metadata": {
        "colab": {
          "base_uri": "https://localhost:8080/"
        },
        "id": "EQvjgLr1Ryry",
        "outputId": "e8a8b1f4-a854-4ec3-db61-1c5084676a96"
      },
      "execution_count": 1,
      "outputs": [
        {
          "output_type": "stream",
          "name": "stdout",
          "text": [
            "USER CHOSE: rock\n",
            "COMPUTER CHOSE: paper\n"
          ]
        }
      ]
    },
    {
      "cell_type": "code",
      "source": [
        "# TODO: WRITE PYTHON CODE HERE TO SOLVE THE CHALLENGE\n",
        "\n",
        "# DETERMINE THE WINNER AND PRINT WHO WON\n",
        "\n",
        "# Rock beats Scissors\n",
        "# Paper beats Rock\n",
        "# Scissors beats Paper\n",
        "# Rock vs Rock, Paper vs Paper, and Scissors vs Scissors each results in a \"tie\"\n",
        "\n",
        "\n",
        "# user_choice\n",
        "\n",
        "# computer_choice\n",
        "\n",
        "# ONLY EVALUATE CONDITIONS WHERE USER CHOSE ROCK\n",
        "\n",
        "if user_choice == \"rock\" and computer_choice == \"rock\":\n",
        "    print(\"TIE\")\n",
        "elif user_choice == \"rock\" and computer_choice == \"paper\":\n",
        "    print(\"COMP WINS\")\n",
        "elif user_choice == \"rock\" and computer_choice == \"scissors\":\n",
        "    print(\"USER WINS\")\n",
        "\n",
        "elif user_choice == \"paper\" and computer_choice == \"rock\":\n",
        "    print(\"USER WINS\")\n",
        "elif user_choice == \"paper\" and computer_choice == \"paper\":\n",
        "    print(\"TIE\")\n",
        "elif user_choice == \"paper\" and computer_choice == \"scissors\":\n",
        "    print(\"COMP WINS\")\n",
        "\n",
        "elif user_choice == \"scissors\" and computer_choice == \"rock\":\n",
        "    print(\"COMP WINS\")\n",
        "elif user_choice == \"scissors\" and computer_choice == \"paper\":\n",
        "    print(\"USER\")\n",
        "elif user_choice == \"scissors\" and computer_choice == \"scissors\":\n",
        "    print(\"TIE\")\n",
        "\n",
        "\n",
        "\n",
        "#print(\"WINNER IS...\")"
      ],
      "metadata": {
        "id": "5gs3pImORzNn",
        "colab": {
          "base_uri": "https://localhost:8080/"
        },
        "outputId": "2b05b5a0-ef1b-47d7-8ab5-3c8b8fb546b9"
      },
      "execution_count": 2,
      "outputs": [
        {
          "output_type": "stream",
          "name": "stdout",
          "text": [
            "COMP WINS\n"
          ]
        }
      ]
    },
    {
      "cell_type": "code",
      "source": [],
      "metadata": {
        "id": "oGr7mu3iRzKI"
      },
      "execution_count": null,
      "outputs": []
    },
    {
      "cell_type": "code",
      "source": [
        "import random\n",
        "\n",
        "valid_options = [\"rock\", \"paper\", \"scissors\"]\n",
        "\n",
        "computer_choice = random.choice(valid_options)\n",
        "print(\"COMP CHOSE:\", computer_choice)\n",
        "\n",
        "# user_choice = \"ROCK\"\n",
        "user_choice = input(\"Please choose an option ('rock', 'paper', 'scissors'): \")\n",
        "\n",
        "print(\"YOU CHOSE:\", user_choice)\n",
        "\n",
        "if user_choice == computer_choice:\n",
        "    print(\"TIE\")\n",
        "elif user_choice == \"rock\":\n",
        "\n",
        "    if computer_choice == \"paper\":\n",
        "        print(\"COMP WINS\")\n",
        "    else:\n",
        "        print(\"USER WINS\")\n",
        "\n",
        "elif user_choice == \"paper\":\n",
        "\n",
        "    if computer_choice == \"rock\":\n",
        "        print(\"USER WINS\")\n",
        "    else:\n",
        "        print(\"COMP WINS\")\n",
        "\n",
        "elif user_choice == \"scissors\":\n",
        "\n",
        "    if computer_choice == \"paper\":\n",
        "        print(\"USER WINS\")\n",
        "    else:\n",
        "        print(\"COMP WINS\")"
      ],
      "metadata": {
        "id": "KyYLVWMyRzEs",
        "colab": {
          "base_uri": "https://localhost:8080/"
        },
        "outputId": "c2c5ad22-350b-4238-c2c9-1e31ff7161e3"
      },
      "execution_count": 5,
      "outputs": [
        {
          "output_type": "stream",
          "name": "stdout",
          "text": [
            "COMP CHOSE: scissors\n",
            "Please choose an option ('rock', 'paper', 'scissors'): rock\n",
            "YOU CHOSE: rock\n",
            "USER WINS\n"
          ]
        }
      ]
    },
    {
      "cell_type": "code",
      "source": [],
      "metadata": {
        "id": "IF1VsPIOiNXK"
      },
      "execution_count": null,
      "outputs": []
    }
  ]
}