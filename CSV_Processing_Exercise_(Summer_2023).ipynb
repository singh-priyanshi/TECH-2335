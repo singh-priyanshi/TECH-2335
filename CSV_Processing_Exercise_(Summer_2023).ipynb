{
  "nbformat": 4,
  "nbformat_minor": 0,
  "metadata": {
    "colab": {
      "provenance": [],
      "toc_visible": true,
      "include_colab_link": true
    },
    "kernelspec": {
      "name": "python3",
      "display_name": "Python 3"
    }
  },
  "cells": [
    {
      "cell_type": "markdown",
      "metadata": {
        "id": "view-in-github",
        "colab_type": "text"
      },
      "source": [
        "<a href=\"https://colab.research.google.com/github/singh-priyanshi/py/blob/main/CSV_Processing_Exercise_(Summer_2023).ipynb\" target=\"_parent\"><img src=\"https://colab.research.google.com/assets/colab-badge.svg\" alt=\"Open In Colab\"/></a>"
      ]
    },
    {
      "cell_type": "markdown",
      "metadata": {
        "id": "wbaQ4VhP0UKx"
      },
      "source": [
        "# Instructions\n",
        "\n",
        "Each of these challenges provides a different CSV formatted dataset. Write Python code to process each file and answer the respective questions about the data contained within.\n"
      ]
    },
    {
      "cell_type": "markdown",
      "metadata": {
        "id": "YCUuLa2J0RHU"
      },
      "source": [
        "\n",
        "# References\n",
        "\n",
        "You will find the following reference material directly helpful in completing this exercise.\n",
        "\n",
        "Working with CSV files:\n",
        "\n",
        "  + [`pandas.read_csv()`](https://pandas.pydata.org/pandas-docs/stable/reference/api/pandas.read_csv.html)\n",
        "  + [`pandas.DataFrame`](https://pandas.pydata.org/pandas-docs/stable/reference/api/pandas.DataFrame.html):\n",
        "    + [`pandas.DataFrame.iterrows()`](https://pandas.pydata.org/pandas-docs/stable/reference/api/pandas.DataFrame.iterrows.html)\n",
        "    + [`pandas.DataFrame.groupby()`](https://pandas.pydata.org/pandas-docs/stable/reference/api/pandas.DataFrame.groupby.html)\n",
        "  + [`pandas.Series`](https://pandas.pydata.org/pandas-docs/stable/reference/api/pandas.Series.html):\n",
        "    + [`pandas.Series.map()`](https://pandas.pydata.org/pandas-docs/stable/reference/api/pandas.Series.map.html)\n",
        "    + [`pandas.Series.value_counts()`](https://pandas.pydata.org/pandas-docs/stable/reference/api/pandas.Series.value_counts.html)\n",
        "  + [`pandas.pivot_table()`](https://pandas.pydata.org/docs/reference/api/pandas.pivot_table.html)\n",
        "\n",
        "\n",
        "\n",
        "    \n",
        "\n",
        "\n"
      ]
    },
    {
      "cell_type": "markdown",
      "source": [
        "# Challenges"
      ],
      "metadata": {
        "id": "sibPuGCWALm-"
      }
    },
    {
      "cell_type": "markdown",
      "metadata": {
        "id": "5b06VpNVE4C5"
      },
      "source": [
        "## Challenge 1 (Gradebook)"
      ]
    },
    {
      "cell_type": "markdown",
      "metadata": {
        "id": "20nwP1b_FNGe"
      },
      "source": [
        "\n",
        "Given the provided \"gradebook.csv\" file, write Python code to read the CSV data and perform each of the following tasks...\n",
        "\n",
        "A) Print the **column names** (i.e. `['student_id', 'final_grade']`).\n",
        "\n",
        "B) Print the **number of students** / rows (i.e. `10`).\n",
        "\n",
        "C) Print the **average grade** (i.e. `83.64`).\n",
        "\n",
        "D) Print the **median grade** (i.e. ` 87.6`).\n",
        "\n",
        "E) Create another column on the DataFrame called \"letter_grade\", and use a custom function to assign each numeric score a corresponding **letter grade**.\n",
        "\n",
        "> HINT: use the Series object's `apply()` or `map()` method\n",
        "\n",
        "\n",
        "F) Print the **percentage of students who got each letter grade**.\n",
        "\n",
        "> HINT: use the Series object's `value_counts()` method"
      ]
    },
    {
      "cell_type": "code",
      "source": [
        "from pandas import read_csv\n",
        "\n",
        "#\n",
        "# GRADEBOOK\n",
        "#\n",
        "\n",
        "#df = read_csv(\"gradebook.csv\")\n",
        "df = read_csv(\"https://raw.githubusercontent.com/prof-rossetti/intro-to-python/master/data/gradebook.csv\")\n",
        "\n",
        "print(df.head())"
      ],
      "metadata": {
        "colab": {
          "base_uri": "https://localhost:8080/"
        },
        "id": "BDgxuJH3QRTm",
        "outputId": "f48b6266-3615-4c0f-f033-ec34972f5002"
      },
      "execution_count": null,
      "outputs": [
        {
          "output_type": "stream",
          "name": "stdout",
          "text": [
            "   student_id  final_grade\n",
            "0           1         76.7\n",
            "1           2         85.1\n",
            "2           3         50.3\n",
            "3           4         89.8\n",
            "4           5         97.4\n"
          ]
        }
      ]
    },
    {
      "cell_type": "code",
      "source": [],
      "metadata": {
        "id": "Eh4nBhe8W9sm"
      },
      "execution_count": null,
      "outputs": []
    },
    {
      "cell_type": "code",
      "source": [],
      "metadata": {
        "id": "kte_0sExW9pu"
      },
      "execution_count": null,
      "outputs": []
    },
    {
      "cell_type": "code",
      "metadata": {
        "id": "2Xm_a4xF_Nwh",
        "colab": {
          "base_uri": "https://localhost:8080/"
        },
        "outputId": "23522816-ae37-412b-faaf-711f7d4b1c10"
      },
      "source": [
        "\n",
        "# HERE IS AN EXAMPLE FUNCTION TO USE FOR LETTER GRADE CONVERSION (FEEL FREE TO REVISE AS DESIRED)\n",
        "\n",
        "def calculate_grade(score):\n",
        "    if score >= 75.0:\n",
        "        grade = \"Pass\"\n",
        "    else:\n",
        "        grade = \"Fail\"\n",
        "    return grade\n",
        "\n",
        "\n",
        "# example invocations:\n",
        "print(calculate_grade(50))\n",
        "print(calculate_grade(90))"
      ],
      "execution_count": null,
      "outputs": [
        {
          "output_type": "stream",
          "name": "stdout",
          "text": [
            "Fail\n",
            "Pass\n"
          ]
        }
      ]
    },
    {
      "cell_type": "code",
      "source": [],
      "metadata": {
        "id": "Q0pwHNEZQU30"
      },
      "execution_count": null,
      "outputs": []
    },
    {
      "cell_type": "markdown",
      "source": [
        "my:"
      ],
      "metadata": {
        "id": "-Jz6HT4H4sdu"
      }
    },
    {
      "cell_type": "code",
      "source": [
        "import pandas as pd\n",
        "import requests\n",
        "from io import StringIO\n",
        "\n",
        "# Load the CSV data from the provided URL\n",
        "url = \"https://raw.githubusercontent.com/prof-rossetti/intro-to-python/master/data/gradebook.csv\"\n",
        "response = requests.get(url)\n",
        "data = StringIO(response.text)\n",
        "\n",
        "# Read the CSV data into a DataFrame\n",
        "df = pd.read_csv(data)"
      ],
      "metadata": {
        "id": "jgLxWvtIVJiK"
      },
      "execution_count": 1,
      "outputs": []
    },
    {
      "cell_type": "code",
      "source": [
        "# A) Print column names\n",
        "column_names = df.columns.tolist()\n",
        "print(\"Column names:\", column_names)"
      ],
      "metadata": {
        "id": "J6B6VAQqW6Ii",
        "colab": {
          "base_uri": "https://localhost:8080/"
        },
        "outputId": "d172d9ff-e61f-4b37-ba06-175ae7690ad2"
      },
      "execution_count": 2,
      "outputs": [
        {
          "output_type": "stream",
          "name": "stdout",
          "text": [
            "Column names: ['student_id', 'final_grade']\n"
          ]
        }
      ]
    },
    {
      "cell_type": "code",
      "source": [
        "# B) Print number of students / rows\n",
        "num_students = df.shape[0]\n",
        "print(\"Number of students:\", num_students)"
      ],
      "metadata": {
        "colab": {
          "base_uri": "https://localhost:8080/"
        },
        "id": "8rMfyyQd4xFi",
        "outputId": "133f390f-1e04-424e-ad30-cf1804dc75d8"
      },
      "execution_count": 3,
      "outputs": [
        {
          "output_type": "stream",
          "name": "stdout",
          "text": [
            "Number of students: 10\n"
          ]
        }
      ]
    },
    {
      "cell_type": "code",
      "source": [
        "# C) Print average grade\n",
        "average_grade = df['final_grade'].mean()\n",
        "print(\"Average grade:\", round(average_grade, 2))"
      ],
      "metadata": {
        "colab": {
          "base_uri": "https://localhost:8080/"
        },
        "id": "xJDLmGdP4xB8",
        "outputId": "2239aed3-cd9a-4bbe-c3e5-f5f6246c5235"
      },
      "execution_count": 4,
      "outputs": [
        {
          "output_type": "stream",
          "name": "stdout",
          "text": [
            "Average grade: 83.64\n"
          ]
        }
      ]
    },
    {
      "cell_type": "code",
      "source": [
        "# D) Print median grade\n",
        "median_grade = df['final_grade'].median()\n",
        "print(\"Median grade:\", median_grade)"
      ],
      "metadata": {
        "colab": {
          "base_uri": "https://localhost:8080/"
        },
        "id": "yzDMvjsY4w-S",
        "outputId": "79cd7d7c-8f3d-49f1-ec72-68c69a942eec"
      },
      "execution_count": 5,
      "outputs": [
        {
          "output_type": "stream",
          "name": "stdout",
          "text": [
            "Median grade: 87.6\n"
          ]
        }
      ]
    },
    {
      "cell_type": "code",
      "source": [
        "# E) Create \"letter_grade\" column\n",
        "def assign_letter_grade(score):\n",
        "    if score >= 90:\n",
        "        return 'A'\n",
        "    elif score >= 80:\n",
        "        return 'B'\n",
        "    elif score >= 70:\n",
        "        return 'C'\n",
        "    elif score >= 60:\n",
        "        return 'D'\n",
        "    else:\n",
        "        return 'F'\n",
        "\n",
        "df['letter_grade'] = df['final_grade'].apply(assign_letter_grade)"
      ],
      "metadata": {
        "id": "gxM_q1ZJW6GN"
      },
      "execution_count": 7,
      "outputs": []
    },
    {
      "cell_type": "code",
      "source": [
        "# F) Print percentage of students who got each letter grade\n",
        "letter_grade_counts = df['letter_grade'].value_counts(normalize=True) * 100\n",
        "print(\"Percentage of students who got each letter grade:\")\n",
        "print(letter_grade_counts)\n",
        "\n",
        "# Print the first few rows of the DataFrame\n",
        "print(df.head())"
      ],
      "metadata": {
        "colab": {
          "base_uri": "https://localhost:8080/"
        },
        "id": "cdR4IZRu44SM",
        "outputId": "7b17fc71-da47-476e-d232-031ae9f4d9b0"
      },
      "execution_count": 8,
      "outputs": [
        {
          "output_type": "stream",
          "name": "stdout",
          "text": [
            "Percentage of students who got each letter grade:\n",
            "B    40.0\n",
            "A    30.0\n",
            "C    20.0\n",
            "F    10.0\n",
            "Name: letter_grade, dtype: float64\n",
            "   student_id  final_grade letter_grade\n",
            "0           1         76.7            C\n",
            "1           2         85.1            B\n",
            "2           3         50.3            F\n",
            "3           4         89.8            B\n",
            "4           5         97.4            A\n"
          ]
        }
      ]
    },
    {
      "cell_type": "markdown",
      "metadata": {
        "id": "Erj3QCpkFBx0"
      },
      "source": [
        "## Challenge 2 (Products)\n",
        "\n",
        "Given the provided \"products.csv\" file, write Python code to read the CSV data and perform each of the following tasks...\n",
        "\n",
        "A) Print the **number of products** (rows) (i.e. `20`).\n",
        "\n",
        "B) Print the **columns** (i.e. `['id', 'name', 'aisle', 'department', 'price']`).\n",
        "\n",
        "C) Loop through each of the rows and **print the name and price of each product**. Use the provided `to_usd` function to format prices as USD with dollar sign and two decimal places.\n"
      ]
    },
    {
      "cell_type": "code",
      "metadata": {
        "id": "nGbRcwzl_ar0",
        "colab": {
          "base_uri": "https://localhost:8080/"
        },
        "outputId": "e853408a-15b3-4e40-c26b-bdd8d5c3af72"
      },
      "source": [
        "\n",
        "# HERE IS A PRICE FORMATTING FUNCTION FOR YOU TO USE\n",
        "\n",
        "def to_usd(my_price):\n",
        "    \"\"\"\n",
        "        Converts a numeric value to USD-formatted string, for printing and display purposes.\n",
        "        Adds dollar sign and commas for the thousands separator.\n",
        "        Rounds to two decimal places.\n",
        "\n",
        "        Param: my_price (int or float or str) like 4000.444444 or \"4000.444444\"\n",
        "\n",
        "        Example: to_usd(4000.444444)\n",
        "\n",
        "        Returns: $4,000.44\n",
        "    \"\"\"\n",
        "    return f\"${float(my_price):,.2f}\"\n",
        "\n",
        "\n",
        "# example invocations:\n",
        "print(to_usd(4.5))\n",
        "print(to_usd(1234567890.12345))"
      ],
      "execution_count": null,
      "outputs": [
        {
          "output_type": "stream",
          "name": "stdout",
          "text": [
            "$4.50\n",
            "$1,234,567,890.12\n"
          ]
        }
      ]
    },
    {
      "cell_type": "code",
      "metadata": {
        "id": "9XzkP4dG_m4l",
        "colab": {
          "base_uri": "https://localhost:8080/"
        },
        "outputId": "6a1e4274-1a9c-4337-a719-568743ba39f1"
      },
      "source": [
        "#\n",
        "# PRODUCTS\n",
        "#\n",
        "\n",
        "from pandas import read_csv\n",
        "\n",
        "#df = read_csv(\"products.csv\")\n",
        "df = read_csv(\"https://raw.githubusercontent.com/prof-rossetti/intro-to-python/master/data/products.csv\")\n",
        "\n",
        "print(df.head())"
      ],
      "execution_count": null,
      "outputs": [
        {
          "output_type": "stream",
          "name": "stdout",
          "text": [
            "   id                                               name  \\\n",
            "0   1                         Chocolate Sandwich Cookies   \n",
            "1   2                                   All-Seasons Salt   \n",
            "2   3               Robust Golden Unsweetened Oolong Tea   \n",
            "3   4  Smart Ones Classic Favorites Mini Rigatoni Wit...   \n",
            "4   5                          Green Chile Anytime Sauce   \n",
            "\n",
            "                        aisle department  price  \n",
            "0               cookies cakes     snacks   3.50  \n",
            "1           spices seasonings     pantry   4.99  \n",
            "2                         tea  beverages   2.49  \n",
            "3                frozen meals     frozen   6.99  \n",
            "4  marinades meat preparation     pantry   7.99  \n"
          ]
        }
      ]
    },
    {
      "cell_type": "markdown",
      "source": [
        "MY:"
      ],
      "metadata": {
        "id": "0W6biMZP5k7G"
      }
    },
    {
      "cell_type": "code",
      "source": [
        "import pandas as pd\n",
        "\n",
        "# Read the CSV file from the URL\n",
        "df = pd.read_csv(\"https://raw.githubusercontent.com/prof-rossetti/intro-to-python/master/data/products.csv\")\n",
        "\n",
        "# A) Print the number of products (rows)\n",
        "num_products = len(df)\n",
        "print(\"Number of products:\", num_products)\n",
        "\n",
        "\n"
      ],
      "metadata": {
        "id": "05ExyBv3RRK3",
        "colab": {
          "base_uri": "https://localhost:8080/"
        },
        "outputId": "6362a9d0-f503-4c6f-e399-4d918c0f32ae"
      },
      "execution_count": 9,
      "outputs": [
        {
          "output_type": "stream",
          "name": "stdout",
          "text": [
            "Number of products: 20\n"
          ]
        }
      ]
    },
    {
      "cell_type": "code",
      "source": [
        "# B) Print the columns\n",
        "columns = df.columns.tolist()\n",
        "print(\"Columns:\", columns)\n",
        "\n"
      ],
      "metadata": {
        "id": "3rXQ8jQrVORa",
        "colab": {
          "base_uri": "https://localhost:8080/"
        },
        "outputId": "99bc0429-9d8f-42d3-e3d6-3c3428f68826"
      },
      "execution_count": 10,
      "outputs": [
        {
          "output_type": "stream",
          "name": "stdout",
          "text": [
            "Columns: ['id', 'name', 'aisle', 'department', 'price']\n"
          ]
        }
      ]
    },
    {
      "cell_type": "code",
      "source": [
        "# C) Loop through each row and print name and price using the to_usd function\n",
        "def to_usd(price):\n",
        "    return \"${:.2f}\".format(price)\n",
        "\n",
        "print(\"Name\\tPrice\")\n",
        "print(\"---------------------------\")\n",
        "for index, row in df.iterrows():\n",
        "    product_name = row[\"name\"]\n",
        "    product_price = row[\"price\"]\n",
        "    formatted_price = to_usd(product_price)\n",
        "    print(f\"{product_name} = ({formatted_price})\")"
      ],
      "metadata": {
        "id": "ra_su82lVOLD",
        "colab": {
          "base_uri": "https://localhost:8080/"
        },
        "outputId": "d8c5cafb-eb7d-48aa-f043-261578c4cf1e"
      },
      "execution_count": 14,
      "outputs": [
        {
          "output_type": "stream",
          "name": "stdout",
          "text": [
            "Name\tPrice\n",
            "---------------------------\n",
            "Chocolate Sandwich Cookies = ($3.50)\n",
            "All-Seasons Salt = ($4.99)\n",
            "Robust Golden Unsweetened Oolong Tea = ($2.49)\n",
            "Smart Ones Classic Favorites Mini Rigatoni With Vodka Cream Sauce = ($6.99)\n",
            "Green Chile Anytime Sauce = ($7.99)\n",
            "Dry Nose Oil = ($21.99)\n",
            "Pure Coconut Water With Orange = ($3.50)\n",
            "Cut Russet Potatoes Steam N' Mash = ($4.25)\n",
            "Light Strawberry Blueberry Yogurt = ($6.50)\n",
            "Sparkling Orange Juice & Prickly Pear Beverage = ($2.99)\n",
            "Peach Mango Juice = ($1.99)\n",
            "Chocolate Fudge Layer Cake = ($18.50)\n",
            "Saline Nasal Mist = ($16.00)\n",
            "Fresh Scent Dishwasher Cleaner = ($4.99)\n",
            "Overnight Diapers Size 6 = ($25.50)\n",
            "Mint Chocolate Flavored Syrup = ($4.50)\n",
            "Rendered Duck Fat = ($9.99)\n",
            "Pizza for One Suprema  Frozen Pizza = ($12.50)\n",
            "Gluten Free Quinoa Three Cheese & Mushroom Blend = ($3.99)\n",
            "Pomegranate Cranberry & Aloe Vera Enrich Drink = ($4.25)\n"
          ]
        }
      ]
    },
    {
      "cell_type": "markdown",
      "source": [
        "## Challenge 3 (Monthly Sales)"
      ],
      "metadata": {
        "id": "ZeG0Tijy_RDI"
      }
    },
    {
      "cell_type": "markdown",
      "source": [
        "**bold text**\n",
        "Given the provided `sales_df` variable representing monthly retail sales, write Python code to read the CSV data and perform each of the following tasks...\n",
        "\n",
        "\n",
        "A) What is the **structure** of this data. In other words, we have a \"row per what?\" Describe your answer in words.\n",
        "\n",
        "\n",
        "B) How many **unique products** are sold (i.e. `7`), and what are their names? Print the list of unique products in alphabetical order (i.e. `['Baseball Cap', 'Brown Boots', 'Button-Down Shirt', 'Khaki Pants', 'Sticker Pack', 'Super Soft Hoodie', 'Vintage Logo Tee']`).\n",
        "\n",
        "C) Print the **total monthly sales**, formatted as USD (i.e. `\"$12,000.71\"`).\n",
        "\n",
        "\n",
        "D) Calculate the **total sales for each day**, and create a bar or line chart depicting the sales over time. Optionally  also print which five dates have the most sales.\n",
        "\n",
        "\n",
        "\n",
        "<img src=\"https://user-images.githubusercontent.com/1328807/211162483-1418bd1c-7e43-42bc-b2c4-b5c24e242f0a.png\" height=\"300\"/>\n",
        "\n",
        "\n",
        "\n",
        "\n",
        "E) Determine the **total sales for each product**, and create a horizontal bar chart to show the top selling products, with the bars sorted in descending order of their length.\n",
        "\n",
        "\n",
        "\n",
        "\n",
        "<img src=\"https://user-images.githubusercontent.com/1328807/211162481-07593a51-57f9-4bfd-ab14-f0878d8bc960.png\" height=\"300\"/>\n",
        "\n",
        "\n",
        "\n",
        "\n"
      ],
      "metadata": {
        "id": "28gXC34HMbX9"
      }
    },
    {
      "cell_type": "code",
      "source": [
        "#\n",
        "# MONTHLY SALES\n",
        "#\n",
        "\n",
        "month = \"201803\"\n",
        "sales_df = read_csv(f\"https://raw.githubusercontent.com/prof-rossetti/data-analytics-in-python/main/data/unit-2/monthly-sales/sales-{month}.csv\")\n",
        "sales_df.head()"
      ],
      "metadata": {
        "colab": {
          "base_uri": "https://localhost:8080/",
          "height": 206
        },
        "id": "lJeSWjfNAZdy",
        "outputId": "77e0fa96-c382-4396-9fbd-b46c22b652b3"
      },
      "execution_count": null,
      "outputs": [
        {
          "output_type": "execute_result",
          "data": {
            "text/plain": [
              "         date            product  unit price  units sold  sales price\n",
              "0  2018-03-01  Button-Down Shirt       65.05           2       130.10\n",
              "1  2018-03-01   Vintage Logo Tee       15.95           1        15.95\n",
              "2  2018-03-01       Sticker Pack        4.50           1         4.50\n",
              "3  2018-03-02  Super Soft Hoodie       75.00           2       150.00\n",
              "4  2018-03-02  Button-Down Shirt       65.05           7       455.35"
            ],
            "text/html": [
              "\n",
              "  <div id=\"df-5bde5a6f-b1a2-4752-a138-b4cc633c61ac\">\n",
              "    <div class=\"colab-df-container\">\n",
              "      <div>\n",
              "<style scoped>\n",
              "    .dataframe tbody tr th:only-of-type {\n",
              "        vertical-align: middle;\n",
              "    }\n",
              "\n",
              "    .dataframe tbody tr th {\n",
              "        vertical-align: top;\n",
              "    }\n",
              "\n",
              "    .dataframe thead th {\n",
              "        text-align: right;\n",
              "    }\n",
              "</style>\n",
              "<table border=\"1\" class=\"dataframe\">\n",
              "  <thead>\n",
              "    <tr style=\"text-align: right;\">\n",
              "      <th></th>\n",
              "      <th>date</th>\n",
              "      <th>product</th>\n",
              "      <th>unit price</th>\n",
              "      <th>units sold</th>\n",
              "      <th>sales price</th>\n",
              "    </tr>\n",
              "  </thead>\n",
              "  <tbody>\n",
              "    <tr>\n",
              "      <th>0</th>\n",
              "      <td>2018-03-01</td>\n",
              "      <td>Button-Down Shirt</td>\n",
              "      <td>65.05</td>\n",
              "      <td>2</td>\n",
              "      <td>130.10</td>\n",
              "    </tr>\n",
              "    <tr>\n",
              "      <th>1</th>\n",
              "      <td>2018-03-01</td>\n",
              "      <td>Vintage Logo Tee</td>\n",
              "      <td>15.95</td>\n",
              "      <td>1</td>\n",
              "      <td>15.95</td>\n",
              "    </tr>\n",
              "    <tr>\n",
              "      <th>2</th>\n",
              "      <td>2018-03-01</td>\n",
              "      <td>Sticker Pack</td>\n",
              "      <td>4.50</td>\n",
              "      <td>1</td>\n",
              "      <td>4.50</td>\n",
              "    </tr>\n",
              "    <tr>\n",
              "      <th>3</th>\n",
              "      <td>2018-03-02</td>\n",
              "      <td>Super Soft Hoodie</td>\n",
              "      <td>75.00</td>\n",
              "      <td>2</td>\n",
              "      <td>150.00</td>\n",
              "    </tr>\n",
              "    <tr>\n",
              "      <th>4</th>\n",
              "      <td>2018-03-02</td>\n",
              "      <td>Button-Down Shirt</td>\n",
              "      <td>65.05</td>\n",
              "      <td>7</td>\n",
              "      <td>455.35</td>\n",
              "    </tr>\n",
              "  </tbody>\n",
              "</table>\n",
              "</div>\n",
              "      <button class=\"colab-df-convert\" onclick=\"convertToInteractive('df-5bde5a6f-b1a2-4752-a138-b4cc633c61ac')\"\n",
              "              title=\"Convert this dataframe to an interactive table.\"\n",
              "              style=\"display:none;\">\n",
              "        \n",
              "  <svg xmlns=\"http://www.w3.org/2000/svg\" height=\"24px\"viewBox=\"0 0 24 24\"\n",
              "       width=\"24px\">\n",
              "    <path d=\"M0 0h24v24H0V0z\" fill=\"none\"/>\n",
              "    <path d=\"M18.56 5.44l.94 2.06.94-2.06 2.06-.94-2.06-.94-.94-2.06-.94 2.06-2.06.94zm-11 1L8.5 8.5l.94-2.06 2.06-.94-2.06-.94L8.5 2.5l-.94 2.06-2.06.94zm10 10l.94 2.06.94-2.06 2.06-.94-2.06-.94-.94-2.06-.94 2.06-2.06.94z\"/><path d=\"M17.41 7.96l-1.37-1.37c-.4-.4-.92-.59-1.43-.59-.52 0-1.04.2-1.43.59L10.3 9.45l-7.72 7.72c-.78.78-.78 2.05 0 2.83L4 21.41c.39.39.9.59 1.41.59.51 0 1.02-.2 1.41-.59l7.78-7.78 2.81-2.81c.8-.78.8-2.07 0-2.86zM5.41 20L4 18.59l7.72-7.72 1.47 1.35L5.41 20z\"/>\n",
              "  </svg>\n",
              "      </button>\n",
              "      \n",
              "  <style>\n",
              "    .colab-df-container {\n",
              "      display:flex;\n",
              "      flex-wrap:wrap;\n",
              "      gap: 12px;\n",
              "    }\n",
              "\n",
              "    .colab-df-convert {\n",
              "      background-color: #E8F0FE;\n",
              "      border: none;\n",
              "      border-radius: 50%;\n",
              "      cursor: pointer;\n",
              "      display: none;\n",
              "      fill: #1967D2;\n",
              "      height: 32px;\n",
              "      padding: 0 0 0 0;\n",
              "      width: 32px;\n",
              "    }\n",
              "\n",
              "    .colab-df-convert:hover {\n",
              "      background-color: #E2EBFA;\n",
              "      box-shadow: 0px 1px 2px rgba(60, 64, 67, 0.3), 0px 1px 3px 1px rgba(60, 64, 67, 0.15);\n",
              "      fill: #174EA6;\n",
              "    }\n",
              "\n",
              "    [theme=dark] .colab-df-convert {\n",
              "      background-color: #3B4455;\n",
              "      fill: #D2E3FC;\n",
              "    }\n",
              "\n",
              "    [theme=dark] .colab-df-convert:hover {\n",
              "      background-color: #434B5C;\n",
              "      box-shadow: 0px 1px 3px 1px rgba(0, 0, 0, 0.15);\n",
              "      filter: drop-shadow(0px 1px 2px rgba(0, 0, 0, 0.3));\n",
              "      fill: #FFFFFF;\n",
              "    }\n",
              "  </style>\n",
              "\n",
              "      <script>\n",
              "        const buttonEl =\n",
              "          document.querySelector('#df-5bde5a6f-b1a2-4752-a138-b4cc633c61ac button.colab-df-convert');\n",
              "        buttonEl.style.display =\n",
              "          google.colab.kernel.accessAllowed ? 'block' : 'none';\n",
              "\n",
              "        async function convertToInteractive(key) {\n",
              "          const element = document.querySelector('#df-5bde5a6f-b1a2-4752-a138-b4cc633c61ac');\n",
              "          const dataTable =\n",
              "            await google.colab.kernel.invokeFunction('convertToInteractive',\n",
              "                                                     [key], {});\n",
              "          if (!dataTable) return;\n",
              "\n",
              "          const docLinkHtml = 'Like what you see? Visit the ' +\n",
              "            '<a target=\"_blank\" href=https://colab.research.google.com/notebooks/data_table.ipynb>data table notebook</a>'\n",
              "            + ' to learn more about interactive tables.';\n",
              "          element.innerHTML = '';\n",
              "          dataTable['output_type'] = 'display_data';\n",
              "          await google.colab.output.renderOutput(dataTable, element);\n",
              "          const docLink = document.createElement('div');\n",
              "          docLink.innerHTML = docLinkHtml;\n",
              "          element.appendChild(docLink);\n",
              "        }\n",
              "      </script>\n",
              "    </div>\n",
              "  </div>\n",
              "  "
            ]
          },
          "metadata": {},
          "execution_count": 5
        }
      ]
    },
    {
      "cell_type": "markdown",
      "source": [
        "Answer for A (fill in blanks):\n",
        "\n",
        "Looks like we have a row per _____________ per __________."
      ],
      "metadata": {
        "id": "dVdjZ3rnPHPk"
      }
    },
    {
      "cell_type": "code",
      "source": [
        "import pandas as pd\n",
        "import matplotlib.pyplot as plt\n",
        "\n",
        "# A) Read the CSV data\n",
        "month = \"201803\"\n",
        "sales_df = pd.read_csv(f\"https://raw.githubusercontent.com/prof-rossetti/data-analytics-in-python/main/data/unit-2/monthly-sales/sales-{month}.csv\")\n",
        "sales_df.head()\n"
      ],
      "metadata": {
        "id": "LwlDQ93rSnQ3",
        "colab": {
          "base_uri": "https://localhost:8080/",
          "height": 206
        },
        "outputId": "ef5f3c03-057a-4b20-f235-2354e0d2a89a"
      },
      "execution_count": 20,
      "outputs": [
        {
          "output_type": "execute_result",
          "data": {
            "text/plain": [
              "         date            product  unit price  units sold  sales price\n",
              "0  2018-03-01  Button-Down Shirt       65.05           2       130.10\n",
              "1  2018-03-01   Vintage Logo Tee       15.95           1        15.95\n",
              "2  2018-03-01       Sticker Pack        4.50           1         4.50\n",
              "3  2018-03-02  Super Soft Hoodie       75.00           2       150.00\n",
              "4  2018-03-02  Button-Down Shirt       65.05           7       455.35"
            ],
            "text/html": [
              "\n",
              "  <div id=\"df-30f14ea7-1d36-4a70-a806-c8938127cad6\" class=\"colab-df-container\">\n",
              "    <div>\n",
              "<style scoped>\n",
              "    .dataframe tbody tr th:only-of-type {\n",
              "        vertical-align: middle;\n",
              "    }\n",
              "\n",
              "    .dataframe tbody tr th {\n",
              "        vertical-align: top;\n",
              "    }\n",
              "\n",
              "    .dataframe thead th {\n",
              "        text-align: right;\n",
              "    }\n",
              "</style>\n",
              "<table border=\"1\" class=\"dataframe\">\n",
              "  <thead>\n",
              "    <tr style=\"text-align: right;\">\n",
              "      <th></th>\n",
              "      <th>date</th>\n",
              "      <th>product</th>\n",
              "      <th>unit price</th>\n",
              "      <th>units sold</th>\n",
              "      <th>sales price</th>\n",
              "    </tr>\n",
              "  </thead>\n",
              "  <tbody>\n",
              "    <tr>\n",
              "      <th>0</th>\n",
              "      <td>2018-03-01</td>\n",
              "      <td>Button-Down Shirt</td>\n",
              "      <td>65.05</td>\n",
              "      <td>2</td>\n",
              "      <td>130.10</td>\n",
              "    </tr>\n",
              "    <tr>\n",
              "      <th>1</th>\n",
              "      <td>2018-03-01</td>\n",
              "      <td>Vintage Logo Tee</td>\n",
              "      <td>15.95</td>\n",
              "      <td>1</td>\n",
              "      <td>15.95</td>\n",
              "    </tr>\n",
              "    <tr>\n",
              "      <th>2</th>\n",
              "      <td>2018-03-01</td>\n",
              "      <td>Sticker Pack</td>\n",
              "      <td>4.50</td>\n",
              "      <td>1</td>\n",
              "      <td>4.50</td>\n",
              "    </tr>\n",
              "    <tr>\n",
              "      <th>3</th>\n",
              "      <td>2018-03-02</td>\n",
              "      <td>Super Soft Hoodie</td>\n",
              "      <td>75.00</td>\n",
              "      <td>2</td>\n",
              "      <td>150.00</td>\n",
              "    </tr>\n",
              "    <tr>\n",
              "      <th>4</th>\n",
              "      <td>2018-03-02</td>\n",
              "      <td>Button-Down Shirt</td>\n",
              "      <td>65.05</td>\n",
              "      <td>7</td>\n",
              "      <td>455.35</td>\n",
              "    </tr>\n",
              "  </tbody>\n",
              "</table>\n",
              "</div>\n",
              "    <div class=\"colab-df-buttons\">\n",
              "\n",
              "  <div class=\"colab-df-container\">\n",
              "    <button class=\"colab-df-convert\" onclick=\"convertToInteractive('df-30f14ea7-1d36-4a70-a806-c8938127cad6')\"\n",
              "            title=\"Convert this dataframe to an interactive table.\"\n",
              "            style=\"display:none;\">\n",
              "\n",
              "  <svg xmlns=\"http://www.w3.org/2000/svg\" height=\"24px\" viewBox=\"0 -960 960 960\">\n",
              "    <path d=\"M120-120v-720h720v720H120Zm60-500h600v-160H180v160Zm220 220h160v-160H400v160Zm0 220h160v-160H400v160ZM180-400h160v-160H180v160Zm440 0h160v-160H620v160ZM180-180h160v-160H180v160Zm440 0h160v-160H620v160Z\"/>\n",
              "  </svg>\n",
              "    </button>\n",
              "\n",
              "  <style>\n",
              "    .colab-df-container {\n",
              "      display:flex;\n",
              "      gap: 12px;\n",
              "    }\n",
              "\n",
              "    .colab-df-convert {\n",
              "      background-color: #E8F0FE;\n",
              "      border: none;\n",
              "      border-radius: 50%;\n",
              "      cursor: pointer;\n",
              "      display: none;\n",
              "      fill: #1967D2;\n",
              "      height: 32px;\n",
              "      padding: 0 0 0 0;\n",
              "      width: 32px;\n",
              "    }\n",
              "\n",
              "    .colab-df-convert:hover {\n",
              "      background-color: #E2EBFA;\n",
              "      box-shadow: 0px 1px 2px rgba(60, 64, 67, 0.3), 0px 1px 3px 1px rgba(60, 64, 67, 0.15);\n",
              "      fill: #174EA6;\n",
              "    }\n",
              "\n",
              "    .colab-df-buttons div {\n",
              "      margin-bottom: 4px;\n",
              "    }\n",
              "\n",
              "    [theme=dark] .colab-df-convert {\n",
              "      background-color: #3B4455;\n",
              "      fill: #D2E3FC;\n",
              "    }\n",
              "\n",
              "    [theme=dark] .colab-df-convert:hover {\n",
              "      background-color: #434B5C;\n",
              "      box-shadow: 0px 1px 3px 1px rgba(0, 0, 0, 0.15);\n",
              "      filter: drop-shadow(0px 1px 2px rgba(0, 0, 0, 0.3));\n",
              "      fill: #FFFFFF;\n",
              "    }\n",
              "  </style>\n",
              "\n",
              "    <script>\n",
              "      const buttonEl =\n",
              "        document.querySelector('#df-30f14ea7-1d36-4a70-a806-c8938127cad6 button.colab-df-convert');\n",
              "      buttonEl.style.display =\n",
              "        google.colab.kernel.accessAllowed ? 'block' : 'none';\n",
              "\n",
              "      async function convertToInteractive(key) {\n",
              "        const element = document.querySelector('#df-30f14ea7-1d36-4a70-a806-c8938127cad6');\n",
              "        const dataTable =\n",
              "          await google.colab.kernel.invokeFunction('convertToInteractive',\n",
              "                                                    [key], {});\n",
              "        if (!dataTable) return;\n",
              "\n",
              "        const docLinkHtml = 'Like what you see? Visit the ' +\n",
              "          '<a target=\"_blank\" href=https://colab.research.google.com/notebooks/data_table.ipynb>data table notebook</a>'\n",
              "          + ' to learn more about interactive tables.';\n",
              "        element.innerHTML = '';\n",
              "        dataTable['output_type'] = 'display_data';\n",
              "        await google.colab.output.renderOutput(dataTable, element);\n",
              "        const docLink = document.createElement('div');\n",
              "        docLink.innerHTML = docLinkHtml;\n",
              "        element.appendChild(docLink);\n",
              "      }\n",
              "    </script>\n",
              "  </div>\n",
              "\n",
              "\n",
              "<div id=\"df-78e669e6-9570-4759-bac7-704a9152cf74\">\n",
              "  <button class=\"colab-df-quickchart\" onclick=\"quickchart('df-78e669e6-9570-4759-bac7-704a9152cf74')\"\n",
              "            title=\"Suggest charts.\"\n",
              "            style=\"display:none;\">\n",
              "\n",
              "<svg xmlns=\"http://www.w3.org/2000/svg\" height=\"24px\"viewBox=\"0 0 24 24\"\n",
              "     width=\"24px\">\n",
              "    <g>\n",
              "        <path d=\"M19 3H5c-1.1 0-2 .9-2 2v14c0 1.1.9 2 2 2h14c1.1 0 2-.9 2-2V5c0-1.1-.9-2-2-2zM9 17H7v-7h2v7zm4 0h-2V7h2v10zm4 0h-2v-4h2v4z\"/>\n",
              "    </g>\n",
              "</svg>\n",
              "  </button>\n",
              "\n",
              "<style>\n",
              "  .colab-df-quickchart {\n",
              "    background-color: #E8F0FE;\n",
              "    border: none;\n",
              "    border-radius: 50%;\n",
              "    cursor: pointer;\n",
              "    display: none;\n",
              "    fill: #1967D2;\n",
              "    height: 32px;\n",
              "    padding: 0 0 0 0;\n",
              "    width: 32px;\n",
              "  }\n",
              "\n",
              "  .colab-df-quickchart:hover {\n",
              "    background-color: #E2EBFA;\n",
              "    box-shadow: 0px 1px 2px rgba(60, 64, 67, 0.3), 0px 1px 3px 1px rgba(60, 64, 67, 0.15);\n",
              "    fill: #174EA6;\n",
              "  }\n",
              "\n",
              "  [theme=dark] .colab-df-quickchart {\n",
              "    background-color: #3B4455;\n",
              "    fill: #D2E3FC;\n",
              "  }\n",
              "\n",
              "  [theme=dark] .colab-df-quickchart:hover {\n",
              "    background-color: #434B5C;\n",
              "    box-shadow: 0px 1px 3px 1px rgba(0, 0, 0, 0.15);\n",
              "    filter: drop-shadow(0px 1px 2px rgba(0, 0, 0, 0.3));\n",
              "    fill: #FFFFFF;\n",
              "  }\n",
              "</style>\n",
              "\n",
              "  <script>\n",
              "    async function quickchart(key) {\n",
              "      const charts = await google.colab.kernel.invokeFunction(\n",
              "          'suggestCharts', [key], {});\n",
              "    }\n",
              "    (() => {\n",
              "      let quickchartButtonEl =\n",
              "        document.querySelector('#df-78e669e6-9570-4759-bac7-704a9152cf74 button');\n",
              "      quickchartButtonEl.style.display =\n",
              "        google.colab.kernel.accessAllowed ? 'block' : 'none';\n",
              "    })();\n",
              "  </script>\n",
              "</div>\n",
              "    </div>\n",
              "  </div>\n"
            ]
          },
          "metadata": {},
          "execution_count": 20
        }
      ]
    },
    {
      "cell_type": "code",
      "source": [
        "# B) Unique products and their names\n",
        "unique_products = sales_df['product'].unique()\n",
        "unique_products.sort()\n",
        "print(\"Unique products:\", unique_products)\n",
        "\n"
      ],
      "metadata": {
        "id": "CkfKCXoNAp2g",
        "colab": {
          "base_uri": "https://localhost:8080/"
        },
        "outputId": "125d0882-4c59-4e85-cd4f-fb7796f727ff"
      },
      "execution_count": 21,
      "outputs": [
        {
          "output_type": "stream",
          "name": "stdout",
          "text": [
            "Unique products: ['Baseball Cap' 'Brown Boots' 'Button-Down Shirt' 'Khaki Pants'\n",
            " 'Sticker Pack' 'Super Soft Hoodie' 'Vintage Logo Tee']\n"
          ]
        }
      ]
    },
    {
      "cell_type": "code",
      "source": [
        "# C) Total monthly sales\n",
        "total_monthly_sales = sales_df['sales price'].sum()\n",
        "formatted_total_monthly_sales = \"${:,.2f}\".format(total_monthly_sales)\n",
        "print(\"Total monthly sales:\", formatted_total_monthly_sales)\n"
      ],
      "metadata": {
        "id": "_zOxes9zLN1S",
        "colab": {
          "base_uri": "https://localhost:8080/"
        },
        "outputId": "fa803c45-a3db-466e-84fa-662ef79dc810"
      },
      "execution_count": 30,
      "outputs": [
        {
          "output_type": "stream",
          "name": "stdout",
          "text": [
            "Total monthly sales: $12,000.71\n"
          ]
        }
      ]
    },
    {
      "cell_type": "code",
      "source": [
        "# D) Total sales for each day and chart\n",
        "daily_sales = sales_df.groupby('date')['sales price'].sum()\n",
        "top_dates = daily_sales.nlargest(5)\n",
        "top_dates_list = top_dates.index.tolist()\n",
        "\n",
        "plt.figure(figsize=(10, 6))\n",
        "daily_sales.plot(kind='line', marker='o')\n",
        "plt.title('Total Sales Over Time')\n",
        "plt.xlabel('Date')\n",
        "plt.ylabel('Total Sales')\n",
        "plt.xticks(rotation=45)\n",
        "plt.tight_layout()\n",
        "\n",
        "plt.show()\n",
        "\n",
        "print(\"Dates with the most sales:\", top_dates_list)\n",
        "\n"
      ],
      "metadata": {
        "id": "mjzhvDGqBQ80",
        "colab": {
          "base_uri": "https://localhost:8080/",
          "height": 597
        },
        "outputId": "83fabd64-9abf-42f7-9d29-0a7933776498"
      },
      "execution_count": 32,
      "outputs": [
        {
          "output_type": "display_data",
          "data": {
            "text/plain": [
              "<Figure size 1000x600 with 1 Axes>"
            ],
            "image/png": "[encoded data removed]"
          },
          "metadata": {}
        },
        {
          "output_type": "stream",
          "name": "stdout",
          "text": [
            "Dates with the most sales: ['2018-03-11', '2018-03-03', '2018-03-10', '2018-03-18', '2018-03-02']\n"
          ]
        }
      ]
    },
    {
      "cell_type": "code",
      "source": [
        "# E) Total sales for each product and chart\n",
        "product_sales = sales_df.groupby('product')['sales price'].sum().sort_values(ascending=False)\n",
        "\n",
        "plt.figure(figsize=(10, 6))\n",
        "product_sales.plot(kind='barh')\n",
        "plt.title('Total Sales by Product')\n",
        "plt.xlabel('Total Sales')\n",
        "plt.ylabel('Product')\n",
        "plt.tight_layout()\n",
        "\n",
        "plt.show()"
      ],
      "metadata": {
        "id": "jWLpl52HCCMZ",
        "colab": {
          "base_uri": "https://localhost:8080/",
          "height": 580
        },
        "outputId": "e5ba8ed1-e86b-472d-97f3-759d45f38fa2"
      },
      "execution_count": 33,
      "outputs": [
        {
          "output_type": "display_data",
          "data": {
            "text/plain": [
              "<Figure size 1000x600 with 1 Axes>"
            ],
            "image/png": "[encoded data removed]"
          },
          "metadata": {}
        }
      ]
    },
    {
      "cell_type": "markdown",
      "metadata": {
        "id": "T3pog_lUEnH9"
      },
      "source": [
        "## Challenge 4 (Albums)"
      ]
    },
    {
      "cell_type": "markdown",
      "metadata": {
        "id": "p1YRvNq9D-0B"
      },
      "source": [
        "\n",
        "Given the provided \"albums.csv\" file, write Python code to read the CSV data and perform each of the following tasks...\n",
        "\n",
        "> artist_id | artist_name | album_id | album_title\n",
        "> --- | ---  | ---  | ---\n",
        "> 1 | AC/DC | 1 | For Those About To Rock We Salute You\n",
        "> 1 | AC/DC | 4 | Let There Be Rock\n",
        "> 3 | Aerosmith | 5 | Big Ones\n",
        "> 4 | Alanis Morissette | 6 | Jagged Little Pill\n",
        "> 68 | Miles Davis | 48 | The Essential Miles Davis [Disc 1]\n",
        "> 68 | Miles Davis | 49 | The Essential Miles Davis [Disc 2]\n",
        "> 59 | Santana | 197 | Santana - As Years Go By\n",
        "> 59 | Santana | 198 | Santana Live\n",
        "\n",
        "\n",
        "\n",
        "A) Print a list of the CSV file's **column names** (i.e. `['artist_id', 'artist_name', 'album_id', 'album_title']`).\n",
        "\n",
        "B) Print the **number of rows** in the CSV file, excluding the header row (i.e. `347`).\n",
        "\n",
        "C) Assuming each \"artist_id\" represents a unique artist, print the **number of unique artists** (i.e. `204`).\n",
        "\n",
        "D) Assuming each \"album_id\" represents a unique album, identify **which five artists have the most albums**, and print that artist's name and corresponding album count\n",
        "\n",
        "> FYI: the following table depicts the top five artists by album count...\n",
        ">\n",
        "> | artist_name   | album_count |\n",
        "> |---------------|----------|\n",
        "> | Iron Maiden   | 21       |\n",
        "> | Led Zeppelin  | 14       |\n",
        "> | Deep Purple   | 11       |\n",
        "> | Metallica     | 10       |\n",
        "> | U2            | 10       |\n",
        "\n",
        "\n"
      ]
    },
    {
      "cell_type": "code",
      "metadata": {
        "id": "QDzPKrLGdJZj",
        "colab": {
          "base_uri": "https://localhost:8080/"
        },
        "outputId": "42bf92f0-5812-406d-de4b-58e24a0ac4fe"
      },
      "source": [
        "\n",
        "#\n",
        "# ALBUMS\n",
        "#\n",
        "\n",
        "df = read_csv(\"https://gist.githubusercontent.com/s2t2/f2b01347c06258cad28e7331f1e9320f/raw/b61ea33cd18aaadf885eb04544d921c9d9445e21/albums.csv\")\n",
        "print(df.head())"
      ],
      "execution_count": null,
      "outputs": [
        {
          "output_type": "stream",
          "name": "stdout",
          "text": [
            "   artist_id artist_name  album_id                            album_title\n",
            "0          1       AC/DC         1  For Those About To Rock We Salute You\n",
            "1          2      Accept         2                      Balls to the Wall\n",
            "2          2      Accept         3                      Restless and Wild\n",
            "3          1       AC/DC         4                      Let There Be Rock\n",
            "4          3   Aerosmith         5                               Big Ones\n"
          ]
        }
      ]
    },
    {
      "cell_type": "code",
      "source": [],
      "metadata": {
        "id": "KJ6HkiJnTfdQ"
      },
      "execution_count": null,
      "outputs": []
    },
    {
      "cell_type": "markdown",
      "source": [
        "MY:\n"
      ],
      "metadata": {
        "id": "diN-TNeyAtnY"
      }
    },
    {
      "cell_type": "code",
      "source": [
        "import pandas as pd\n",
        "import requests\n",
        "from collections import Counter\n",
        "\n",
        "# Read the CSV file from the URL\n",
        "url = \"https://gist.githubusercontent.com/s2t2/f2b01347c06258cad28e7331f1e9320f/raw/b61ea33cd18aaadf885eb04544d921c9d9445e21/albums.csv\"\n",
        "df = pd.read_csv(url)\n"
      ],
      "metadata": {
        "id": "CbdOFqb6WfBF"
      },
      "execution_count": 37,
      "outputs": []
    },
    {
      "cell_type": "code",
      "source": [
        "# A) Print column names\n",
        "column_names = df.columns.tolist()\n",
        "print(\"Column names:\", column_names)"
      ],
      "metadata": {
        "colab": {
          "base_uri": "https://localhost:8080/"
        },
        "id": "hQphaOozA1ZC",
        "outputId": "b79025b4-c0c9-4ed7-e5a2-7ced1ce45481"
      },
      "execution_count": 38,
      "outputs": [
        {
          "output_type": "stream",
          "name": "stdout",
          "text": [
            "Column names: ['artist_id', 'artist_name', 'album_id', 'album_title']\n"
          ]
        }
      ]
    },
    {
      "cell_type": "code",
      "source": [
        "\n",
        "# B) Print number of rows\n",
        "num_rows = len(df)\n",
        "print(\"Number of rows:\", num_rows)"
      ],
      "metadata": {
        "id": "a794Wu9sWe-x",
        "colab": {
          "base_uri": "https://localhost:8080/"
        },
        "outputId": "d7763620-0668-4ccc-8260-5e86daf6682d"
      },
      "execution_count": 39,
      "outputs": [
        {
          "output_type": "stream",
          "name": "stdout",
          "text": [
            "Number of rows: 347\n"
          ]
        }
      ]
    },
    {
      "cell_type": "code",
      "source": [
        "# C) Print number of unique artists\n",
        "num_unique_artists = df['artist_id'].nunique()\n",
        "print(\"Number of unique artists:\", num_unique_artists)"
      ],
      "metadata": {
        "id": "hRFgR8h-We8L",
        "colab": {
          "base_uri": "https://localhost:8080/"
        },
        "outputId": "0c7b97fd-65f0-4ec5-9b01-2eace8875067"
      },
      "execution_count": 40,
      "outputs": [
        {
          "output_type": "stream",
          "name": "stdout",
          "text": [
            "Number of unique artists: 204\n"
          ]
        }
      ]
    },
    {
      "cell_type": "code",
      "source": [
        "# D) Top five artists by album count\n",
        "artist_album_count = df.groupby('artist_id')['album_id'].nunique()\n",
        "top_artists = artist_album_count.nlargest(5)\n",
        "top_artist_ids = top_artists.index.tolist()\n",
        "top_artist_names = df[df['artist_id'].isin(top_artist_ids)]['artist_name'].unique()\n",
        "\n",
        "print(\"Top five artists by album count:\")\n",
        "for artist_id, album_count in top_artists.items():\n",
        "    artist_name = df[df['artist_id'] == artist_id]['artist_name'].iloc[0]\n",
        "    print(f\"{artist_name}: {album_count}\")\n",
        "\n",
        "# Display the first few rows of the DataFrame\n"
      ],
      "metadata": {
        "id": "p68azTwwWe5m",
        "colab": {
          "base_uri": "https://localhost:8080/"
        },
        "outputId": "73d418f0-ea74-46ea-b47e-668e0b73b1f0"
      },
      "execution_count": 42,
      "outputs": [
        {
          "output_type": "stream",
          "name": "stdout",
          "text": [
            "Top five artists by album count:\n",
            "Iron Maiden: 21\n",
            "Led Zeppelin: 14\n",
            "Deep Purple: 11\n",
            "Metallica: 10\n",
            "U2: 10\n"
          ]
        }
      ]
    },
    {
      "cell_type": "code",
      "source": [
        "print(df.head())"
      ],
      "metadata": {
        "id": "CVOnTt_NWe3U",
        "colab": {
          "base_uri": "https://localhost:8080/"
        },
        "outputId": "f7ec4d8a-a859-449c-aca5-12343d258ee6"
      },
      "execution_count": 43,
      "outputs": [
        {
          "output_type": "stream",
          "name": "stdout",
          "text": [
            "   artist_id artist_name  album_id                            album_title\n",
            "0          1       AC/DC         1  For Those About To Rock We Salute You\n",
            "1          2      Accept         2                      Balls to the Wall\n",
            "2          2      Accept         3                      Restless and Wild\n",
            "3          1       AC/DC         4                      Let There Be Rock\n",
            "4          3   Aerosmith         5                               Big Ones\n"
          ]
        }
      ]
    },
    {
      "cell_type": "code",
      "source": [],
      "metadata": {
        "id": "44s1THNqBZpM"
      },
      "execution_count": null,
      "outputs": []
    }
  ]
}