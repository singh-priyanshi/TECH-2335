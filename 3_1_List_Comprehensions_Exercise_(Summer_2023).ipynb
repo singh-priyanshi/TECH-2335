{
  "nbformat": 4,
  "nbformat_minor": 0,
  "metadata": {
    "colab": {
      "provenance": [],
      "include_colab_link": true
    },
    "kernelspec": {
      "name": "python3",
      "display_name": "Python 3"
    }
  },
  "cells": [
    {
      "cell_type": "markdown",
      "metadata": {
        "id": "view-in-github",
        "colab_type": "text"
      },
      "source": [
        "<a href=\"https://colab.research.google.com/github/singh-priyanshi/TECH-2335/blob/main/3_1_List_Comprehensions_Exercise_(Summer_2023).ipynb\" target=\"_parent\"><img src=\"https://colab.research.google.com/assets/colab-badge.svg\" alt=\"Open In Colab\"/></a>"
      ]
    },
    {
      "cell_type": "markdown",
      "metadata": {
        "id": "wThIawpS0Jyf"
      },
      "source": [
        "# Instructions\n",
        "\n",
        "\n",
        "\n",
        "\n",
        "1. **Make a copy of this notebook** so you can edit and save your own version of it. Do the work in your copy of the notebook.\n",
        "2. **Update the title of your notebook** to include your name and/or net id.\n",
        "\n",
        "3. Run any setup cells as necessary, then **write Python code** to answer the challenges.\n",
        "\n",
        "\n"
      ]
    },
    {
      "cell_type": "markdown",
      "metadata": {
        "id": "CxPYjQK9pfEK"
      },
      "source": [
        "# Prerequisites\n",
        "\n",
        "  + [Lists](https://github.com/prof-rossetti/intro-to-python/blob/master/notes/python/datatypes/lists.md)\n",
        "  + [List Comprehensions](https://docs.python.org/3/tutorial/datastructures.html?#list-comprehensions)"
      ]
    },
    {
      "cell_type": "markdown",
      "source": [
        "# Challenges - Part I\n"
      ],
      "metadata": {
        "id": "AC7CvXl5dT_D"
      }
    },
    {
      "cell_type": "markdown",
      "metadata": {
        "id": "10mRJKXD0Res"
      },
      "source": [
        "\n",
        "In the corresponding code cells below, use list comprehensions  to transform the provided list (i.e. `my_numbers`) in each of the following ways:\n",
        "\n",
        "  1. Use mapping capabilities to multiply each number by 100 (e.g. `[100, 200, 300, 400, 500, 600, 700]`)\n",
        "  2. Use filtering capabilities to return only the numbers greater than three (e.g. `[4, 5, 6, 7]`)\n",
        "  3. Use filtering capabilities to return only the numbers greater than eight (e.g. `[]`)\n",
        "  4. Use mapping and filtering capabilities to return only the numbers greater than three, each multiplied by 100 (e.g. `[400, 500, 600, 700]`)\n",
        "\n",
        "Example final output:\n",
        "\n",
        "```\n",
        "--------------\n",
        "ORIGINAL LIST: [1, 2, 3, 4, 5, 6, 7]\n",
        "--------------\n",
        "1) MAPPED LIST: [100, 200, 300, 400, 500, 600, 700]\n",
        "--------------\n",
        "2) FILTERED LIST W/ MATCHES: [4, 5, 6, 7]\n",
        "--------------\n",
        "3) FILTERED LIST W/O MATCHES: []\n",
        "--------------\n",
        "4) MAPPED AND FILTERED LIST: [400, 500, 600, 700]\n",
        "```\n",
        "\n",
        "Spoiler Alert: [List Comprehensions Exercise Solution](https://github.com/prof-rossetti/intro-to-python/blob/master/exercises/list-comprehensions/solutions.py)"
      ]
    },
    {
      "cell_type": "code",
      "metadata": {
        "id": "QRlNine90jDn",
        "colab": {
          "base_uri": "https://localhost:8080/"
        },
        "outputId": "bab6332c-f434-4447-8f0a-8400e5e10eb1"
      },
      "source": [
        "# leave this cell as-is\n",
        "\n",
        "my_numbers = [1, 2, 3, 4, 5, 6, 7]\n",
        "\n",
        "print(\"--------------\")\n",
        "print(\"ORIGINAL LIST:\", my_numbers)\n"
      ],
      "execution_count": 1,
      "outputs": [
        {
          "output_type": "stream",
          "name": "stdout",
          "text": [
            "--------------\n",
            "ORIGINAL LIST: [1, 2, 3, 4, 5, 6, 7]\n"
          ]
        }
      ]
    },
    {
      "cell_type": "code",
      "metadata": {
        "id": "OzIW7VKdlqRc",
        "colab": {
          "base_uri": "https://localhost:8080/"
        },
        "outputId": "e315711d-1de4-4a25-c45c-12d338e6584f"
      },
      "source": [
        "\n",
        "#\n",
        "# 1) Use mapping capabilities to multiply each number by 100 (i.e. [100, 200, 300, 400, 500, 600, 700])\n",
        "#\n",
        "\n",
        "# TODO: write python code here\n",
        "new_list = [x * 100 for x in my_numbers]\n",
        "print (new_list)"
      ],
      "execution_count": 5,
      "outputs": [
        {
          "output_type": "stream",
          "name": "stdout",
          "text": [
            "[100, 200, 300, 400, 500, 600, 700]\n"
          ]
        }
      ]
    },
    {
      "cell_type": "code",
      "metadata": {
        "id": "NThBNlBfolYg",
        "colab": {
          "base_uri": "https://localhost:8080/"
        },
        "outputId": "4233896f-3a87-4ebc-e5ff-653b1249344c"
      },
      "source": [
        "\n",
        "#\n",
        "# 2) Use filtering capabilities to return only the numbers greater than three (i.e. [4, 5, 6, 7])\n",
        "#\n",
        "\n",
        "# TODO: write python code here\n",
        "filtered_list = [n for n in my_numbers if n > 3]\n",
        "print(\"--------------\")\n",
        "print(\"FILTERED LIST W/ MATCHES:\", filtered_list)"
      ],
      "execution_count": 6,
      "outputs": [
        {
          "output_type": "stream",
          "name": "stdout",
          "text": [
            "--------------\n",
            "FILTERED LIST W/ MATCHES: [4, 5, 6, 7]\n"
          ]
        }
      ]
    },
    {
      "cell_type": "code",
      "metadata": {
        "id": "4sspG3HJouAB",
        "colab": {
          "base_uri": "https://localhost:8080/"
        },
        "outputId": "95a4032a-caf4-48fd-d23b-49b72b116a75"
      },
      "source": [
        "\n",
        "#\n",
        "# 3) Use filtering capabilities to return only the numbers greater than eight (i.e. [] or empty list)\n",
        "#\n",
        "\n",
        "# TODO: write python code here\n",
        "no_matches = [n for n in my_numbers if n > 8]\n",
        "print(\"--------------\")\n",
        "print(\"FILTERED LIST W/O MATCHES:\", no_matches)"
      ],
      "execution_count": 7,
      "outputs": [
        {
          "output_type": "stream",
          "name": "stdout",
          "text": [
            "--------------\n",
            "FILTERED LIST W/O MATCHES: []\n"
          ]
        }
      ]
    },
    {
      "cell_type": "code",
      "metadata": {
        "id": "1g0bDhhmougK",
        "colab": {
          "base_uri": "https://localhost:8080/"
        },
        "outputId": "2c8f5fa0-f398-474e-d8e5-96c7ac584aff"
      },
      "source": [
        "#\n",
        "# 4) Use mapping and filtering capabilities to return only the numbers greater than three, each multiplied by 100 (i.e. [400, 500, 600, 700])\n",
        "#\n",
        "\n",
        "# TODO: write python code here\n",
        "last_list = [n * 100 for n in my_numbers if n > 3]\n",
        "print(\"--------------\")\n",
        "print(\"MAPPED AND FILTERED LIST:\", last_list)"
      ],
      "execution_count": 8,
      "outputs": [
        {
          "output_type": "stream",
          "name": "stdout",
          "text": [
            "--------------\n",
            "MAPPED AND FILTERED LIST: [400, 500, 600, 700]\n"
          ]
        }
      ]
    },
    {
      "cell_type": "markdown",
      "source": [
        "# Challenges - Part II"
      ],
      "metadata": {
        "id": "q3q550YGcv05"
      }
    },
    {
      "cell_type": "markdown",
      "source": [
        "In the corresponding code cells below, use list comprehensions to transform the provided list (i.e. `teams`) in each of the following ways:\n",
        "\n",
        "  5. Use mapping and filtering capabilities to print the name of the team from the city of \"New Haven\" (i.e. `\"Ravens\"`).\n",
        "\n",
        "> HINT: we want a string value here, might have to take the first item from a list of matching values, as applicable\n",
        "\n",
        "  6. Use mapping and filtering capabilities to print the names of the teams from the city of \"New York\". Store these names in a single list and print it. Ideally also sort these names in alphabetical order (i.e. `[\"Mets\", \"Yankees\"]`).\n",
        "\n",
        "  7. Use mapping and filtering capabilities to print the names of the teams from any city that includes the name / substring of \"New\". Store these names in a single list and print it. Ideally also sort these names in alphabetical order (i.e. `[\"Mets\", \"Ravens\", \"Yankees\"]`)."
      ],
      "metadata": {
        "id": "EASOaUpEcyC7"
      }
    },
    {
      "cell_type": "code",
      "source": [
        "# leave this cell as-is\n",
        "\n",
        "teams = [\n",
        "    {\"city\": \"New York\", \"name\": \"Yankees\"},\n",
        "    {\"city\": \"New York\", \"name\": \"Mets\"},\n",
        "    {\"city\": \"Boston\", \"name\": \"Red Sox\"},\n",
        "    {\"city\": \"New Haven\", \"name\": \"Ravens\"}\n",
        "]\n",
        "\n",
        "print(teams)"
      ],
      "metadata": {
        "colab": {
          "base_uri": "https://localhost:8080/"
        },
        "id": "eKtEa92OcxpW",
        "outputId": "87872e92-1f6b-49fe-e251-3f6dc6d56785"
      },
      "execution_count": 10,
      "outputs": [
        {
          "output_type": "stream",
          "name": "stdout",
          "text": [
            "[{'city': 'New York', 'name': 'Yankees'}, {'city': 'New York', 'name': 'Mets'}, {'city': 'Boston', 'name': 'Red Sox'}, {'city': 'New Haven', 'name': 'Ravens'}]\n"
          ]
        }
      ]
    },
    {
      "cell_type": "code",
      "source": [
        "#\n",
        "# 5) Use mapping and filtering capabilities to print the name of the team from the city of \"New Haven\"(i.e. \"Ravens\").\n",
        "#\n",
        "\n",
        "# TODO: write python code here\n",
        "new_haven_team = [team[\"name\"] for team in teams if team[\"city\"] == \"New Haven\"]\n",
        "print(new_haven_team[0])"
      ],
      "metadata": {
        "id": "-vLGoRUEc5ij",
        "colab": {
          "base_uri": "https://localhost:8080/"
        },
        "outputId": "92d710b5-5394-4866-ce88-6db40e89cd42"
      },
      "execution_count": 11,
      "outputs": [
        {
          "output_type": "stream",
          "name": "stdout",
          "text": [
            "Ravens\n"
          ]
        }
      ]
    },
    {
      "cell_type": "code",
      "source": [
        "#\n",
        "# 6) Use mapping and filtering capabilities to print the names of the teams from the city of \"New York\".\n",
        "# ... Store these names in a single list and print it.\n",
        "# ... Ideally also sort these names in alphabetical order (i.e. `[\"Mets\", \"Yankees\"]`).\n",
        "#\n",
        "\n",
        "# TODO: write python code here\n",
        "\n",
        "new_york_teams = sorted([team[\"name\"] for team in teams if team[\"city\"] == \"New York\"])\n",
        "print(new_york_teams)"
      ],
      "metadata": {
        "id": "adRbe-5JeNa0",
        "colab": {
          "base_uri": "https://localhost:8080/"
        },
        "outputId": "3ffd271b-a873-429a-c674-eb8e151cce57"
      },
      "execution_count": 12,
      "outputs": [
        {
          "output_type": "stream",
          "name": "stdout",
          "text": [
            "['Mets', 'Yankees']\n"
          ]
        }
      ]
    },
    {
      "cell_type": "code",
      "source": [
        "# 7) Use mapping and filtering capabilities to print the names of the teams\n",
        "# ... from any city that includes the name / substring of \"New\".\n",
        "# ... Store these names in a single list and print it.\n",
        "# ... Ideally also sort these names in alphabetical order (i.e. `[\"Mets\", \"Ravens\", \"Yankees\"]`).\n",
        "\n",
        "\n",
        "# TODO: write python code here\n",
        "new_teams = sorted([team[\"name\"] for team in teams if \"New\" in team[\"city\"]])\n",
        "print(new_teams)"
      ],
      "metadata": {
        "id": "suurwbWMf9_J",
        "colab": {
          "base_uri": "https://localhost:8080/"
        },
        "outputId": "fae55154-1abd-4d8d-a560-ff7ebe4f1b42"
      },
      "execution_count": 13,
      "outputs": [
        {
          "output_type": "stream",
          "name": "stdout",
          "text": [
            "['Mets', 'Ravens', 'Yankees']\n"
          ]
        }
      ]
    },
    {
      "cell_type": "code",
      "source": [],
      "metadata": {
        "id": "jyzJfEh7dB4J"
      },
      "execution_count": null,
      "outputs": []
    }
  ]
}