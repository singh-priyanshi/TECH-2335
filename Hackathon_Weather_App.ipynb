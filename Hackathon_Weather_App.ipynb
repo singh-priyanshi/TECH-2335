{
  "nbformat": 4,
  "nbformat_minor": 0,
  "metadata": {
    "colab": {
      "provenance": [],
      "include_colab_link": true
    },
    "kernelspec": {
      "name": "python3",
      "display_name": "Python 3"
    }
  },
  "cells": [
    {
      "cell_type": "markdown",
      "metadata": {
        "id": "view-in-github",
        "colab_type": "text"
      },
      "source": [
        "<a href=\"https://colab.research.google.com/github/singh-priyanshi/py/blob/main/Hackathon_Weather_App.ipynb\" target=\"_parent\"><img src=\"https://colab.research.google.com/assets/colab-badge.svg\" alt=\"Open In Colab\"/></a>"
      ]
    },
    {
      "cell_type": "markdown",
      "metadata": {
        "id": "kWzmfFqnHk2A"
      },
      "source": [
        "\n",
        "# Requirements\n",
        "\n",
        "Write a Python program to display a weather forecast for any given zip code in the United States. The program should specifically obtain its forecast data from the **Weather.gov API** (see \"References\" section below for more info).\n",
        "\n",
        "## Information Inputs\n",
        "\n",
        "The program should allow the user to input or otherwise specify their **zip code** (a.k.a. postal code) (e.g. `20057`).\n",
        "\n",
        "> FYI: Using and modifying the provided `ZIP_CODE` variable is fine! Because the input function can be buggy sometimes on Colab.\n",
        "\n",
        "> NOTE: ideally we would validate this input to ensure it is numeric in nature (which you can optionally do), but for this project we can just assume the user will be providing a valid zip code.\n",
        "\n",
        "## Information Outputs\n",
        "\n",
        "The program should display a seven-day weather forecast for the provided zipcode. Specifically, it should display **one forecast per day**. HINT: we might need to filter out the night-time forecasts, based on the period's \"isDaytime\" or \"name\" properties.\n",
        "\n",
        "The forecast for any daily period should include at least the following information:\n",
        "\n",
        "   + The **day of week** (e.g. \"Today\", \"Tuesday\", \"Wednesday\", etc.). HINT: we can use the period's \"name\" property.\n",
        "   + The **human-readable date** (e.g. \"2022-01-10\" or \"Jan 10, 2022\"). HINT: we might need to use [the `datetime` module](https://github.com/prof-rossetti/intro-to-python/blob/master/notes/python/modules/datetime.md) to convert the the period's \"startTime\" property to a datetime object (see two possible approaches in the \"Setup\" section of this notebook), and then use [the `strftime()` method](https://docs.python.org/3/library/datetime.html#strftime-and-strptime-format-codes) to do some custom formatting.\n",
        "   + The **temperature** in Farhenheit, with the temperature unit (e.g. \"64 degrees F\"). HINT: we can use the period's \"temperature\" and \"temperatureUnit\" properties.\n",
        "   + The **weather condition** (e.g. \"Sunny\",  \"Mostly Clear\", \"Partly Cloudy\", \"Rainy\", etc.). HINT: we can use the period's \"shortForecast\" or \"longForecast\" property.\n",
        "\n",
        "Separately, the program should also explicitly tell the user **whether or not there will be rain today**. So the user can know whether or not to bring an umbrella with them today. For example, printing either \"NO RAIN TODAY!\" or \"RAIN TODAY!\".\n",
        "\n",
        "## Evaluation\n",
        "\n",
        "Category | Description | Weight\n",
        "--- | --- | ---\n",
        "Info Inputs | Captures user zip code. | 10%\n",
        "Info Processing | Converts user zip code to latitude and longitude. | 15%\n",
        "Info Processing | Issues HTTP request(s) to the Weather.gov API. | 15%\n",
        "Info Outputs | Displays an accurate weather forecast for the given zipcode. | 10%\n",
        "Info Outputs | Displays all desired forecast information (i.e. day of week (5%), human readable date (10%), temperature (5%), weather condition (5%)) | 25%\n",
        "Info Outputs | Displays only one forecast per day. | 10%\n",
        "Info Outputs | Indicates separately and explicitly whether it will be raining or not today. | 10%\n",
        "UI/UX | Provides a good user experience, with a clean and concise final display. | 5%\n",
        "\n",
        "### Further Exploration Challenges\n",
        "\n",
        "After completing the basic requirements, consider optionally tackling these further exploration challenges for extra credit.\n",
        "\n",
        "**Hourly Forecasts: 10%**\n",
        "\n",
        "The program should optionally allow the user to specify  whether they want a normal \"daily\" forecast, or an \"hourly\" forecast. And it should display whichever forecast they chose.\n",
        "\n",
        "For the hourly option, the program should display one forecast for each hour, but should only display forecasts for the current day. To acheive this, the program can either A) display a maximum of 24 hourly periods, or B) specifically filter out / exclude any periods happening after the current day.\n",
        "\n",
        "> HINT: for approach B, try first obtaining a date object for the current day's date, converting it to a string, and checking if that date substring exists in the period's \"startTime\" property.\n",
        "\n",
        "> HINT: There are two different forecast URLs provided in the first API response, so we can choose which one to make the second request to, based on the user selection.\n",
        "\n",
        "> NOTE: Unlike the daily forecasts, for hourly forecasts, it is OK to have more than one per day, and OK to include night-time periods.\n",
        "\n",
        "> NOTE: The hourly forecast should still tell the user whether it is raining today (i.e if any of the hourly forecasts mention rain).\n",
        "\n",
        "\n",
        "**Weather Icons: 5%**\n",
        "\n",
        "It would be nice if the program displayed images alongside the forecast output.\n",
        "\n",
        "> HINT: There are some image URLs provided in the forecast response for each daily or hourly time period. See the period's \"icon\" property.\n",
        "\n",
        "> HINT: Maybe the `IPython.display` module can help display images in Colab. See the [`Image` class](https://ipython.readthedocs.io/en/stable/api/generated/IPython.display.html#IPython.display.Image) and [`display()` method](https://ipython.readthedocs.io/en/stable/api/generated/IPython.display.html#IPython.display.DisplayHandle.display) docs, and also this specific GitHub issue about [displaying multiple images in the same Colab cell](https://github.com/ipython/ipython/issues/4222).\n",
        "\n",
        "\n"
      ]
    },
    {
      "cell_type": "markdown",
      "metadata": {
        "id": "qQYGDfI-QpAf"
      },
      "source": [
        "# References\n",
        "\n"
      ]
    },
    {
      "cell_type": "markdown",
      "metadata": {
        "id": "CcIxGvMWNtqR"
      },
      "source": [
        "## Weather.gov API\n"
      ]
    },
    {
      "cell_type": "markdown",
      "metadata": {
        "id": "PgS1j4W_cyg4"
      },
      "source": [
        "\n",
        "  + [Documentation](https://www.weather.gov/documentation/services-web-api)\n",
        "  + [Status](https://api.weather.gov/)\n",
        "\n",
        "Visit the Weather.gov API documentation site. Click \"Examples\" and focus on the \"How do I get the forecast?\" section (copied below):\n",
        "\n",
        "> ### How do I get the forecast?\n",
        ">\n",
        "> Forecasts are divided into 2.5km grids. Each NWS office is responsible for a section of the grid. The API endpoint for the forecast at a specific grid is:\n",
        ">\n",
        "> + `https://api.weather.gov/gridpoints/{office}/{grid X},{grid Y}/forecast`\n",
        ">\n",
        "> + https://api.weather.gov/gridpoints/TOP/31,80/forecast\n",
        ">\n",
        "> If you do not know the grid that correlates to your location, you can use the \"/points\" endpoint to retrieve the exact grid endpoint by coordinates:\n",
        ">\n",
        ">   + `https://api.weather.gov/points/{latitude},{longitude}`\n",
        ">   + https://api.weather.gov/points/39.7456,-97.0892\n",
        ">\n",
        "> This will return the grid endpoint in the \"forecast\" property.\n",
        "\n",
        "\n",
        "\n",
        "OK so basically we first have to specify some lat/long values in a \"points\" request to get a response which contains the forecast URL for a corresponding \"grid\" location, and then make a second request to that forecast URL to get the actual forecast data.\n",
        "\n",
        "If we first use the `geocode` Package (reference below), to lookup the lat/long coordinates for the user's zipcode, we should be good to get the data. And then we just focus on parsing it.\n"
      ]
    },
    {
      "cell_type": "markdown",
      "metadata": {
        "id": "QmyQCk7rPrri"
      },
      "source": [
        "## The `pgeocode` Package\n"
      ]
    },
    {
      "cell_type": "markdown",
      "metadata": {
        "id": "hp5WEhf4f4mk"
      },
      "source": [
        "\n",
        "\n",
        "References:\n",
        "\n",
        "  + [Package Index](https://pypi.org/project/pgeocode/)\n",
        "  + [GitHub Repo](https://github.com/symerio/pgeocode)\n",
        "  + [Docs](https://pgeocode.readthedocs.io/en/latest/)\n",
        "  + [`pgeocode.Nominatim`](https://pgeocode.readthedocs.io/en/latest/generated/pgeocode.Nominatim.html)\n",
        "  + [List of Supported Country Codes](https://github.com/symerio/pgeocode#supported-countries)\n",
        "  + [`pgeocode.Nominatim.query_postal_code()`](https://pgeocode.readthedocs.io/en/latest/generated/pgeocode.Nominatim.html#pgeocode.Nominatim.query_postal_code)\n",
        "  \n",
        "Read the Package Docs, specifically focusing on the Installation section (covered in the Setup cell of this notebook), and the Quickstart Guide. The Quickstart Guide says we need to initialize a new `Nominatum` object for our desired country (see supported country codes list), and then use that object's `query_postal_code()` method, passing in the zipcode, to get back some result continaing the lat/long coords.\n",
        "\n",
        "> HINT: the result will be a `pandas.Series` object that will have certain column attributes we can access with a dictionary-like accessor (e.g. `result[\"attribute name\"]`)."
      ]
    },
    {
      "cell_type": "markdown",
      "metadata": {
        "id": "DNKL6SrwHikf"
      },
      "source": [
        "# Setup\n",
        "\n",
        "Run the first setup cell with the pip installation command in it. Feel free to reference any of the other setup content, as desired. Some of it is not necessary, but might be helpful or fun."
      ]
    },
    {
      "cell_type": "code",
      "metadata": {
        "id": "qeNc7kKfczKD",
        "colab": {
          "base_uri": "https://localhost:8080/"
        },
        "outputId": "7eb8c66d-3432-47f0-a533-960eb04ed173"
      },
      "source": [
        "# ONE-TIME SETUP STEP:\n",
        "# ... UN-COMMENT THE LINE BELOW AND RUN THIS CELL TO INSTALL THE pgeocode PACKAGE\n",
        "# ... THEN RE-COMMENT THE LINE BELOW AND CONTINUE\n",
        "#\n",
        "!pip install pgeocode"
      ],
      "execution_count": 2,
      "outputs": [
        {
          "output_type": "stream",
          "name": "stdout",
          "text": [
            "Collecting pgeocode\n",
            "  Downloading pgeocode-0.4.0-py3-none-any.whl (9.7 kB)\n",
            "Requirement already satisfied: requests in /usr/local/lib/python3.10/dist-packages (from pgeocode) (2.31.0)\n",
            "Requirement already satisfied: numpy in /usr/local/lib/python3.10/dist-packages (from pgeocode) (1.23.5)\n",
            "Requirement already satisfied: pandas in /usr/local/lib/python3.10/dist-packages (from pgeocode) (1.5.3)\n",
            "Requirement already satisfied: python-dateutil>=2.8.1 in /usr/local/lib/python3.10/dist-packages (from pandas->pgeocode) (2.8.2)\n",
            "Requirement already satisfied: pytz>=2020.1 in /usr/local/lib/python3.10/dist-packages (from pandas->pgeocode) (2023.3)\n",
            "Requirement already satisfied: charset-normalizer<4,>=2 in /usr/local/lib/python3.10/dist-packages (from requests->pgeocode) (3.2.0)\n",
            "Requirement already satisfied: idna<4,>=2.5 in /usr/local/lib/python3.10/dist-packages (from requests->pgeocode) (3.4)\n",
            "Requirement already satisfied: urllib3<3,>=1.21.1 in /usr/local/lib/python3.10/dist-packages (from requests->pgeocode) (2.0.4)\n",
            "Requirement already satisfied: certifi>=2017.4.17 in /usr/local/lib/python3.10/dist-packages (from requests->pgeocode) (2023.7.22)\n",
            "Requirement already satisfied: six>=1.5 in /usr/local/lib/python3.10/dist-packages (from python-dateutil>=2.8.1->pandas->pgeocode) (1.16.0)\n",
            "Installing collected packages: pgeocode\n",
            "Successfully installed pgeocode-0.4.0\n"
          ]
        }
      ]
    },
    {
      "cell_type": "code",
      "metadata": {
        "colab": {
          "base_uri": "https://localhost:8080/"
        },
        "id": "eMIXxLM8ySDn",
        "outputId": "ac1bcb83-e874-46c3-ae59-26393e17778c"
      },
      "source": [
        "# DISPLAYING THE DEGREES SIGN\n",
        "degree_sign = u\"\\N{DEGREE SIGN}\"\n",
        "print(f\"THE TEMPERATURE IS 90 {degree_sign}F\")"
      ],
      "execution_count": 3,
      "outputs": [
        {
          "output_type": "stream",
          "name": "stdout",
          "text": [
            "THE TEMPERATURE IS 90 °F\n"
          ]
        }
      ]
    },
    {
      "cell_type": "code",
      "metadata": {
        "colab": {
          "base_uri": "https://localhost:8080/"
        },
        "id": "vcqbefYGxz0S",
        "outputId": "f4653a9d-1baa-48f6-daf0-227f05ca5027"
      },
      "source": [
        "# DATE PARSING STRATEGY A\n",
        "\n",
        "from datetime import datetime\n",
        "\n",
        "start_time = '2021-03-04T19:00:00-05:00'\n",
        "dt = datetime.strptime(start_time, '%Y-%m-%dT%H:%M:%S%z')\n",
        "dt"
      ],
      "execution_count": 4,
      "outputs": [
        {
          "output_type": "execute_result",
          "data": {
            "text/plain": [
              "datetime.datetime(2021, 3, 4, 19, 0, tzinfo=datetime.timezone(datetime.timedelta(days=-1, seconds=68400)))"
            ]
          },
          "metadata": {},
          "execution_count": 4
        }
      ]
    },
    {
      "cell_type": "code",
      "metadata": {
        "id": "59l53zQ8vSdE",
        "colab": {
          "base_uri": "https://localhost:8080/"
        },
        "outputId": "8cf0f531-6451-482a-c09a-dc26ece8c19c"
      },
      "source": [
        "# DATE PARSING STRATEGY B\n",
        "\n",
        "import dateutil.parser\n",
        "\n",
        "start_time = '2021-03-04T19:00:00-05:00'\n",
        "dt = dateutil.parser.parse(start_time)\n",
        "dt"
      ],
      "execution_count": 5,
      "outputs": [
        {
          "output_type": "execute_result",
          "data": {
            "text/plain": [
              "datetime.datetime(2021, 3, 4, 19, 0, tzinfo=tzoffset(None, -18000))"
            ]
          },
          "metadata": {},
          "execution_count": 5
        }
      ]
    },
    {
      "cell_type": "code",
      "metadata": {
        "colab": {
          "base_uri": "https://localhost:8080/"
        },
        "id": "hrCNDmlUiSze",
        "outputId": "1467934a-7b73-48ce-f8de-0b03e345b809"
      },
      "source": [
        "import json\n",
        "import requests\n",
        "from pprint import pprint\n",
        "\n",
        "print(\"-----------------------\")\n",
        "print(\"WEATHER.GOV API STATUS...\")\n",
        "status_response = requests.get(\"https://api.weather.gov\")\n",
        "print(status_response.status_code)\n",
        "parsed_status_response = json.loads(status_response.text)\n",
        "print(parsed_status_response[\"status\"])"
      ],
      "execution_count": 6,
      "outputs": [
        {
          "output_type": "stream",
          "name": "stdout",
          "text": [
            "-----------------------\n",
            "WEATHER.GOV API STATUS...\n",
            "200\n",
            "OK\n"
          ]
        }
      ]
    },
    {
      "cell_type": "markdown",
      "metadata": {
        "id": "T8I2yc6RLZmG"
      },
      "source": [
        "# Implementation"
      ]
    },
    {
      "cell_type": "markdown",
      "metadata": {
        "id": "66Rqks8wXgaI"
      },
      "source": [
        "## Info Inputs"
      ]
    },
    {
      "cell_type": "code",
      "metadata": {
        "colab": {
          "base_uri": "https://localhost:8080/"
        },
        "id": "AjEQlxaUUgeV",
        "outputId": "6660d757-9838-47a7-a01b-7ae2ea77bf6f"
      },
      "source": [
        "# OK FOR THE USER TO MODIFY THIS VARIABLE AND RE-RUN ALL CELLS AS DESIRED\n",
        "ZIP_CODE = \"20057\"\n",
        "print(\"ZIP CODE:\", ZIP_CODE)"
      ],
      "execution_count": 7,
      "outputs": [
        {
          "output_type": "stream",
          "name": "stdout",
          "text": [
            "ZIP CODE: 20057\n"
          ]
        }
      ]
    },
    {
      "cell_type": "markdown",
      "metadata": {
        "id": "DVqvLXpoXbHl"
      },
      "source": [
        "## Info Processing"
      ]
    },
    {
      "cell_type": "code",
      "metadata": {
        "id": "Nx8dz-3rxvZi"
      },
      "source": [
        "# todo write some code here in as many cells as necessary, to make requests and process the data\n",
        "\n"
      ],
      "execution_count": null,
      "outputs": []
    },
    {
      "cell_type": "markdown",
      "metadata": {
        "id": "zdX1iMuGv5if"
      },
      "source": [
        "## Info Outputs"
      ]
    },
    {
      "cell_type": "code",
      "metadata": {
        "id": "CJXOvKVcgX1T"
      },
      "source": [
        "# todo write some code here to provide a final, clean-looking display of the forecast\n",
        "\n"
      ],
      "execution_count": null,
      "outputs": []
    },
    {
      "cell_type": "code",
      "metadata": {
        "id": "2eeUoKc4oZ8h",
        "colab": {
          "base_uri": "https://localhost:8080/"
        },
        "outputId": "c39f20f1-b142-4199-b3f5-5e29798e7dcd"
      },
      "source": [
        "import json\n",
        "import requests\n",
        "from pgeocode import Nominatim\n",
        "from datetime import datetime\n",
        "\n",
        "# User input\n",
        "ZIP_CODE = \"20057\"\n",
        "\n",
        "# Step 1: Convert Zip Code to Latitude and Longitude\n",
        "nomi = Nominatim(\"us\")\n",
        "location_info = nomi.query_postal_code(ZIP_CODE)\n",
        "latitude = location_info[\"latitude\"]\n",
        "longitude = location_info[\"longitude\"]\n",
        "\n",
        "# Step 2: Get Forecast URL\n",
        "points_response = requests.get(f\"https://api.weather.gov/points/{latitude},{longitude}\")\n",
        "points_data = json.loads(points_response.text)\n",
        "forecast_url = points_data[\"properties\"][\"forecast\"]\n",
        "\n",
        "# Step 3: Fetch Forecast Data\n",
        "forecast_response = requests.get(forecast_url)\n",
        "forecast_data = json.loads(forecast_response.text)\n",
        "\n",
        "# Display the forecast information\n",
        "for period in forecast_data[\"properties\"][\"periods\"]:\n",
        "    day_of_week = period[\"name\"]\n",
        "    start_time = period[\"startTime\"]\n",
        "    temperature = f\"{period['temperature']} {period['temperatureUnit']}\"\n",
        "    weather_condition = period[\"shortForecast\"]\n",
        "\n",
        "    # Convert start time to human-readable date\n",
        "    dt = datetime.fromisoformat(start_time[:-6])\n",
        "    formatted_date = dt.strftime('%b %d, %Y')\n",
        "\n",
        "    print(f\"Day: {day_of_week}\")\n",
        "    print(f\"Date: {formatted_date}\")\n",
        "    print(f\"Temperature: {temperature}\")\n",
        "    print(f\"Weather Condition: {weather_condition}\")\n",
        "\n",
        "    if \"rain\" in weather_condition.lower():\n",
        "        print(\"RAIN TODAY!\")\n",
        "    else:\n",
        "        print(\"NO RAIN TODAY!\")\n",
        "\n",
        "    print(\"-----------------------\")\n",
        "\n"
      ],
      "execution_count": 13,
      "outputs": [
        {
          "output_type": "stream",
          "name": "stdout",
          "text": [
            "Day: Overnight\n",
            "Date: Aug 22, 2023\n",
            "Temperature: 70 F\n",
            "Weather Condition: Mostly Cloudy\n",
            "NO RAIN TODAY!\n",
            "-----------------------\n",
            "Day: Tuesday\n",
            "Date: Aug 22, 2023\n",
            "Temperature: 84 F\n",
            "Weather Condition: Mostly Sunny\n",
            "NO RAIN TODAY!\n",
            "-----------------------\n",
            "Day: Tuesday Night\n",
            "Date: Aug 22, 2023\n",
            "Temperature: 64 F\n",
            "Weather Condition: Mostly Clear\n",
            "NO RAIN TODAY!\n",
            "-----------------------\n",
            "Day: Wednesday\n",
            "Date: Aug 23, 2023\n",
            "Temperature: 84 F\n",
            "Weather Condition: Sunny\n",
            "NO RAIN TODAY!\n",
            "-----------------------\n",
            "Day: Wednesday Night\n",
            "Date: Aug 23, 2023\n",
            "Temperature: 67 F\n",
            "Weather Condition: Mostly Cloudy then Slight Chance Rain Showers\n",
            "RAIN TODAY!\n",
            "-----------------------\n",
            "Day: Thursday\n",
            "Date: Aug 24, 2023\n",
            "Temperature: 84 F\n",
            "Weather Condition: Slight Chance Rain Showers then Slight Chance Showers And Thunderstorms\n",
            "RAIN TODAY!\n",
            "-----------------------\n",
            "Day: Thursday Night\n",
            "Date: Aug 24, 2023\n",
            "Temperature: 70 F\n",
            "Weather Condition: Slight Chance Showers And Thunderstorms then Chance Showers And Thunderstorms\n",
            "NO RAIN TODAY!\n",
            "-----------------------\n",
            "Day: Friday\n",
            "Date: Aug 25, 2023\n",
            "Temperature: 95 F\n",
            "Weather Condition: Chance Rain Showers then Chance Showers And Thunderstorms\n",
            "RAIN TODAY!\n",
            "-----------------------\n",
            "Day: Friday Night\n",
            "Date: Aug 25, 2023\n",
            "Temperature: 72 F\n",
            "Weather Condition: Chance Showers And Thunderstorms\n",
            "NO RAIN TODAY!\n",
            "-----------------------\n",
            "Day: Saturday\n",
            "Date: Aug 26, 2023\n",
            "Temperature: 84 F\n",
            "Weather Condition: Slight Chance Rain Showers then Slight Chance Showers And Thunderstorms\n",
            "RAIN TODAY!\n",
            "-----------------------\n",
            "Day: Saturday Night\n",
            "Date: Aug 26, 2023\n",
            "Temperature: 65 F\n",
            "Weather Condition: Slight Chance Showers And Thunderstorms then Partly Cloudy\n",
            "NO RAIN TODAY!\n",
            "-----------------------\n",
            "Day: Sunday\n",
            "Date: Aug 27, 2023\n",
            "Temperature: 80 F\n",
            "Weather Condition: Mostly Sunny\n",
            "NO RAIN TODAY!\n",
            "-----------------------\n",
            "Day: Sunday Night\n",
            "Date: Aug 27, 2023\n",
            "Temperature: 63 F\n",
            "Weather Condition: Partly Cloudy\n",
            "NO RAIN TODAY!\n",
            "-----------------------\n",
            "Day: Monday\n",
            "Date: Aug 28, 2023\n",
            "Temperature: 80 F\n",
            "Weather Condition: Mostly Sunny\n",
            "NO RAIN TODAY!\n",
            "-----------------------\n"
          ]
        }
      ]
    },
    {
      "cell_type": "code",
      "metadata": {
        "id": "63zdjCwYoaq8",
        "colab": {
          "base_uri": "https://localhost:8080/"
        },
        "outputId": "bcb6de80-8361-4941-ade1-0ec326ea2c3c"
      },
      "source": [
        "print(forecast_data)"
      ],
      "execution_count": 14,
      "outputs": [
        {
          "output_type": "stream",
          "name": "stdout",
          "text": [
            "{'@context': ['https://geojson.org/geojson-ld/geojson-context.jsonld', {'@version': '1.1', 'wx': 'https://api.weather.gov/ontology#', 'geo': 'http://www.opengis.net/ont/geosparql#', 'unit': 'http://codes.wmo.int/common/unit/', '@vocab': 'https://api.weather.gov/ontology#'}], 'type': 'Feature', 'geometry': {'type': 'Polygon', 'coordinates': [[[-77.0369962, 38.900789], [-77.0407548, 38.878836500000006], [-77.0125519, 38.8759086], [-77.0087876, 38.897860800000004], [-77.0369962, 38.900789]]]}, 'properties': {'updated': '2023-08-22T02:29:37+00:00', 'units': 'us', 'forecastGenerator': 'BaselineForecastGenerator', 'generatedAt': '2023-08-22T04:11:56+00:00', 'updateTime': '2023-08-22T02:29:37+00:00', 'validTimes': '2023-08-21T20:00:00+00:00/P7DT5H', 'elevation': {'unitCode': 'wmoUnit:m', 'value': 6.096}, 'periods': [{'number': 1, 'name': 'Overnight', 'startTime': '2023-08-22T00:00:00-04:00', 'endTime': '2023-08-22T06:00:00-04:00', 'isDaytime': False, 'temperature': 70, 'temperatureUnit': 'F', 'temperatureTrend': None, 'probabilityOfPrecipitation': {'unitCode': 'wmoUnit:percent', 'value': None}, 'dewpoint': {'unitCode': 'wmoUnit:degC', 'value': 21.11111111111111}, 'relativeHumidity': {'unitCode': 'wmoUnit:percent', 'value': 82}, 'windSpeed': '3 to 9 mph', 'windDirection': 'N', 'icon': 'https://api.weather.gov/icons/land/night/bkn?size=medium', 'shortForecast': 'Mostly Cloudy', 'detailedForecast': 'Mostly cloudy, with a low around 70. North wind 3 to 9 mph.'}, {'number': 2, 'name': 'Tuesday', 'startTime': '2023-08-22T06:00:00-04:00', 'endTime': '2023-08-22T18:00:00-04:00', 'isDaytime': True, 'temperature': 84, 'temperatureUnit': 'F', 'temperatureTrend': None, 'probabilityOfPrecipitation': {'unitCode': 'wmoUnit:percent', 'value': None}, 'dewpoint': {'unitCode': 'wmoUnit:degC', 'value': 17.77777777777778}, 'relativeHumidity': {'unitCode': 'wmoUnit:percent', 'value': 81}, 'windSpeed': '10 mph', 'windDirection': 'N', 'icon': 'https://api.weather.gov/icons/land/day/sct?size=medium', 'shortForecast': 'Mostly Sunny', 'detailedForecast': 'Mostly sunny, with a high near 84. North wind around 10 mph.'}, {'number': 3, 'name': 'Tuesday Night', 'startTime': '2023-08-22T18:00:00-04:00', 'endTime': '2023-08-23T06:00:00-04:00', 'isDaytime': False, 'temperature': 64, 'temperatureUnit': 'F', 'temperatureTrend': None, 'probabilityOfPrecipitation': {'unitCode': 'wmoUnit:percent', 'value': None}, 'dewpoint': {'unitCode': 'wmoUnit:degC', 'value': 14.444444444444445}, 'relativeHumidity': {'unitCode': 'wmoUnit:percent', 'value': 81}, 'windSpeed': '1 to 8 mph', 'windDirection': 'NE', 'icon': 'https://api.weather.gov/icons/land/night/few?size=medium', 'shortForecast': 'Mostly Clear', 'detailedForecast': 'Mostly clear, with a low around 64. Northeast wind 1 to 8 mph.'}, {'number': 4, 'name': 'Wednesday', 'startTime': '2023-08-23T06:00:00-04:00', 'endTime': '2023-08-23T18:00:00-04:00', 'isDaytime': True, 'temperature': 84, 'temperatureUnit': 'F', 'temperatureTrend': None, 'probabilityOfPrecipitation': {'unitCode': 'wmoUnit:percent', 'value': None}, 'dewpoint': {'unitCode': 'wmoUnit:degC', 'value': 15}, 'relativeHumidity': {'unitCode': 'wmoUnit:percent', 'value': 81}, 'windSpeed': '1 to 6 mph', 'windDirection': 'E', 'icon': 'https://api.weather.gov/icons/land/day/few?size=medium', 'shortForecast': 'Sunny', 'detailedForecast': 'Sunny, with a high near 84. East wind 1 to 6 mph.'}, {'number': 5, 'name': 'Wednesday Night', 'startTime': '2023-08-23T18:00:00-04:00', 'endTime': '2023-08-24T06:00:00-04:00', 'isDaytime': False, 'temperature': 67, 'temperatureUnit': 'F', 'temperatureTrend': None, 'probabilityOfPrecipitation': {'unitCode': 'wmoUnit:percent', 'value': 20}, 'dewpoint': {'unitCode': 'wmoUnit:degC', 'value': 16.11111111111111}, 'relativeHumidity': {'unitCode': 'wmoUnit:percent', 'value': 78}, 'windSpeed': '7 to 12 mph', 'windDirection': 'S', 'icon': 'https://api.weather.gov/icons/land/night/bkn/rain_showers,20?size=medium', 'shortForecast': 'Mostly Cloudy then Slight Chance Rain Showers', 'detailedForecast': 'A slight chance of rain showers after 2am. Mostly cloudy, with a low around 67. South wind 7 to 12 mph. Chance of precipitation is 20%.'}, {'number': 6, 'name': 'Thursday', 'startTime': '2023-08-24T06:00:00-04:00', 'endTime': '2023-08-24T18:00:00-04:00', 'isDaytime': True, 'temperature': 84, 'temperatureUnit': 'F', 'temperatureTrend': None, 'probabilityOfPrecipitation': {'unitCode': 'wmoUnit:percent', 'value': 20}, 'dewpoint': {'unitCode': 'wmoUnit:degC', 'value': 18.88888888888889}, 'relativeHumidity': {'unitCode': 'wmoUnit:percent', 'value': 81}, 'windSpeed': '14 mph', 'windDirection': 'S', 'icon': 'https://api.weather.gov/icons/land/day/rain_showers,20/tsra_sct,20?size=medium', 'shortForecast': 'Slight Chance Rain Showers then Slight Chance Showers And Thunderstorms', 'detailedForecast': 'A slight chance of rain showers before 8am, then a slight chance of showers and thunderstorms. Partly sunny, with a high near 84. Chance of precipitation is 20%.'}, {'number': 7, 'name': 'Thursday Night', 'startTime': '2023-08-24T18:00:00-04:00', 'endTime': '2023-08-25T06:00:00-04:00', 'isDaytime': False, 'temperature': 70, 'temperatureUnit': 'F', 'temperatureTrend': None, 'probabilityOfPrecipitation': {'unitCode': 'wmoUnit:percent', 'value': 30}, 'dewpoint': {'unitCode': 'wmoUnit:degC', 'value': 20.555555555555557}, 'relativeHumidity': {'unitCode': 'wmoUnit:percent', 'value': 87}, 'windSpeed': '14 mph', 'windDirection': 'S', 'icon': 'https://api.weather.gov/icons/land/night/tsra_hi,30?size=medium', 'shortForecast': 'Slight Chance Showers And Thunderstorms then Chance Showers And Thunderstorms', 'detailedForecast': 'A slight chance of showers and thunderstorms before 8pm, then a chance of showers and thunderstorms. Partly cloudy, with a low around 70. Chance of precipitation is 30%.'}, {'number': 8, 'name': 'Friday', 'startTime': '2023-08-25T06:00:00-04:00', 'endTime': '2023-08-25T18:00:00-04:00', 'isDaytime': True, 'temperature': 95, 'temperatureUnit': 'F', 'temperatureTrend': None, 'probabilityOfPrecipitation': {'unitCode': 'wmoUnit:percent', 'value': 30}, 'dewpoint': {'unitCode': 'wmoUnit:degC', 'value': 23.333333333333332}, 'relativeHumidity': {'unitCode': 'wmoUnit:percent', 'value': 90}, 'windSpeed': '12 mph', 'windDirection': 'SW', 'icon': 'https://api.weather.gov/icons/land/day/rain_showers,30/tsra_hi,30?size=medium', 'shortForecast': 'Chance Rain Showers then Chance Showers And Thunderstorms', 'detailedForecast': 'A chance of rain showers before 8am, then a chance of showers and thunderstorms. Mostly sunny, with a high near 95. Chance of precipitation is 30%.'}, {'number': 9, 'name': 'Friday Night', 'startTime': '2023-08-25T18:00:00-04:00', 'endTime': '2023-08-26T06:00:00-04:00', 'isDaytime': False, 'temperature': 72, 'temperatureUnit': 'F', 'temperatureTrend': None, 'probabilityOfPrecipitation': {'unitCode': 'wmoUnit:percent', 'value': 30}, 'dewpoint': {'unitCode': 'wmoUnit:degC', 'value': 23.88888888888889}, 'relativeHumidity': {'unitCode': 'wmoUnit:percent', 'value': 100}, 'windSpeed': '12 mph', 'windDirection': 'NW', 'icon': 'https://api.weather.gov/icons/land/night/tsra_hi,30?size=medium', 'shortForecast': 'Chance Showers And Thunderstorms', 'detailedForecast': 'A chance of showers and thunderstorms before 8pm, then a chance of showers and thunderstorms. Mostly cloudy, with a low around 72. Chance of precipitation is 30%.'}, {'number': 10, 'name': 'Saturday', 'startTime': '2023-08-26T06:00:00-04:00', 'endTime': '2023-08-26T18:00:00-04:00', 'isDaytime': True, 'temperature': 84, 'temperatureUnit': 'F', 'temperatureTrend': None, 'probabilityOfPrecipitation': {'unitCode': 'wmoUnit:percent', 'value': None}, 'dewpoint': {'unitCode': 'wmoUnit:degC', 'value': 22.22222222222222}, 'relativeHumidity': {'unitCode': 'wmoUnit:percent', 'value': 100}, 'windSpeed': '12 mph', 'windDirection': 'N', 'icon': 'https://api.weather.gov/icons/land/day/rain_showers/tsra_hi?size=medium', 'shortForecast': 'Slight Chance Rain Showers then Slight Chance Showers And Thunderstorms', 'detailedForecast': 'A slight chance of rain showers before 8am, then a slight chance of showers and thunderstorms. Mostly sunny, with a high near 84.'}, {'number': 11, 'name': 'Saturday Night', 'startTime': '2023-08-26T18:00:00-04:00', 'endTime': '2023-08-27T06:00:00-04:00', 'isDaytime': False, 'temperature': 65, 'temperatureUnit': 'F', 'temperatureTrend': None, 'probabilityOfPrecipitation': {'unitCode': 'wmoUnit:percent', 'value': None}, 'dewpoint': {'unitCode': 'wmoUnit:degC', 'value': 18.88888888888889}, 'relativeHumidity': {'unitCode': 'wmoUnit:percent', 'value': 84}, 'windSpeed': '13 mph', 'windDirection': 'N', 'icon': 'https://api.weather.gov/icons/land/night/tsra_hi/sct?size=medium', 'shortForecast': 'Slight Chance Showers And Thunderstorms then Partly Cloudy', 'detailedForecast': 'A slight chance of showers and thunderstorms before 8pm. Partly cloudy, with a low around 65.'}, {'number': 12, 'name': 'Sunday', 'startTime': '2023-08-27T06:00:00-04:00', 'endTime': '2023-08-27T18:00:00-04:00', 'isDaytime': True, 'temperature': 80, 'temperatureUnit': 'F', 'temperatureTrend': None, 'probabilityOfPrecipitation': {'unitCode': 'wmoUnit:percent', 'value': None}, 'dewpoint': {'unitCode': 'wmoUnit:degC', 'value': 16.11111111111111}, 'relativeHumidity': {'unitCode': 'wmoUnit:percent', 'value': 87}, 'windSpeed': '12 mph', 'windDirection': 'NE', 'icon': 'https://api.weather.gov/icons/land/day/sct?size=medium', 'shortForecast': 'Mostly Sunny', 'detailedForecast': 'Mostly sunny, with a high near 80.'}, {'number': 13, 'name': 'Sunday Night', 'startTime': '2023-08-27T18:00:00-04:00', 'endTime': '2023-08-28T06:00:00-04:00', 'isDaytime': False, 'temperature': 63, 'temperatureUnit': 'F', 'temperatureTrend': None, 'probabilityOfPrecipitation': {'unitCode': 'wmoUnit:percent', 'value': None}, 'dewpoint': {'unitCode': 'wmoUnit:degC', 'value': 16.11111111111111}, 'relativeHumidity': {'unitCode': 'wmoUnit:percent', 'value': 84}, 'windSpeed': '10 mph', 'windDirection': 'NE', 'icon': 'https://api.weather.gov/icons/land/night/sct?size=medium', 'shortForecast': 'Partly Cloudy', 'detailedForecast': 'Partly cloudy, with a low around 63.'}, {'number': 14, 'name': 'Monday', 'startTime': '2023-08-28T06:00:00-04:00', 'endTime': '2023-08-28T18:00:00-04:00', 'isDaytime': True, 'temperature': 80, 'temperatureUnit': 'F', 'temperatureTrend': None, 'probabilityOfPrecipitation': {'unitCode': 'wmoUnit:percent', 'value': None}, 'dewpoint': {'unitCode': 'wmoUnit:degC', 'value': 15.555555555555555}, 'relativeHumidity': {'unitCode': 'wmoUnit:percent', 'value': 84}, 'windSpeed': '10 mph', 'windDirection': 'NE', 'icon': 'https://api.weather.gov/icons/land/day/sct?size=medium', 'shortForecast': 'Mostly Sunny', 'detailedForecast': 'Mostly sunny, with a high near 80.'}]}}\n"
          ]
        }
      ]
    },
    {
      "cell_type": "code",
      "source": [],
      "metadata": {
        "id": "4SciJcoQbANN"
      },
      "execution_count": null,
      "outputs": []
    }
  ]
}