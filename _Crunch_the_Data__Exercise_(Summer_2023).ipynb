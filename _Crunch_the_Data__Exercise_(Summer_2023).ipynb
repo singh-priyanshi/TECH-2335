{
  "nbformat": 4,
  "nbformat_minor": 0,
  "metadata": {
    "colab": {
      "provenance": [],
      "collapsed_sections": [
        "VtujEF_N2LHi"
      ],
      "toc_visible": true,
      "include_colab_link": true
    },
    "kernelspec": {
      "name": "python3",
      "display_name": "Python 3"
    }
  },
  "cells": [
    {
      "cell_type": "markdown",
      "metadata": {
        "id": "view-in-github",
        "colab_type": "text"
      },
      "source": [
        "<a href=\"https://colab.research.google.com/github/singh-priyanshi/py/blob/main/_Crunch_the_Data__Exercise_(Summer_2023).ipynb\" target=\"_parent\"><img src=\"https://colab.research.google.com/assets/colab-badge.svg\" alt=\"Open In Colab\"/></a>"
      ]
    },
    {
      "cell_type": "markdown",
      "metadata": {
        "id": "Ay0cqN_Loiww"
      },
      "source": [
        "# Instructions\n",
        "\n",
        "Make a copy of this notebook so you can edit and save your own version of it.\n",
        "\n",
        "Each of the challenges below contains a provided data structure in a setup cell, as well as some questions relating to the provided data structure. For each challenge, run its setup cell to define the provided variable, then write additional code cells below which reference that variable to answer the provided questions.\n",
        "\n",
        "\n",
        "# Guidance / Evaluation\n",
        "\n",
        "Each fully-completed challenge is worth one point. Complete five challenges for full credit (5/5). Since there are six challenges, it is possible to earn one point of bonus (6/5).\n",
        "\n",
        "Strive to complete all the challenges. But if you have to prioritize, after doing **both 1 and 2**, you could then do **either 3 or 4**, then **either 5 or 6** (for 4/5 partial credit).\n",
        "\n",
        "\n",
        "If you are stuck on one aspect of a particular challenge, feel free to move on for now, and then revisit later.\n",
        "\n",
        "\n",
        "\n",
        "# Collaboration\n",
        "\n",
        "It is OK to discuss this exercise with others, to work together, and even to share some small code snippets!\n",
        "\n",
        "> NOTE: if you receive any help from another student, you are expected to provide appropriate attribution in a corresponding text cell or code comment, like **\"Student X helped me with this part\"**, or **\"Student Y and I worked on this part together\"**.\n"
      ]
    },
    {
      "cell_type": "markdown",
      "metadata": {
        "id": "-KpOcL7dRi0y"
      },
      "source": [
        "# Challenges\n"
      ]
    },
    {
      "cell_type": "markdown",
      "metadata": {
        "id": "jkFPIYgmG6ag"
      },
      "source": [
        "## Challenge 1 (Gradebook)\n"
      ]
    },
    {
      "cell_type": "markdown",
      "metadata": {
        "id": "S-JKOpkHSpfB"
      },
      "source": [
        "\n",
        "Given the Python variable called `gradebook` provided below, write Python code which references that variable to perform each of the following tasks...\n",
        "\n",
        "A) Print the date this data was downloaded (i.e. `\"2018-06-05\"`).\n",
        "\n",
        "B) Print the number of students in the gradebook (i.e. `10`).\n",
        "\n",
        "C) Loop through each student and print their grade, each on a new line.\n",
        "\n",
        "D) Print the average grade (i.e. `83.64`).\n",
        "\n",
        "E) Print the median grade (i.e. `87.6`). HINT: it might be helpful to leverage [the `statistics` module](https://github.com/prof-rossetti/intro-to-python/blob/master/notes/python/modules/statistics.md) or some other third-party package\n",
        "\n"
      ]
    },
    {
      "cell_type": "code",
      "metadata": {
        "id": "7mLcsfnESwG1"
      },
      "source": [
        "# leave this cell as-is (and run it)\n",
        "gradebook = {\n",
        "  \"downloadDate\": \"2018-06-05\",\n",
        "  \"professorId\": 123,\n",
        "  \"students\":[\n",
        "    {\"studentId\": 1, \"finalGrade\": 76.7},\n",
        "    {\"studentId\": 2, \"finalGrade\": 85.1},\n",
        "    {\"studentId\": 3, \"finalGrade\": 50.3},\n",
        "    {\"studentId\": 4, \"finalGrade\": 89.8},\n",
        "    {\"studentId\": 5, \"finalGrade\": 97.4},\n",
        "    {\"studentId\": 6, \"finalGrade\": 75.5},\n",
        "    {\"studentId\": 7, \"finalGrade\": 87.2},\n",
        "    {\"studentId\": 8, \"finalGrade\": 88.0},\n",
        "    {\"studentId\": 9, \"finalGrade\": 93.9},\n",
        "    {\"studentId\": 10, \"finalGrade\": 92.5}\n",
        "  ]\n",
        "}"
      ],
      "execution_count": 1,
      "outputs": []
    },
    {
      "cell_type": "code",
      "metadata": {
        "colab": {
          "base_uri": "https://localhost:8080/"
        },
        "id": "MCaUtr-QjxDB",
        "outputId": "741c6588-6deb-46bc-f09a-f0916fcdb0cc"
      },
      "source": [
        "print(\"------------------\")\n",
        "print(\"PROCESSING GRADEBOOK DATA...\")\n",
        "print(\"------------------\")\n",
        "\n",
        "# todo: write some python here\n",
        "print(gradebook[\"downloadDate\"])\n",
        "print(len(gradebook[\"students\"]))\n",
        "for i in gradebook[\"students\"]:\n",
        "  print(i[\"finalGrade\"])\n",
        "print(\"------------------\")\n",
        "\n",
        "print(\"\\n\".join([str(i[\"finalGrade\"]) for i in gradebook[\"students\"]]))\n",
        "print(\"------------------\")\n",
        "\n",
        "print(max([(i[\"finalGrade\"]) for i in gradebook[\"students\"]]))\n",
        "print(min([(i[\"finalGrade\"]) for i in gradebook[\"students\"]]))\n",
        "print(round(sum([(i[\"finalGrade\"]) for i in gradebook[\"students\"]])/len(gradebook[\"students\"]),2))\n",
        "\n",
        "import statistics as st\n",
        "print(st.median([(i[\"finalGrade\"]) for i in gradebook[\"students\"]]))\n"
      ],
      "execution_count": 27,
      "outputs": [
        {
          "output_type": "stream",
          "name": "stdout",
          "text": [
            "------------------\n",
            "PROCESSING GRADEBOOK DATA...\n",
            "------------------\n",
            "2018-06-05\n",
            "10\n",
            "76.7\n",
            "85.1\n",
            "50.3\n",
            "89.8\n",
            "97.4\n",
            "75.5\n",
            "87.2\n",
            "88.0\n",
            "93.9\n",
            "92.5\n",
            "------------------\n",
            "76.7\n",
            "85.1\n",
            "50.3\n",
            "89.8\n",
            "97.4\n",
            "75.5\n",
            "87.2\n",
            "88.0\n",
            "93.9\n",
            "92.5\n",
            "------------------\n",
            "97.4\n",
            "50.3\n",
            "83.64\n",
            "87.6\n"
          ]
        }
      ]
    },
    {
      "cell_type": "code",
      "source": [
        "gradebook[\"students\"][0]"
      ],
      "metadata": {
        "colab": {
          "base_uri": "https://localhost:8080/"
        },
        "id": "qhEixbO9hi5P",
        "outputId": "78737454-ac4d-4428-97c4-ded258032290"
      },
      "execution_count": 5,
      "outputs": [
        {
          "output_type": "execute_result",
          "data": {
            "text/plain": [
              "{'studentId': 1, 'finalGrade': 76.7}"
            ]
          },
          "metadata": {},
          "execution_count": 5
        }
      ]
    },
    {
      "cell_type": "code",
      "source": [
        "for i, j in enumerate(range(10, len(gradebook[\"students\"])+10)):\n",
        "  print(i, j)"
      ],
      "metadata": {
        "colab": {
          "base_uri": "https://localhost:8080/"
        },
        "id": "GIYHYG5dhrZ1",
        "outputId": "586e1530-5e91-4d70-b69c-074c9ea84d57"
      },
      "execution_count": 11,
      "outputs": [
        {
          "output_type": "stream",
          "name": "stdout",
          "text": [
            "0 10\n",
            "1 11\n",
            "2 12\n",
            "3 13\n",
            "4 14\n",
            "5 15\n",
            "6 16\n",
            "7 17\n",
            "8 18\n",
            "9 19\n"
          ]
        }
      ]
    },
    {
      "cell_type": "markdown",
      "metadata": {
        "id": "H6vAJbNjG_US"
      },
      "source": [
        "## Challenge 2 (Rideshare)\n"
      ]
    },
    {
      "cell_type": "markdown",
      "metadata": {
        "id": "-uRFHQMYRkpb"
      },
      "source": [
        "\n",
        "\n",
        "Given the Python variable called `trip` provided below, write Python code which references that variable to perform each of the following tasks...\n",
        "\n",
        "A) Print a human-friendly message to denote the driver’s first name (i.e. `“Your driver is Danny\"`).\n",
        "\n",
        "B) Assuming stops can get added or removed at any time, print the number of stops this trip makes (i.e. `3`).\n",
        "\n",
        "C) Assuming the stops will always be listed in ascending order of their stop sequence, and there will always be at least one stop, print the destination of the FIRST stop (i.e. `\"Madison Square”`).\n",
        "\n",
        "D) Assuming the stops will always be listed in ascending order of their stop sequence, and there will always be at least one stop, but the number of stops may change at any time, print the destination of the LAST stop (i.e. `“Washington Square”`).\n",
        "\n",
        "E) Loop through each of the trip’s stops and print that stop’s passenger name, one at a time (i.e. `“Vishal”`, then `“Clara”`, then `“Lee”`, each on a separate line):\n",
        "\n"
      ]
    },
    {
      "cell_type": "code",
      "metadata": {
        "id": "MSyUjpWA-11o"
      },
      "source": [
        "# leave this cell as-is (and run it)\n",
        "trip = {\n",
        "    \"driver\": {\n",
        "        \"first_name\": \"Danny\",\n",
        "        \"last_name\": \"Dreyfus\",\n",
        "        \"avg_rating\": 3.6,\n",
        "        \"total_rides\": 950\n",
        "    },\n",
        "    \"vehicle\": {\n",
        "        \"make\": \"Tesla\",\n",
        "        \"model\": \"Cybertruck\",\n",
        "        \"year\": 2021,\n",
        "        \"color\": \"silver\"\n",
        "    },\n",
        "    \"rideshare\": True,\n",
        "    \"pickup_location\": \"Grand Central Terminal\",\n",
        "    \"stops\": [\n",
        "        {\"sequence\": 1, \"passenger\": \"Vishal\", \"destination\": \"Madison Square\", \"fare\": 3.99},\n",
        "        {\"sequence\": 2, \"passenger\": \"Clara\", \"destination\": \"Union Square\", \"fare\": 5.99},\n",
        "        {\"sequence\": 3, \"passenger\": \"Lee\", \"destination\": \"Washington Square\", \"fare\": 7.99}\n",
        "    ]\n",
        "}\n",
        "\n"
      ],
      "execution_count": 29,
      "outputs": []
    },
    {
      "cell_type": "code",
      "metadata": {
        "colab": {
          "base_uri": "https://localhost:8080/"
        },
        "id": "2H5Id5qTj9zM",
        "outputId": "3e785c51-3899-4f5d-85d0-3b197e446cfb"
      },
      "source": [
        "\n",
        "print(\"------------------\")\n",
        "print(\"PROCESSING RIDESHARE DATA...\")\n",
        "print(\"------------------\")\n",
        "\n",
        "# todo: write some python here\n",
        "print(f\"Your driver is {trip['driver']['first_name']}\")\n",
        "print(len(trip[\"stops\"]))\n",
        "\n",
        "print((trip[\"stops\"][0][\"destination\"]))\n",
        "print((trip[\"stops\"][-1][\"destination\"]))\n",
        "\n",
        "print(\"\\n\".join([str(i[\"passenger\"]) for i in trip[\"stops\"]]))"
      ],
      "execution_count": 36,
      "outputs": [
        {
          "output_type": "stream",
          "name": "stdout",
          "text": [
            "------------------\n",
            "PROCESSING RIDESHARE DATA...\n",
            "------------------\n",
            "Your driver is Danny\n",
            "3\n",
            "Madison Square\n",
            "Washington Square\n",
            "Vishal\n",
            "Clara\n",
            "Lee\n"
          ]
        }
      ]
    },
    {
      "cell_type": "markdown",
      "metadata": {
        "id": "frq5vQMsHOS1"
      },
      "source": [
        "## Challenge 3 (Social Media Posts)\n"
      ]
    },
    {
      "cell_type": "markdown",
      "metadata": {
        "id": "qHWXSX8iRkBU"
      },
      "source": [
        "\n",
        "Given the Python variable called `tweets` provided below, write Python code which references that variable to perform each of the following tasks...\n",
        "\n",
        "A) Print the screen name of the user who authored the first tweet (i.e. `“sandwhoa”`).\n",
        "\n",
        "\n",
        "B) Of all the tweets which include the phrase `“@sandwhoa”` in their full text, print the screen name of the user who authored that tweet, each on a separate line (i.e. `“person2”`, then `“person3”`).\n",
        "\n",
        "C) Of all the tweets which include the phrase `“@sandwhoa”` in their full text, determine which tweet has the greatest number of likes, and then print the screen name of the user who authored that tweet (i.e. `“person3”`). FYI: Assume the tweet order can change at any time and has no relationship with the number of likes.\n"
      ]
    },
    {
      "cell_type": "code",
      "metadata": {
        "id": "nY7zZDCm-8OD"
      },
      "source": [
        "# leave this cell as-is (and run it)\n",
        "tweets = [\n",
        "    {\n",
        "        \"id\": 100200297,\n",
        "        \"full_text\": \"Look at this delicious sandwich!\",\n",
        "        \"img_url\": \"https://sandwhoa.com/sandwich.png\",\n",
        "        \"user\": {\"screen_name\": \"sandwhoa\", \"followers\": 5000},\n",
        "        \"likes_count\": 150\n",
        "    },\n",
        "    {\n",
        "        \"id\": 100200298,\n",
        "        \"full_text\": \"I love sandwiches\",\n",
        "        \"img_url\": None,\n",
        "        \"user\": {\"screen_name\": \"person1\", \"followers\": 100},\n",
        "        \"likes_count\": 5\n",
        "    },\n",
        "    {\n",
        "        \"id\": 100200299,\n",
        "        \"full_text\": \"@sandwhoa yumm...\",\n",
        "        \"img_url\": None,\n",
        "        \"user\": {\"screen_name\": \"person2\", \"followers\": 200},\n",
        "        \"likes_count\": 10\n",
        "    },\n",
        "    {\n",
        "        \"id\": 100200300,\n",
        "        \"full_text\": \"@sandwhoa that sandwich looks amazing!!\",\n",
        "        \"img_url\": None,\n",
        "        \"user\": {\"screen_name\": \"person3\", \"followers\": 300},\n",
        "        \"likes_count\": 35\n",
        "    },\n",
        "    {\n",
        "        \"id\": 100200301,\n",
        "        \"full_text\": \"I ate a great sandwich today\",\n",
        "        \"img_url\": None,\n",
        "        \"user\": {\"screen_name\": \"person4\", \"followers\": 400},\n",
        "        \"likes_count\": 50\n",
        "    }\n",
        "]\n"
      ],
      "execution_count": 37,
      "outputs": []
    },
    {
      "cell_type": "code",
      "metadata": {
        "colab": {
          "base_uri": "https://localhost:8080/",
          "height": 331
        },
        "id": "hsy4ZFCRj_ce",
        "outputId": "31249409-7164-4c6f-e692-30f19f862656"
      },
      "source": [
        "\n",
        "print(\"------------------\")\n",
        "print(\"PROCESSING SOCIAL MEDIA DATA...\")\n",
        "print(\"------------------\")\n",
        "\n",
        "# todo: write some python here\n",
        "\n",
        "print(tweets[0][\"user\"][\"screen_name\"])\n",
        "\n",
        "for tweet in tweets:\n",
        "  if \"@sandwhoa\" in tweet[\"full_text\"]:\n",
        "    print(tweet[\"user\"][\"screen_name\"])\n",
        "\n",
        "a=[]\n",
        "for tweet in tweets:\n",
        "  if \"@sandwhoa\" in tweet[\"full_text\"]:\n",
        "    a.append(tweet[\"user\"][\"screen_name\"])\n",
        "print(a)\n",
        "\n",
        "for tweet in tweets:\n",
        "  print(tweet[\"likes_count\"] in a[0])"
      ],
      "execution_count": 54,
      "outputs": [
        {
          "output_type": "stream",
          "name": "stdout",
          "text": [
            "------------------\n",
            "PROCESSING SOCIAL MEDIA DATA...\n",
            "------------------\n",
            "sandwhoa\n",
            "person2\n",
            "person3\n",
            "['person2', 'person3']\n"
          ]
        },
        {
          "output_type": "error",
          "ename": "TypeError",
          "evalue": "ignored",
          "traceback": [
            "\u001b[0;31m---------------------------------------------------------------------------\u001b[0m",
            "\u001b[0;31mTypeError\u001b[0m                                 Traceback (most recent call last)",
            "\u001b[0;32m<ipython-input-54-8b7ecd2ca18d>\u001b[0m in \u001b[0;36m<cell line: 19>\u001b[0;34m()\u001b[0m\n\u001b[1;32m     18\u001b[0m \u001b[0;34m\u001b[0m\u001b[0m\n\u001b[1;32m     19\u001b[0m \u001b[0;32mfor\u001b[0m \u001b[0mtweet\u001b[0m \u001b[0;32min\u001b[0m \u001b[0mtweets\u001b[0m\u001b[0;34m:\u001b[0m\u001b[0;34m\u001b[0m\u001b[0;34m\u001b[0m\u001b[0m\n\u001b[0;32m---> 20\u001b[0;31m   \u001b[0mprint\u001b[0m\u001b[0;34m(\u001b[0m\u001b[0mtweet\u001b[0m\u001b[0;34m[\u001b[0m\u001b[0;34m\"likes_count\"\u001b[0m\u001b[0;34m]\u001b[0m \u001b[0;32min\u001b[0m \u001b[0ma\u001b[0m\u001b[0;34m[\u001b[0m\u001b[0;36m0\u001b[0m\u001b[0;34m]\u001b[0m\u001b[0;34m)\u001b[0m\u001b[0;34m\u001b[0m\u001b[0;34m\u001b[0m\u001b[0m\n\u001b[0m",
            "\u001b[0;31mTypeError\u001b[0m: 'in <string>' requires string as left operand, not int"
          ]
        }
      ]
    },
    {
      "cell_type": "code",
      "source": [
        "max = None\n",
        "\n",
        "for tweet in tweets:\n",
        "  if \"@sandwhoa\" in tweet['full_text']:\n",
        "    if not max:\n",
        "        max = [tweet['user'][\"screen_name\"], tweet['likes_count']]\n",
        "    elif tweet['likes_count'] > max[1]:\n",
        "        max = [tweet['user'][\"screen_name\"], tweet['likes_count']]\n",
        "\n",
        "print(max[0])\n"
      ],
      "metadata": {
        "colab": {
          "base_uri": "https://localhost:8080/"
        },
        "id": "pmuRYynbtHUs",
        "outputId": "41bc3c48-4f5d-4c2f-c02e-0b814b47d17f"
      },
      "execution_count": 55,
      "outputs": [
        {
          "output_type": "stream",
          "name": "stdout",
          "text": [
            "person3\n"
          ]
        }
      ]
    },
    {
      "cell_type": "code",
      "source": [
        "persons = { tweet['user']['screen_name']: tweet['likes_count'] for tweet in tweets if \"@sandwhoa\" in tweet['full_text']}\n",
        "sorted(persons, key=lambda item: item[1])[-1]"
      ],
      "metadata": {
        "colab": {
          "base_uri": "https://localhost:8080/",
          "height": 36
        },
        "id": "8f-e1AYPt2Vg",
        "outputId": "90811a53-4f54-4cfa-b823-b3b1a14cc704"
      },
      "execution_count": 65,
      "outputs": [
        {
          "output_type": "execute_result",
          "data": {
            "text/plain": [
              "'person3'"
            ],
            "application/vnd.google.colaboratory.intrinsic+json": {
              "type": "string"
            }
          },
          "metadata": {},
          "execution_count": 65
        }
      ]
    },
    {
      "cell_type": "markdown",
      "metadata": {
        "id": "HB0pW8ZCHIA_"
      },
      "source": [
        "## Challenge 4 (Stock Prices)\n"
      ]
    },
    {
      "cell_type": "markdown",
      "metadata": {
        "id": "NzcqJVRLFeDo"
      },
      "source": [
        "\n",
        "Given the Python variable called `stock_data` provided below, write Python code which references that variable to perform each of the following tasks...\n",
        "\n",
        "A) Print the **selected stock symbol** (e.g. `\"MSFT\"`).\n",
        "\n",
        "B) Assuming new days will be added to the time series in the future, and that the latest day will always be listed first, print the **latest available day** (e.g. `\"2030-03-16\"`). HINT: you may want to access the time series dictionary's `.items()` method to convert key-value pairs into a list for easier processing. HINT: you may want to convert the data into a new, cleaner list of daily dictionaries, for easier processing.\n",
        "\n",
        "C) Assuming new days will be added to the time series in the future, and that the latest day will always be listed first, print the stock's **latest closing price**, ideally formatted as USD with dollar sign and two decimal places (e.g. `\"$237.71\"`) HINT: it's OK to use our familiar `to_usd()` function, provided in the setup cell below.\n",
        "\n",
        "D) Assemble and print a new **list of closing prices**, with the prices listed in ASCENDING order of their date, and formatted as decimal numbers (e.g. `[232.42, 237.13, 235.75, 234.81, 237.71]` ). HINT: try using the built-in `float()` function to convert strings to decimals.\n"
      ]
    },
    {
      "cell_type": "code",
      "metadata": {
        "id": "h0e6PrQ0FdMM"
      },
      "source": [
        "# leave this cell as-is (and run it)\n",
        "stock_data = {\n",
        "    \"Meta Data\": {\n",
        "        \"1. Information\": \"Daily Prices (open, high, low, close) and Volumes\",\n",
        "        \"2. Symbol\": \"MSFT\",\n",
        "        \"3. Output Size\": \"Compact\",\n",
        "        \"4. Time Zone\": \"US/Eastern\"\n",
        "    },\n",
        "    \"Time Series (Daily)\": {\n",
        "        \"2030-03-16\": {\n",
        "            \"1. open\": \"236.2800\",\n",
        "            \"2. high\": \"240.0550\",\n",
        "            \"3. low\": \"235.9400\",\n",
        "            \"4. close\": \"237.7100\",\n",
        "            \"5. volume\": \"28092196\"\n",
        "        },\n",
        "        \"2030-03-15\": {\n",
        "            \"1. open\": \"234.9600\",\n",
        "            \"2. high\": \"235.1850\",\n",
        "            \"3. low\": \"231.8100\",\n",
        "            \"4. close\": \"234.8100\",\n",
        "            \"5. volume\": \"26042669\"\n",
        "        },\n",
        "        \"2030-03-12\": {\n",
        "            \"1. open\": \"234.0100\",\n",
        "            \"2. high\": \"235.8200\",\n",
        "            \"3. low\": \"233.2300\",\n",
        "            \"4. close\": \"235.7500\",\n",
        "            \"5. volume\": \"22653662\"\n",
        "        },\n",
        "        \"2030-03-11\": {\n",
        "            \"1. open\": \"234.9600\",\n",
        "            \"2. high\": \"239.1700\",\n",
        "            \"3. low\": \"234.3100\",\n",
        "            \"4. close\": \"237.1300\",\n",
        "            \"5. volume\": \"29907586\"\n",
        "        },\n",
        "        \"2030-03-10\": {\n",
        "            \"1. open\": \"237.0000\",\n",
        "            \"2. high\": \"237.0000\",\n",
        "            \"3. low\": \"232.0400\",\n",
        "            \"4. close\": \"232.4200\",\n",
        "            \"5. volume\": \"29746812\"\n",
        "        }\n",
        "    }\n",
        "}\n",
        "\n",
        "\n",
        "def to_usd(my_price):\n",
        "    \"\"\"\n",
        "    Converts a numeric value to usd-formatted string, for printing and display purposes.\n",
        "\n",
        "    Param: my_price (int or float) like 4000.444444\n",
        "\n",
        "    Example: to_usd(4000.444444)\n",
        "\n",
        "    Returns: $4,000.44\n",
        "    \"\"\"\n",
        "    return f\"${my_price:,.2f}\"\n",
        "\n"
      ],
      "execution_count": 23,
      "outputs": []
    },
    {
      "cell_type": "code",
      "metadata": {
        "colab": {
          "base_uri": "https://localhost:8080/"
        },
        "id": "5263dWmoG0bv",
        "outputId": "5c571610-c5d2-4308-efee-35a40ce29be7"
      },
      "source": [
        "print(\"------------------\")\n",
        "print(\"PROCESSING STOCK DATA...\")\n",
        "print(\"------------------\")\n",
        "\n",
        "# todo: write some python here\n",
        "\n",
        "\n"
      ],
      "execution_count": 21,
      "outputs": [
        {
          "output_type": "stream",
          "name": "stdout",
          "text": [
            "------------------\n",
            "PROCESSING STOCK DATA...\n",
            "------------------\n"
          ]
        }
      ]
    },
    {
      "cell_type": "code",
      "source": [
        "print(stock_data[\"Meta Data\"][\"2. Symbol\"])"
      ],
      "metadata": {
        "colab": {
          "base_uri": "https://localhost:8080/"
        },
        "id": "fApdIOlnUD8I",
        "outputId": "7272c4d6-70d1-4771-8e01-aeec15aded23"
      },
      "execution_count": 11,
      "outputs": [
        {
          "output_type": "stream",
          "name": "stdout",
          "text": [
            "MSFT\n"
          ]
        }
      ]
    },
    {
      "cell_type": "code",
      "source": [
        "al = []\n",
        "\n",
        "al = sorted(stock_data[\"Time Series (Daily)\"].keys())\n",
        "al[-1]"
      ],
      "metadata": {
        "colab": {
          "base_uri": "https://localhost:8080/",
          "height": 36
        },
        "id": "Usk2rWKfUD33",
        "outputId": "b2e90af2-0460-4a3f-9ff1-9b42b60a9bf6"
      },
      "execution_count": 15,
      "outputs": [
        {
          "output_type": "execute_result",
          "data": {
            "text/plain": [
              "'2030-03-16'"
            ],
            "application/vnd.google.colaboratory.intrinsic+json": {
              "type": "string"
            }
          },
          "metadata": {},
          "execution_count": 15
        }
      ]
    },
    {
      "cell_type": "code",
      "source": [
        "a = to_usd(float(stock_data[\"Time Series (Daily)\"][al[-1]][\"4. close\"]))\n",
        "print(a)"
      ],
      "metadata": {
        "colab": {
          "base_uri": "https://localhost:8080/"
        },
        "id": "ShIlb5A3UD0x",
        "outputId": "c827de4b-33d4-4723-ebac-1cab0141bd1d"
      },
      "execution_count": 25,
      "outputs": [
        {
          "output_type": "stream",
          "name": "stdout",
          "text": [
            "$237.71\n"
          ]
        }
      ]
    },
    {
      "cell_type": "code",
      "source": [
        "alist = []\n",
        "for i in range(0, len(stock_data[\"Time Series (Daily)\"])):\n",
        "  alist.append(round(float(stock_data[\"Time Series (Daily)\"][al[i]][\"4. close\"]),2))\n",
        "print(alist)"
      ],
      "metadata": {
        "colab": {
          "base_uri": "https://localhost:8080/"
        },
        "id": "WQN-NyfRUDxo",
        "outputId": "636fabd6-84a1-43e8-bf11-8a44fdb7841b"
      },
      "execution_count": 28,
      "outputs": [
        {
          "output_type": "stream",
          "name": "stdout",
          "text": [
            "[232.42, 237.13, 235.75, 234.81, 237.71]\n"
          ]
        }
      ]
    },
    {
      "cell_type": "code",
      "source": [],
      "metadata": {
        "id": "q14jdrcpUDja"
      },
      "execution_count": null,
      "outputs": []
    },
    {
      "cell_type": "markdown",
      "metadata": {
        "id": "VtujEF_N2LHi"
      },
      "source": [
        "## Challenge 5 (SEC Filings)\n"
      ]
    },
    {
      "cell_type": "markdown",
      "metadata": {
        "id": "_Zgc7iWV2cne"
      },
      "source": [
        "Given the Python variable called `filings_index` provided below, write Python code which references that variable to perform the following task...\n",
        "\n",
        "A) Print the file name of the \"10-K\" form filed by \"AMAZON COM INC\" (e.g. `\"edgar/data/1018724/0001018724-19-000004.txt\"`).\n",
        "\n",
        "> HINT: convert this data into a more usable data structure, perhaps using the string's [`split()` method](https://docs.python.org/3/library/stdtypes.html#str.split) to convert a string to a list.\n",
        "\n",
        "> HINT: new line characters are sometimes represented by `\"/n\"` or `\"\\n\"`.\n"
      ]
    },
    {
      "cell_type": "code",
      "metadata": {
        "id": "8NhSNDAl2LZa"
      },
      "source": [
        "# leave this cell as-is (and run it)\n",
        "\n",
        "filings_index = \"\"\"\n",
        "Description:           Master Index of EDGAR Dissemination Feed\n",
        "Last Data Received:    March 31, 2019\n",
        "Comments:              webmaster@sec.gov\n",
        "Anonymous FTP:         ftp://ftp.sec.gov/edgar/\n",
        "Cloud HTTP:            https://www.sec.gov/Archives/\n",
        "\n",
        "CIK|Company Name|Form Type|Date Filed|Filename\n",
        "--------------------------------------------------------------------------------\n",
        "1000045|NICHOLAS FINANCIAL INC|10-Q|2019-02-14|edgar/data/1000045/0001193125-19-039489.txt\n",
        "1000045|NICHOLAS FINANCIAL INC|4|2019-01-15|edgar/data/1000045/0001357521-19-000001.txt\n",
        "1000045|NICHOLAS FINANCIAL INC|4|2019-02-19|edgar/data/1000045/0001357521-19-000002.txt\n",
        "1000045|NICHOLAS FINANCIAL INC|4|2019-03-15|edgar/data/1000045/0001357521-19-000003.txt\n",
        "1000045|NICHOLAS FINANCIAL INC|8-K|2019-02-01|edgar/data/1000045/0001193125-19-024617.txt\n",
        "1000148|LEGACY CAPITAL FUND, INC.|X-17A-5|2019-02-21|edgar/data/1000148/9999999997-19-000997.txt\n",
        "1000177|NORDIC AMERICAN TANKERS Ltd|424B3|2019-03-29|edgar/data/1000177/0000919574-19-002650.txt\n",
        "1000177|NORDIC AMERICAN TANKERS Ltd|6-K|2019-02-12|edgar/data/1000177/0000919574-19-000990.txt\n",
        "1018724|AMAZON COM INC|10-K|2019-02-01|edgar/data/1018724/0001018724-19-000004.txt\n",
        "1018724|AMAZON COM INC|8-K|2019-01-31|edgar/data/1018724/0001018724-19-000002.txt\n",
        "1018724|AMAZON COM INC|8-K|2019-02-04|edgar/data/1018724/0001018724-19-000008.txt\n",
        "1018724|AMAZON COM INC|8-K|2019-02-25|edgar/data/1018724/0001193125-19-049914.txt\n",
        "101872|FIRST VARIABLE ANNUITY FUND A|24F-2NT|2019-03-25|edgar/data/101872/0000101872-19-000003.txt\n",
        "101872|FIRST VARIABLE ANNUITY FUND A|N-CEN|2019-03-11|edgar/data/101872/0001713935-19-000052.txt\n",
        "1018735|NYMOX PHARMACEUTICAL CORP|20-F|2019-03-29|edgar/data/1018735/0001640334-19-000464.txt\n",
        "1018735|NYMOX PHARMACEUTICAL CORP|4|2019-01-03|edgar/data/1018735/0001682873-19-000001.txt\n",
        "1018735|NYMOX PHARMACEUTICAL CORP|4|2019-01-03|edgar/data/1018735/0001682873-19-000002.txt\n",
        "1018825|IBM Retirement Fund|13F-HR|2019-02-14|edgar/data/1018825/0001018825-19-000001.txt\n",
        "1018840|ABERCROMBIE & FITCH CO /DE/|3|2019-02-06|edgar/data/1018840/0001225208-19-001840.txt\n",
        "1018840|ABERCROMBIE & FITCH CO /DE/|3|2019-02-06|edgar/data/1018840/0001225208-19-001841.txt\n",
        "1018840|ABERCROMBIE & FITCH CO /DE/|4|2019-02-06|edgar/data/1018840/0001225208-19-001842.txt\"\"\""
      ],
      "execution_count": 8,
      "outputs": []
    },
    {
      "cell_type": "code",
      "metadata": {
        "id": "xzrW2M6W21Sa",
        "colab": {
          "base_uri": "https://localhost:8080/"
        },
        "outputId": "6906f270-6e3c-459d-8e3b-4465a3f743a0"
      },
      "source": [
        "print(\"------------------\")\n",
        "print(\"PROCESSING SEC FILINGS...\")\n",
        "print(\"------------------\")\n",
        "\n",
        "\n",
        "# todo: write some python here\n",
        "\n",
        "\n",
        "\n"
      ],
      "execution_count": null,
      "outputs": [
        {
          "output_type": "stream",
          "name": "stdout",
          "text": [
            "------------------\n",
            "PROCESSING SEC FILINGS...\n",
            "------------------\n"
          ]
        }
      ]
    },
    {
      "cell_type": "code",
      "source": [
        "# Split the filings_index into lines\n",
        "lines = filings_index.strip().split('\\n')\n",
        "\n",
        "# Find the index of the line that contains \"AMAZON COM INC|10-K\"\n",
        "amazon_line = None\n",
        "for line in lines:\n",
        "    if \"AMAZON COM INC|10-K\" in line:\n",
        "        amazon_line = line\n",
        "        break\n",
        "\n",
        "# If the required line is found, split it using the delimiter '|'\n",
        "if amazon_line:\n",
        "    parts = amazon_line.split('|')\n",
        "    file_name = parts[-1]  # The last element contains the filename\n",
        "    print(\"File name of the '10-K' form filed by AMAZON COM INC:\", file_name)\n",
        "else:\n",
        "    print(\"No '10-K' form found for AMAZON COM INC\")\n"
      ],
      "metadata": {
        "colab": {
          "base_uri": "https://localhost:8080/"
        },
        "id": "txRM6-LNWD-Y",
        "outputId": "df26c5f6-5795-47b2-d1f0-d4b574c5e1e5"
      },
      "execution_count": 9,
      "outputs": [
        {
          "output_type": "stream",
          "name": "stdout",
          "text": [
            "File name of the '10-K' form filed by AMAZON COM INC: edgar/data/1018724/0001018724-19-000004.txt\n"
          ]
        }
      ]
    },
    {
      "cell_type": "code",
      "source": [],
      "metadata": {
        "id": "bYeIWFiVWD5S"
      },
      "execution_count": null,
      "outputs": []
    },
    {
      "cell_type": "code",
      "source": [],
      "metadata": {
        "id": "TsL8zzICWD2h"
      },
      "execution_count": null,
      "outputs": []
    },
    {
      "cell_type": "markdown",
      "metadata": {
        "id": "IPkloYZT47ap"
      },
      "source": [
        "## Challenge 6 (Weather Forecast)\n",
        "\n"
      ]
    },
    {
      "cell_type": "markdown",
      "metadata": {
        "id": "g49sx66W6PGu"
      },
      "source": [
        "\n",
        "Given the Python variable called `weather_data` provided below, write Python code which references that variable to perform the following tasks...\n",
        "\n",
        "A) For each day in the provided data (excluding night-time forecasts), print a human-readable weather forecast on that date.\n",
        "\n",
        "B) ... and display an image of the weather on that date. HINT: see example image display setup cell below, using `IPython.display` module."
      ]
    },
    {
      "cell_type": "code",
      "source": [
        "\n",
        "#\n",
        "# SETUP CELL\n",
        "# ... leave this cell as-is (and run it to see the example images)\n",
        "# ... feel free to reference / adapt this code later\n",
        "#\n",
        "\n",
        "from IPython.display import Image, display\n",
        "\n",
        "print(\"-----------\")\n",
        "print(\"EXAMPLE IMAGES:\")\n",
        "\n",
        "print(\"-----------\")\n",
        "image_url = \"https://upload.wikimedia.org/wikipedia/commons/thumb/9/9f/Georgetown_Hoyas_logo.svg/64px-Georgetown_Hoyas_logo.svg.png\"\n",
        "#image_url = \"https://www.clipartmax.com/png/middle/285-2854649_nyu-logo-new-york-university-logo.png\"\n",
        "display(Image(url=image_url, height=100))\n",
        "\n",
        "print(\"-----------\")\n",
        "display(Image(url=\"https://www.python.org/static/community_logos/python-powered-w-200x80.png\"))\n",
        "\n",
        "print(\"-----------\")\n",
        "display(Image(url=\"https://api.weather.gov/icons/land/day/tsra_sct,60?size=medium\", height=100))"
      ],
      "metadata": {
        "colab": {
          "base_uri": "https://localhost:8080/",
          "height": 397
        },
        "id": "l1f_e3niyVV9",
        "outputId": "ff4aec8a-4f65-4e10-fa90-9724f06096d6"
      },
      "execution_count": 30,
      "outputs": [
        {
          "output_type": "stream",
          "name": "stdout",
          "text": [
            "-----------\n",
            "EXAMPLE IMAGES:\n",
            "-----------\n"
          ]
        },
        {
          "output_type": "display_data",
          "data": {
            "text/html": [
              "<img src=\"https://upload.wikimedia.org/wikipedia/commons/thumb/9/9f/Georgetown_Hoyas_logo.svg/64px-Georgetown_Hoyas_logo.svg.png\" height=\"100\"/>"
            ],
            "text/plain": [
              "<IPython.core.display.Image object>"
            ]
          },
          "metadata": {}
        },
        {
          "output_type": "stream",
          "name": "stdout",
          "text": [
            "-----------\n"
          ]
        },
        {
          "output_type": "display_data",
          "data": {
            "text/html": [
              "<img src=\"https://www.python.org/static/community_logos/python-powered-w-200x80.png\"/>"
            ],
            "text/plain": [
              "<IPython.core.display.Image object>"
            ]
          },
          "metadata": {}
        },
        {
          "output_type": "stream",
          "name": "stdout",
          "text": [
            "-----------\n"
          ]
        },
        {
          "output_type": "display_data",
          "data": {
            "text/html": [
              "<img src=\"https://api.weather.gov/icons/land/day/tsra_sct,60?size=medium\" height=\"100\"/>"
            ],
            "text/plain": [
              "<IPython.core.display.Image object>"
            ]
          },
          "metadata": {}
        }
      ]
    },
    {
      "cell_type": "code",
      "metadata": {
        "id": "29TZ3ctX45tp"
      },
      "source": [
        "# leave this cell as-is (and run it)\n",
        "\n",
        "weather_data = {\n",
        "    \"type\": \"Feature\",\n",
        "    \"geometry\": {\n",
        "        \"type\": \"Polygon\",\n",
        "        \"coordinates\": [\n",
        "            [\n",
        "                [-77.036996200000004, 38.900789000000003],\n",
        "                [-77.040754800000002, 38.878836500000006],\n",
        "                [-77.012551900000005,  38.875908600000002],\n",
        "                [-77.008787600000005, 38.897860800000004],\n",
        "                [-77.036996200000004, 38.900789000000003]\n",
        "            ]\n",
        "        ]\n",
        "    },\n",
        "    \"properties\": {\n",
        "        \"updated\": \"2021-06-08T17:34:46+00:00\",\n",
        "        \"units\": \"us\",\n",
        "        \"forecastGenerator\": \"BaselineForecastGenerator\",\n",
        "        \"generatedAt\": \"2021-06-08T18:32:38+00:00\",\n",
        "        \"updateTime\": \"2021-06-08T17:34:46+00:00\",\n",
        "        \"validTimes\": \"2021-06-08T11:00:00+00:00/P7DT14H\",\n",
        "        \"elevation\": {\n",
        "            \"value\": 6.0960000000000001,\n",
        "            \"unitCode\": \"unit:m\"\n",
        "        },\n",
        "        \"periods\": [\n",
        "            {\n",
        "                \"number\": 1,\n",
        "                \"name\": \"This Afternoon\",\n",
        "                \"startTime\": \"2021-06-08T14:00:00-04:00\",\n",
        "                \"endTime\": \"2021-06-08T18:00:00-04:00\",\n",
        "                \"isDaytime\": True,\n",
        "                \"temperature\": 91,\n",
        "                \"temperatureUnit\": \"F\",\n",
        "                \"temperatureTrend\": None,\n",
        "                \"windSpeed\": \"7 mph\",\n",
        "                \"windDirection\": \"W\",\n",
        "                \"icon\": \"https://api.weather.gov/icons/land/day/tsra_sct,60?size=medium\",\n",
        "                \"shortForecast\": \"Showers And Thunderstorms Likely\",\n",
        "                \"detailedForecast\": \"Showers and thunderstorms likely. Partly sunny, with a high near 91. West wind around 7 mph. Chance of precipitation is 60%. New rainfall amounts less than a tenth of an inch possible.\"\n",
        "            },\n",
        "            {\n",
        "                \"number\": 2,\n",
        "                \"name\": \"Tonight\",\n",
        "                \"startTime\": \"2021-06-08T18:00:00-04:00\",\n",
        "                \"endTime\": \"2021-06-09T06:00:00-04:00\",\n",
        "                \"isDaytime\": False,\n",
        "                \"temperature\": 73,\n",
        "                \"temperatureUnit\": \"F\",\n",
        "                \"temperatureTrend\": None,\n",
        "                \"windSpeed\": \"1 to 6 mph\",\n",
        "                \"windDirection\": \"SW\",\n",
        "                \"icon\": \"https://api.weather.gov/icons/land/night/tsra_sct,60/tsra_sct,20?size=medium\",\n",
        "                \"shortForecast\": \"Showers And Thunderstorms Likely then Chance Showers And Thunderstorms\",\n",
        "                \"detailedForecast\": \"Showers and thunderstorms likely before 8pm, then a chance of showers and thunderstorms between 8pm and 2am. Mostly cloudy, with a low around 73. Southwest wind 1 to 6 mph. Chance of precipitation is 60%. New rainfall amounts between a tenth and quarter of an inch possible.\"\n",
        "            },\n",
        "            {\n",
        "                \"number\": 3,\n",
        "                \"name\": \"Wednesday\",\n",
        "                \"startTime\": \"2021-06-09T06:00:00-04:00\",\n",
        "                \"endTime\": \"2021-06-09T18:00:00-04:00\",\n",
        "                \"isDaytime\": True,\n",
        "                \"temperature\": 90,\n",
        "                \"temperatureUnit\": \"F\",\n",
        "                \"temperatureTrend\": None,\n",
        "                \"windSpeed\": \"1 to 6 mph\",\n",
        "                \"windDirection\": \"W\",\n",
        "                \"icon\": \"https://api.weather.gov/icons/land/day/tsra_sct,30/tsra_sct,60?size=medium\",\n",
        "                \"shortForecast\": \"Showers And Thunderstorms Likely\",\n",
        "                \"detailedForecast\": \"A slight chance of rain showers between 8am and 11am, then showers and thunderstorms likely. Mostly cloudy, with a high near 90. West wind 1 to 6 mph. Chance of precipitation is 60%. New rainfall amounts between a tenth and quarter of an inch possible.\"\n",
        "            },\n",
        "            {\n",
        "                \"number\": 4,\n",
        "                \"name\": \"Wednesday Night\",\n",
        "                \"startTime\": \"2021-06-09T18:00:00-04:00\",\n",
        "                \"endTime\": \"2021-06-10T06:00:00-04:00\",\n",
        "                \"isDaytime\": False,\n",
        "                \"temperature\": 71,\n",
        "                \"temperatureUnit\": \"F\",\n",
        "                \"temperatureTrend\": None,\n",
        "                \"windSpeed\": \"1 to 6 mph\",\n",
        "                \"windDirection\": \"W\",\n",
        "                \"icon\": \"https://api.weather.gov/icons/land/night/tsra_sct,60/tsra_sct,30?size=medium\",\n",
        "                \"shortForecast\": \"Showers And Thunderstorms Likely\",\n",
        "                \"detailedForecast\": \"Showers and thunderstorms likely before 2am, then a slight chance of showers and thunderstorms. Mostly cloudy, with a low around 71. West wind 1 to 6 mph. Chance of precipitation is 60%. New rainfall amounts between a tenth and quarter of an inch possible.\"\n",
        "            },\n",
        "            {\n",
        "                \"number\": 5,\n",
        "                \"name\": \"Thursday\",\n",
        "                \"startTime\": \"2021-06-10T06:00:00-04:00\",\n",
        "                \"endTime\": \"2021-06-10T18:00:00-04:00\",\n",
        "                \"isDaytime\": True,\n",
        "                \"temperature\": 89,\n",
        "                \"temperatureUnit\": \"F\",\n",
        "                \"temperatureTrend\": None,\n",
        "                \"windSpeed\": \"1 to 6 mph\",\n",
        "                \"windDirection\": \"NE\",\n",
        "                \"icon\": \"https://api.weather.gov/icons/land/day/tsra_hi,60/tsra_hi,80?size=medium\",\n",
        "                \"shortForecast\": \"Showers And Thunderstorms\",\n",
        "                \"detailedForecast\": \"Showers and thunderstorms. Partly sunny, with a high near 89. Northeast wind 1 to 6 mph. Chance of precipitation is 80%.\"\n",
        "            },\n",
        "            {\n",
        "                \"number\": 6,\n",
        "                \"name\": \"Thursday Night\",\n",
        "                \"startTime\": \"2021-06-10T18:00:00-04:00\",\n",
        "                \"endTime\": \"2021-06-11T06:00:00-04:00\",\n",
        "                \"isDaytime\": False,\n",
        "                \"temperature\": 70,\n",
        "                \"temperatureUnit\": \"F\",\n",
        "                \"temperatureTrend\": None,\n",
        "                \"windSpeed\": \"2 to 6 mph\",\n",
        "                \"windDirection\": \"E\",\n",
        "                \"icon\": \"https://api.weather.gov/icons/land/night/tsra,80?size=medium\",\n",
        "                \"shortForecast\": \"Showers And Thunderstorms\",\n",
        "                \"detailedForecast\": \"Showers and thunderstorms. Mostly cloudy, with a low around 70. Chance of precipitation is 80%.\"\n",
        "            },\n",
        "            {\n",
        "                \"number\": 7,\n",
        "                \"name\": \"Friday\",\n",
        "                \"startTime\": \"2021-06-11T06:00:00-04:00\",\n",
        "                \"endTime\": \"2021-06-11T18:00:00-04:00\",\n",
        "                \"isDaytime\": True,\n",
        "                \"temperature\": 76,\n",
        "                \"temperatureUnit\": \"F\",\n",
        "                \"temperatureTrend\": None,\n",
        "                \"windSpeed\": \"2 to 8 mph\",\n",
        "                \"windDirection\": \"E\",\n",
        "                \"icon\": \"https://api.weather.gov/icons/land/day/tsra,80?size=medium\",\n",
        "                \"shortForecast\": \"Showers And Thunderstorms\",\n",
        "                \"detailedForecast\": \"Showers and thunderstorms. Mostly cloudy, with a high near 76. Chance of precipitation is 80%.\"\n",
        "            },\n",
        "            {\n",
        "                \"number\": 8,\n",
        "                \"name\": \"Friday Night\",\n",
        "                \"startTime\": \"2021-06-11T18:00:00-04:00\",\n",
        "                \"endTime\": \"2021-06-12T06:00:00-04:00\",\n",
        "                \"isDaytime\": False,\n",
        "                \"temperature\": 64,\n",
        "                \"temperatureUnit\": \"F\",\n",
        "                \"temperatureTrend\": None,\n",
        "                \"windSpeed\": \"7 mph\",\n",
        "                \"windDirection\": \"NE\",\n",
        "                \"icon\": \"https://api.weather.gov/icons/land/night/tsra,80/tsra,70?size=medium\",\n",
        "                \"shortForecast\": \"Showers And Thunderstorms\",\n",
        "                \"detailedForecast\": \"Showers and thunderstorms. Mostly cloudy, with a low around 64. Chance of precipitation is 80%.\"\n",
        "            },\n",
        "            {\n",
        "                \"number\": 9,\n",
        "                \"name\": \"Saturday\",\n",
        "                \"startTime\": \"2021-06-12T06:00:00-04:00\",\n",
        "                \"endTime\": \"2021-06-12T18:00:00-04:00\",\n",
        "                \"isDaytime\": True,\n",
        "                \"temperature\": 79,\n",
        "                \"temperatureUnit\": \"F\",\n",
        "                \"temperatureTrend\": None,\n",
        "                \"windSpeed\": \"7 mph\",\n",
        "                \"windDirection\": \"NE\",\n",
        "                \"icon\": \"https://api.weather.gov/icons/land/day/rain_showers,50/tsra_sct,50?size=medium\",\n",
        "                \"shortForecast\": \"Chance Rain Showers\",\n",
        "                \"detailedForecast\": \"A chance of rain showers before 2pm, then a chance of showers and thunderstorms. Partly sunny, with a high near 79. Chance of precipitation is 50%.\"\n",
        "            },\n",
        "            {\n",
        "                \"number\": 10,\n",
        "                \"name\": \"Saturday Night\",\n",
        "                \"startTime\": \"2021-06-12T18:00:00-04:00\",\n",
        "                \"endTime\": \"2021-06-13T06:00:00-04:00\",\n",
        "                \"isDaytime\": False,\n",
        "                \"temperature\": 63,\n",
        "                \"temperatureUnit\": \"F\",\n",
        "                \"temperatureTrend\": None,\n",
        "                \"windSpeed\": \"2 to 7 mph\",\n",
        "                \"windDirection\": \"E\",\n",
        "                \"icon\": \"https://api.weather.gov/icons/land/night/tsra_hi,40/tsra_hi,30?size=medium\",\n",
        "                \"shortForecast\": \"Chance Showers And Thunderstorms\",\n",
        "                \"detailedForecast\": \"A chance of showers and thunderstorms. Partly cloudy, with a low around 63. Chance of precipitation is 40%.\"\n",
        "            },\n",
        "            {\n",
        "                \"number\": 11,\n",
        "                \"name\": \"Sunday\",\n",
        "                \"startTime\": \"2021-06-13T06:00:00-04:00\",\n",
        "                \"endTime\": \"2021-06-13T18:00:00-04:00\",\n",
        "                \"isDaytime\": True,\n",
        "                \"temperature\": 82,\n",
        "                \"temperatureUnit\": \"F\",\n",
        "                \"temperatureTrend\": None,\n",
        "                \"windSpeed\": \"2 to 8 mph\",\n",
        "                \"windDirection\": \"SE\",\n",
        "                \"icon\": \"https://api.weather.gov/icons/land/day/rain_showers,30/tsra_hi,30?size=medium\",\n",
        "                \"shortForecast\": \"Chance Rain Showers\",\n",
        "                \"detailedForecast\": \"A chance of rain showers before 2pm, then a chance of showers and thunderstorms. Mostly sunny, with a high near 82. Chance of precipitation is 30%.\"\n",
        "            },\n",
        "            {\n",
        "                \"number\": 12,\n",
        "                \"name\": \"Sunday Night\",\n",
        "                \"startTime\": \"2021-06-13T18:00:00-04:00\",\n",
        "                \"endTime\": \"2021-06-14T06:00:00-04:00\",\n",
        "                \"isDaytime\": False,\n",
        "                \"temperature\": 64,\n",
        "                \"temperatureUnit\": \"F\",\n",
        "                \"temperatureTrend\": None,\n",
        "                \"windSpeed\": \"2 to 8 mph\",\n",
        "                \"windDirection\": \"S\",\n",
        "                \"icon\": \"https://api.weather.gov/icons/land/night/tsra_hi,30/tsra_hi?size=medium\",\n",
        "                \"shortForecast\": \"Chance Showers And Thunderstorms then Slight Chance Showers And Thunderstorms\",\n",
        "                \"detailedForecast\": \"A chance of showers and thunderstorms before 8pm, then a slight chance of showers and thunderstorms. Partly cloudy, with a low around 64. Chance of precipitation is 30%.\"\n",
        "            },\n",
        "            {\n",
        "                \"number\": 13,\n",
        "                \"name\": \"Monday\",\n",
        "                \"startTime\": \"2021-06-14T06:00:00-04:00\",\n",
        "                \"endTime\": \"2021-06-14T18:00:00-04:00\",\n",
        "                \"isDaytime\": True,\n",
        "                \"temperature\": 84,\n",
        "                \"temperatureUnit\": \"F\",\n",
        "                \"temperatureTrend\": None,\n",
        "                \"windSpeed\": \"2 to 6 mph\",\n",
        "                \"windDirection\": \"W\",\n",
        "                \"icon\": \"https://api.weather.gov/icons/land/day/rain_showers/tsra_hi?size=medium\",\n",
        "                \"shortForecast\": \"Slight Chance Rain Showers then Slight Chance Showers And Thunderstorms\",\n",
        "                \"detailedForecast\": \"A slight chance of rain showers before 2pm, then a slight chance of showers and thunderstorms. Mostly sunny, with a high near 84.\"\n",
        "            },\n",
        "            {\n",
        "                \"number\": 14,\n",
        "                \"name\": \"Monday Night\",\n",
        "                \"startTime\": \"2021-06-14T18:00:00-04:00\",\n",
        "                \"endTime\": \"2021-06-15T06:00:00-04:00\",\n",
        "                \"isDaytime\": False,\n",
        "                \"temperature\": 64,\n",
        "                \"temperatureUnit\": \"F\",\n",
        "                \"temperatureTrend\": None,\n",
        "                \"windSpeed\": \"2 to 6 mph\",\n",
        "                \"windDirection\": \"W\",\n",
        "                \"icon\": \"https://api.weather.gov/icons/land/night/tsra_hi?size=medium\",\n",
        "                \"shortForecast\": \"Chance Showers And Thunderstorms\",\n",
        "                \"detailedForecast\": \"A chance of showers and thunderstorms. Partly cloudy, with a low around 64.\"\n",
        "            }\n",
        "        ]\n",
        "    }\n",
        "}\n",
        "\n",
        "\n"
      ],
      "execution_count": 29,
      "outputs": []
    },
    {
      "cell_type": "code",
      "metadata": {
        "colab": {
          "base_uri": "https://localhost:8080/"
        },
        "id": "eaVQcTF36sTV",
        "outputId": "a268ec58-ecbe-48b2-e378-bce39531d713"
      },
      "source": [
        "print(\"------------------\")\n",
        "print(\"PROCESSING WEATHER DATA...\")\n",
        "print(\"------------------\")\n",
        "\n",
        "# todo: write some python here\n",
        "\n"
      ],
      "execution_count": 31,
      "outputs": [
        {
          "output_type": "stream",
          "name": "stdout",
          "text": [
            "------------------\n",
            "PROCESSING WEATHER DATA...\n",
            "------------------\n"
          ]
        }
      ]
    },
    {
      "cell_type": "code",
      "source": [
        "for i in range(0, len(weather_data[\"properties\"][\"periods\"])):\n",
        "  print(weather_data[\"properties\"][\"periods\"][i][\"detailedForecast\"])"
      ],
      "metadata": {
        "colab": {
          "base_uri": "https://localhost:8080/"
        },
        "id": "3IeD3X24oOue",
        "outputId": "51ce5036-6f72-4291-845e-df877e838a3f"
      },
      "execution_count": 39,
      "outputs": [
        {
          "output_type": "stream",
          "name": "stdout",
          "text": [
            "Showers and thunderstorms likely. Partly sunny, with a high near 91. West wind around 7 mph. Chance of precipitation is 60%. New rainfall amounts less than a tenth of an inch possible.\n",
            "Showers and thunderstorms likely before 8pm, then a chance of showers and thunderstorms between 8pm and 2am. Mostly cloudy, with a low around 73. Southwest wind 1 to 6 mph. Chance of precipitation is 60%. New rainfall amounts between a tenth and quarter of an inch possible.\n",
            "A slight chance of rain showers between 8am and 11am, then showers and thunderstorms likely. Mostly cloudy, with a high near 90. West wind 1 to 6 mph. Chance of precipitation is 60%. New rainfall amounts between a tenth and quarter of an inch possible.\n",
            "Showers and thunderstorms likely before 2am, then a slight chance of showers and thunderstorms. Mostly cloudy, with a low around 71. West wind 1 to 6 mph. Chance of precipitation is 60%. New rainfall amounts between a tenth and quarter of an inch possible.\n",
            "Showers and thunderstorms. Partly sunny, with a high near 89. Northeast wind 1 to 6 mph. Chance of precipitation is 80%.\n",
            "Showers and thunderstorms. Mostly cloudy, with a low around 70. Chance of precipitation is 80%.\n",
            "Showers and thunderstorms. Mostly cloudy, with a high near 76. Chance of precipitation is 80%.\n",
            "Showers and thunderstorms. Mostly cloudy, with a low around 64. Chance of precipitation is 80%.\n",
            "A chance of rain showers before 2pm, then a chance of showers and thunderstorms. Partly sunny, with a high near 79. Chance of precipitation is 50%.\n",
            "A chance of showers and thunderstorms. Partly cloudy, with a low around 63. Chance of precipitation is 40%.\n",
            "A chance of rain showers before 2pm, then a chance of showers and thunderstorms. Mostly sunny, with a high near 82. Chance of precipitation is 30%.\n",
            "A chance of showers and thunderstorms before 8pm, then a slight chance of showers and thunderstorms. Partly cloudy, with a low around 64. Chance of precipitation is 30%.\n",
            "A slight chance of rain showers before 2pm, then a slight chance of showers and thunderstorms. Mostly sunny, with a high near 84.\n",
            "A chance of showers and thunderstorms. Partly cloudy, with a low around 64.\n"
          ]
        }
      ]
    },
    {
      "cell_type": "code",
      "source": [
        "from IPython.display import Image, display\n",
        "\n",
        "for i in range(0, len(weather_data[\"properties\"][\"periods\"])):\n",
        "  display(Image(url=weather_data[\"properties\"][\"periods\"][i][\"icon\"], height=100))\n",
        "  print(weather_data[\"properties\"][\"periods\"][i][\"detailedForecast\"])"
      ],
      "metadata": {
        "colab": {
          "base_uri": "https://localhost:8080/",
          "height": 1000
        },
        "id": "garIXaloS3PD",
        "outputId": "40465737-a093-41aa-bb5c-f37a2751b666"
      },
      "execution_count": 48,
      "outputs": [
        {
          "output_type": "display_data",
          "data": {
            "text/html": [
              "<img src=\"https://api.weather.gov/icons/land/day/tsra_sct,60?size=medium\" height=\"100\"/>"
            ],
            "text/plain": [
              "<IPython.core.display.Image object>"
            ]
          },
          "metadata": {}
        },
        {
          "output_type": "stream",
          "name": "stdout",
          "text": [
            "Showers and thunderstorms likely. Partly sunny, with a high near 91. West wind around 7 mph. Chance of precipitation is 60%. New rainfall amounts less than a tenth of an inch possible.\n"
          ]
        },
        {
          "output_type": "display_data",
          "data": {
            "text/html": [
              "<img src=\"https://api.weather.gov/icons/land/night/tsra_sct,60/tsra_sct,20?size=medium\" height=\"100\"/>"
            ],
            "text/plain": [
              "<IPython.core.display.Image object>"
            ]
          },
          "metadata": {}
        },
        {
          "output_type": "stream",
          "name": "stdout",
          "text": [
            "Showers and thunderstorms likely before 8pm, then a chance of showers and thunderstorms between 8pm and 2am. Mostly cloudy, with a low around 73. Southwest wind 1 to 6 mph. Chance of precipitation is 60%. New rainfall amounts between a tenth and quarter of an inch possible.\n"
          ]
        },
        {
          "output_type": "display_data",
          "data": {
            "text/html": [
              "<img src=\"https://api.weather.gov/icons/land/day/tsra_sct,30/tsra_sct,60?size=medium\" height=\"100\"/>"
            ],
            "text/plain": [
              "<IPython.core.display.Image object>"
            ]
          },
          "metadata": {}
        },
        {
          "output_type": "stream",
          "name": "stdout",
          "text": [
            "A slight chance of rain showers between 8am and 11am, then showers and thunderstorms likely. Mostly cloudy, with a high near 90. West wind 1 to 6 mph. Chance of precipitation is 60%. New rainfall amounts between a tenth and quarter of an inch possible.\n"
          ]
        },
        {
          "output_type": "display_data",
          "data": {
            "text/html": [
              "<img src=\"https://api.weather.gov/icons/land/night/tsra_sct,60/tsra_sct,30?size=medium\" height=\"100\"/>"
            ],
            "text/plain": [
              "<IPython.core.display.Image object>"
            ]
          },
          "metadata": {}
        },
        {
          "output_type": "stream",
          "name": "stdout",
          "text": [
            "Showers and thunderstorms likely before 2am, then a slight chance of showers and thunderstorms. Mostly cloudy, with a low around 71. West wind 1 to 6 mph. Chance of precipitation is 60%. New rainfall amounts between a tenth and quarter of an inch possible.\n"
          ]
        },
        {
          "output_type": "display_data",
          "data": {
            "text/html": [
              "<img src=\"https://api.weather.gov/icons/land/day/tsra_hi,60/tsra_hi,80?size=medium\" height=\"100\"/>"
            ],
            "text/plain": [
              "<IPython.core.display.Image object>"
            ]
          },
          "metadata": {}
        },
        {
          "output_type": "stream",
          "name": "stdout",
          "text": [
            "Showers and thunderstorms. Partly sunny, with a high near 89. Northeast wind 1 to 6 mph. Chance of precipitation is 80%.\n"
          ]
        },
        {
          "output_type": "display_data",
          "data": {
            "text/html": [
              "<img src=\"https://api.weather.gov/icons/land/night/tsra,80?size=medium\" height=\"100\"/>"
            ],
            "text/plain": [
              "<IPython.core.display.Image object>"
            ]
          },
          "metadata": {}
        },
        {
          "output_type": "stream",
          "name": "stdout",
          "text": [
            "Showers and thunderstorms. Mostly cloudy, with a low around 70. Chance of precipitation is 80%.\n"
          ]
        },
        {
          "output_type": "display_data",
          "data": {
            "text/html": [
              "<img src=\"https://api.weather.gov/icons/land/day/tsra,80?size=medium\" height=\"100\"/>"
            ],
            "text/plain": [
              "<IPython.core.display.Image object>"
            ]
          },
          "metadata": {}
        },
        {
          "output_type": "stream",
          "name": "stdout",
          "text": [
            "Showers and thunderstorms. Mostly cloudy, with a high near 76. Chance of precipitation is 80%.\n"
          ]
        },
        {
          "output_type": "display_data",
          "data": {
            "text/html": [
              "<img src=\"https://api.weather.gov/icons/land/night/tsra,80/tsra,70?size=medium\" height=\"100\"/>"
            ],
            "text/plain": [
              "<IPython.core.display.Image object>"
            ]
          },
          "metadata": {}
        },
        {
          "output_type": "stream",
          "name": "stdout",
          "text": [
            "Showers and thunderstorms. Mostly cloudy, with a low around 64. Chance of precipitation is 80%.\n"
          ]
        },
        {
          "output_type": "display_data",
          "data": {
            "text/html": [
              "<img src=\"https://api.weather.gov/icons/land/day/rain_showers,50/tsra_sct,50?size=medium\" height=\"100\"/>"
            ],
            "text/plain": [
              "<IPython.core.display.Image object>"
            ]
          },
          "metadata": {}
        },
        {
          "output_type": "stream",
          "name": "stdout",
          "text": [
            "A chance of rain showers before 2pm, then a chance of showers and thunderstorms. Partly sunny, with a high near 79. Chance of precipitation is 50%.\n"
          ]
        },
        {
          "output_type": "display_data",
          "data": {
            "text/html": [
              "<img src=\"https://api.weather.gov/icons/land/night/tsra_hi,40/tsra_hi,30?size=medium\" height=\"100\"/>"
            ],
            "text/plain": [
              "<IPython.core.display.Image object>"
            ]
          },
          "metadata": {}
        },
        {
          "output_type": "stream",
          "name": "stdout",
          "text": [
            "A chance of showers and thunderstorms. Partly cloudy, with a low around 63. Chance of precipitation is 40%.\n"
          ]
        },
        {
          "output_type": "display_data",
          "data": {
            "text/html": [
              "<img src=\"https://api.weather.gov/icons/land/day/rain_showers,30/tsra_hi,30?size=medium\" height=\"100\"/>"
            ],
            "text/plain": [
              "<IPython.core.display.Image object>"
            ]
          },
          "metadata": {}
        },
        {
          "output_type": "stream",
          "name": "stdout",
          "text": [
            "A chance of rain showers before 2pm, then a chance of showers and thunderstorms. Mostly sunny, with a high near 82. Chance of precipitation is 30%.\n"
          ]
        },
        {
          "output_type": "display_data",
          "data": {
            "text/html": [
              "<img src=\"https://api.weather.gov/icons/land/night/tsra_hi,30/tsra_hi?size=medium\" height=\"100\"/>"
            ],
            "text/plain": [
              "<IPython.core.display.Image object>"
            ]
          },
          "metadata": {}
        },
        {
          "output_type": "stream",
          "name": "stdout",
          "text": [
            "A chance of showers and thunderstorms before 8pm, then a slight chance of showers and thunderstorms. Partly cloudy, with a low around 64. Chance of precipitation is 30%.\n"
          ]
        },
        {
          "output_type": "display_data",
          "data": {
            "text/html": [
              "<img src=\"https://api.weather.gov/icons/land/day/rain_showers/tsra_hi?size=medium\" height=\"100\"/>"
            ],
            "text/plain": [
              "<IPython.core.display.Image object>"
            ]
          },
          "metadata": {}
        },
        {
          "output_type": "stream",
          "name": "stdout",
          "text": [
            "A slight chance of rain showers before 2pm, then a slight chance of showers and thunderstorms. Mostly sunny, with a high near 84.\n"
          ]
        },
        {
          "output_type": "display_data",
          "data": {
            "text/html": [
              "<img src=\"https://api.weather.gov/icons/land/night/tsra_hi?size=medium\" height=\"100\"/>"
            ],
            "text/plain": [
              "<IPython.core.display.Image object>"
            ]
          },
          "metadata": {}
        },
        {
          "output_type": "stream",
          "name": "stdout",
          "text": [
            "A chance of showers and thunderstorms. Partly cloudy, with a low around 64.\n"
          ]
        }
      ]
    },
    {
      "cell_type": "code",
      "source": [
        "import IPython\n",
        "help(IPython.display.display)"
      ],
      "metadata": {
        "colab": {
          "base_uri": "https://localhost:8080/"
        },
        "id": "VDVjsmAUTk5z",
        "outputId": "66bb8586-58e4-4681-fc24-0f8cc74578ae"
      },
      "execution_count": 46,
      "outputs": [
        {
          "output_type": "stream",
          "name": "stdout",
          "text": [
            "Help on function display in module IPython.core.display:\n",
            "\n",
            "display(*objs, include=None, exclude=None, metadata=None, transient=None, display_id=None, **kwargs)\n",
            "    Display a Python object in all frontends.\n",
            "    \n",
            "    By default all representations will be computed and sent to the frontends.\n",
            "    Frontends can decide which representation is used and how.\n",
            "    \n",
            "    In terminal IPython this will be similar to using :func:`print`, for use in richer\n",
            "    frontends see Jupyter notebook examples with rich display logic.\n",
            "    \n",
            "    Parameters\n",
            "    ----------\n",
            "    *objs : object\n",
            "        The Python objects to display.\n",
            "    raw : bool, optional\n",
            "        Are the objects to be displayed already mimetype-keyed dicts of raw display data,\n",
            "        or Python objects that need to be formatted before display? [default: False]\n",
            "    include : list, tuple or set, optional\n",
            "        A list of format type strings (MIME types) to include in the\n",
            "        format data dict. If this is set *only* the format types included\n",
            "        in this list will be computed.\n",
            "    exclude : list, tuple or set, optional\n",
            "        A list of format type strings (MIME types) to exclude in the format\n",
            "        data dict. If this is set all format types will be computed,\n",
            "        except for those included in this argument.\n",
            "    metadata : dict, optional\n",
            "        A dictionary of metadata to associate with the output.\n",
            "        mime-type keys in this dictionary will be associated with the individual\n",
            "        representation formats, if they exist.\n",
            "    transient : dict, optional\n",
            "        A dictionary of transient data to associate with the output.\n",
            "        Data in this dict should not be persisted to files (e.g. notebooks).\n",
            "    display_id : str, bool optional\n",
            "        Set an id for the display.\n",
            "        This id can be used for updating this display area later via update_display.\n",
            "        If given as `True`, generate a new `display_id`\n",
            "    clear : bool, optional\n",
            "        Should the output area be cleared before displaying anything? If True,\n",
            "        this will wait for additional output before clearing. [default: False]\n",
            "    kwargs: additional keyword-args, optional\n",
            "        Additional keyword-arguments are passed through to the display publisher.\n",
            "    \n",
            "    Returns\n",
            "    -------\n",
            "    \n",
            "    handle: DisplayHandle\n",
            "        Returns a handle on updatable displays for use with :func:`update_display`,\n",
            "        if `display_id` is given. Returns :any:`None` if no `display_id` is given\n",
            "        (default).\n",
            "    \n",
            "    Examples\n",
            "    --------\n",
            "    \n",
            "    >>> class Json(object):\n",
            "    ...     def __init__(self, json):\n",
            "    ...         self.json = json\n",
            "    ...     def _repr_pretty_(self, pp, cycle):\n",
            "    ...         import json\n",
            "    ...         pp.text(json.dumps(self.json, indent=2))\n",
            "    ...     def __repr__(self):\n",
            "    ...         return str(self.json)\n",
            "    ...\n",
            "    \n",
            "    >>> d = Json({1:2, 3: {4:5}})\n",
            "    \n",
            "    >>> print(d)\n",
            "    {1: 2, 3: {4: 5}}\n",
            "    \n",
            "    >>> display(d)\n",
            "    {\n",
            "      \"1\": 2,\n",
            "      \"3\": {\n",
            "        \"4\": 5\n",
            "      }\n",
            "    }\n",
            "    \n",
            "    >>> def int_formatter(integer, pp, cycle):\n",
            "    ...     pp.text('I'*integer)\n",
            "    \n",
            "    >>> plain = get_ipython().display_formatter.formatters['text/plain']\n",
            "    >>> plain.for_type(int, int_formatter)\n",
            "    <function _repr_pprint at 0x...>\n",
            "    >>> display(7-5)\n",
            "    II\n",
            "    \n",
            "    >>> del plain.type_printers[int]\n",
            "    >>> display(7-5)\n",
            "    2\n",
            "    \n",
            "    See Also\n",
            "    --------\n",
            "    \n",
            "    :func:`update_display`\n",
            "    \n",
            "    Notes\n",
            "    -----\n",
            "    \n",
            "    In Python, objects can declare their textual representation using the\n",
            "    `__repr__` method. IPython expands on this idea and allows objects to declare\n",
            "    other, rich representations including:\n",
            "    \n",
            "      - HTML\n",
            "      - JSON\n",
            "      - PNG\n",
            "      - JPEG\n",
            "      - SVG\n",
            "      - LaTeX\n",
            "    \n",
            "    A single object can declare some or all of these representations; all are\n",
            "    handled by IPython's display system.\n",
            "    \n",
            "    The main idea of the first approach is that you have to implement special\n",
            "    display methods when you define your class, one for each representation you\n",
            "    want to use. Here is a list of the names of the special methods and the\n",
            "    values they must return:\n",
            "    \n",
            "      - `_repr_html_`: return raw HTML as a string, or a tuple (see below).\n",
            "      - `_repr_json_`: return a JSONable dict, or a tuple (see below).\n",
            "      - `_repr_jpeg_`: return raw JPEG data, or a tuple (see below).\n",
            "      - `_repr_png_`: return raw PNG data, or a tuple (see below).\n",
            "      - `_repr_svg_`: return raw SVG data as a string, or a tuple (see below).\n",
            "      - `_repr_latex_`: return LaTeX commands in a string surrounded by \"$\",\n",
            "                        or a tuple (see below).\n",
            "      - `_repr_mimebundle_`: return a full mimebundle containing the mapping\n",
            "                             from all mimetypes to data.\n",
            "                             Use this for any mime-type not listed above.\n",
            "    \n",
            "    The above functions may also return the object's metadata alonside the\n",
            "    data.  If the metadata is available, the functions will return a tuple\n",
            "    containing the data and metadata, in that order.  If there is no metadata\n",
            "    available, then the functions will return the data only.\n",
            "    \n",
            "    When you are directly writing your own classes, you can adapt them for\n",
            "    display in IPython by following the above approach. But in practice, you\n",
            "    often need to work with existing classes that you can't easily modify.\n",
            "    \n",
            "    You can refer to the documentation on integrating with the display system in\n",
            "    order to register custom formatters for already existing types\n",
            "    (:ref:`integrating_rich_display`).\n",
            "    \n",
            "    .. versionadded:: 5.4 display available without import\n",
            "    .. versionadded:: 6.1 display available without import\n",
            "    \n",
            "    Since IPython 5.4 and 6.1 :func:`display` is automatically made available to\n",
            "    the user without import. If you are using display in a document that might\n",
            "    be used in a pure python context or with older version of IPython, use the\n",
            "    following import at the top of your file::\n",
            "    \n",
            "        from IPython.display import display\n",
            "\n"
          ]
        }
      ]
    },
    {
      "cell_type": "code",
      "source": [],
      "metadata": {
        "id": "A1KMi7QOd6bo"
      },
      "execution_count": null,
      "outputs": []
    }
  ]
}