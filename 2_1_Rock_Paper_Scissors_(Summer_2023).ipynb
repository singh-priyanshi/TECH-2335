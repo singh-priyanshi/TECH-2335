{
  "nbformat": 4,
  "nbformat_minor": 0,
  "metadata": {
    "colab": {
      "provenance": [],
      "collapsed_sections": [
        "qqSC3UQaRxl7",
        "51K5AbeHSORR",
        "Eo4jTk_9ZtH3",
        "aaKY-opmT1X-"
      ],
      "include_colab_link": true
    },
    "kernelspec": {
      "name": "python3",
      "display_name": "Python 3"
    },
    "language_info": {
      "name": "python"
    }
  },
  "cells": [
    {
      "cell_type": "markdown",
      "metadata": {
        "id": "view-in-github",
        "colab_type": "text"
      },
      "source": [
        "<a href=\"https://colab.research.google.com/github/singh-priyanshi/TECH-2335/blob/main/2_1_Rock_Paper_Scissors_(Summer_2023).ipynb\" target=\"_parent\"><img src=\"https://colab.research.google.com/assets/colab-badge.svg\" alt=\"Open In Colab\"/></a>"
      ]
    },
    {
      "cell_type": "markdown",
      "source": [
        "# \"Rock, Paper, Scissors\" Exercise\n"
      ],
      "metadata": {
        "id": "kWD8aWhLRb3s"
      }
    },
    {
      "cell_type": "markdown",
      "source": [
        "Develop a Python application which will allow a human user to play a game of Rock-Paper-Scissors against a computer opponent. The game's functionality should adhere to the \"Requirements\" section below."
      ],
      "metadata": {
        "id": "4Srdlse6bI5q"
      }
    },
    {
      "cell_type": "markdown",
      "source": [
        "## Learning Objectives\n"
      ],
      "metadata": {
        "id": "qqSC3UQaRxl7"
      }
    },
    {
      "cell_type": "markdown",
      "source": [
        "\n",
        "  + Gain familiarity with the Python programming language, focusing on variables and conditional logic.\n",
        "  + Process and validate user inputs in Python.\n",
        "  + Use functionality provided by built-in Python modules.\n",
        "  + Practice editing, saving, and running Python notebooks.\n",
        "  + Have fun! 😸"
      ],
      "metadata": {
        "id": "lK0t6fqnRm60"
      }
    },
    {
      "cell_type": "markdown",
      "source": [
        "## Instructions\n"
      ],
      "metadata": {
        "id": "51K5AbeHSORR"
      }
    },
    {
      "cell_type": "markdown",
      "source": [
        "\n",
        "\n",
        "\n",
        "\n",
        "\n",
        "\n",
        "1. **Make a copy of this notebook** so you can edit and save your own version of it. Do the work in your copy of the notebook.\n",
        "2. **Update the title of your notebook** to include your name and/or net id.\n",
        "\n",
        "3. **Write Python code in your notebook** in the \"Solution\" section to meet the requirements set forth in the \"Requirements\" section.\n",
        "\n",
        "\n"
      ],
      "metadata": {
        "id": "i_II8VyWSpyL"
      }
    },
    {
      "cell_type": "markdown",
      "source": [
        "## Collaboration"
      ],
      "metadata": {
        "id": "Eo4jTk_9ZtH3"
      }
    },
    {
      "cell_type": "markdown",
      "source": [
        "\n",
        "\n",
        "It is OK to discuss this exercise generally with other students, to work together, and even to share some code snippets.\n",
        "\n",
        "It's OK to search the Internet for helpful resources like the course repository and Stack Overflow.\n",
        "\n",
        "HOWEVER: If you receive help from another student, or an Internet resource other than the course repository, you are expected to **attribute the source of help** in either a text cell or code comment.\n",
        "\n",
        "Attribution Comment Examples:\n",
        "  + \"Student _____ helped me with this part\"\n",
        "  + \"Student _____ and I worked on this part together\"\n",
        "  + \"Found this code from URL ________\"\n"
      ],
      "metadata": {
        "id": "dO9DxOGmZsE7"
      }
    },
    {
      "cell_type": "markdown",
      "source": [
        "## Submission Instructions"
      ],
      "metadata": {
        "id": "IqzydW_4yalL"
      }
    },
    {
      "cell_type": "markdown",
      "source": [
        "\n",
        "\n",
        "To review your notebook / ensure it works as expected / prepare for evaluation:\n",
        "  1. Run it from scratch (\"Runtime\" > \"Restart and run all\"), provide any necessary user inputs, and verify you see the results you expect.\n",
        "\n",
        "\n",
        "When you're done coding and your notebook reflects your final work product, follow these steps to submit:\n",
        "\n",
        "  1. Download a copy of your notebook document in .ipynb format (\"File\" > \"Download\" > \"Download .ipynb\").\n",
        "  2. Upload the resulting .ipynb notebook file to Brightspace.\n",
        "  3. Finally, remember to also submit your Colab notebook URL via the Submission Form!\n",
        "\n",
        "Thank you!\n"
      ],
      "metadata": {
        "id": "01wHWV3_ydAZ"
      }
    },
    {
      "cell_type": "markdown",
      "source": [
        "## Evaluation\n"
      ],
      "metadata": {
        "id": "GWj6HNQQSzZA"
      }
    },
    {
      "cell_type": "markdown",
      "source": [
        "Submissions will be evaluated according to the \"Requirements\" section below, as represented by the following rubric:\n",
        "\n",
        "Category | Requirement | Weight\n",
        "--- | --- | ---\n",
        "Info Inputs | Prompts the user to input their player name. | 10%\n",
        "Info Inputs | Prompts the user to input / select a choice from one of \"rock\", \"paper\", or \"scissors\". | 15%\n",
        "Validations | Handles user inputs of various capitalization (i.e. recognizes \"rock\", \"Rock\", \"ROCK\", \"RoCk\", etc. as valid inputs). | 15%\n",
        "Validations | Fails gracefully if encountering an invalid user input (i.e. program does not crash or malfunction if user provides an invalid input, like \"OOPS\"). Avoids a red / crashed cell. | 15%\n",
        "Simulation | Generates a valid choice at random for the computer player. | 15%\n",
        "Calculations | Displays accurate information about which player is the winner. | 15%\n",
        "Info Outputs | Presents all desired information outputs to the user, ideally in a clear way with clean formatting. | 15%\n",
        "\n",
        "This rubric is tentative, and may be subject to slight adjustments during the grading process.\n",
        "\n",
        "If experiencing execution error(s) while evaluating the application's required functionality, evaluators are advised to reduce the project's grade by between 4% and 25%, depending on the circumstances and severity of the error(s)."
      ],
      "metadata": {
        "id": "ME5s2Ek6S1Dd"
      }
    },
    {
      "cell_type": "markdown",
      "source": [
        "## Requirements\n",
        "\n"
      ],
      "metadata": {
        "id": "tnj6eer-RnND"
      }
    },
    {
      "cell_type": "markdown",
      "source": [
        "### Processing User Inputs\n"
      ],
      "metadata": {
        "id": "6FOgQKiFRnQJ"
      }
    },
    {
      "cell_type": "markdown",
      "source": [
        "\n",
        "The application should prompt the user to input, or otherwise select, an option (i.e. \"rock\", \"paper\", or \"scissors\") via command-line interface (CLI). It should store the user's selection in a variable for later reference.\n",
        "\n",
        "> HINT: use [the `input()` function](https://github.com/prof-rossetti/intro-to-python/blob/main/notes/python/inputs.md) to capture user inputs.\n"
      ],
      "metadata": {
        "id": "vddQO9rNTs9L"
      }
    },
    {
      "cell_type": "markdown",
      "source": [
        "### Validating User Inputs\n"
      ],
      "metadata": {
        "id": "aaKY-opmT1X-"
      }
    },
    {
      "cell_type": "markdown",
      "source": [
        "\n",
        "\n",
        "The application should compare the user's selection against the list of valid options (i.e. \"rock\", \"paper\", \"scissors\") to determine whether the user has selected a valid option.\n",
        "\n",
        "It should be able to handle various capitalizations of the valid options (e.g. \"ROCK\", \"Rock\", or \"rock\").\n",
        "\n",
        "If the selection is invalid, the program should fail gracefully by displaying a friendly message to the user, and preventing further program execution. The program should not try to further process an invalid input, as it may lead to runtime errors."
      ],
      "metadata": {
        "id": "JNMU2msRRnS8"
      }
    },
    {
      "cell_type": "markdown",
      "source": [
        "### Simulating Computer Selection\n"
      ],
      "metadata": {
        "id": "dcUV0BzvTmpY"
      }
    },
    {
      "cell_type": "markdown",
      "source": [
        "\n",
        "\n",
        "The application should select one of the options (i.e. \"rock\", \"paper\", or \"scissors\") at random, and assign that as the computer player's choice.\n",
        "\n",
        "> HINT: use the `choice()` function provided by [the `random` module](https://github.com/prof-rossetti/intro-to-python/blob/main/notes/python/modules/random.md).\n",
        "\n",
        "> HINT: ensure the valid choices are stored in a [\"list\" datatype](https://github.com/prof-rossetti/intro-to-python/blob/main/notes/python/datatypes/lists.md), and then pass that list to the random choice function.\n"
      ],
      "metadata": {
        "id": "UJPuIG1BTnCM"
      }
    },
    {
      "cell_type": "markdown",
      "source": [
        "### Determining the Winner\n"
      ],
      "metadata": {
        "id": "Yq76aqerS-K7"
      }
    },
    {
      "cell_type": "markdown",
      "source": [
        "\n",
        "\n",
        "The application should compare the user's selection to the computer player's selection, and determine which is the winner. The following logic should govern that determination:\n",
        "\n",
        "  1. Rock beats Scissors\n",
        "  2. Paper beats Rock\n",
        "  3. Scissors beats Paper\n",
        "  4. Rock vs Rock, Paper vs Paper, and Scissors vs Scissors each results in a \"tie\"\n",
        "\n",
        "> HINT: use one or more [`if` statements](https://github.com/prof-rossetti/intro-to-python/blob/main/notes/python/control-flow.md#if-statements) (recommended approach for beginners), or it may also be possible to use other pre-configured representations of the winners, for example using a [dictionary datatype](https://github.com/prof-rossetti/intro-to-python/blob/main/notes/python/datatypes/dictionaries.md)  containing all possible outcomes.\n",
        "\n"
      ],
      "metadata": {
        "id": "lzvQeH2OS-y-"
      }
    },
    {
      "cell_type": "markdown",
      "source": [
        "### Displaying Results\n"
      ],
      "metadata": {
        "id": "vrAcJg4KRnVr"
      }
    },
    {
      "cell_type": "markdown",
      "source": [
        "\n",
        "After determining the winner, the application should display the results to the user. Desired information outputs (from start to finish) should include at least the following:\n",
        "\n",
        "  + A friendly welcome message, including the player's name (e.g. \"Player One\").\n",
        "  + The user's selected option\n",
        "  + The computer's selected option\n",
        "  + Whether the user or the computer was the winner\n",
        "  + A friendly farewell message\n",
        "\n",
        "Example desired output after one round of game-play:\n",
        "\n",
        "```\n",
        "Please input your player name: Player One\n",
        "---------\n",
        "Welcome 'Player One' to my Rock-Paper-Scissors Game!\n",
        "---------\n",
        "Please choose an option ('rock', 'paper', or 'scissors'): rock\n",
        "---------\n",
        "User choice: 'rock'\n",
        "---------\n",
        "Computer choice: 'scissors'\n",
        "---------\n",
        "You won! Thanks for playing.\n",
        "```\n"
      ],
      "metadata": {
        "id": "MOKoZt0oRnYe"
      }
    },
    {
      "cell_type": "markdown",
      "source": [
        "# Solution\n",
        "\n"
      ],
      "metadata": {
        "id": "X5X7eG8qTGWG"
      }
    },
    {
      "cell_type": "code",
      "source": [
        "import random\n",
        "\n",
        "def get_user_choice():\n",
        "    while True:\n",
        "        choice = input(\"Please choose an option ('rock', 'paper', or 'scissors'): \").lower()\n",
        "        if choice in ['rock', 'paper', 'scissors']:\n",
        "            return choice\n",
        "        else:\n",
        "            print(\"Invalid input. Please try again.\")\n",
        "\n",
        "def get_computer_choice():\n",
        "    return random.choice(['rock', 'paper', 'scissors'])\n",
        "\n",
        "def determine_winner(user_choice, computer_choice):\n",
        "    if user_choice == computer_choice:\n",
        "        return \"It's a tie!\"\n",
        "    elif (user_choice == 'rock' and computer_choice == 'scissors') or \\\n",
        "         (user_choice == 'paper' and computer_choice == 'rock') or \\\n",
        "         (user_choice == 'scissors' and computer_choice == 'paper'):\n",
        "        return \"You won!\"\n",
        "    else:\n",
        "        return \"Computer won!\"\n",
        "\n",
        "player_name = input(\"Please input your player name: \")\n",
        "print(\"---------\")\n",
        "print(f\"Welcome '{player_name}' to my Rock-Paper-Scissors Game!\")\n",
        "print(\"---------\")\n",
        "\n",
        "user_choice = get_user_choice()\n",
        "computer_choice = get_computer_choice()\n",
        "\n",
        "print(f\"\\nUser choice: '{user_choice}'\")\n",
        "print(f\"Computer choice: '{computer_choice}'\")\n",
        "print(\"---------\")\n",
        "\n",
        "result = determine_winner(user_choice, computer_choice)\n",
        "print(result)\n",
        "print(\"Thanks for playing.\")\n"
      ],
      "metadata": {
        "id": "hCmA-_HSTFev",
        "colab": {
          "base_uri": "https://localhost:8080/"
        },
        "outputId": "5c4af6d3-3a15-4367-afd7-6b6fc6c430b6"
      },
      "execution_count": 1,
      "outputs": [
        {
          "output_type": "stream",
          "name": "stdout",
          "text": [
            "Please input your player name: Player 1\n",
            "---------\n",
            "Welcome 'Player 1' to my Rock-Paper-Scissors Game!\n",
            "---------\n",
            "Please choose an option ('rock', 'paper', or 'scissors'): rock\n",
            "\n",
            "User choice: 'rock'\n",
            "Computer choice: 'scissors'\n",
            "---------\n",
            "You won!\n",
            "Thanks for playing.\n"
          ]
        }
      ]
    },
    {
      "cell_type": "code",
      "source": [],
      "metadata": {
        "id": "L26qgTqHztqr"
      },
      "execution_count": null,
      "outputs": []
    },
    {
      "cell_type": "code",
      "source": [],
      "metadata": {
        "id": "e2S4CunRztZ-"
      },
      "execution_count": null,
      "outputs": []
    },
    {
      "cell_type": "code",
      "source": [],
      "metadata": {
        "id": "nwoHTLtRek02"
      },
      "execution_count": null,
      "outputs": []
    },
    {
      "cell_type": "code",
      "source": [],
      "metadata": {
        "id": "HBdg7oRAekjb"
      },
      "execution_count": null,
      "outputs": []
    },
    {
      "cell_type": "code",
      "source": [],
      "metadata": {
        "id": "FDXLJ7gsekai"
      },
      "execution_count": null,
      "outputs": []
    },
    {
      "cell_type": "code",
      "source": [],
      "metadata": {
        "id": "0pfuOnhnekTT"
      },
      "execution_count": null,
      "outputs": []
    },
    {
      "cell_type": "markdown",
      "source": [
        "# Scratch Work\n",
        "\n",
        "Feel free to use the section below for scratch work, which will not be evaluated.\n",
        "\n",
        "If there is any solution code make sure to include it in the \"Solution\" section above instead!"
      ],
      "metadata": {
        "id": "qnlJVq8VYEKI"
      }
    },
    {
      "cell_type": "code",
      "source": [],
      "metadata": {
        "id": "ITePMxshYPQe"
      },
      "execution_count": null,
      "outputs": []
    },
    {
      "cell_type": "code",
      "source": [],
      "metadata": {
        "id": "xLQG6Tl1YPvM"
      },
      "execution_count": null,
      "outputs": []
    },
    {
      "cell_type": "code",
      "source": [],
      "metadata": {
        "id": "BukHEhRwYPmt"
      },
      "execution_count": null,
      "outputs": []
    }
  ]
}