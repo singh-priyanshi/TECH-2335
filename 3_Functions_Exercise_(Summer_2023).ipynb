{
  "nbformat": 4,
  "nbformat_minor": 0,
  "metadata": {
    "colab": {
      "provenance": [],
      "collapsed_sections": [
        "vDbiG6fcG8XQ"
      ],
      "include_colab_link": true
    },
    "kernelspec": {
      "name": "python3",
      "display_name": "Python 3"
    }
  },
  "cells": [
    {
      "cell_type": "markdown",
      "metadata": {
        "id": "view-in-github",
        "colab_type": "text"
      },
      "source": [
        "<a href=\"https://colab.research.google.com/github/singh-priyanshi/TECH-2335/blob/main/3_Functions_Exercise_(Summer_2023).ipynb\" target=\"_parent\"><img src=\"https://colab.research.google.com/assets/colab-badge.svg\" alt=\"Open In Colab\"/></a>"
      ]
    },
    {
      "cell_type": "markdown",
      "metadata": {
        "id": "S2WNuBjne_qG"
      },
      "source": [
        "\n",
        "# Instructions\n",
        "\n",
        "\n"
      ]
    },
    {
      "cell_type": "markdown",
      "metadata": {
        "id": "9VcdzHLiOrCt"
      },
      "source": [
        "\n",
        "\n",
        "\n",
        "\n",
        "\n",
        "\n",
        "1. **Make a copy of this notebook** so you can edit and save your own version of it. Do the work in your copy of the notebook.\n",
        "2. **Update the title of your notebook** to include your name and/or net id.\n",
        "\n",
        "3. **Write Python code** in the \"Solution\" section to meet the requirements set forth in the \"Requirements\" section.\n",
        "\n",
        "\n"
      ]
    },
    {
      "cell_type": "markdown",
      "metadata": {
        "id": "m4OgF-WX0Fxo"
      },
      "source": [
        "## References\n",
        "\n",
        "\n"
      ]
    },
    {
      "cell_type": "markdown",
      "metadata": {
        "id": "aedRcX8SYIqi"
      },
      "source": [
        "\n",
        "These official Python docs should help provide more context:\n",
        "\n",
        "  + https://docs.python.org/3/tutorial/controlflow.html#defining-functions\n",
        "  + https://docs.python.org/3/tutorial/controlflow.html#default-argument-values\n",
        "  + https://docs.python.org/3/tutorial/controlflow.html#keyword-arguments\n",
        "  + https://www.w3schools.com/python/python_functions.asp\n",
        "\n",
        "Optionally see also:\n",
        "\n",
        "  + https://github.com/prof-rossetti/intro-to-python/blob/main/notes/python/functions.md\n",
        "  + https://github.com/prof-rossetti/intro-to-python/blob/main/notes/python/docstrings.md"
      ]
    },
    {
      "cell_type": "markdown",
      "source": [
        "# Requirements"
      ],
      "metadata": {
        "id": "8lJzgEqcNW9m"
      }
    },
    {
      "cell_type": "markdown",
      "metadata": {
        "id": "Jjgzk-DvfCty"
      },
      "source": [
        "\n",
        "## Basic Requirements\n",
        "\n",
        "For each of the three challenges below, write a custom function to address the requirements.\n",
        "\n",
        "After writing a function in (and running) the first code cell, you should be able to then run the cell(s) immediately below which use some provided code to call / use / invoke the function. If you have defined the functions properly, the invocation cells should just work as-is.\n",
        "\n",
        "\n"
      ]
    },
    {
      "cell_type": "markdown",
      "source": [
        "## Further Exploration\n",
        "\n",
        "Ideally also add a [\"docstring\"](https://github.com/prof-rossetti/intro-to-python/blob/master/notes/python/docstrings.md) to each function, to provide more information about the parameters it accepts, and the job it is expected to perform."
      ],
      "metadata": {
        "id": "iKdcpFfgNZtQ"
      }
    },
    {
      "cell_type": "markdown",
      "metadata": {
        "id": "mdOQuAFkfHTd"
      },
      "source": [
        "# Challenges"
      ]
    },
    {
      "cell_type": "markdown",
      "metadata": {
        "id": "zgeFDH0CR6cN"
      },
      "source": [
        "## 1) Motivation Function\n",
        "\n",
        "Define a custom function called `motivate()`, the responsibility of which is to print a motivational or inspirational textual message like \"Row harder, you can do it!\". The function doesn't need any parameter inputs or return values. It can display the same message every time."
      ]
    },
    {
      "cell_type": "code",
      "metadata": {
        "id": "ism3HbhJR6Hi"
      },
      "source": [
        "# FUNCTION DEFINITION\n",
        "\n",
        "# todo: your code here\n",
        "\n",
        "def motivate():\n",
        "  print(\"Row harder, you can do it!\")\n",
        "\n"
      ],
      "execution_count": 1,
      "outputs": []
    },
    {
      "cell_type": "code",
      "metadata": {
        "id": "XWW1iycMR44V",
        "colab": {
          "base_uri": "https://localhost:8080/"
        },
        "outputId": "6ba4d5c5-4348-4d80-f201-948f52c5e48e"
      },
      "source": [
        "# FUNCTION INVOCATIONS (LEAVE THIS CELL AS IS AND RUN AFTER YOU HAVE RUN THE CELL ABOVE)\n",
        "\n",
        "motivate()\n",
        "motivate()\n",
        "motivate()\n",
        "motivate()\n"
      ],
      "execution_count": 2,
      "outputs": [
        {
          "output_type": "stream",
          "name": "stdout",
          "text": [
            "Row harder, you can do it!\n",
            "Row harder, you can do it!\n",
            "Row harder, you can do it!\n",
            "Row harder, you can do it!\n"
          ]
        }
      ]
    },
    {
      "cell_type": "markdown",
      "metadata": {
        "id": "ElJb0gWG0uRT"
      },
      "source": [
        "\n",
        "## 2) Temperature Conversion Function\n",
        "\n",
        "Define a custom function called `celsius_to_fahrenheit()`, the responsibility of which is to convert a Celsius temperature (e.g. `0`) to a Fahrenheit temperature (e.g. `32`). Inside the function's definition, use a mathematical formula to convert the temperature and return the resulting value.\n"
      ]
    },
    {
      "cell_type": "code",
      "metadata": {
        "id": "Tb5YtYEb0DEg"
      },
      "source": [
        "# FUNCTION DEFINITION\n",
        "\n",
        "# todo: your code here\n",
        "def celsius_to_fahrenheit(celsius):\n",
        "  Fahrenheit = (celsius * 1.8) + 32\n",
        "  return (Fahrenheit)\n"
      ],
      "execution_count": 7,
      "outputs": []
    },
    {
      "cell_type": "code",
      "metadata": {
        "id": "DQKdwjAKOibU",
        "colab": {
          "base_uri": "https://localhost:8080/"
        },
        "outputId": "ed7938bc-8bc9-4cb8-dfb1-6faf4f7a3fe1"
      },
      "source": [
        "# FUNCTION INVOCATIONS (LEAVE THIS CELL AS-IS)\n",
        "\n",
        "print(celsius_to_fahrenheit(0))\n",
        "print(celsius_to_fahrenheit(10))\n",
        "print(celsius_to_fahrenheit(20))\n",
        "print(celsius_to_fahrenheit(30))\n",
        "print(celsius_to_fahrenheit(40))\n",
        "\n",
        "print(\"---------\")\n",
        "\n",
        "c = 50\n",
        "f = celsius_to_fahrenheit(c)\n",
        "print(\"THE CELSIUS TEMP IS:\", c, \"DEGREES\")\n",
        "print(\"THE FAHRENHEIT EQUIVALENT IS:\", f, \"DEGREES\")\n",
        "\n",
        "print(\"---------\")\n",
        "\n",
        "assert celsius_to_fahrenheit(0) == 32"
      ],
      "execution_count": 8,
      "outputs": [
        {
          "output_type": "stream",
          "name": "stdout",
          "text": [
            "32.0\n",
            "50.0\n",
            "68.0\n",
            "86.0\n",
            "104.0\n",
            "---------\n",
            "THE CELSIUS TEMP IS: 50 DEGREES\n",
            "THE FAHRENHEIT EQUIVALENT IS: 122.0 DEGREES\n",
            "---------\n"
          ]
        }
      ]
    },
    {
      "cell_type": "markdown",
      "metadata": {
        "id": "Xjb98FD21VIj"
      },
      "source": [
        "\n",
        "## 3) Letter Grade Conversion Function\n",
        "\n",
        "Define a custom function called `number_to_letter_grade()`, the responsibility of which is to convert a numeric grade (e.g. `87.5`) to a corresponding letter grade (e.g. `B+`). Inside the function's definition, use your own custom algorithm to convert the grade and return the resulting value. Use your own grading scale, or the following scale:\n",
        "\n",
        "  + above 93.0 is \"A\"\n",
        "  + above 90.0 is \"A-\"\n",
        "  + above 87.0 is \"B+\"\n",
        "  + above 83.0 is \"B\"\n",
        "  + above 80.0 is \"B-\"\n",
        "  + etc.\n"
      ]
    },
    {
      "cell_type": "code",
      "metadata": {
        "id": "-PXqEqQMTDTJ"
      },
      "source": [
        "# FUNCTION DEFINITION\n",
        "\n",
        "# todo: your code here\n",
        "\n",
        "def number_to_letter_grade(grade):\n",
        "    if grade > 93.0:\n",
        "        return \"A\"\n",
        "    elif grade > 90.0:\n",
        "        return \"A-\"\n",
        "    elif grade > 87.0:\n",
        "        return \"B+\"\n",
        "    elif grade > 83.0:\n",
        "        return \"B\"\n",
        "    elif grade > 80.0:\n",
        "        return \"B-\"\n",
        "    # Add more conditions for other grade ranges\n",
        "    else:\n",
        "        return \"F\"\n",
        "\n"
      ],
      "execution_count": 9,
      "outputs": []
    },
    {
      "cell_type": "code",
      "metadata": {
        "id": "7VNEWlSBS9I0",
        "colab": {
          "base_uri": "https://localhost:8080/"
        },
        "outputId": "afc742b3-8bcb-43fe-a2a5-ebd9af27c55a"
      },
      "source": [
        "\n",
        "# FUNCTION INVOCATIONS (LEAVE THIS CELL AS-IS)\n",
        "\n",
        "print(number_to_letter_grade(100))\n",
        "print(number_to_letter_grade(95))\n",
        "print(number_to_letter_grade(85))\n",
        "print(number_to_letter_grade(75))\n",
        "print(number_to_letter_grade(50))\n",
        "\n",
        "print(\"------------\")\n",
        "\n",
        "score = 87.5\n",
        "print(\"THE NUMERIC SCORE IS:\", score)\n",
        "grade = number_to_letter_grade(score)\n",
        "print(\"THE LETTER-GRADE EQUIVALENT IS:\", grade)\n",
        "\n",
        "print(\"------------\")\n",
        "\n",
        "# TESTING THE FUNCTION\n",
        "assert number_to_letter_grade(87.5) == \"B+\""
      ],
      "execution_count": 10,
      "outputs": [
        {
          "output_type": "stream",
          "name": "stdout",
          "text": [
            "A\n",
            "A\n",
            "B\n",
            "F\n",
            "F\n",
            "------------\n",
            "THE NUMERIC SCORE IS: 87.5\n",
            "THE LETTER-GRADE EQUIVALENT IS: B+\n",
            "------------\n"
          ]
        }
      ]
    },
    {
      "cell_type": "markdown",
      "source": [
        "\n",
        "## 4) Your Own Function\n",
        "\n",
        "Define your own function that does something interesting. The function should accept one or more parameters.\n",
        "\n",
        "Invoke your function a few times, using different parameter values.\n"
      ],
      "metadata": {
        "id": "vDbiG6fcG8XQ"
      }
    },
    {
      "cell_type": "code",
      "source": [
        "# FUNCTION DEFINITION\n",
        "\n",
        "# todo: your code here\n",
        "\n",
        "def calculate_discount(original_price, discount_percentage):\n",
        "    discount = original_price * (discount_percentage / 100)\n",
        "    discounted_price = original_price - discount\n",
        "    return discounted_price\n",
        "\n",
        "# Example usage:\n",
        "price_1 = 100\n",
        "discount_1 = 20\n",
        "discounted_price_1 = calculate_discount(price_1, discount_1)\n",
        "print(\"Original Price:\", price_1)\n",
        "print(\"Discount Percentage:\", discount_1)\n",
        "print(\"Discounted Price:\", discounted_price_1)\n",
        "\n",
        "price_2 = 75.5\n",
        "discount_2 = 15\n",
        "discounted_price_2 = calculate_discount(price_2, discount_2)\n",
        "print(\"\\nOriginal Price:\", price_2)\n",
        "print(\"Discount Percentage:\", discount_2)\n",
        "print(\"Discounted Price:\", discounted_price_2)\n",
        "\n"
      ],
      "metadata": {
        "id": "jynyQvPiHN3O",
        "colab": {
          "base_uri": "https://localhost:8080/"
        },
        "outputId": "9a4a1585-0502-4395-d274-590784755266"
      },
      "execution_count": 11,
      "outputs": [
        {
          "output_type": "stream",
          "name": "stdout",
          "text": [
            "Original Price: 100\n",
            "Discount Percentage: 20\n",
            "Discounted Price: 80.0\n",
            "\n",
            "Original Price: 75.5\n",
            "Discount Percentage: 15\n",
            "Discounted Price: 64.175\n"
          ]
        }
      ]
    },
    {
      "cell_type": "markdown",
      "source": [
        "In this example, the calculate_discount() function takes two parameters: original_price (the original price of a product) and discount_percentage (the percentage discount to be applied).\n",
        "\n",
        "The function calculates the discount amount by multiplying the original price by the discount percentage divided by 100. It then subtracts the discount from the original price to obtain the discounted price. The discounted price is returned as the result."
      ],
      "metadata": {
        "id": "Qwh41uLwzBGF"
      }
    },
    {
      "cell_type": "code",
      "source": [
        "# FUNCTION INVOCATIONS\n",
        "\n",
        "# todo: your code here\n",
        "\n",
        "def calculate_average(numbers):\n",
        "    if not numbers:\n",
        "        return None\n",
        "    total = sum(numbers)\n",
        "    average = total / len(numbers)\n",
        "    return average\n",
        "\n",
        "# Example usage:\n",
        "numbers1 = [2, 4, 6, 8, 10]\n",
        "average1 = calculate_average(numbers1)\n",
        "print(\"Numbers:\", numbers1)\n",
        "print(\"Average:\", average1)\n",
        "\n",
        "numbers2 = [1, 3, 5, 7, 9]\n",
        "average2 = calculate_average(numbers2)\n",
        "print(\"Numbers:\", numbers2)\n",
        "print(\"Average:\", average2)\n",
        "\n",
        "numbers3 = []\n",
        "average3 = calculate_average(numbers3)\n",
        "print(\"Numbers:\", numbers3)\n",
        "print(\"Average:\", average3)\n",
        "\n"
      ],
      "metadata": {
        "id": "ozaVBgUfHOKJ",
        "colab": {
          "base_uri": "https://localhost:8080/"
        },
        "outputId": "a18d9976-7827-4a3c-fee1-002ec34ec3c0"
      },
      "execution_count": 12,
      "outputs": [
        {
          "output_type": "stream",
          "name": "stdout",
          "text": [
            "Numbers: [2, 4, 6, 8, 10]\n",
            "Average: 6.0\n",
            "Numbers: [1, 3, 5, 7, 9]\n",
            "Average: 5.0\n",
            "Numbers: []\n",
            "Average: None\n"
          ]
        }
      ]
    },
    {
      "cell_type": "markdown",
      "source": [
        "In this example, the calculate_average() function accepts a list of numbers as the numbers parameter. It checks if the list is empty and returns None in that case. Otherwise, it calculates the sum of the numbers in the list and divides it by the length of the list to obtain the average."
      ],
      "metadata": {
        "id": "v67yVzNUzgge"
      }
    },
    {
      "cell_type": "code",
      "source": [
        "# TESTING THE FUNCTION\n",
        "\n",
        "# todo: test your code here\n",
        "\n",
        "def calculate_total_cost(price, quantity, discount=0):\n",
        "    subtotal = price * quantity\n",
        "    total_cost = subtotal - (subtotal * discount)\n",
        "    return total_cost\n",
        "\n",
        "# Example usage:\n",
        "item_price = 10.99\n",
        "item_quantity = 5\n",
        "discount_percentage = 0.1\n",
        "\n",
        "# Calculate total cost without discount\n",
        "total_cost_without_discount = calculate_total_cost(item_price, item_quantity)\n",
        "print(\"Total Cost (without discount):\", total_cost_without_discount)\n",
        "\n",
        "# Calculate total cost with discount\n",
        "total_cost_with_discount = calculate_total_cost(item_price, item_quantity, discount_percentage)\n",
        "print(\"Total Cost (with discount):\", total_cost_with_discount)\n",
        "\n"
      ],
      "metadata": {
        "id": "REQZxQf8JlH7",
        "colab": {
          "base_uri": "https://localhost:8080/"
        },
        "outputId": "e64abcfe-4b17-4fe4-810a-ddeff1d7f8a9"
      },
      "execution_count": 13,
      "outputs": [
        {
          "output_type": "stream",
          "name": "stdout",
          "text": [
            "Total Cost (without discount): 54.95\n",
            "Total Cost (with discount): 49.455\n"
          ]
        }
      ]
    },
    {
      "cell_type": "markdown",
      "source": [
        "In this example, the calculate_total_cost() function accepts three parameters: price, quantity, and an optional discount (defaulting to 0). It calculates the subtotal by multiplying the price and quantity, applies the discount if provided, and returns the total cost."
      ],
      "metadata": {
        "id": "wla44b3I0smI"
      }
    },
    {
      "cell_type": "markdown",
      "source": [
        "## 5) Multiplication Function"
      ],
      "metadata": {
        "id": "1USlzPKAA8dr"
      }
    },
    {
      "cell_type": "markdown",
      "source": [
        "Define a function called `multiply`  which takes two separate numeric parameters as inputs, and multiplies them and returns the result (like a calculator).\n",
        "\n"
      ],
      "metadata": {
        "id": "rdNMmYK3A63m"
      }
    },
    {
      "cell_type": "code",
      "source": [
        "# FUNCTION DEFINITION\n",
        "\n",
        "# todo: your code here\n",
        "\n",
        "def multiply(num1, num2):\n",
        "  return num1 * num2"
      ],
      "metadata": {
        "id": "rz_2qplAA7Fu"
      },
      "execution_count": 15,
      "outputs": []
    },
    {
      "cell_type": "code",
      "source": [
        "\n",
        "# FUNCTION INVOCATIONS (LEAVE THIS CELL AS-IS)\n",
        "\n",
        "print(multiply(2, 10))\n",
        "print(multiply(5, 5))\n",
        "\n",
        "print(\"------------\")\n",
        "\n",
        "first_num = 6\n",
        "second_num = 8\n",
        "print(\"PERFORMING MULTIPLICATION ON:\", first_num, \"AND\", second_num, \"...\")\n",
        "result = multiply(first_num, second_num)\n",
        "print(\"THE RESULT IS:\", result)\n",
        "\n",
        "print(\"------------\")\n",
        "\n",
        "# TESTING THE FUNCTION\n",
        "assert multiply(3, 2) == 6"
      ],
      "metadata": {
        "colab": {
          "base_uri": "https://localhost:8080/"
        },
        "id": "ZsTTeoLSBEfK",
        "outputId": "d0b63074-326f-4092-e3ba-75473c9c8cd6"
      },
      "execution_count": 16,
      "outputs": [
        {
          "output_type": "stream",
          "name": "stdout",
          "text": [
            "20\n",
            "25\n",
            "------------\n",
            "PERFORMING MULTIPLICATION ON: 6 AND 8 ...\n",
            "THE RESULT IS: 48\n",
            "------------\n"
          ]
        }
      ]
    },
    {
      "cell_type": "markdown",
      "source": [
        "## 6) Calculator Function"
      ],
      "metadata": {
        "id": "adB6RgAWBHnn"
      }
    },
    {
      "cell_type": "markdown",
      "source": [
        "Define a function called `calculate`  which takes three input arguments. The first should denote which `operation` to perform (i.e. \"addition\", \"subtraction\", \"multiplication\", or \"division\"). The second and third parameters should denote the numbers to perform the selected operation on the provided numbers, and return the resulting value.\n",
        "\n",
        "If an invalid `operation` is specified (e.g. \"OOPS\"), the function should print a helpful friendly error message (i.e. \"OOPS, invalid operation, please choose one of the following: 'addition', 'subtraction', 'multiplication', or 'division'...\" and return a null value (i.e. `None`).\n"
      ],
      "metadata": {
        "id": "G4WT1rTkBLUg"
      }
    },
    {
      "cell_type": "code",
      "source": [
        "# FUNCTION DEFINITION\n",
        "\n",
        "# todo: your code here\n",
        "\n",
        "def calculate(op, num1, num2):\n",
        "  if op == \"addition\":\n",
        "    return num1 + num2\n",
        "  elif op == \"subtraction\":\n",
        "    return num1 - num2\n",
        "  elif op == \"multiplication\":\n",
        "    return num1 * num2\n",
        "  elif op == \"division\":\n",
        "    return num1 / num2\n",
        "  else:## op == \"OOPS\":\n",
        "    print(\"OOPS, invalid operation, please choose one of the following: 'addition', 'subtraction', 'multiplication', or 'division'...\")\n",
        "    return None\n",
        "    # Add more conditions for other grade ranges\n",
        "\n",
        ""
      ],
      "metadata": {
        "id": "S_8dvyo9BLot"
      },
      "execution_count": 20,
      "outputs": []
    },
    {
      "cell_type": "code",
      "source": [
        "\n",
        "# FUNCTION INVOCATIONS (LEAVE THIS CELL AS-IS)\n",
        "\n",
        "print(calculate(\"addition\", 2, 10))\n",
        "print(calculate(\"subtraction\", 2, 10))\n",
        "print(calculate(\"multiplication\", 2, 10))\n",
        "print(calculate(\"division\", 2, 10))\n",
        "print(calculate(\"OOPS\", 2, 10))\n",
        "\n",
        "print(\"------------\")\n",
        "\n",
        "first_num = 6\n",
        "second_num = 8\n",
        "print(\"PERFORMING MULTIPLICATION ON:\", first_num, \"AND\", second_num, \"...\")\n",
        "result = calculate(\"multiplication\", first_num, second_num)\n",
        "print(\"THE RESULT IS:\", result)\n",
        "\n",
        "print(\"------------\")\n",
        "\n",
        "# TESTING THE FUNCTION\n",
        "assert calculate(\"addition\", 2, 10) == 12\n",
        "assert calculate(\"subtraction\", 2, 10) == -8\n",
        "assert calculate(\"multiplication\", 2, 10) == 20\n",
        "assert calculate(\"division\", 2, 10) == 0.2"
      ],
      "metadata": {
        "colab": {
          "base_uri": "https://localhost:8080/"
        },
        "id": "vo8ZaopACUM4",
        "outputId": "fffbda13-b12b-4d33-d65b-bcd2f3b7a2fb"
      },
      "execution_count": 21,
      "outputs": [
        {
          "output_type": "stream",
          "name": "stdout",
          "text": [
            "12\n",
            "-8\n",
            "20\n",
            "0.2\n",
            "OOPS, invalid operation, please choose one of the following: 'addition', 'subtraction', 'multiplication', or 'division'...\n",
            "None\n",
            "------------\n",
            "PERFORMING MULTIPLICATION ON: 6 AND 8 ...\n",
            "THE RESULT IS: 48\n",
            "------------\n"
          ]
        }
      ]
    },
    {
      "cell_type": "code",
      "source": [
        "eval(\"5+10/70\")"
      ],
      "metadata": {
        "colab": {
          "base_uri": "https://localhost:8080/"
        },
        "id": "1fZ44OfT7u-T",
        "outputId": "dedfb8f5-309c-4a1d-c54e-57d600452cde"
      },
      "execution_count": 24,
      "outputs": [
        {
          "output_type": "execute_result",
          "data": {
            "text/plain": [
              "5.142857142857143"
            ]
          },
          "metadata": {},
          "execution_count": 24
        }
      ]
    },
    {
      "cell_type": "markdown",
      "source": [
        "## 7) Advertisement Function"
      ],
      "metadata": {
        "id": "ojDleYfRWBCq"
      }
    },
    {
      "cell_type": "markdown",
      "source": [
        "Define a function called `advertise`, which should print a message like:\n",
        "\n",
        "\"COME TO OUR ICE CREAM SHOP! NOW SERVING: CHOCOLATE\"\n",
        "  \n",
        "... where chocolate is one of a number of available flavors, chosen at random.\n",
        "\n",
        "Use the provided list of `FLAVORS` in your function. So sometimes the function will print a message related to chocolate, sometimes it will print a message related to vanilla, and other times it will print a message related to strawberry.\n",
        "\n",
        "\n",
        "HINT: use [the `random` module](https://github.com/prof-rossetti/intro-to-python/blob/main/notes/python/modules/random.md).\n"
      ],
      "metadata": {
        "id": "hU-ic40xWM8J"
      }
    },
    {
      "cell_type": "code",
      "source": [
        "# FUNCTION DEFINITION\n",
        "import random\n",
        "FLAVORS = [\"vanilla bean\", \"chocolate\", \"strawberry\"]\n",
        "\n",
        "\n",
        "# todo: your code here\n",
        "\n",
        "def advertise():\n",
        "    flavor = random.choice(FLAVORS)\n",
        "    message = f\"COME TO OUR ICE CREAM SHOP! NOW SERVING: {flavor.upper()}\"\n",
        "    print(message)\n",
        "\n",
        "# Example usage:\n",
        "advertise()\n",
        "\n",
        "\n"
      ],
      "metadata": {
        "id": "oEtxaoXmWMWI",
        "colab": {
          "base_uri": "https://localhost:8080/"
        },
        "outputId": "9c4e2f6d-2020-4323-a65b-a40e1c34bd79"
      },
      "execution_count": 25,
      "outputs": [
        {
          "output_type": "stream",
          "name": "stdout",
          "text": [
            "COME TO OUR ICE CREAM SHOP! NOW SERVING: STRAWBERRY\n"
          ]
        }
      ]
    },
    {
      "cell_type": "code",
      "source": [
        "# FUNCTION INVOCATIONS (LEAVE THIS CELL AS-IS)\n",
        "\n",
        "advertise()\n",
        "\n",
        "\n",
        "advertise()\n",
        "\n",
        "\n",
        "advertise()"
      ],
      "metadata": {
        "colab": {
          "base_uri": "https://localhost:8080/"
        },
        "id": "Qr_OrKa1XPz1",
        "outputId": "3cdf6c63-f486-4348-eb70-745cdd8b834a"
      },
      "execution_count": 26,
      "outputs": [
        {
          "output_type": "stream",
          "name": "stdout",
          "text": [
            "COME TO OUR ICE CREAM SHOP! NOW SERVING: VANILLA BEAN\n",
            "COME TO OUR ICE CREAM SHOP! NOW SERVING: CHOCOLATE\n",
            "COME TO OUR ICE CREAM SHOP! NOW SERVING: STRAWBERRY\n"
          ]
        }
      ]
    },
    {
      "cell_type": "code",
      "source": [],
      "metadata": {
        "id": "_gMkC0397xPy"
      },
      "execution_count": null,
      "outputs": []
    }
  ]
}