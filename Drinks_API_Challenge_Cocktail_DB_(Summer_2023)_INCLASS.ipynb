{
  "nbformat": 4,
  "nbformat_minor": 0,
  "metadata": {
    "colab": {
      "provenance": [],
      "include_colab_link": true
    },
    "kernelspec": {
      "name": "python3",
      "display_name": "Python 3"
    },
    "language_info": {
      "name": "python"
    }
  },
  "cells": [
    {
      "cell_type": "markdown",
      "metadata": {
        "id": "view-in-github",
        "colab_type": "text"
      },
      "source": [
        "<a href=\"https://colab.research.google.com/github/singh-priyanshi/py/blob/main/Drinks_API_Challenge_Cocktail_DB_(Summer_2023)_INCLASS.ipynb\" target=\"_parent\"><img src=\"https://colab.research.google.com/assets/colab-badge.svg\" alt=\"Open In Colab\"/></a>"
      ]
    },
    {
      "cell_type": "markdown",
      "source": [
        "# Instructions\n",
        "\n",
        "  1. Read the docs for the [Cocktail DB API](https://www.thecocktaildb.com/api.php).\n",
        "  2. Find the URL for requesting **non-alcoholic beverages**, from the docs. NOTE: we'll need to add the \"http://\" prefix to the URLs mentioned in the docs.\n",
        "  3. Make an example request in the browser, to verify the data is there and start to visually inspect its structure.\n",
        "  4. Make the request programmatically via Python.\n",
        "  5. Parse the response data, to answer the questions below.\n",
        "\n",
        "\n"
      ],
      "metadata": {
        "id": "Z7MXMoI9gKMz"
      }
    },
    {
      "cell_type": "markdown",
      "source": [
        "## Setup / Displaying Images in Colab\n",
        "\n",
        "The code cell below provides an example of how to display images in a Colab notebook. Run the cell to see the images!\n",
        "\n",
        "If you are asked to display images later, you can feel free to adapt this code to suit your purpose.\n",
        "\n",
        "For more info, see the `IPython` Package Docs:\n",
        "  + [`IPython.display.Image`](https://ipython.readthedocs.io/en/stable/api/generated/IPython.display.html#IPython.display.Image)\n",
        "  + [`IPython.display.display`](https://ipython.readthedocs.io/en/stable/api/generated/IPython.display.html#IPython.display.DisplayHandle.display)\n"
      ],
      "metadata": {
        "id": "tK2CFAD7hEci"
      }
    },
    {
      "cell_type": "code",
      "source": [
        "\n",
        "#\n",
        "# SETUP CELL\n",
        "# ... leave this cell as-is\n",
        "# ... run this cell to display some example images, and feel free to reference the code later\n",
        "#\n",
        "\n",
        "from IPython.display import Image, display\n",
        "\n",
        "print(\"-----------\")\n",
        "print(\"EXAMPLE IMAGES:\")\n",
        "\n",
        "print(\"-----------\")\n",
        "#image_url = \"https://upload.wikimedia.org/wikipedia/commons/thumb/9/9f/Georgetown_Hoyas_logo.svg/64px-Georgetown_Hoyas_logo.svg.png\"\n",
        "image_url = \"https://yt3.ggpht.com/-RZYi5isxH_M/AAAAAAAAAAI/AAAAAAAAAAA/rmWpoe2qZzI/s900-c-k-no/photo.jpg\"\n",
        "display(Image(url=image_url, height=100))\n",
        "\n",
        "print(\"-----------\")\n",
        "display(Image(url=\"https://www.python.org/static/community_logos/python-powered-w-200x80.png\"))\n",
        "\n",
        "print(\"-----------\")\n",
        "display(Image(url=\"https://www.thecocktaildb.com/images/cocktail_left.png\", height=100))"
      ],
      "metadata": {
        "colab": {
          "base_uri": "https://localhost:8080/",
          "height": 397
        },
        "id": "S5c_CyVvg9KX",
        "outputId": "6ca2e815-84be-43ae-d4c5-6520c29b916a"
      },
      "execution_count": 1,
      "outputs": [
        {
          "output_type": "stream",
          "name": "stdout",
          "text": [
            "-----------\n",
            "EXAMPLE IMAGES:\n",
            "-----------\n"
          ]
        },
        {
          "output_type": "display_data",
          "data": {
            "text/html": [
              "<img src=\"https://yt3.ggpht.com/-RZYi5isxH_M/AAAAAAAAAAI/AAAAAAAAAAA/rmWpoe2qZzI/s900-c-k-no/photo.jpg\" height=\"100\"/>"
            ],
            "text/plain": [
              "<IPython.core.display.Image object>"
            ]
          },
          "metadata": {}
        },
        {
          "output_type": "stream",
          "name": "stdout",
          "text": [
            "-----------\n"
          ]
        },
        {
          "output_type": "display_data",
          "data": {
            "text/html": [
              "<img src=\"https://www.python.org/static/community_logos/python-powered-w-200x80.png\"/>"
            ],
            "text/plain": [
              "<IPython.core.display.Image object>"
            ]
          },
          "metadata": {}
        },
        {
          "output_type": "stream",
          "name": "stdout",
          "text": [
            "-----------\n"
          ]
        },
        {
          "output_type": "display_data",
          "data": {
            "text/html": [
              "<img src=\"https://www.thecocktaildb.com/images/cocktail_left.png\" height=\"100\"/>"
            ],
            "text/plain": [
              "<IPython.core.display.Image object>"
            ]
          },
          "metadata": {}
        }
      ]
    },
    {
      "cell_type": "markdown",
      "source": [
        "# Questions\n",
        "\n",
        "A) Print the **number of non-alcoholic drinks** (i.e. 58)\n",
        "    \n",
        "B) Loop through each drink and **print the drink name**, each on a new line (i.e. \"Afterglow\" then \"Alice Cocktail\", then \"Aloha Fruit punch\", etc.).\n",
        "\n",
        "C) In the same loop, in addition to printing the drink's name, also **display an image of the drink**. HINT: consult the example in the setup cell."
      ],
      "metadata": {
        "id": "1zIx828ihMNU"
      }
    },
    {
      "cell_type": "code",
      "source": [
        "import requests\n",
        "import json\n",
        "\n",
        "request_url = \"https://www.thecocktaildb.com/api/json/v1/1/filter.php?a=Non_Alcoholic\"\n",
        "\n",
        "r = requests.get(request_url)\n",
        "data = json.loads(r.text)\n",
        "print(type(data))\n",
        "print(data)\n",
        "print(data.keys())"
      ],
      "metadata": {
        "id": "vO1R475qhPtO",
        "colab": {
          "base_uri": "https://localhost:8080/"
        },
        "outputId": "4d1f1100-e068-40d4-8efc-7df0ea556797"
      },
      "execution_count": 2,
      "outputs": [
        {
          "output_type": "stream",
          "name": "stdout",
          "text": [
            "<class 'dict'>\n",
            "{'drinks': [{'strDrink': 'Afterglow', 'strDrinkThumb': 'https://www.thecocktaildb.com/images/media/drink/vuquyv1468876052.jpg', 'idDrink': '12560'}, {'strDrink': 'Alice Cocktail', 'strDrinkThumb': 'https://www.thecocktaildb.com/images/media/drink/qyqtpv1468876144.jpg', 'idDrink': '12562'}, {'strDrink': 'Aloha Fruit punch', 'strDrinkThumb': 'https://www.thecocktaildb.com/images/media/drink/wsyvrt1468876267.jpg', 'idDrink': '12862'}, {'strDrink': 'Apello', 'strDrinkThumb': 'https://www.thecocktaildb.com/images/media/drink/uptxtv1468876415.jpg', 'idDrink': '15106'}, {'strDrink': 'Apple Berry Smoothie', 'strDrinkThumb': 'https://www.thecocktaildb.com/images/media/drink/xwqvur1468876473.jpg', 'idDrink': '12710'}, {'strDrink': 'Apple Karate', 'strDrinkThumb': 'https://www.thecocktaildb.com/images/media/drink/syusvw1468876634.jpg', 'idDrink': '12564'}, {'strDrink': 'Banana Cantaloupe Smoothie', 'strDrinkThumb': 'https://www.thecocktaildb.com/images/media/drink/uqxqsy1468876703.jpg', 'idDrink': '12708'}, {'strDrink': 'Banana Milk Shake', 'strDrinkThumb': 'https://www.thecocktaildb.com/images/media/drink/rtwwsx1472720307.jpg', 'idDrink': '12654'}, {'strDrink': 'Banana Strawberry Shake', 'strDrinkThumb': 'https://www.thecocktaildb.com/images/media/drink/vqquwx1472720634.jpg', 'idDrink': '12656'}, {'strDrink': 'Banana Strawberry Shake Daiquiri', 'strDrinkThumb': 'https://www.thecocktaildb.com/images/media/drink/uvypss1472720581.jpg', 'idDrink': '12658'}, {'strDrink': 'Bora Bora', 'strDrinkThumb': 'https://www.thecocktaildb.com/images/media/drink/xwuqvw1473201811.jpg', 'idDrink': '12572'}, {'strDrink': 'Castillian Hot Chocolate', 'strDrinkThumb': 'https://www.thecocktaildb.com/images/media/drink/3nbu4a1487603196.jpg', 'idDrink': '12730'}, {'strDrink': 'Chocolate Beverage', 'strDrinkThumb': 'https://www.thecocktaildb.com/images/media/drink/jbqrhv1487603186.jpg', 'idDrink': '12732'}, {'strDrink': 'Chocolate Drink', 'strDrinkThumb': 'https://www.thecocktaildb.com/images/media/drink/q7w4xu1487603180.jpg', 'idDrink': '12734'}, {'strDrink': 'Coke and Drops', 'strDrinkThumb': 'https://www.thecocktaildb.com/images/media/drink/yrtxxp1472719367.jpg', 'idDrink': '17108'}, {'strDrink': 'Cranberry Punch', 'strDrinkThumb': 'https://www.thecocktaildb.com/images/media/drink/mzgaqu1504389248.jpg', 'idDrink': '12890'}, {'strDrink': 'Drinking Chocolate', 'strDrinkThumb': 'https://www.thecocktaildb.com/images/media/drink/u6jrdf1487603173.jpg', 'idDrink': '12736'}, {'strDrink': 'Egg Cream', 'strDrinkThumb': 'https://www.thecocktaildb.com/images/media/drink/mvis731484430445.jpg', 'idDrink': '12668'}, {'strDrink': 'Frappé', 'strDrinkThumb': 'https://www.thecocktaildb.com/images/media/drink/vqwryq1441245927.jpg', 'idDrink': '12768'}, {'strDrink': 'Fruit Cooler', 'strDrinkThumb': 'https://www.thecocktaildb.com/images/media/drink/i3tfn31484430499.jpg', 'idDrink': '12670'}, {'strDrink': 'Fruit Flip-Flop', 'strDrinkThumb': 'https://www.thecocktaildb.com/images/media/drink/nfdx6p1484430633.jpg', 'idDrink': '12672'}, {'strDrink': 'Fruit Shake', 'strDrinkThumb': 'https://www.thecocktaildb.com/images/media/drink/q0fg2m1484430704.jpg', 'idDrink': '12674'}, {'strDrink': 'Grape lemon pineapple Smoothie', 'strDrinkThumb': 'https://www.thecocktaildb.com/images/media/drink/54z5h71487603583.jpg', 'idDrink': '12712'}, {'strDrink': 'Holloween Punch', 'strDrinkThumb': 'https://www.thecocktaildb.com/images/media/drink/lfeoe41504888925.jpg', 'idDrink': '12954'}, {'strDrink': 'Hot Chocolate to Die for', 'strDrinkThumb': 'https://www.thecocktaildb.com/images/media/drink/0lrmjp1487603166.jpg', 'idDrink': '12738'}, {'strDrink': 'Iced Coffee', 'strDrinkThumb': 'https://www.thecocktaildb.com/images/media/drink/ytprxy1454513855.jpg', 'idDrink': '12770'}, {'strDrink': 'Ipamena', 'strDrinkThumb': 'https://www.thecocktaildb.com/images/media/drink/yswuwp1469090992.jpg', 'idDrink': '17176'}, {'strDrink': 'Just a Moonmint', 'strDrinkThumb': 'https://www.thecocktaildb.com/images/media/drink/znald61487604035.jpg', 'idDrink': '12688'}, {'strDrink': 'Kill the cold Smoothie', 'strDrinkThumb': 'https://www.thecocktaildb.com/images/media/drink/7j1z2e1487603414.jpg', 'idDrink': '12720'}, {'strDrink': 'Kiwi Papaya Smoothie', 'strDrinkThumb': 'https://www.thecocktaildb.com/images/media/drink/jogv4w1487603571.jpg', 'idDrink': '12714'}, {'strDrink': 'Lassi - A South Indian Drink', 'strDrinkThumb': 'https://www.thecocktaildb.com/images/media/drink/iq6scx1487603980.jpg', 'idDrink': '12690'}, {'strDrink': 'Lassi - Mango', 'strDrinkThumb': 'https://www.thecocktaildb.com/images/media/drink/1bw6sd1487603816.jpg', 'idDrink': '12698'}, {'strDrink': 'Lassi - Sweet', 'strDrinkThumb': 'https://www.thecocktaildb.com/images/media/drink/9jeifz1487603885.jpg', 'idDrink': '12696'}, {'strDrink': 'Lassi Khara', 'strDrinkThumb': 'https://www.thecocktaildb.com/images/media/drink/m1suzm1487603970.jpg', 'idDrink': '12692'}, {'strDrink': 'Lassi Raita', 'strDrinkThumb': 'https://www.thecocktaildb.com/images/media/drink/s4x0qj1487603933.jpg', 'idDrink': '12694'}, {'strDrink': 'Lemouroudji', 'strDrinkThumb': 'https://www.thecocktaildb.com/images/media/drink/eirmo71487603745.jpg', 'idDrink': '12702'}, {'strDrink': 'Limeade', 'strDrinkThumb': 'https://www.thecocktaildb.com/images/media/drink/5jdp5r1487603680.jpg', 'idDrink': '12704'}, {'strDrink': 'Mango Orange Smoothie', 'strDrinkThumb': 'https://www.thecocktaildb.com/images/media/drink/vdp2do1487603520.jpg', 'idDrink': '12716'}, {'strDrink': 'Masala Chai', 'strDrinkThumb': 'https://www.thecocktaildb.com/images/media/drink/uyrpww1441246384.jpg', 'idDrink': '12774'}, {'strDrink': 'Melya', 'strDrinkThumb': 'https://www.thecocktaildb.com/images/media/drink/xwtptq1441247579.jpg', 'idDrink': '12776'}, {'strDrink': 'Microwave Hot Cocoa', 'strDrinkThumb': 'https://www.thecocktaildb.com/images/media/drink/8y4x5f1487603151.jpg', 'idDrink': '12744'}, {'strDrink': 'Nuked Hot Chocolate', 'strDrinkThumb': 'https://www.thecocktaildb.com/images/media/drink/xcu6nb1487603142.jpg', 'idDrink': '12746'}, {'strDrink': 'Orange Scented Hot Chocolate', 'strDrinkThumb': 'https://www.thecocktaildb.com/images/media/drink/hdzwrh1487603131.jpg', 'idDrink': '12748'}, {'strDrink': 'Orangeade', 'strDrinkThumb': 'https://www.thecocktaildb.com/images/media/drink/ytsxxw1441167732.jpg', 'idDrink': '12618'}, {'strDrink': 'Pineapple Gingerale Smoothie', 'strDrinkThumb': 'https://www.thecocktaildb.com/images/media/drink/eg9i1d1487603469.jpg', 'idDrink': '12718'}, {'strDrink': 'Pysch Vitamin Light', 'strDrinkThumb': 'https://www.thecocktaildb.com/images/media/drink/xsqsxw1441553580.jpg', 'idDrink': '15092'}, {'strDrink': 'Rail Splitter', 'strDrinkThumb': 'https://www.thecocktaildb.com/images/media/drink/stsuqq1441207660.jpg', 'idDrink': '12630'}, {'strDrink': 'Spanish chocolate', 'strDrinkThumb': 'https://www.thecocktaildb.com/images/media/drink/pra8vt1487603054.jpg', 'idDrink': '12750'}, {'strDrink': 'Spiced Peach Punch', 'strDrinkThumb': 'https://www.thecocktaildb.com/images/media/drink/qxvypq1468924331.jpg', 'idDrink': '13032'}, {'strDrink': 'Spiking coffee', 'strDrinkThumb': 'https://www.thecocktaildb.com/images/media/drink/isql6y1487602375.jpg', 'idDrink': '12780'}, {'strDrink': 'Strawberry Lemonade', 'strDrinkThumb': 'https://www.thecocktaildb.com/images/media/drink/spvvxp1468924425.jpg', 'idDrink': '13036'}, {'strDrink': 'Strawberry Shivers', 'strDrinkThumb': 'https://www.thecocktaildb.com/images/media/drink/9h1vvt1487603404.jpg', 'idDrink': '12722'}, {'strDrink': 'Sweet Bananas', 'strDrinkThumb': 'https://www.thecocktaildb.com/images/media/drink/sxpcj71487603345.jpg', 'idDrink': '12724'}, {'strDrink': 'Thai Coffee', 'strDrinkThumb': 'https://www.thecocktaildb.com/images/media/drink/wquwxs1441247025.jpg', 'idDrink': '12782'}, {'strDrink': 'Thai Iced Coffee', 'strDrinkThumb': 'https://www.thecocktaildb.com/images/media/drink/rqpypv1441245650.jpg', 'idDrink': '12784'}, {'strDrink': 'Thai Iced Tea', 'strDrinkThumb': 'https://www.thecocktaildb.com/images/media/drink/trvwpu1441245568.jpg', 'idDrink': '12786'}, {'strDrink': 'Tomato Tang', 'strDrinkThumb': 'https://www.thecocktaildb.com/images/media/drink/869qr81487603278.jpg', 'idDrink': '12726'}, {'strDrink': 'Yoghurt Cooler', 'strDrinkThumb': 'https://www.thecocktaildb.com/images/media/drink/trttrv1441254466.jpg', 'idDrink': '12728'}]}\n",
            "dict_keys(['drinks'])\n"
          ]
        }
      ]
    },
    {
      "cell_type": "code",
      "source": [
        "data"
      ],
      "metadata": {
        "id": "qCnYOvn9OQhd",
        "colab": {
          "base_uri": "https://localhost:8080/"
        },
        "outputId": "c45eef35-125f-4701-d470-7718c33e33dc"
      },
      "execution_count": 3,
      "outputs": [
        {
          "output_type": "execute_result",
          "data": {
            "text/plain": [
              "{'drinks': [{'strDrink': 'Afterglow',\n",
              "   'strDrinkThumb': 'https://www.thecocktaildb.com/images/media/drink/vuquyv1468876052.jpg',\n",
              "   'idDrink': '12560'},\n",
              "  {'strDrink': 'Alice Cocktail',\n",
              "   'strDrinkThumb': 'https://www.thecocktaildb.com/images/media/drink/qyqtpv1468876144.jpg',\n",
              "   'idDrink': '12562'},\n",
              "  {'strDrink': 'Aloha Fruit punch',\n",
              "   'strDrinkThumb': 'https://www.thecocktaildb.com/images/media/drink/wsyvrt1468876267.jpg',\n",
              "   'idDrink': '12862'},\n",
              "  {'strDrink': 'Apello',\n",
              "   'strDrinkThumb': 'https://www.thecocktaildb.com/images/media/drink/uptxtv1468876415.jpg',\n",
              "   'idDrink': '15106'},\n",
              "  {'strDrink': 'Apple Berry Smoothie',\n",
              "   'strDrinkThumb': 'https://www.thecocktaildb.com/images/media/drink/xwqvur1468876473.jpg',\n",
              "   'idDrink': '12710'},\n",
              "  {'strDrink': 'Apple Karate',\n",
              "   'strDrinkThumb': 'https://www.thecocktaildb.com/images/media/drink/syusvw1468876634.jpg',\n",
              "   'idDrink': '12564'},\n",
              "  {'strDrink': 'Banana Cantaloupe Smoothie',\n",
              "   'strDrinkThumb': 'https://www.thecocktaildb.com/images/media/drink/uqxqsy1468876703.jpg',\n",
              "   'idDrink': '12708'},\n",
              "  {'strDrink': 'Banana Milk Shake',\n",
              "   'strDrinkThumb': 'https://www.thecocktaildb.com/images/media/drink/rtwwsx1472720307.jpg',\n",
              "   'idDrink': '12654'},\n",
              "  {'strDrink': 'Banana Strawberry Shake',\n",
              "   'strDrinkThumb': 'https://www.thecocktaildb.com/images/media/drink/vqquwx1472720634.jpg',\n",
              "   'idDrink': '12656'},\n",
              "  {'strDrink': 'Banana Strawberry Shake Daiquiri',\n",
              "   'strDrinkThumb': 'https://www.thecocktaildb.com/images/media/drink/uvypss1472720581.jpg',\n",
              "   'idDrink': '12658'},\n",
              "  {'strDrink': 'Bora Bora',\n",
              "   'strDrinkThumb': 'https://www.thecocktaildb.com/images/media/drink/xwuqvw1473201811.jpg',\n",
              "   'idDrink': '12572'},\n",
              "  {'strDrink': 'Castillian Hot Chocolate',\n",
              "   'strDrinkThumb': 'https://www.thecocktaildb.com/images/media/drink/3nbu4a1487603196.jpg',\n",
              "   'idDrink': '12730'},\n",
              "  {'strDrink': 'Chocolate Beverage',\n",
              "   'strDrinkThumb': 'https://www.thecocktaildb.com/images/media/drink/jbqrhv1487603186.jpg',\n",
              "   'idDrink': '12732'},\n",
              "  {'strDrink': 'Chocolate Drink',\n",
              "   'strDrinkThumb': 'https://www.thecocktaildb.com/images/media/drink/q7w4xu1487603180.jpg',\n",
              "   'idDrink': '12734'},\n",
              "  {'strDrink': 'Coke and Drops',\n",
              "   'strDrinkThumb': 'https://www.thecocktaildb.com/images/media/drink/yrtxxp1472719367.jpg',\n",
              "   'idDrink': '17108'},\n",
              "  {'strDrink': 'Cranberry Punch',\n",
              "   'strDrinkThumb': 'https://www.thecocktaildb.com/images/media/drink/mzgaqu1504389248.jpg',\n",
              "   'idDrink': '12890'},\n",
              "  {'strDrink': 'Drinking Chocolate',\n",
              "   'strDrinkThumb': 'https://www.thecocktaildb.com/images/media/drink/u6jrdf1487603173.jpg',\n",
              "   'idDrink': '12736'},\n",
              "  {'strDrink': 'Egg Cream',\n",
              "   'strDrinkThumb': 'https://www.thecocktaildb.com/images/media/drink/mvis731484430445.jpg',\n",
              "   'idDrink': '12668'},\n",
              "  {'strDrink': 'Frappé',\n",
              "   'strDrinkThumb': 'https://www.thecocktaildb.com/images/media/drink/vqwryq1441245927.jpg',\n",
              "   'idDrink': '12768'},\n",
              "  {'strDrink': 'Fruit Cooler',\n",
              "   'strDrinkThumb': 'https://www.thecocktaildb.com/images/media/drink/i3tfn31484430499.jpg',\n",
              "   'idDrink': '12670'},\n",
              "  {'strDrink': 'Fruit Flip-Flop',\n",
              "   'strDrinkThumb': 'https://www.thecocktaildb.com/images/media/drink/nfdx6p1484430633.jpg',\n",
              "   'idDrink': '12672'},\n",
              "  {'strDrink': 'Fruit Shake',\n",
              "   'strDrinkThumb': 'https://www.thecocktaildb.com/images/media/drink/q0fg2m1484430704.jpg',\n",
              "   'idDrink': '12674'},\n",
              "  {'strDrink': 'Grape lemon pineapple Smoothie',\n",
              "   'strDrinkThumb': 'https://www.thecocktaildb.com/images/media/drink/54z5h71487603583.jpg',\n",
              "   'idDrink': '12712'},\n",
              "  {'strDrink': 'Holloween Punch',\n",
              "   'strDrinkThumb': 'https://www.thecocktaildb.com/images/media/drink/lfeoe41504888925.jpg',\n",
              "   'idDrink': '12954'},\n",
              "  {'strDrink': 'Hot Chocolate to Die for',\n",
              "   'strDrinkThumb': 'https://www.thecocktaildb.com/images/media/drink/0lrmjp1487603166.jpg',\n",
              "   'idDrink': '12738'},\n",
              "  {'strDrink': 'Iced Coffee',\n",
              "   'strDrinkThumb': 'https://www.thecocktaildb.com/images/media/drink/ytprxy1454513855.jpg',\n",
              "   'idDrink': '12770'},\n",
              "  {'strDrink': 'Ipamena',\n",
              "   'strDrinkThumb': 'https://www.thecocktaildb.com/images/media/drink/yswuwp1469090992.jpg',\n",
              "   'idDrink': '17176'},\n",
              "  {'strDrink': 'Just a Moonmint',\n",
              "   'strDrinkThumb': 'https://www.thecocktaildb.com/images/media/drink/znald61487604035.jpg',\n",
              "   'idDrink': '12688'},\n",
              "  {'strDrink': 'Kill the cold Smoothie',\n",
              "   'strDrinkThumb': 'https://www.thecocktaildb.com/images/media/drink/7j1z2e1487603414.jpg',\n",
              "   'idDrink': '12720'},\n",
              "  {'strDrink': 'Kiwi Papaya Smoothie',\n",
              "   'strDrinkThumb': 'https://www.thecocktaildb.com/images/media/drink/jogv4w1487603571.jpg',\n",
              "   'idDrink': '12714'},\n",
              "  {'strDrink': 'Lassi - A South Indian Drink',\n",
              "   'strDrinkThumb': 'https://www.thecocktaildb.com/images/media/drink/iq6scx1487603980.jpg',\n",
              "   'idDrink': '12690'},\n",
              "  {'strDrink': 'Lassi - Mango',\n",
              "   'strDrinkThumb': 'https://www.thecocktaildb.com/images/media/drink/1bw6sd1487603816.jpg',\n",
              "   'idDrink': '12698'},\n",
              "  {'strDrink': 'Lassi - Sweet',\n",
              "   'strDrinkThumb': 'https://www.thecocktaildb.com/images/media/drink/9jeifz1487603885.jpg',\n",
              "   'idDrink': '12696'},\n",
              "  {'strDrink': 'Lassi Khara',\n",
              "   'strDrinkThumb': 'https://www.thecocktaildb.com/images/media/drink/m1suzm1487603970.jpg',\n",
              "   'idDrink': '12692'},\n",
              "  {'strDrink': 'Lassi Raita',\n",
              "   'strDrinkThumb': 'https://www.thecocktaildb.com/images/media/drink/s4x0qj1487603933.jpg',\n",
              "   'idDrink': '12694'},\n",
              "  {'strDrink': 'Lemouroudji',\n",
              "   'strDrinkThumb': 'https://www.thecocktaildb.com/images/media/drink/eirmo71487603745.jpg',\n",
              "   'idDrink': '12702'},\n",
              "  {'strDrink': 'Limeade',\n",
              "   'strDrinkThumb': 'https://www.thecocktaildb.com/images/media/drink/5jdp5r1487603680.jpg',\n",
              "   'idDrink': '12704'},\n",
              "  {'strDrink': 'Mango Orange Smoothie',\n",
              "   'strDrinkThumb': 'https://www.thecocktaildb.com/images/media/drink/vdp2do1487603520.jpg',\n",
              "   'idDrink': '12716'},\n",
              "  {'strDrink': 'Masala Chai',\n",
              "   'strDrinkThumb': 'https://www.thecocktaildb.com/images/media/drink/uyrpww1441246384.jpg',\n",
              "   'idDrink': '12774'},\n",
              "  {'strDrink': 'Melya',\n",
              "   'strDrinkThumb': 'https://www.thecocktaildb.com/images/media/drink/xwtptq1441247579.jpg',\n",
              "   'idDrink': '12776'},\n",
              "  {'strDrink': 'Microwave Hot Cocoa',\n",
              "   'strDrinkThumb': 'https://www.thecocktaildb.com/images/media/drink/8y4x5f1487603151.jpg',\n",
              "   'idDrink': '12744'},\n",
              "  {'strDrink': 'Nuked Hot Chocolate',\n",
              "   'strDrinkThumb': 'https://www.thecocktaildb.com/images/media/drink/xcu6nb1487603142.jpg',\n",
              "   'idDrink': '12746'},\n",
              "  {'strDrink': 'Orange Scented Hot Chocolate',\n",
              "   'strDrinkThumb': 'https://www.thecocktaildb.com/images/media/drink/hdzwrh1487603131.jpg',\n",
              "   'idDrink': '12748'},\n",
              "  {'strDrink': 'Orangeade',\n",
              "   'strDrinkThumb': 'https://www.thecocktaildb.com/images/media/drink/ytsxxw1441167732.jpg',\n",
              "   'idDrink': '12618'},\n",
              "  {'strDrink': 'Pineapple Gingerale Smoothie',\n",
              "   'strDrinkThumb': 'https://www.thecocktaildb.com/images/media/drink/eg9i1d1487603469.jpg',\n",
              "   'idDrink': '12718'},\n",
              "  {'strDrink': 'Pysch Vitamin Light',\n",
              "   'strDrinkThumb': 'https://www.thecocktaildb.com/images/media/drink/xsqsxw1441553580.jpg',\n",
              "   'idDrink': '15092'},\n",
              "  {'strDrink': 'Rail Splitter',\n",
              "   'strDrinkThumb': 'https://www.thecocktaildb.com/images/media/drink/stsuqq1441207660.jpg',\n",
              "   'idDrink': '12630'},\n",
              "  {'strDrink': 'Spanish chocolate',\n",
              "   'strDrinkThumb': 'https://www.thecocktaildb.com/images/media/drink/pra8vt1487603054.jpg',\n",
              "   'idDrink': '12750'},\n",
              "  {'strDrink': 'Spiced Peach Punch',\n",
              "   'strDrinkThumb': 'https://www.thecocktaildb.com/images/media/drink/qxvypq1468924331.jpg',\n",
              "   'idDrink': '13032'},\n",
              "  {'strDrink': 'Spiking coffee',\n",
              "   'strDrinkThumb': 'https://www.thecocktaildb.com/images/media/drink/isql6y1487602375.jpg',\n",
              "   'idDrink': '12780'},\n",
              "  {'strDrink': 'Strawberry Lemonade',\n",
              "   'strDrinkThumb': 'https://www.thecocktaildb.com/images/media/drink/spvvxp1468924425.jpg',\n",
              "   'idDrink': '13036'},\n",
              "  {'strDrink': 'Strawberry Shivers',\n",
              "   'strDrinkThumb': 'https://www.thecocktaildb.com/images/media/drink/9h1vvt1487603404.jpg',\n",
              "   'idDrink': '12722'},\n",
              "  {'strDrink': 'Sweet Bananas',\n",
              "   'strDrinkThumb': 'https://www.thecocktaildb.com/images/media/drink/sxpcj71487603345.jpg',\n",
              "   'idDrink': '12724'},\n",
              "  {'strDrink': 'Thai Coffee',\n",
              "   'strDrinkThumb': 'https://www.thecocktaildb.com/images/media/drink/wquwxs1441247025.jpg',\n",
              "   'idDrink': '12782'},\n",
              "  {'strDrink': 'Thai Iced Coffee',\n",
              "   'strDrinkThumb': 'https://www.thecocktaildb.com/images/media/drink/rqpypv1441245650.jpg',\n",
              "   'idDrink': '12784'},\n",
              "  {'strDrink': 'Thai Iced Tea',\n",
              "   'strDrinkThumb': 'https://www.thecocktaildb.com/images/media/drink/trvwpu1441245568.jpg',\n",
              "   'idDrink': '12786'},\n",
              "  {'strDrink': 'Tomato Tang',\n",
              "   'strDrinkThumb': 'https://www.thecocktaildb.com/images/media/drink/869qr81487603278.jpg',\n",
              "   'idDrink': '12726'},\n",
              "  {'strDrink': 'Yoghurt Cooler',\n",
              "   'strDrinkThumb': 'https://www.thecocktaildb.com/images/media/drink/trttrv1441254466.jpg',\n",
              "   'idDrink': '12728'}]}"
            ]
          },
          "metadata": {},
          "execution_count": 3
        }
      ]
    },
    {
      "cell_type": "code",
      "source": [
        "from pprint import pprint\n",
        "\n",
        "pprint(data)"
      ],
      "metadata": {
        "id": "BVLzIZqYhPp2",
        "colab": {
          "base_uri": "https://localhost:8080/"
        },
        "outputId": "9dd0c7d2-391b-4a3f-80a3-be72dc9bf708"
      },
      "execution_count": 4,
      "outputs": [
        {
          "output_type": "stream",
          "name": "stdout",
          "text": [
            "{'drinks': [{'idDrink': '12560',\n",
            "             'strDrink': 'Afterglow',\n",
            "             'strDrinkThumb': 'https://www.thecocktaildb.com/images/media/drink/vuquyv1468876052.jpg'},\n",
            "            {'idDrink': '12562',\n",
            "             'strDrink': 'Alice Cocktail',\n",
            "             'strDrinkThumb': 'https://www.thecocktaildb.com/images/media/drink/qyqtpv1468876144.jpg'},\n",
            "            {'idDrink': '12862',\n",
            "             'strDrink': 'Aloha Fruit punch',\n",
            "             'strDrinkThumb': 'https://www.thecocktaildb.com/images/media/drink/wsyvrt1468876267.jpg'},\n",
            "            {'idDrink': '15106',\n",
            "             'strDrink': 'Apello',\n",
            "             'strDrinkThumb': 'https://www.thecocktaildb.com/images/media/drink/uptxtv1468876415.jpg'},\n",
            "            {'idDrink': '12710',\n",
            "             'strDrink': 'Apple Berry Smoothie',\n",
            "             'strDrinkThumb': 'https://www.thecocktaildb.com/images/media/drink/xwqvur1468876473.jpg'},\n",
            "            {'idDrink': '12564',\n",
            "             'strDrink': 'Apple Karate',\n",
            "             'strDrinkThumb': 'https://www.thecocktaildb.com/images/media/drink/syusvw1468876634.jpg'},\n",
            "            {'idDrink': '12708',\n",
            "             'strDrink': 'Banana Cantaloupe Smoothie',\n",
            "             'strDrinkThumb': 'https://www.thecocktaildb.com/images/media/drink/uqxqsy1468876703.jpg'},\n",
            "            {'idDrink': '12654',\n",
            "             'strDrink': 'Banana Milk Shake',\n",
            "             'strDrinkThumb': 'https://www.thecocktaildb.com/images/media/drink/rtwwsx1472720307.jpg'},\n",
            "            {'idDrink': '12656',\n",
            "             'strDrink': 'Banana Strawberry Shake',\n",
            "             'strDrinkThumb': 'https://www.thecocktaildb.com/images/media/drink/vqquwx1472720634.jpg'},\n",
            "            {'idDrink': '12658',\n",
            "             'strDrink': 'Banana Strawberry Shake Daiquiri',\n",
            "             'strDrinkThumb': 'https://www.thecocktaildb.com/images/media/drink/uvypss1472720581.jpg'},\n",
            "            {'idDrink': '12572',\n",
            "             'strDrink': 'Bora Bora',\n",
            "             'strDrinkThumb': 'https://www.thecocktaildb.com/images/media/drink/xwuqvw1473201811.jpg'},\n",
            "            {'idDrink': '12730',\n",
            "             'strDrink': 'Castillian Hot Chocolate',\n",
            "             'strDrinkThumb': 'https://www.thecocktaildb.com/images/media/drink/3nbu4a1487603196.jpg'},\n",
            "            {'idDrink': '12732',\n",
            "             'strDrink': 'Chocolate Beverage',\n",
            "             'strDrinkThumb': 'https://www.thecocktaildb.com/images/media/drink/jbqrhv1487603186.jpg'},\n",
            "            {'idDrink': '12734',\n",
            "             'strDrink': 'Chocolate Drink',\n",
            "             'strDrinkThumb': 'https://www.thecocktaildb.com/images/media/drink/q7w4xu1487603180.jpg'},\n",
            "            {'idDrink': '17108',\n",
            "             'strDrink': 'Coke and Drops',\n",
            "             'strDrinkThumb': 'https://www.thecocktaildb.com/images/media/drink/yrtxxp1472719367.jpg'},\n",
            "            {'idDrink': '12890',\n",
            "             'strDrink': 'Cranberry Punch',\n",
            "             'strDrinkThumb': 'https://www.thecocktaildb.com/images/media/drink/mzgaqu1504389248.jpg'},\n",
            "            {'idDrink': '12736',\n",
            "             'strDrink': 'Drinking Chocolate',\n",
            "             'strDrinkThumb': 'https://www.thecocktaildb.com/images/media/drink/u6jrdf1487603173.jpg'},\n",
            "            {'idDrink': '12668',\n",
            "             'strDrink': 'Egg Cream',\n",
            "             'strDrinkThumb': 'https://www.thecocktaildb.com/images/media/drink/mvis731484430445.jpg'},\n",
            "            {'idDrink': '12768',\n",
            "             'strDrink': 'Frappé',\n",
            "             'strDrinkThumb': 'https://www.thecocktaildb.com/images/media/drink/vqwryq1441245927.jpg'},\n",
            "            {'idDrink': '12670',\n",
            "             'strDrink': 'Fruit Cooler',\n",
            "             'strDrinkThumb': 'https://www.thecocktaildb.com/images/media/drink/i3tfn31484430499.jpg'},\n",
            "            {'idDrink': '12672',\n",
            "             'strDrink': 'Fruit Flip-Flop',\n",
            "             'strDrinkThumb': 'https://www.thecocktaildb.com/images/media/drink/nfdx6p1484430633.jpg'},\n",
            "            {'idDrink': '12674',\n",
            "             'strDrink': 'Fruit Shake',\n",
            "             'strDrinkThumb': 'https://www.thecocktaildb.com/images/media/drink/q0fg2m1484430704.jpg'},\n",
            "            {'idDrink': '12712',\n",
            "             'strDrink': 'Grape lemon pineapple Smoothie',\n",
            "             'strDrinkThumb': 'https://www.thecocktaildb.com/images/media/drink/54z5h71487603583.jpg'},\n",
            "            {'idDrink': '12954',\n",
            "             'strDrink': 'Holloween Punch',\n",
            "             'strDrinkThumb': 'https://www.thecocktaildb.com/images/media/drink/lfeoe41504888925.jpg'},\n",
            "            {'idDrink': '12738',\n",
            "             'strDrink': 'Hot Chocolate to Die for',\n",
            "             'strDrinkThumb': 'https://www.thecocktaildb.com/images/media/drink/0lrmjp1487603166.jpg'},\n",
            "            {'idDrink': '12770',\n",
            "             'strDrink': 'Iced Coffee',\n",
            "             'strDrinkThumb': 'https://www.thecocktaildb.com/images/media/drink/ytprxy1454513855.jpg'},\n",
            "            {'idDrink': '17176',\n",
            "             'strDrink': 'Ipamena',\n",
            "             'strDrinkThumb': 'https://www.thecocktaildb.com/images/media/drink/yswuwp1469090992.jpg'},\n",
            "            {'idDrink': '12688',\n",
            "             'strDrink': 'Just a Moonmint',\n",
            "             'strDrinkThumb': 'https://www.thecocktaildb.com/images/media/drink/znald61487604035.jpg'},\n",
            "            {'idDrink': '12720',\n",
            "             'strDrink': 'Kill the cold Smoothie',\n",
            "             'strDrinkThumb': 'https://www.thecocktaildb.com/images/media/drink/7j1z2e1487603414.jpg'},\n",
            "            {'idDrink': '12714',\n",
            "             'strDrink': 'Kiwi Papaya Smoothie',\n",
            "             'strDrinkThumb': 'https://www.thecocktaildb.com/images/media/drink/jogv4w1487603571.jpg'},\n",
            "            {'idDrink': '12690',\n",
            "             'strDrink': 'Lassi - A South Indian Drink',\n",
            "             'strDrinkThumb': 'https://www.thecocktaildb.com/images/media/drink/iq6scx1487603980.jpg'},\n",
            "            {'idDrink': '12698',\n",
            "             'strDrink': 'Lassi - Mango',\n",
            "             'strDrinkThumb': 'https://www.thecocktaildb.com/images/media/drink/1bw6sd1487603816.jpg'},\n",
            "            {'idDrink': '12696',\n",
            "             'strDrink': 'Lassi - Sweet',\n",
            "             'strDrinkThumb': 'https://www.thecocktaildb.com/images/media/drink/9jeifz1487603885.jpg'},\n",
            "            {'idDrink': '12692',\n",
            "             'strDrink': 'Lassi Khara',\n",
            "             'strDrinkThumb': 'https://www.thecocktaildb.com/images/media/drink/m1suzm1487603970.jpg'},\n",
            "            {'idDrink': '12694',\n",
            "             'strDrink': 'Lassi Raita',\n",
            "             'strDrinkThumb': 'https://www.thecocktaildb.com/images/media/drink/s4x0qj1487603933.jpg'},\n",
            "            {'idDrink': '12702',\n",
            "             'strDrink': 'Lemouroudji',\n",
            "             'strDrinkThumb': 'https://www.thecocktaildb.com/images/media/drink/eirmo71487603745.jpg'},\n",
            "            {'idDrink': '12704',\n",
            "             'strDrink': 'Limeade',\n",
            "             'strDrinkThumb': 'https://www.thecocktaildb.com/images/media/drink/5jdp5r1487603680.jpg'},\n",
            "            {'idDrink': '12716',\n",
            "             'strDrink': 'Mango Orange Smoothie',\n",
            "             'strDrinkThumb': 'https://www.thecocktaildb.com/images/media/drink/vdp2do1487603520.jpg'},\n",
            "            {'idDrink': '12774',\n",
            "             'strDrink': 'Masala Chai',\n",
            "             'strDrinkThumb': 'https://www.thecocktaildb.com/images/media/drink/uyrpww1441246384.jpg'},\n",
            "            {'idDrink': '12776',\n",
            "             'strDrink': 'Melya',\n",
            "             'strDrinkThumb': 'https://www.thecocktaildb.com/images/media/drink/xwtptq1441247579.jpg'},\n",
            "            {'idDrink': '12744',\n",
            "             'strDrink': 'Microwave Hot Cocoa',\n",
            "             'strDrinkThumb': 'https://www.thecocktaildb.com/images/media/drink/8y4x5f1487603151.jpg'},\n",
            "            {'idDrink': '12746',\n",
            "             'strDrink': 'Nuked Hot Chocolate',\n",
            "             'strDrinkThumb': 'https://www.thecocktaildb.com/images/media/drink/xcu6nb1487603142.jpg'},\n",
            "            {'idDrink': '12748',\n",
            "             'strDrink': 'Orange Scented Hot Chocolate',\n",
            "             'strDrinkThumb': 'https://www.thecocktaildb.com/images/media/drink/hdzwrh1487603131.jpg'},\n",
            "            {'idDrink': '12618',\n",
            "             'strDrink': 'Orangeade',\n",
            "             'strDrinkThumb': 'https://www.thecocktaildb.com/images/media/drink/ytsxxw1441167732.jpg'},\n",
            "            {'idDrink': '12718',\n",
            "             'strDrink': 'Pineapple Gingerale Smoothie',\n",
            "             'strDrinkThumb': 'https://www.thecocktaildb.com/images/media/drink/eg9i1d1487603469.jpg'},\n",
            "            {'idDrink': '15092',\n",
            "             'strDrink': 'Pysch Vitamin Light',\n",
            "             'strDrinkThumb': 'https://www.thecocktaildb.com/images/media/drink/xsqsxw1441553580.jpg'},\n",
            "            {'idDrink': '12630',\n",
            "             'strDrink': 'Rail Splitter',\n",
            "             'strDrinkThumb': 'https://www.thecocktaildb.com/images/media/drink/stsuqq1441207660.jpg'},\n",
            "            {'idDrink': '12750',\n",
            "             'strDrink': 'Spanish chocolate',\n",
            "             'strDrinkThumb': 'https://www.thecocktaildb.com/images/media/drink/pra8vt1487603054.jpg'},\n",
            "            {'idDrink': '13032',\n",
            "             'strDrink': 'Spiced Peach Punch',\n",
            "             'strDrinkThumb': 'https://www.thecocktaildb.com/images/media/drink/qxvypq1468924331.jpg'},\n",
            "            {'idDrink': '12780',\n",
            "             'strDrink': 'Spiking coffee',\n",
            "             'strDrinkThumb': 'https://www.thecocktaildb.com/images/media/drink/isql6y1487602375.jpg'},\n",
            "            {'idDrink': '13036',\n",
            "             'strDrink': 'Strawberry Lemonade',\n",
            "             'strDrinkThumb': 'https://www.thecocktaildb.com/images/media/drink/spvvxp1468924425.jpg'},\n",
            "            {'idDrink': '12722',\n",
            "             'strDrink': 'Strawberry Shivers',\n",
            "             'strDrinkThumb': 'https://www.thecocktaildb.com/images/media/drink/9h1vvt1487603404.jpg'},\n",
            "            {'idDrink': '12724',\n",
            "             'strDrink': 'Sweet Bananas',\n",
            "             'strDrinkThumb': 'https://www.thecocktaildb.com/images/media/drink/sxpcj71487603345.jpg'},\n",
            "            {'idDrink': '12782',\n",
            "             'strDrink': 'Thai Coffee',\n",
            "             'strDrinkThumb': 'https://www.thecocktaildb.com/images/media/drink/wquwxs1441247025.jpg'},\n",
            "            {'idDrink': '12784',\n",
            "             'strDrink': 'Thai Iced Coffee',\n",
            "             'strDrinkThumb': 'https://www.thecocktaildb.com/images/media/drink/rqpypv1441245650.jpg'},\n",
            "            {'idDrink': '12786',\n",
            "             'strDrink': 'Thai Iced Tea',\n",
            "             'strDrinkThumb': 'https://www.thecocktaildb.com/images/media/drink/trvwpu1441245568.jpg'},\n",
            "            {'idDrink': '12726',\n",
            "             'strDrink': 'Tomato Tang',\n",
            "             'strDrinkThumb': 'https://www.thecocktaildb.com/images/media/drink/869qr81487603278.jpg'},\n",
            "            {'idDrink': '12728',\n",
            "             'strDrink': 'Yoghurt Cooler',\n",
            "             'strDrinkThumb': 'https://www.thecocktaildb.com/images/media/drink/trttrv1441254466.jpg'}]}\n"
          ]
        }
      ]
    },
    {
      "cell_type": "code",
      "source": [
        "print(len(data[\"drinks\"]))"
      ],
      "metadata": {
        "colab": {
          "base_uri": "https://localhost:8080/"
        },
        "id": "8DqnBbpdudpj",
        "outputId": "906f1eb8-6654-4309-b859-388a05857abd"
      },
      "execution_count": 5,
      "outputs": [
        {
          "output_type": "stream",
          "name": "stdout",
          "text": [
            "58\n"
          ]
        }
      ]
    },
    {
      "cell_type": "code",
      "source": [
        "for item in data[\"drinks\"]:\n",
        "    print(item[\"strDrink\"])\n",
        "    #print(item['strDrinkThumb'])\n",
        "    display(Image(url=item['strDrinkThumb'], height=50))"
      ],
      "metadata": {
        "id": "sz_OWc2uhPnb",
        "colab": {
          "base_uri": "https://localhost:8080/",
          "height": 1000
        },
        "outputId": "8e2d3999-22d1-411b-fba9-d122e9873db9"
      },
      "execution_count": null,
      "outputs": [
        {
          "output_type": "stream",
          "name": "stdout",
          "text": [
            "Afterglow\n"
          ]
        },
        {
          "output_type": "display_data",
          "data": {
            "text/html": [
              "<img src=\"https://www.thecocktaildb.com/images/media/drink/vuquyv1468876052.jpg\" height=\"50\"/>"
            ],
            "text/plain": [
              "<IPython.core.display.Image object>"
            ]
          },
          "metadata": {}
        },
        {
          "output_type": "stream",
          "name": "stdout",
          "text": [
            "Alice Cocktail\n"
          ]
        },
        {
          "output_type": "display_data",
          "data": {
            "text/html": [
              "<img src=\"https://www.thecocktaildb.com/images/media/drink/qyqtpv1468876144.jpg\" height=\"50\"/>"
            ],
            "text/plain": [
              "<IPython.core.display.Image object>"
            ]
          },
          "metadata": {}
        },
        {
          "output_type": "stream",
          "name": "stdout",
          "text": [
            "Aloha Fruit punch\n"
          ]
        },
        {
          "output_type": "display_data",
          "data": {
            "text/html": [
              "<img src=\"https://www.thecocktaildb.com/images/media/drink/wsyvrt1468876267.jpg\" height=\"50\"/>"
            ],
            "text/plain": [
              "<IPython.core.display.Image object>"
            ]
          },
          "metadata": {}
        },
        {
          "output_type": "stream",
          "name": "stdout",
          "text": [
            "Apello\n"
          ]
        },
        {
          "output_type": "display_data",
          "data": {
            "text/html": [
              "<img src=\"https://www.thecocktaildb.com/images/media/drink/uptxtv1468876415.jpg\" height=\"50\"/>"
            ],
            "text/plain": [
              "<IPython.core.display.Image object>"
            ]
          },
          "metadata": {}
        },
        {
          "output_type": "stream",
          "name": "stdout",
          "text": [
            "Apple Berry Smoothie\n"
          ]
        },
        {
          "output_type": "display_data",
          "data": {
            "text/html": [
              "<img src=\"https://www.thecocktaildb.com/images/media/drink/xwqvur1468876473.jpg\" height=\"50\"/>"
            ],
            "text/plain": [
              "<IPython.core.display.Image object>"
            ]
          },
          "metadata": {}
        },
        {
          "output_type": "stream",
          "name": "stdout",
          "text": [
            "Apple Karate\n"
          ]
        },
        {
          "output_type": "display_data",
          "data": {
            "text/html": [
              "<img src=\"https://www.thecocktaildb.com/images/media/drink/syusvw1468876634.jpg\" height=\"50\"/>"
            ],
            "text/plain": [
              "<IPython.core.display.Image object>"
            ]
          },
          "metadata": {}
        },
        {
          "output_type": "stream",
          "name": "stdout",
          "text": [
            "Banana Cantaloupe Smoothie\n"
          ]
        },
        {
          "output_type": "display_data",
          "data": {
            "text/html": [
              "<img src=\"https://www.thecocktaildb.com/images/media/drink/uqxqsy1468876703.jpg\" height=\"50\"/>"
            ],
            "text/plain": [
              "<IPython.core.display.Image object>"
            ]
          },
          "metadata": {}
        },
        {
          "output_type": "stream",
          "name": "stdout",
          "text": [
            "Banana Milk Shake\n"
          ]
        },
        {
          "output_type": "display_data",
          "data": {
            "text/html": [
              "<img src=\"https://www.thecocktaildb.com/images/media/drink/rtwwsx1472720307.jpg\" height=\"50\"/>"
            ],
            "text/plain": [
              "<IPython.core.display.Image object>"
            ]
          },
          "metadata": {}
        },
        {
          "output_type": "stream",
          "name": "stdout",
          "text": [
            "Banana Strawberry Shake\n"
          ]
        },
        {
          "output_type": "display_data",
          "data": {
            "text/html": [
              "<img src=\"https://www.thecocktaildb.com/images/media/drink/vqquwx1472720634.jpg\" height=\"50\"/>"
            ],
            "text/plain": [
              "<IPython.core.display.Image object>"
            ]
          },
          "metadata": {}
        },
        {
          "output_type": "stream",
          "name": "stdout",
          "text": [
            "Banana Strawberry Shake Daiquiri\n"
          ]
        },
        {
          "output_type": "display_data",
          "data": {
            "text/html": [
              "<img src=\"https://www.thecocktaildb.com/images/media/drink/uvypss1472720581.jpg\" height=\"50\"/>"
            ],
            "text/plain": [
              "<IPython.core.display.Image object>"
            ]
          },
          "metadata": {}
        },
        {
          "output_type": "stream",
          "name": "stdout",
          "text": [
            "Bora Bora\n"
          ]
        },
        {
          "output_type": "display_data",
          "data": {
            "text/html": [
              "<img src=\"https://www.thecocktaildb.com/images/media/drink/xwuqvw1473201811.jpg\" height=\"50\"/>"
            ],
            "text/plain": [
              "<IPython.core.display.Image object>"
            ]
          },
          "metadata": {}
        },
        {
          "output_type": "stream",
          "name": "stdout",
          "text": [
            "Castillian Hot Chocolate\n"
          ]
        },
        {
          "output_type": "display_data",
          "data": {
            "text/html": [
              "<img src=\"https://www.thecocktaildb.com/images/media/drink/3nbu4a1487603196.jpg\" height=\"50\"/>"
            ],
            "text/plain": [
              "<IPython.core.display.Image object>"
            ]
          },
          "metadata": {}
        },
        {
          "output_type": "stream",
          "name": "stdout",
          "text": [
            "Chocolate Beverage\n"
          ]
        },
        {
          "output_type": "display_data",
          "data": {
            "text/html": [
              "<img src=\"https://www.thecocktaildb.com/images/media/drink/jbqrhv1487603186.jpg\" height=\"50\"/>"
            ],
            "text/plain": [
              "<IPython.core.display.Image object>"
            ]
          },
          "metadata": {}
        },
        {
          "output_type": "stream",
          "name": "stdout",
          "text": [
            "Chocolate Drink\n"
          ]
        },
        {
          "output_type": "display_data",
          "data": {
            "text/html": [
              "<img src=\"https://www.thecocktaildb.com/images/media/drink/q7w4xu1487603180.jpg\" height=\"50\"/>"
            ],
            "text/plain": [
              "<IPython.core.display.Image object>"
            ]
          },
          "metadata": {}
        },
        {
          "output_type": "stream",
          "name": "stdout",
          "text": [
            "Coke and Drops\n"
          ]
        },
        {
          "output_type": "display_data",
          "data": {
            "text/html": [
              "<img src=\"https://www.thecocktaildb.com/images/media/drink/yrtxxp1472719367.jpg\" height=\"50\"/>"
            ],
            "text/plain": [
              "<IPython.core.display.Image object>"
            ]
          },
          "metadata": {}
        },
        {
          "output_type": "stream",
          "name": "stdout",
          "text": [
            "Cranberry Punch\n"
          ]
        },
        {
          "output_type": "display_data",
          "data": {
            "text/html": [
              "<img src=\"https://www.thecocktaildb.com/images/media/drink/mzgaqu1504389248.jpg\" height=\"50\"/>"
            ],
            "text/plain": [
              "<IPython.core.display.Image object>"
            ]
          },
          "metadata": {}
        },
        {
          "output_type": "stream",
          "name": "stdout",
          "text": [
            "Drinking Chocolate\n"
          ]
        },
        {
          "output_type": "display_data",
          "data": {
            "text/html": [
              "<img src=\"https://www.thecocktaildb.com/images/media/drink/u6jrdf1487603173.jpg\" height=\"50\"/>"
            ],
            "text/plain": [
              "<IPython.core.display.Image object>"
            ]
          },
          "metadata": {}
        },
        {
          "output_type": "stream",
          "name": "stdout",
          "text": [
            "Egg Cream\n"
          ]
        },
        {
          "output_type": "display_data",
          "data": {
            "text/html": [
              "<img src=\"https://www.thecocktaildb.com/images/media/drink/mvis731484430445.jpg\" height=\"50\"/>"
            ],
            "text/plain": [
              "<IPython.core.display.Image object>"
            ]
          },
          "metadata": {}
        },
        {
          "output_type": "stream",
          "name": "stdout",
          "text": [
            "Frappé\n"
          ]
        },
        {
          "output_type": "display_data",
          "data": {
            "text/html": [
              "<img src=\"https://www.thecocktaildb.com/images/media/drink/vqwryq1441245927.jpg\" height=\"50\"/>"
            ],
            "text/plain": [
              "<IPython.core.display.Image object>"
            ]
          },
          "metadata": {}
        },
        {
          "output_type": "stream",
          "name": "stdout",
          "text": [
            "Fruit Cooler\n"
          ]
        },
        {
          "output_type": "display_data",
          "data": {
            "text/html": [
              "<img src=\"https://www.thecocktaildb.com/images/media/drink/i3tfn31484430499.jpg\" height=\"50\"/>"
            ],
            "text/plain": [
              "<IPython.core.display.Image object>"
            ]
          },
          "metadata": {}
        },
        {
          "output_type": "stream",
          "name": "stdout",
          "text": [
            "Fruit Flip-Flop\n"
          ]
        },
        {
          "output_type": "display_data",
          "data": {
            "text/html": [
              "<img src=\"https://www.thecocktaildb.com/images/media/drink/nfdx6p1484430633.jpg\" height=\"50\"/>"
            ],
            "text/plain": [
              "<IPython.core.display.Image object>"
            ]
          },
          "metadata": {}
        },
        {
          "output_type": "stream",
          "name": "stdout",
          "text": [
            "Fruit Shake\n"
          ]
        },
        {
          "output_type": "display_data",
          "data": {
            "text/html": [
              "<img src=\"https://www.thecocktaildb.com/images/media/drink/q0fg2m1484430704.jpg\" height=\"50\"/>"
            ],
            "text/plain": [
              "<IPython.core.display.Image object>"
            ]
          },
          "metadata": {}
        },
        {
          "output_type": "stream",
          "name": "stdout",
          "text": [
            "Grape lemon pineapple Smoothie\n"
          ]
        },
        {
          "output_type": "display_data",
          "data": {
            "text/html": [
              "<img src=\"https://www.thecocktaildb.com/images/media/drink/54z5h71487603583.jpg\" height=\"50\"/>"
            ],
            "text/plain": [
              "<IPython.core.display.Image object>"
            ]
          },
          "metadata": {}
        },
        {
          "output_type": "stream",
          "name": "stdout",
          "text": [
            "Holloween Punch\n"
          ]
        },
        {
          "output_type": "display_data",
          "data": {
            "text/html": [
              "<img src=\"https://www.thecocktaildb.com/images/media/drink/lfeoe41504888925.jpg\" height=\"50\"/>"
            ],
            "text/plain": [
              "<IPython.core.display.Image object>"
            ]
          },
          "metadata": {}
        },
        {
          "output_type": "stream",
          "name": "stdout",
          "text": [
            "Hot Chocolate to Die for\n"
          ]
        },
        {
          "output_type": "display_data",
          "data": {
            "text/html": [
              "<img src=\"https://www.thecocktaildb.com/images/media/drink/0lrmjp1487603166.jpg\" height=\"50\"/>"
            ],
            "text/plain": [
              "<IPython.core.display.Image object>"
            ]
          },
          "metadata": {}
        },
        {
          "output_type": "stream",
          "name": "stdout",
          "text": [
            "Iced Coffee\n"
          ]
        },
        {
          "output_type": "display_data",
          "data": {
            "text/html": [
              "<img src=\"https://www.thecocktaildb.com/images/media/drink/ytprxy1454513855.jpg\" height=\"50\"/>"
            ],
            "text/plain": [
              "<IPython.core.display.Image object>"
            ]
          },
          "metadata": {}
        },
        {
          "output_type": "stream",
          "name": "stdout",
          "text": [
            "Ipamena\n"
          ]
        },
        {
          "output_type": "display_data",
          "data": {
            "text/html": [
              "<img src=\"https://www.thecocktaildb.com/images/media/drink/yswuwp1469090992.jpg\" height=\"50\"/>"
            ],
            "text/plain": [
              "<IPython.core.display.Image object>"
            ]
          },
          "metadata": {}
        },
        {
          "output_type": "stream",
          "name": "stdout",
          "text": [
            "Just a Moonmint\n"
          ]
        },
        {
          "output_type": "display_data",
          "data": {
            "text/html": [
              "<img src=\"https://www.thecocktaildb.com/images/media/drink/znald61487604035.jpg\" height=\"50\"/>"
            ],
            "text/plain": [
              "<IPython.core.display.Image object>"
            ]
          },
          "metadata": {}
        },
        {
          "output_type": "stream",
          "name": "stdout",
          "text": [
            "Kill the cold Smoothie\n"
          ]
        },
        {
          "output_type": "display_data",
          "data": {
            "text/html": [
              "<img src=\"https://www.thecocktaildb.com/images/media/drink/7j1z2e1487603414.jpg\" height=\"50\"/>"
            ],
            "text/plain": [
              "<IPython.core.display.Image object>"
            ]
          },
          "metadata": {}
        },
        {
          "output_type": "stream",
          "name": "stdout",
          "text": [
            "Kiwi Papaya Smoothie\n"
          ]
        },
        {
          "output_type": "display_data",
          "data": {
            "text/html": [
              "<img src=\"https://www.thecocktaildb.com/images/media/drink/jogv4w1487603571.jpg\" height=\"50\"/>"
            ],
            "text/plain": [
              "<IPython.core.display.Image object>"
            ]
          },
          "metadata": {}
        },
        {
          "output_type": "stream",
          "name": "stdout",
          "text": [
            "Lassi - A South Indian Drink\n"
          ]
        },
        {
          "output_type": "display_data",
          "data": {
            "text/html": [
              "<img src=\"https://www.thecocktaildb.com/images/media/drink/iq6scx1487603980.jpg\" height=\"50\"/>"
            ],
            "text/plain": [
              "<IPython.core.display.Image object>"
            ]
          },
          "metadata": {}
        },
        {
          "output_type": "stream",
          "name": "stdout",
          "text": [
            "Lassi - Mango\n"
          ]
        },
        {
          "output_type": "display_data",
          "data": {
            "text/html": [
              "<img src=\"https://www.thecocktaildb.com/images/media/drink/1bw6sd1487603816.jpg\" height=\"50\"/>"
            ],
            "text/plain": [
              "<IPython.core.display.Image object>"
            ]
          },
          "metadata": {}
        },
        {
          "output_type": "stream",
          "name": "stdout",
          "text": [
            "Lassi - Sweet\n"
          ]
        },
        {
          "output_type": "display_data",
          "data": {
            "text/html": [
              "<img src=\"https://www.thecocktaildb.com/images/media/drink/9jeifz1487603885.jpg\" height=\"50\"/>"
            ],
            "text/plain": [
              "<IPython.core.display.Image object>"
            ]
          },
          "metadata": {}
        },
        {
          "output_type": "stream",
          "name": "stdout",
          "text": [
            "Lassi Khara\n"
          ]
        },
        {
          "output_type": "display_data",
          "data": {
            "text/html": [
              "<img src=\"https://www.thecocktaildb.com/images/media/drink/m1suzm1487603970.jpg\" height=\"50\"/>"
            ],
            "text/plain": [
              "<IPython.core.display.Image object>"
            ]
          },
          "metadata": {}
        },
        {
          "output_type": "stream",
          "name": "stdout",
          "text": [
            "Lassi Raita\n"
          ]
        },
        {
          "output_type": "display_data",
          "data": {
            "text/html": [
              "<img src=\"https://www.thecocktaildb.com/images/media/drink/s4x0qj1487603933.jpg\" height=\"50\"/>"
            ],
            "text/plain": [
              "<IPython.core.display.Image object>"
            ]
          },
          "metadata": {}
        },
        {
          "output_type": "stream",
          "name": "stdout",
          "text": [
            "Lemouroudji\n"
          ]
        },
        {
          "output_type": "display_data",
          "data": {
            "text/html": [
              "<img src=\"https://www.thecocktaildb.com/images/media/drink/eirmo71487603745.jpg\" height=\"50\"/>"
            ],
            "text/plain": [
              "<IPython.core.display.Image object>"
            ]
          },
          "metadata": {}
        },
        {
          "output_type": "stream",
          "name": "stdout",
          "text": [
            "Limeade\n"
          ]
        },
        {
          "output_type": "display_data",
          "data": {
            "text/html": [
              "<img src=\"https://www.thecocktaildb.com/images/media/drink/5jdp5r1487603680.jpg\" height=\"50\"/>"
            ],
            "text/plain": [
              "<IPython.core.display.Image object>"
            ]
          },
          "metadata": {}
        },
        {
          "output_type": "stream",
          "name": "stdout",
          "text": [
            "Mango Orange Smoothie\n"
          ]
        },
        {
          "output_type": "display_data",
          "data": {
            "text/html": [
              "<img src=\"https://www.thecocktaildb.com/images/media/drink/vdp2do1487603520.jpg\" height=\"50\"/>"
            ],
            "text/plain": [
              "<IPython.core.display.Image object>"
            ]
          },
          "metadata": {}
        },
        {
          "output_type": "stream",
          "name": "stdout",
          "text": [
            "Masala Chai\n"
          ]
        },
        {
          "output_type": "display_data",
          "data": {
            "text/html": [
              "<img src=\"https://www.thecocktaildb.com/images/media/drink/uyrpww1441246384.jpg\" height=\"50\"/>"
            ],
            "text/plain": [
              "<IPython.core.display.Image object>"
            ]
          },
          "metadata": {}
        },
        {
          "output_type": "stream",
          "name": "stdout",
          "text": [
            "Melya\n"
          ]
        },
        {
          "output_type": "display_data",
          "data": {
            "text/html": [
              "<img src=\"https://www.thecocktaildb.com/images/media/drink/xwtptq1441247579.jpg\" height=\"50\"/>"
            ],
            "text/plain": [
              "<IPython.core.display.Image object>"
            ]
          },
          "metadata": {}
        },
        {
          "output_type": "stream",
          "name": "stdout",
          "text": [
            "Microwave Hot Cocoa\n"
          ]
        },
        {
          "output_type": "display_data",
          "data": {
            "text/html": [
              "<img src=\"https://www.thecocktaildb.com/images/media/drink/8y4x5f1487603151.jpg\" height=\"50\"/>"
            ],
            "text/plain": [
              "<IPython.core.display.Image object>"
            ]
          },
          "metadata": {}
        },
        {
          "output_type": "stream",
          "name": "stdout",
          "text": [
            "Nuked Hot Chocolate\n"
          ]
        },
        {
          "output_type": "display_data",
          "data": {
            "text/html": [
              "<img src=\"https://www.thecocktaildb.com/images/media/drink/xcu6nb1487603142.jpg\" height=\"50\"/>"
            ],
            "text/plain": [
              "<IPython.core.display.Image object>"
            ]
          },
          "metadata": {}
        },
        {
          "output_type": "stream",
          "name": "stdout",
          "text": [
            "Orange Scented Hot Chocolate\n"
          ]
        },
        {
          "output_type": "display_data",
          "data": {
            "text/html": [
              "<img src=\"https://www.thecocktaildb.com/images/media/drink/hdzwrh1487603131.jpg\" height=\"50\"/>"
            ],
            "text/plain": [
              "<IPython.core.display.Image object>"
            ]
          },
          "metadata": {}
        },
        {
          "output_type": "stream",
          "name": "stdout",
          "text": [
            "Orangeade\n"
          ]
        },
        {
          "output_type": "display_data",
          "data": {
            "text/html": [
              "<img src=\"https://www.thecocktaildb.com/images/media/drink/ytsxxw1441167732.jpg\" height=\"50\"/>"
            ],
            "text/plain": [
              "<IPython.core.display.Image object>"
            ]
          },
          "metadata": {}
        },
        {
          "output_type": "stream",
          "name": "stdout",
          "text": [
            "Pineapple Gingerale Smoothie\n"
          ]
        },
        {
          "output_type": "display_data",
          "data": {
            "text/html": [
              "<img src=\"https://www.thecocktaildb.com/images/media/drink/eg9i1d1487603469.jpg\" height=\"50\"/>"
            ],
            "text/plain": [
              "<IPython.core.display.Image object>"
            ]
          },
          "metadata": {}
        },
        {
          "output_type": "stream",
          "name": "stdout",
          "text": [
            "Pysch Vitamin Light\n"
          ]
        },
        {
          "output_type": "display_data",
          "data": {
            "text/html": [
              "<img src=\"https://www.thecocktaildb.com/images/media/drink/xsqsxw1441553580.jpg\" height=\"50\"/>"
            ],
            "text/plain": [
              "<IPython.core.display.Image object>"
            ]
          },
          "metadata": {}
        },
        {
          "output_type": "stream",
          "name": "stdout",
          "text": [
            "Rail Splitter\n"
          ]
        },
        {
          "output_type": "display_data",
          "data": {
            "text/html": [
              "<img src=\"https://www.thecocktaildb.com/images/media/drink/stsuqq1441207660.jpg\" height=\"50\"/>"
            ],
            "text/plain": [
              "<IPython.core.display.Image object>"
            ]
          },
          "metadata": {}
        },
        {
          "output_type": "stream",
          "name": "stdout",
          "text": [
            "Spanish chocolate\n"
          ]
        },
        {
          "output_type": "display_data",
          "data": {
            "text/html": [
              "<img src=\"https://www.thecocktaildb.com/images/media/drink/pra8vt1487603054.jpg\" height=\"50\"/>"
            ],
            "text/plain": [
              "<IPython.core.display.Image object>"
            ]
          },
          "metadata": {}
        },
        {
          "output_type": "stream",
          "name": "stdout",
          "text": [
            "Spiced Peach Punch\n"
          ]
        },
        {
          "output_type": "display_data",
          "data": {
            "text/html": [
              "<img src=\"https://www.thecocktaildb.com/images/media/drink/qxvypq1468924331.jpg\" height=\"50\"/>"
            ],
            "text/plain": [
              "<IPython.core.display.Image object>"
            ]
          },
          "metadata": {}
        },
        {
          "output_type": "stream",
          "name": "stdout",
          "text": [
            "Spiking coffee\n"
          ]
        },
        {
          "output_type": "display_data",
          "data": {
            "text/html": [
              "<img src=\"https://www.thecocktaildb.com/images/media/drink/isql6y1487602375.jpg\" height=\"50\"/>"
            ],
            "text/plain": [
              "<IPython.core.display.Image object>"
            ]
          },
          "metadata": {}
        },
        {
          "output_type": "stream",
          "name": "stdout",
          "text": [
            "Strawberry Lemonade\n"
          ]
        },
        {
          "output_type": "display_data",
          "data": {
            "text/html": [
              "<img src=\"https://www.thecocktaildb.com/images/media/drink/spvvxp1468924425.jpg\" height=\"50\"/>"
            ],
            "text/plain": [
              "<IPython.core.display.Image object>"
            ]
          },
          "metadata": {}
        },
        {
          "output_type": "stream",
          "name": "stdout",
          "text": [
            "Strawberry Shivers\n"
          ]
        },
        {
          "output_type": "display_data",
          "data": {
            "text/html": [
              "<img src=\"https://www.thecocktaildb.com/images/media/drink/9h1vvt1487603404.jpg\" height=\"50\"/>"
            ],
            "text/plain": [
              "<IPython.core.display.Image object>"
            ]
          },
          "metadata": {}
        },
        {
          "output_type": "stream",
          "name": "stdout",
          "text": [
            "Sweet Bananas\n"
          ]
        },
        {
          "output_type": "display_data",
          "data": {
            "text/html": [
              "<img src=\"https://www.thecocktaildb.com/images/media/drink/sxpcj71487603345.jpg\" height=\"50\"/>"
            ],
            "text/plain": [
              "<IPython.core.display.Image object>"
            ]
          },
          "metadata": {}
        },
        {
          "output_type": "stream",
          "name": "stdout",
          "text": [
            "Thai Coffee\n"
          ]
        },
        {
          "output_type": "display_data",
          "data": {
            "text/html": [
              "<img src=\"https://www.thecocktaildb.com/images/media/drink/wquwxs1441247025.jpg\" height=\"50\"/>"
            ],
            "text/plain": [
              "<IPython.core.display.Image object>"
            ]
          },
          "metadata": {}
        },
        {
          "output_type": "stream",
          "name": "stdout",
          "text": [
            "Thai Iced Coffee\n"
          ]
        },
        {
          "output_type": "display_data",
          "data": {
            "text/html": [
              "<img src=\"https://www.thecocktaildb.com/images/media/drink/rqpypv1441245650.jpg\" height=\"50\"/>"
            ],
            "text/plain": [
              "<IPython.core.display.Image object>"
            ]
          },
          "metadata": {}
        },
        {
          "output_type": "stream",
          "name": "stdout",
          "text": [
            "Thai Iced Tea\n"
          ]
        },
        {
          "output_type": "display_data",
          "data": {
            "text/html": [
              "<img src=\"https://www.thecocktaildb.com/images/media/drink/trvwpu1441245568.jpg\" height=\"50\"/>"
            ],
            "text/plain": [
              "<IPython.core.display.Image object>"
            ]
          },
          "metadata": {}
        },
        {
          "output_type": "stream",
          "name": "stdout",
          "text": [
            "Tomato Tang\n"
          ]
        },
        {
          "output_type": "display_data",
          "data": {
            "text/html": [
              "<img src=\"https://www.thecocktaildb.com/images/media/drink/869qr81487603278.jpg\" height=\"50\"/>"
            ],
            "text/plain": [
              "<IPython.core.display.Image object>"
            ]
          },
          "metadata": {}
        },
        {
          "output_type": "stream",
          "name": "stdout",
          "text": [
            "Yoghurt Cooler\n"
          ]
        },
        {
          "output_type": "display_data",
          "data": {
            "text/html": [
              "<img src=\"https://www.thecocktaildb.com/images/media/drink/trttrv1441254466.jpg\" height=\"50\"/>"
            ],
            "text/plain": [
              "<IPython.core.display.Image object>"
            ]
          },
          "metadata": {}
        }
      ]
    },
    {
      "cell_type": "code",
      "source": [],
      "metadata": {
        "id": "_Xi4M4xshPlJ"
      },
      "execution_count": null,
      "outputs": []
    }
  ]
}