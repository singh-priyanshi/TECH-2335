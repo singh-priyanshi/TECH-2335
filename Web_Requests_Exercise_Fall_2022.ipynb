{
  "nbformat": 4,
  "nbformat_minor": 0,
  "metadata": {
    "colab": {
      "provenance": [],
      "include_colab_link": true
    },
    "kernelspec": {
      "name": "python3",
      "display_name": "Python 3"
    }
  },
  "cells": [
    {
      "cell_type": "markdown",
      "metadata": {
        "id": "view-in-github",
        "colab_type": "text"
      },
      "source": [
        "<a href=\"https://colab.research.google.com/github/singh-priyanshi/py/blob/main/Web_Requests_Exercise_Fall_2022.ipynb\" target=\"_parent\"><img src=\"https://colab.research.google.com/assets/colab-badge.svg\" alt=\"Open In Colab\"/></a>"
      ]
    },
    {
      "cell_type": "markdown",
      "metadata": {
        "id": "bej520VKmMXQ"
      },
      "source": [
        "\n",
        "\n",
        "# Learning Objectives\n",
        "\n",
        "  + Practice using Python to request static data files located on the Internet, focusing on \"GET\" requests.\n",
        "  + Increase exposure to JSON-formatted data, and practice processing it in Python.\n",
        "  + Leverage built-in Python modules and third-party Python packages to speed development and enhance capabilities.\n",
        "  + Prepare to issue requests to get data from web services (APIs).\n",
        "\n",
        "\n"
      ]
    },
    {
      "cell_type": "markdown",
      "metadata": {
        "id": "Vd1fTwy5muAZ"
      },
      "source": [
        "# Instructions"
      ]
    },
    {
      "cell_type": "markdown",
      "metadata": {
        "id": "oSsRKvXCmVO2"
      },
      "source": [
        "\n",
        "\n",
        "Write Python code to tackle each of the challenges below. Each challenge asks you to fetch some data from the internet and process it.\n",
        "\n",
        "\n",
        "> HINT: for the JSON and HTML challenges, let's use [the `requests` package](https://github.com/prof-rossetti/intro-to-python/blob/master/notes/python/packages/requests.md) to issue our HTTP requests to get the data.\n"
      ]
    },
    {
      "cell_type": "markdown",
      "metadata": {
        "id": "a8SONi7zmU7L"
      },
      "source": [
        "# Setup\n",
        "\n",
        "> FYI: The Google Colab environment already has the requests package installed, so no need to take action. Otherwise if we are working locally we'll need to install it separately via pip (`pip install requests`) into an active virtual environment.\n",
        "\n"
      ]
    },
    {
      "cell_type": "code",
      "metadata": {
        "id": "FNEyz4ZEoeZZ",
        "colab": {
          "base_uri": "https://localhost:8080/"
        },
        "outputId": "3bf70c08-e956-439f-be87-2df8091342c6"
      },
      "source": [
        "!pip list\n",
        "\n",
        "#Before running this code, make sure you have the requests library installed. You can install it using the following command: 'pip install requests'"
      ],
      "execution_count": 1,
      "outputs": [
        {
          "output_type": "stream",
          "name": "stdout",
          "text": [
            "Package                          Version\n",
            "-------------------------------- ---------------------\n",
            "absl-py                          1.4.0\n",
            "aiohttp                          3.8.5\n",
            "aiosignal                        1.3.1\n",
            "alabaster                        0.7.13\n",
            "albumentations                   1.3.1\n",
            "altair                           4.2.2\n",
            "annotated-types                  0.5.0\n",
            "anyio                            3.7.1\n",
            "appdirs                          1.4.4\n",
            "argon2-cffi                      21.3.0\n",
            "argon2-cffi-bindings             21.2.0\n",
            "array-record                     0.4.1\n",
            "arviz                            0.15.1\n",
            "astropy                          5.3.1\n",
            "astunparse                       1.6.3\n",
            "async-timeout                    4.0.3\n",
            "attrs                            23.1.0\n",
            "audioread                        3.0.0\n",
            "autograd                         1.6.2\n",
            "Babel                            2.12.1\n",
            "backcall                         0.2.0\n",
            "beautifulsoup4                   4.11.2\n",
            "bleach                           6.0.0\n",
            "blinker                          1.4\n",
            "blis                             0.7.10\n",
            "blosc2                           2.0.0\n",
            "bokeh                            3.2.2\n",
            "branca                           0.6.0\n",
            "build                            0.10.0\n",
            "CacheControl                     0.13.1\n",
            "cachetools                       5.3.1\n",
            "catalogue                        2.0.9\n",
            "certifi                          2023.7.22\n",
            "cffi                             1.15.1\n",
            "chardet                          5.2.0\n",
            "charset-normalizer               3.2.0\n",
            "chex                             0.1.7\n",
            "click                            8.1.6\n",
            "click-plugins                    1.1.1\n",
            "cligj                            0.7.2\n",
            "cloudpickle                      2.2.1\n",
            "cmake                            3.27.2\n",
            "cmdstanpy                        1.1.0\n",
            "colorcet                         3.0.1\n",
            "colorlover                       0.3.0\n",
            "community                        1.0.0b1\n",
            "confection                       0.1.1\n",
            "cons                             0.4.6\n",
            "contextlib2                      21.6.0\n",
            "contourpy                        1.1.0\n",
            "convertdate                      2.4.0\n",
            "cryptography                     41.0.3\n",
            "cufflinks                        0.17.3\n",
            "cvxopt                           1.3.2\n",
            "cvxpy                            1.3.2\n",
            "cycler                           0.11.0\n",
            "cymem                            2.0.7\n",
            "Cython                           0.29.36\n",
            "dask                             2023.8.0\n",
            "datascience                      0.17.6\n",
            "db-dtypes                        1.1.1\n",
            "dbus-python                      1.2.18\n",
            "debugpy                          1.6.6\n",
            "decorator                        4.4.2\n",
            "defusedxml                       0.7.1\n",
            "distributed                      2023.8.0\n",
            "distro                           1.7.0\n",
            "dlib                             19.24.2\n",
            "dm-tree                          0.1.8\n",
            "docutils                         0.18.1\n",
            "dopamine-rl                      4.0.6\n",
            "duckdb                           0.8.1\n",
            "earthengine-api                  0.1.363\n",
            "easydict                         1.10\n",
            "ecos                             2.0.12\n",
            "editdistance                     0.6.2\n",
            "en-core-web-sm                   3.6.0\n",
            "entrypoints                      0.4\n",
            "ephem                            4.1.4\n",
            "et-xmlfile                       1.1.0\n",
            "etils                            1.4.1\n",
            "etuples                          0.3.9\n",
            "exceptiongroup                   1.1.2\n",
            "fastai                           2.7.12\n",
            "fastcore                         1.5.29\n",
            "fastdownload                     0.0.7\n",
            "fastjsonschema                   2.18.0\n",
            "fastprogress                     1.0.3\n",
            "fastrlock                        0.8.1\n",
            "filelock                         3.12.2\n",
            "Fiona                            1.9.4.post1\n",
            "firebase-admin                   5.3.0\n",
            "Flask                            2.2.5\n",
            "flatbuffers                      23.5.26\n",
            "flax                             0.7.2\n",
            "folium                           0.14.0\n",
            "fonttools                        4.42.0\n",
            "frozendict                       2.3.8\n",
            "frozenlist                       1.4.0\n",
            "fsspec                           2023.6.0\n",
            "future                           0.18.3\n",
            "gast                             0.4.0\n",
            "gcsfs                            2023.6.0\n",
            "GDAL                             3.4.3\n",
            "gdown                            4.6.6\n",
            "gensim                           4.3.1\n",
            "geographiclib                    2.0\n",
            "geopandas                        0.13.2\n",
            "geopy                            2.3.0\n",
            "gin-config                       0.5.0\n",
            "glob2                            0.7\n",
            "google                           2.0.3\n",
            "google-api-core                  2.11.1\n",
            "google-api-python-client         2.84.0\n",
            "google-auth                      2.17.3\n",
            "google-auth-httplib2             0.1.0\n",
            "google-auth-oauthlib             1.0.0\n",
            "google-cloud-bigquery            3.10.0\n",
            "google-cloud-bigquery-connection 1.12.1\n",
            "google-cloud-bigquery-storage    2.22.0\n",
            "google-cloud-core                2.3.3\n",
            "google-cloud-datastore           2.15.2\n",
            "google-cloud-firestore           2.11.1\n",
            "google-cloud-functions           1.13.2\n",
            "google-cloud-language            2.9.1\n",
            "google-cloud-storage             2.8.0\n",
            "google-cloud-translate           3.11.3\n",
            "google-colab                     1.0.0\n",
            "google-crc32c                    1.5.0\n",
            "google-pasta                     0.2.0\n",
            "google-resumable-media           2.5.0\n",
            "googleapis-common-protos         1.60.0\n",
            "googledrivedownloader            0.4\n",
            "graphviz                         0.20.1\n",
            "greenlet                         2.0.2\n",
            "grpc-google-iam-v1               0.12.6\n",
            "grpcio                           1.57.0\n",
            "grpcio-status                    1.48.2\n",
            "gspread                          3.4.2\n",
            "gspread-dataframe                3.3.1\n",
            "gym                              0.25.2\n",
            "gym-notices                      0.0.8\n",
            "h5netcdf                         1.2.0\n",
            "h5py                             3.9.0\n",
            "holidays                         0.30\n",
            "holoviews                        1.17.0\n",
            "html5lib                         1.1\n",
            "httpimport                       1.3.1\n",
            "httplib2                         0.22.0\n",
            "humanize                         4.7.0\n",
            "hyperopt                         0.2.7\n",
            "idna                             3.4\n",
            "imageio                          2.31.1\n",
            "imageio-ffmpeg                   0.4.8\n",
            "imagesize                        1.4.1\n",
            "imbalanced-learn                 0.10.1\n",
            "imgaug                           0.4.0\n",
            "importlib-metadata               6.8.0\n",
            "importlib-resources              6.0.1\n",
            "imutils                          0.5.4\n",
            "inflect                          7.0.0\n",
            "iniconfig                        2.0.0\n",
            "intel-openmp                     2023.2.0\n",
            "ipykernel                        5.5.6\n",
            "ipython                          7.34.0\n",
            "ipython-genutils                 0.2.0\n",
            "ipython-sql                      0.5.0\n",
            "ipywidgets                       7.7.1\n",
            "itsdangerous                     2.1.2\n",
            "jax                              0.4.14\n",
            "jaxlib                           0.4.14+cuda11.cudnn86\n",
            "jeepney                          0.7.1\n",
            "jieba                            0.42.1\n",
            "Jinja2                           3.1.2\n",
            "joblib                           1.3.2\n",
            "jsonpickle                       3.0.2\n",
            "jsonschema                       4.19.0\n",
            "jsonschema-specifications        2023.7.1\n",
            "jupyter-client                   6.1.12\n",
            "jupyter-console                  6.1.0\n",
            "jupyter_core                     5.3.1\n",
            "jupyter-server                   1.24.0\n",
            "jupyterlab-pygments              0.2.2\n",
            "jupyterlab-widgets               3.0.8\n",
            "kaggle                           1.5.16\n",
            "keras                            2.12.0\n",
            "keyring                          23.5.0\n",
            "kiwisolver                       1.4.4\n",
            "langcodes                        3.3.0\n",
            "launchpadlib                     1.10.16\n",
            "lazr.restfulclient               0.14.4\n",
            "lazr.uri                         1.0.6\n",
            "lazy_loader                      0.3\n",
            "libclang                         16.0.6\n",
            "librosa                          0.10.0.post2\n",
            "lightgbm                         4.0.0\n",
            "linkify-it-py                    2.0.2\n",
            "lit                              16.0.6\n",
            "llvmlite                         0.39.1\n",
            "locket                           1.0.0\n",
            "logical-unification              0.4.6\n",
            "LunarCalendar                    0.0.9\n",
            "lxml                             4.9.3\n",
            "Markdown                         3.4.4\n",
            "markdown-it-py                   3.0.0\n",
            "MarkupSafe                       2.1.3\n",
            "matplotlib                       3.7.1\n",
            "matplotlib-inline                0.1.6\n",
            "matplotlib-venn                  0.11.9\n",
            "mdit-py-plugins                  0.4.0\n",
            "mdurl                            0.1.2\n",
            "miniKanren                       1.0.3\n",
            "missingno                        0.5.2\n",
            "mistune                          0.8.4\n",
            "mizani                           0.9.2\n",
            "mkl                              2023.2.0\n",
            "ml-dtypes                        0.2.0\n",
            "mlxtend                          0.22.0\n",
            "more-itertools                   10.1.0\n",
            "moviepy                          1.0.3\n",
            "mpmath                           1.3.0\n",
            "msgpack                          1.0.5\n",
            "multidict                        6.0.4\n",
            "multipledispatch                 1.0.0\n",
            "multitasking                     0.0.11\n",
            "murmurhash                       1.0.9\n",
            "music21                          9.1.0\n",
            "natsort                          8.4.0\n",
            "nbclient                         0.8.0\n",
            "nbconvert                        6.5.4\n",
            "nbformat                         5.9.2\n",
            "nest-asyncio                     1.5.7\n",
            "networkx                         3.1\n",
            "nibabel                          4.0.2\n",
            "nltk                             3.8.1\n",
            "notebook                         6.4.8\n",
            "numba                            0.56.4\n",
            "numexpr                          2.8.5\n",
            "numpy                            1.23.5\n",
            "oauth2client                     4.1.3\n",
            "oauthlib                         3.2.2\n",
            "opencv-contrib-python            4.8.0.76\n",
            "opencv-python                    4.8.0.76\n",
            "opencv-python-headless           4.8.0.76\n",
            "openpyxl                         3.1.2\n",
            "opt-einsum                       3.3.0\n",
            "optax                            0.1.7\n",
            "orbax-checkpoint                 0.3.2\n",
            "osqp                             0.6.2.post8\n",
            "packaging                        23.1\n",
            "pandas                           1.5.3\n",
            "pandas-datareader                0.10.0\n",
            "pandas-gbq                       0.17.9\n",
            "pandocfilters                    1.5.0\n",
            "panel                            1.2.1\n",
            "param                            1.13.0\n",
            "parso                            0.8.3\n",
            "partd                            1.4.0\n",
            "pathlib                          1.0.1\n",
            "pathy                            0.10.2\n",
            "patsy                            0.5.3\n",
            "pexpect                          4.8.0\n",
            "pickleshare                      0.7.5\n",
            "Pillow                           9.4.0\n",
            "pip                              23.1.2\n",
            "pip-tools                        6.13.0\n",
            "platformdirs                     3.10.0\n",
            "plotly                           5.15.0\n",
            "plotnine                         0.12.2\n",
            "pluggy                           1.2.0\n",
            "polars                           0.17.3\n",
            "pooch                            1.6.0\n",
            "portpicker                       1.5.2\n",
            "prefetch-generator               1.0.3\n",
            "preshed                          3.0.8\n",
            "prettytable                      3.8.0\n",
            "proglog                          0.1.10\n",
            "progressbar2                     4.2.0\n",
            "prometheus-client                0.17.1\n",
            "promise                          2.3\n",
            "prompt-toolkit                   3.0.39\n",
            "prophet                          1.1.4\n",
            "proto-plus                       1.22.3\n",
            "protobuf                         3.20.3\n",
            "psutil                           5.9.5\n",
            "psycopg2                         2.9.7\n",
            "ptyprocess                       0.7.0\n",
            "py-cpuinfo                       9.0.0\n",
            "py4j                             0.10.9.7\n",
            "pyarrow                          9.0.0\n",
            "pyasn1                           0.5.0\n",
            "pyasn1-modules                   0.3.0\n",
            "pycocotools                      2.0.6\n",
            "pycparser                        2.21\n",
            "pyct                             0.5.0\n",
            "pydantic                         2.1.1\n",
            "pydantic_core                    2.4.0\n",
            "pydata-google-auth               1.8.2\n",
            "pydot                            1.4.2\n",
            "pydot-ng                         2.0.0\n",
            "pydotplus                        2.0.2\n",
            "PyDrive                          1.3.1\n",
            "PyDrive2                         1.6.3\n",
            "pyerfa                           2.0.0.3\n",
            "pygame                           2.5.0\n",
            "Pygments                         2.16.1\n",
            "PyGObject                        3.42.1\n",
            "PyJWT                            2.3.0\n",
            "pymc                             5.7.2\n",
            "PyMeeus                          0.5.12\n",
            "pymystem3                        0.2.0\n",
            "PyOpenGL                         3.1.7\n",
            "pyOpenSSL                        23.2.0\n",
            "pyparsing                        3.1.1\n",
            "pyproj                           3.6.0\n",
            "pyproject_hooks                  1.0.0\n",
            "PySocks                          1.7.1\n",
            "pytensor                         2.14.2\n",
            "pytest                           7.4.0\n",
            "python-apt                       0.0.0\n",
            "python-dateutil                  2.8.2\n",
            "python-louvain                   0.16\n",
            "python-slugify                   8.0.1\n",
            "python-utils                     3.7.0\n",
            "pytz                             2023.3\n",
            "pyviz-comms                      2.3.2\n",
            "PyWavelets                       1.4.1\n",
            "PyYAML                           6.0.1\n",
            "pyzmq                            23.2.1\n",
            "qdldl                            0.1.7.post0\n",
            "qudida                           0.0.4\n",
            "referencing                      0.30.2\n",
            "regex                            2023.6.3\n",
            "requests                         2.31.0\n",
            "requests-oauthlib                1.3.1\n",
            "requirements-parser              0.5.0\n",
            "rich                             13.5.2\n",
            "rpds-py                          0.9.2\n",
            "rpy2                             3.4.2\n",
            "rsa                              4.9\n",
            "scikit-image                     0.19.3\n",
            "scikit-learn                     1.2.2\n",
            "scipy                            1.10.1\n",
            "scs                              3.2.3\n",
            "seaborn                          0.12.2\n",
            "SecretStorage                    3.3.1\n",
            "Send2Trash                       1.8.2\n",
            "setuptools                       67.7.2\n",
            "shapely                          2.0.1\n",
            "six                              1.16.0\n",
            "sklearn-pandas                   2.2.0\n",
            "smart-open                       6.3.0\n",
            "sniffio                          1.3.0\n",
            "snowballstemmer                  2.2.0\n",
            "sortedcontainers                 2.4.0\n",
            "soundfile                        0.12.1\n",
            "soupsieve                        2.4.1\n",
            "soxr                             0.3.5\n",
            "spacy                            3.6.1\n",
            "spacy-legacy                     3.0.12\n",
            "spacy-loggers                    1.0.4\n",
            "Sphinx                           5.0.2\n",
            "sphinxcontrib-applehelp          1.0.6\n",
            "sphinxcontrib-devhelp            1.0.4\n",
            "sphinxcontrib-htmlhelp           2.0.3\n",
            "sphinxcontrib-jsmath             1.0.1\n",
            "sphinxcontrib-qthelp             1.0.5\n",
            "sphinxcontrib-serializinghtml    1.1.7\n",
            "SQLAlchemy                       2.0.19\n",
            "sqlparse                         0.4.4\n",
            "srsly                            2.4.7\n",
            "statsmodels                      0.14.0\n",
            "sympy                            1.12\n",
            "tables                           3.8.0\n",
            "tabulate                         0.9.0\n",
            "tbb                              2021.10.0\n",
            "tblib                            2.0.0\n",
            "tenacity                         8.2.2\n",
            "tensorboard                      2.12.3\n",
            "tensorboard-data-server          0.7.1\n",
            "tensorflow                       2.12.0\n",
            "tensorflow-datasets              4.9.2\n",
            "tensorflow-estimator             2.12.0\n",
            "tensorflow-gcs-config            2.12.0\n",
            "tensorflow-hub                   0.14.0\n",
            "tensorflow-io-gcs-filesystem     0.33.0\n",
            "tensorflow-metadata              1.14.0\n",
            "tensorflow-probability           0.20.1\n",
            "tensorstore                      0.1.41\n",
            "termcolor                        2.3.0\n",
            "terminado                        0.17.1\n",
            "text-unidecode                   1.3\n",
            "textblob                         0.17.1\n",
            "tf-slim                          1.1.0\n",
            "thinc                            8.1.12\n",
            "threadpoolctl                    3.2.0\n",
            "tifffile                         2023.8.12\n",
            "tinycss2                         1.2.1\n",
            "toml                             0.10.2\n",
            "tomli                            2.0.1\n",
            "toolz                            0.12.0\n",
            "torch                            2.0.1+cu118\n",
            "torchaudio                       2.0.2+cu118\n",
            "torchdata                        0.6.1\n",
            "torchsummary                     1.5.1\n",
            "torchtext                        0.15.2\n",
            "torchvision                      0.15.2+cu118\n",
            "tornado                          6.3.1\n",
            "tqdm                             4.66.1\n",
            "traitlets                        5.7.1\n",
            "triton                           2.0.0\n",
            "tweepy                           4.13.0\n",
            "typer                            0.9.0\n",
            "types-setuptools                 68.0.0.3\n",
            "typing_extensions                4.7.1\n",
            "tzlocal                          5.0.1\n",
            "uc-micro-py                      1.0.2\n",
            "uritemplate                      4.1.1\n",
            "urllib3                          2.0.4\n",
            "vega-datasets                    0.9.0\n",
            "wadllib                          1.3.6\n",
            "wasabi                           1.1.2\n",
            "wcwidth                          0.2.6\n",
            "webcolors                        1.13\n",
            "webencodings                     0.5.1\n",
            "websocket-client                 1.6.1\n",
            "Werkzeug                         2.3.6\n",
            "wheel                            0.41.1\n",
            "widgetsnbextension               3.6.5\n",
            "wordcloud                        1.9.2\n",
            "wrapt                            1.14.1\n",
            "xarray                           2023.7.0\n",
            "xarray-einstats                  0.6.0\n",
            "xgboost                          1.7.6\n",
            "xlrd                             2.0.1\n",
            "xyzservices                      2023.7.0\n",
            "yarl                             1.9.2\n",
            "yellowbrick                      1.5\n",
            "yfinance                         0.2.28\n",
            "zict                             3.0.0\n",
            "zipp                             3.16.2\n"
          ]
        }
      ]
    },
    {
      "cell_type": "markdown",
      "metadata": {
        "id": "_rV1jf7ynbEg"
      },
      "source": [
        "\n",
        "\n",
        "# JSON Challenges\n",
        "\n",
        "\n",
        "> FYI: the response text for each basic challenge will be a string formatted as JSON, so you can use [the `json` module](https://github.com/prof-rossetti/intro-to-python/blob/master/notes/python/modules/json.md) to parse it and convert into a Python datastructure.\n",
        "\n",
        "> NOTE: depending on which URL we are making a request to, sometimes the JSON response will resemble a Python list and sometimes it will resemble a Python dictionary, so make sure to parse each accordingly.\n",
        "\n"
      ]
    },
    {
      "cell_type": "markdown",
      "metadata": {
        "id": "9UvD5No6mVmi"
      },
      "source": [
        "\n",
        "## 1) Requesting a Product (JSON)\n",
        "\n",
        "Write Python code which issues a GET request for this [product](https://raw.githubusercontent.com/prof-rossetti/intro-to-python/master/data/products/2.json) data, then prints the product's \"name\".\n",
        "\n"
      ]
    },
    {
      "cell_type": "code",
      "source": [
        "product_url = \"https://raw.githubusercontent.com/prof-rossetti/intro-to-python/master/data/products/2.json\"\n",
        "\n",
        "# write code here"
      ],
      "metadata": {
        "id": "-773kcycrVdw"
      },
      "execution_count": null,
      "outputs": []
    },
    {
      "cell_type": "code",
      "metadata": {
        "id": "jbs9_7KpnicX",
        "colab": {
          "base_uri": "https://localhost:8080/"
        },
        "outputId": "5f9fe2ee-886f-4933-c698-fa9df51f176f"
      },
      "source": [
        "import requests  #need to import this lib\n",
        "product_url = \"https://raw.githubusercontent.com/prof-rossetti/intro-to-python/master/data/products/2.json\"\n",
        "\n",
        "# write code here\n",
        "r = requests.get(product_url)\n",
        "print (type(r))\n",
        "\n",
        "#dir(r)"
      ],
      "execution_count": 4,
      "outputs": [
        {
          "output_type": "stream",
          "name": "stdout",
          "text": [
            "<class 'requests.models.Response'>\n"
          ]
        }
      ]
    },
    {
      "cell_type": "code",
      "source": [
        "print(r.status_code)"
      ],
      "metadata": {
        "colab": {
          "base_uri": "https://localhost:8080/"
        },
        "id": "MKOUU2vbktXu",
        "outputId": "4bd2385d-ae0e-4eb2-da56-5d1a7c935856"
      },
      "execution_count": 5,
      "outputs": [
        {
          "output_type": "stream",
          "name": "stdout",
          "text": [
            "200\n"
          ]
        }
      ]
    },
    {
      "cell_type": "code",
      "source": [
        "print(r.text)"
      ],
      "metadata": {
        "colab": {
          "base_uri": "https://localhost:8080/"
        },
        "id": "HivnVZ3dkyUZ",
        "outputId": "b7ee9525-0fd3-4e47-f592-c57a1fc4e081"
      },
      "execution_count": 6,
      "outputs": [
        {
          "output_type": "stream",
          "name": "stdout",
          "text": [
            "{\n",
            "  \"aisle\": \"spices seasonings\",\n",
            "  \"department\": \"pantry\",\n",
            "  \"id\": 2,\n",
            "  \"name\": \"All-Seasons Salt\",\n",
            "  \"price\": 4.99\n",
            "}\n",
            "\n"
          ]
        }
      ]
    },
    {
      "cell_type": "markdown",
      "source": [
        "This code will send a GET request to the provided URL, parse the JSON response, and extract the product's name to print it."
      ],
      "metadata": {
        "id": "lYg9e6kWll8R"
      }
    },
    {
      "cell_type": "code",
      "source": [
        "import requests\n",
        "\n",
        "product_url = \"https://raw.githubusercontent.com/prof-rossetti/intro-to-python/master/data/products/2.json\"\n",
        "\n",
        "# Issue a GET request to the product URL\n",
        "response = requests.get(product_url)\n",
        "\n",
        "# Check if the request was successful (status code 200)\n",
        "if response.status_code == 200:\n",
        "    # Parse the JSON response\n",
        "    product_data = response.json()\n",
        "\n",
        "    # Extract and print the product's name\n",
        "    product_name = product_data[\"name\"]\n",
        "    print(\"Product Name:\", product_name)\n",
        "else:\n",
        "    print(\"Failed to retrieve product data. Status code:\", response.status_code)\n"
      ],
      "metadata": {
        "colab": {
          "base_uri": "https://localhost:8080/"
        },
        "id": "Yn-fyoYAlUaA",
        "outputId": "ba2ec73e-8b8a-4c04-c2d4-3573dd39d4f7"
      },
      "execution_count": 7,
      "outputs": [
        {
          "output_type": "stream",
          "name": "stdout",
          "text": [
            "Product Name: All-Seasons Salt\n"
          ]
        }
      ]
    },
    {
      "cell_type": "markdown",
      "metadata": {
        "id": "WI49LVTUmV42"
      },
      "source": [
        "\n",
        "## 2) Requesting Products (JSON)\n",
        "\n",
        "Write Python code which issues a GET request for this [products](https://raw.githubusercontent.com/prof-rossetti/intro-to-python/master/data/products.json) data, then loop through each product and print its \"name\" and \"id\" attributes.\n",
        "\n"
      ]
    },
    {
      "cell_type": "code",
      "source": [
        "products_url = \"https://raw.githubusercontent.com/prof-rossetti/intro-to-python/master/data/products.json\"\n",
        "\n",
        "# write some code here"
      ],
      "metadata": {
        "id": "t7zHIl78rR5b"
      },
      "execution_count": null,
      "outputs": []
    },
    {
      "cell_type": "code",
      "metadata": {
        "id": "aDdTGXlpnnLP",
        "colab": {
          "base_uri": "https://localhost:8080/"
        },
        "outputId": "07144b80-b59e-42fb-e94f-397c6548c836"
      },
      "source": [
        "import requests  #need to import this lib\n",
        "products_url = \"https://raw.githubusercontent.com/prof-rossetti/intro-to-python/master/data/products.json\"\n",
        "\n",
        "# write some code here\n",
        "\n",
        "r = requests.get(product_url)\n",
        "print (type(r))"
      ],
      "execution_count": 11,
      "outputs": [
        {
          "output_type": "stream",
          "name": "stdout",
          "text": [
            "<class 'requests.models.Response'>\n"
          ]
        }
      ]
    },
    {
      "cell_type": "code",
      "source": [
        "print(r.text)"
      ],
      "metadata": {
        "colab": {
          "base_uri": "https://localhost:8080/"
        },
        "id": "Cu_hPeeOmTIy",
        "outputId": "fbc4cacd-102c-4f93-e116-190aa2e3c1c6"
      },
      "execution_count": 9,
      "outputs": [
        {
          "output_type": "stream",
          "name": "stdout",
          "text": [
            "{\n",
            "  \"aisle\": \"spices seasonings\",\n",
            "  \"department\": \"pantry\",\n",
            "  \"id\": 2,\n",
            "  \"name\": \"All-Seasons Salt\",\n",
            "  \"price\": 4.99\n",
            "}\n",
            "\n"
          ]
        }
      ]
    },
    {
      "cell_type": "code",
      "source": [
        "products_data = r.json()\n",
        "\n",
        "for product in products_data:\n",
        "  product_name = products_data['name']\n",
        "  product_id = products_data['id']\n",
        "  print(product)\n",
        "  print(product_name)"
      ],
      "metadata": {
        "colab": {
          "base_uri": "https://localhost:8080/"
        },
        "id": "IOKCBx1MmzEF",
        "outputId": "c6686064-90b8-486b-80f9-e0fbcebbf54a"
      },
      "execution_count": 20,
      "outputs": [
        {
          "output_type": "stream",
          "name": "stdout",
          "text": [
            "aisle\n",
            "All-Seasons Salt\n",
            "department\n",
            "All-Seasons Salt\n",
            "id\n",
            "All-Seasons Salt\n",
            "name\n",
            "All-Seasons Salt\n",
            "price\n",
            "All-Seasons Salt\n"
          ]
        }
      ]
    },
    {
      "cell_type": "code",
      "source": [
        "import requests\n",
        "\n",
        "product_url = \"https://raw.githubusercontent.com/prof-rossetti/intro-to-python/master/data/products/2.json\"\n",
        "\n",
        "response = requests.get(product_url)\n",
        "product_data = response.json()\n",
        "\n",
        "product_name = product_data[\"name\"]\n",
        "product_id = product_data[\"id\"]\n",
        "\n",
        "print(f\"Product Name: {product_name}\")\n",
        "print(f\"Product ID: {product_id}\")\n"
      ],
      "metadata": {
        "colab": {
          "base_uri": "https://localhost:8080/"
        },
        "id": "kXZxVo60p4_8",
        "outputId": "adf4b284-07f7-418b-e665-2a4e8cc9439d"
      },
      "execution_count": 25,
      "outputs": [
        {
          "output_type": "stream",
          "name": "stdout",
          "text": [
            "Product Name: All-Seasons Salt\n",
            "Product ID: 2\n"
          ]
        }
      ]
    },
    {
      "cell_type": "code",
      "source": [
        "import requests\n",
        "\n",
        "product_url = \"https://raw.githubusercontent.com/prof-rossetti/intro-to-python/master/data/products.json\"\n",
        "\n",
        "response = requests.get(product_url)\n",
        "\n",
        "if response.status_code == 200:\n",
        "    products_data = response.json()\n",
        "\n",
        "    for product in products_data:\n",
        "        product_name = product['name']\n",
        "        product_id = product['id']\n",
        "\n",
        "        if product_name and product_id:\n",
        "            print(f\"Product Name: {product_name}\")\n",
        "            print(f\"Product ID: {product_id}\")\n",
        "            print(\"-\" * 30)\n",
        "else:\n",
        "    print(\"Failed to retrieve product data.\")\n"
      ],
      "metadata": {
        "colab": {
          "base_uri": "https://localhost:8080/"
        },
        "id": "c1cM8OORmdTU",
        "outputId": "da7e080d-e658-4766-a665-4d615c1d2ba9"
      },
      "execution_count": 112,
      "outputs": [
        {
          "output_type": "stream",
          "name": "stdout",
          "text": [
            "Product Name: Chocolate Sandwich Cookies\n",
            "Product ID: 1\n",
            "------------------------------\n",
            "Product Name: All-Seasons Salt\n",
            "Product ID: 2\n",
            "------------------------------\n",
            "Product Name: Robust Golden Unsweetened Oolong Tea\n",
            "Product ID: 3\n",
            "------------------------------\n",
            "Product Name: Smart Ones Classic Favorites Mini Rigatoni With Vodka Cream Sauce\n",
            "Product ID: 4\n",
            "------------------------------\n",
            "Product Name: Green Chile Anytime Sauce\n",
            "Product ID: 5\n",
            "------------------------------\n",
            "Product Name: Dry Nose Oil\n",
            "Product ID: 6\n",
            "------------------------------\n",
            "Product Name: Pure Coconut Water With Orange\n",
            "Product ID: 7\n",
            "------------------------------\n",
            "Product Name: Cut Russet Potatoes Steam N' Mash\n",
            "Product ID: 8\n",
            "------------------------------\n",
            "Product Name: Light Strawberry Blueberry Yogurt\n",
            "Product ID: 9\n",
            "------------------------------\n",
            "Product Name: Sparkling Orange Juice & Prickly Pear Beverage\n",
            "Product ID: 10\n",
            "------------------------------\n",
            "Product Name: Peach Mango Juice\n",
            "Product ID: 11\n",
            "------------------------------\n",
            "Product Name: Chocolate Fudge Layer Cake\n",
            "Product ID: 12\n",
            "------------------------------\n",
            "Product Name: Saline Nasal Mist\n",
            "Product ID: 13\n",
            "------------------------------\n",
            "Product Name: Fresh Scent Dishwasher Cleaner\n",
            "Product ID: 14\n",
            "------------------------------\n",
            "Product Name: Overnight Diapers Size 6\n",
            "Product ID: 15\n",
            "------------------------------\n",
            "Product Name: Mint Chocolate Flavored Syrup\n",
            "Product ID: 16\n",
            "------------------------------\n",
            "Product Name: Rendered Duck Fat\n",
            "Product ID: 17\n",
            "------------------------------\n",
            "Product Name: Pizza for One Suprema Frozen Pizza\n",
            "Product ID: 18\n",
            "------------------------------\n",
            "Product Name: Gluten Free Quinoa Three Cheese & Mushroom Blend\n",
            "Product ID: 19\n",
            "------------------------------\n",
            "Product Name: Pomegranate Cranberry & Aloe Vera Enrich Drink\n",
            "Product ID: 20\n",
            "------------------------------\n"
          ]
        }
      ]
    },
    {
      "cell_type": "code",
      "source": [
        "products_data"
      ],
      "metadata": {
        "colab": {
          "base_uri": "https://localhost:8080/"
        },
        "id": "CrCZiCY9Kk60",
        "outputId": "9535c432-d0cb-4235-cc1c-e762f699e54c"
      },
      "execution_count": 111,
      "outputs": [
        {
          "output_type": "execute_result",
          "data": {
            "text/plain": [
              "[{'aisle': 'cookies cakes',\n",
              "  'department': 'snacks',\n",
              "  'id': 1,\n",
              "  'name': 'Chocolate Sandwich Cookies',\n",
              "  'price': 3.5},\n",
              " {'aisle': 'spices seasonings',\n",
              "  'department': 'pantry',\n",
              "  'id': 2,\n",
              "  'name': 'All-Seasons Salt',\n",
              "  'price': 4.99},\n",
              " {'aisle': 'tea',\n",
              "  'department': 'beverages',\n",
              "  'id': 3,\n",
              "  'name': 'Robust Golden Unsweetened Oolong Tea',\n",
              "  'price': 2.49},\n",
              " {'aisle': 'frozen meals',\n",
              "  'department': 'frozen',\n",
              "  'id': 4,\n",
              "  'name': 'Smart Ones Classic Favorites Mini Rigatoni With Vodka Cream Sauce',\n",
              "  'price': 6.99},\n",
              " {'aisle': 'marinades meat preparation',\n",
              "  'department': 'pantry',\n",
              "  'id': 5,\n",
              "  'name': 'Green Chile Anytime Sauce',\n",
              "  'price': 7.99},\n",
              " {'aisle': 'cold flu allergy',\n",
              "  'department': 'personal care',\n",
              "  'id': 6,\n",
              "  'name': 'Dry Nose Oil',\n",
              "  'price': 21.99},\n",
              " {'aisle': 'juice nectars',\n",
              "  'department': 'beverages',\n",
              "  'id': 7,\n",
              "  'name': 'Pure Coconut Water With Orange',\n",
              "  'price': 3.5},\n",
              " {'aisle': 'frozen produce',\n",
              "  'department': 'frozen',\n",
              "  'id': 8,\n",
              "  'name': \"Cut Russet Potatoes Steam N' Mash\",\n",
              "  'price': 4.25},\n",
              " {'aisle': 'yogurt',\n",
              "  'department': 'dairy eggs',\n",
              "  'id': 9,\n",
              "  'name': 'Light Strawberry Blueberry Yogurt',\n",
              "  'price': 6.5},\n",
              " {'aisle': 'water seltzer sparkling water',\n",
              "  'department': 'beverages',\n",
              "  'id': 10,\n",
              "  'name': 'Sparkling Orange Juice & Prickly Pear Beverage',\n",
              "  'price': 2.99},\n",
              " {'aisle': 'refrigerated',\n",
              "  'department': 'beverages',\n",
              "  'id': 11,\n",
              "  'name': 'Peach Mango Juice',\n",
              "  'price': 1.99},\n",
              " {'aisle': 'frozen dessert',\n",
              "  'department': 'frozen',\n",
              "  'id': 12,\n",
              "  'name': 'Chocolate Fudge Layer Cake',\n",
              "  'price': 18.5},\n",
              " {'aisle': 'cold flu allergy',\n",
              "  'department': 'personal care',\n",
              "  'id': 13,\n",
              "  'name': 'Saline Nasal Mist',\n",
              "  'price': 16.0},\n",
              " {'aisle': 'dish detergents',\n",
              "  'department': 'household',\n",
              "  'id': 14,\n",
              "  'name': 'Fresh Scent Dishwasher Cleaner',\n",
              "  'price': 4.99},\n",
              " {'aisle': 'diapers wipes',\n",
              "  'department': 'babies',\n",
              "  'id': 15,\n",
              "  'name': 'Overnight Diapers Size 6',\n",
              "  'price': 25.5},\n",
              " {'aisle': 'ice cream toppings',\n",
              "  'department': 'snacks',\n",
              "  'id': 16,\n",
              "  'name': 'Mint Chocolate Flavored Syrup',\n",
              "  'price': 4.5},\n",
              " {'aisle': 'poultry counter',\n",
              "  'department': 'meat seafood',\n",
              "  'id': 17,\n",
              "  'name': 'Rendered Duck Fat',\n",
              "  'price': 9.99},\n",
              " {'aisle': 'frozen pizza',\n",
              "  'department': 'frozen',\n",
              "  'id': 18,\n",
              "  'name': 'Pizza for One Suprema Frozen Pizza',\n",
              "  'price': 12.5},\n",
              " {'aisle': 'grains rice dried goods',\n",
              "  'department': 'dry goods pasta',\n",
              "  'id': 19,\n",
              "  'name': 'Gluten Free Quinoa Three Cheese & Mushroom Blend',\n",
              "  'price': 3.99},\n",
              " {'aisle': 'juice nectars',\n",
              "  'department': 'beverages',\n",
              "  'id': 20,\n",
              "  'name': 'Pomegranate Cranberry & Aloe Vera Enrich Drink',\n",
              "  'price': 4.25}]"
            ]
          },
          "metadata": {},
          "execution_count": 111
        }
      ]
    },
    {
      "cell_type": "markdown",
      "source": [
        "ERROR CODE:"
      ],
      "metadata": {
        "id": "dYm1v771olUd"
      }
    },
    {
      "cell_type": "code",
      "source": [
        "import requests\n",
        "\n",
        "product_url = \"https://raw.githubusercontent.com/prof-rossetti/intro-to-python/master/data/products/2.json\"\n",
        "\n",
        "response = requests.get(product_url)\n",
        "\n",
        "if response.status_code == 200:\n",
        "    products_data = response.json()\n",
        "\n",
        "    for product in products_data:\n",
        "        product_name = product.get(\"name\")\n",
        "        product_id = product.get(\"id\")\n",
        "\n",
        "        if product_name and product_id:\n",
        "            print(f\"Product Name: {product_name}\")\n",
        "            print(f\"Product ID: {product_id}\")\n",
        "            print(\"-\" * 30)\n",
        "else:\n",
        "    print(\"Failed to retrieve product data.\")\n"
      ],
      "metadata": {
        "colab": {
          "base_uri": "https://localhost:8080/",
          "height": 245
        },
        "id": "vvhNwiRLnfVq",
        "outputId": "8e7c84fe-3832-4c5c-dec6-d4d2229fab88"
      },
      "execution_count": 17,
      "outputs": [
        {
          "output_type": "error",
          "ename": "AttributeError",
          "evalue": "ignored",
          "traceback": [
            "\u001b[0;31m---------------------------------------------------------------------------\u001b[0m",
            "\u001b[0;31mAttributeError\u001b[0m                            Traceback (most recent call last)",
            "\u001b[0;32m<ipython-input-17-dd093bfda05c>\u001b[0m in \u001b[0;36m<cell line: 7>\u001b[0;34m()\u001b[0m\n\u001b[1;32m      9\u001b[0m \u001b[0;34m\u001b[0m\u001b[0m\n\u001b[1;32m     10\u001b[0m     \u001b[0;32mfor\u001b[0m \u001b[0mproduct\u001b[0m \u001b[0;32min\u001b[0m \u001b[0mproducts_data\u001b[0m\u001b[0;34m:\u001b[0m\u001b[0;34m\u001b[0m\u001b[0;34m\u001b[0m\u001b[0m\n\u001b[0;32m---> 11\u001b[0;31m         \u001b[0mproduct_name\u001b[0m \u001b[0;34m=\u001b[0m \u001b[0mproduct\u001b[0m\u001b[0;34m.\u001b[0m\u001b[0mget\u001b[0m\u001b[0;34m(\u001b[0m\u001b[0;34m\"name\"\u001b[0m\u001b[0;34m)\u001b[0m\u001b[0;34m\u001b[0m\u001b[0;34m\u001b[0m\u001b[0m\n\u001b[0m\u001b[1;32m     12\u001b[0m         \u001b[0mproduct_id\u001b[0m \u001b[0;34m=\u001b[0m \u001b[0mproduct\u001b[0m\u001b[0;34m.\u001b[0m\u001b[0mget\u001b[0m\u001b[0;34m(\u001b[0m\u001b[0;34m\"id\"\u001b[0m\u001b[0;34m)\u001b[0m\u001b[0;34m\u001b[0m\u001b[0;34m\u001b[0m\u001b[0m\n\u001b[1;32m     13\u001b[0m \u001b[0;34m\u001b[0m\u001b[0m\n",
            "\u001b[0;31mAttributeError\u001b[0m: 'str' object has no attribute 'get'"
          ]
        }
      ]
    },
    {
      "cell_type": "code",
      "source": [
        "import requests\n",
        "\n",
        "product_url = \"https://raw.githubusercontent.com/prof-rossetti/intro-to-python/master/data/products/2.json\"\n",
        "\n",
        "response = requests.get(product_url)\n",
        "data = response.json()\n",
        "\n",
        "products = data[\"products\"]\n",
        "\n",
        "for product in products:\n",
        "    product_name = product[\"name\"]\n",
        "    product_id = product[\"id\"]\n",
        "    print(f\"Product Name: {product_name}\")\n",
        "    print(f\"Product ID: {product_id}\")\n",
        "    print(\"=\" * 30)\n"
      ],
      "metadata": {
        "colab": {
          "base_uri": "https://localhost:8080/",
          "height": 245
        },
        "id": "4YEO6iGQpRqG",
        "outputId": "c1921910-e8c7-406f-8ca9-941e1aa5c1a0"
      },
      "execution_count": 24,
      "outputs": [
        {
          "output_type": "error",
          "ename": "KeyError",
          "evalue": "ignored",
          "traceback": [
            "\u001b[0;31m---------------------------------------------------------------------------\u001b[0m",
            "\u001b[0;31mKeyError\u001b[0m                                  Traceback (most recent call last)",
            "\u001b[0;32m<ipython-input-24-057306bb6709>\u001b[0m in \u001b[0;36m<cell line: 8>\u001b[0;34m()\u001b[0m\n\u001b[1;32m      6\u001b[0m \u001b[0mdata\u001b[0m \u001b[0;34m=\u001b[0m \u001b[0mresponse\u001b[0m\u001b[0;34m.\u001b[0m\u001b[0mjson\u001b[0m\u001b[0;34m(\u001b[0m\u001b[0;34m)\u001b[0m\u001b[0;34m\u001b[0m\u001b[0;34m\u001b[0m\u001b[0m\n\u001b[1;32m      7\u001b[0m \u001b[0;34m\u001b[0m\u001b[0m\n\u001b[0;32m----> 8\u001b[0;31m \u001b[0mproducts\u001b[0m \u001b[0;34m=\u001b[0m \u001b[0mdata\u001b[0m\u001b[0;34m[\u001b[0m\u001b[0;34m\"products\"\u001b[0m\u001b[0;34m]\u001b[0m\u001b[0;34m\u001b[0m\u001b[0;34m\u001b[0m\u001b[0m\n\u001b[0m\u001b[1;32m      9\u001b[0m \u001b[0;34m\u001b[0m\u001b[0m\n\u001b[1;32m     10\u001b[0m \u001b[0;32mfor\u001b[0m \u001b[0mproduct\u001b[0m \u001b[0;32min\u001b[0m \u001b[0mproducts\u001b[0m\u001b[0;34m:\u001b[0m\u001b[0;34m\u001b[0m\u001b[0;34m\u001b[0m\u001b[0m\n",
            "\u001b[0;31mKeyError\u001b[0m: 'products'"
          ]
        }
      ]
    },
    {
      "cell_type": "code",
      "source": [
        "import requests\n",
        "\n",
        "product_url = \"https://raw.githubusercontent.com/prof-rossetti/intro-to-python/master/data/products/2.json\"\n",
        "\n",
        "response = requests.get(product_url)\n",
        "products = response.json()\n",
        "\n",
        "for product in products:\n",
        "    product_name = product[\"name\"]\n",
        "    product_id = product[\"id\"]\n",
        "    print(f\"Product Name: {product_name}\")\n",
        "    print(f\"Product ID: {product_id}\")\n",
        "    print(\"=\" * 30)\n"
      ],
      "metadata": {
        "colab": {
          "base_uri": "https://localhost:8080/",
          "height": 245
        },
        "id": "qR7arHrxpges",
        "outputId": "80e52b33-99bd-4dcc-bc94-a497bad3ec19"
      },
      "execution_count": 22,
      "outputs": [
        {
          "output_type": "error",
          "ename": "TypeError",
          "evalue": "ignored",
          "traceback": [
            "\u001b[0;31m---------------------------------------------------------------------------\u001b[0m",
            "\u001b[0;31mTypeError\u001b[0m                                 Traceback (most recent call last)",
            "\u001b[0;32m<ipython-input-22-ebdce7f5793d>\u001b[0m in \u001b[0;36m<cell line: 8>\u001b[0;34m()\u001b[0m\n\u001b[1;32m      7\u001b[0m \u001b[0;34m\u001b[0m\u001b[0m\n\u001b[1;32m      8\u001b[0m \u001b[0;32mfor\u001b[0m \u001b[0mproduct\u001b[0m \u001b[0;32min\u001b[0m \u001b[0mproducts\u001b[0m\u001b[0;34m:\u001b[0m\u001b[0;34m\u001b[0m\u001b[0;34m\u001b[0m\u001b[0m\n\u001b[0;32m----> 9\u001b[0;31m     \u001b[0mproduct_name\u001b[0m \u001b[0;34m=\u001b[0m \u001b[0mproduct\u001b[0m\u001b[0;34m[\u001b[0m\u001b[0;34m\"name\"\u001b[0m\u001b[0;34m]\u001b[0m\u001b[0;34m\u001b[0m\u001b[0;34m\u001b[0m\u001b[0m\n\u001b[0m\u001b[1;32m     10\u001b[0m     \u001b[0mproduct_id\u001b[0m \u001b[0;34m=\u001b[0m \u001b[0mproduct\u001b[0m\u001b[0;34m[\u001b[0m\u001b[0;34m\"id\"\u001b[0m\u001b[0;34m]\u001b[0m\u001b[0;34m\u001b[0m\u001b[0;34m\u001b[0m\u001b[0m\n\u001b[1;32m     11\u001b[0m     \u001b[0mprint\u001b[0m\u001b[0;34m(\u001b[0m\u001b[0;34mf\"Product Name: {product_name}\"\u001b[0m\u001b[0;34m)\u001b[0m\u001b[0;34m\u001b[0m\u001b[0;34m\u001b[0m\u001b[0m\n",
            "\u001b[0;31mTypeError\u001b[0m: string indices must be integers"
          ]
        }
      ]
    },
    {
      "cell_type": "markdown",
      "metadata": {
        "id": "_T8eX8JRmWKB"
      },
      "source": [
        "\n",
        "## 3) Requesting the Gradebook (JSON)\n",
        "\n",
        "Write Python code which issues a GET request for this [gradebook](https://raw.githubusercontent.com/prof-rossetti/intro-to-python/master/data/gradebook.json) data, then calculate and print the average, min, and max grades.\n"
      ]
    },
    {
      "cell_type": "code",
      "metadata": {
        "id": "HCyj9xEhobp5"
      },
      "source": [
        "\n",
        "gradebook_url = \"https://raw.githubusercontent.com/prof-rossetti/intro-to-python/master/data/gradebook.json\"\n",
        "\n",
        "# write some code here\n",
        "\n"
      ],
      "execution_count": null,
      "outputs": []
    },
    {
      "cell_type": "code",
      "source": [
        "import requests  #need to import this lib\n",
        "gradebook_url = \"https://raw.githubusercontent.com/prof-rossetti/intro-to-python/master/data/gradebook.json\"\n",
        "\n",
        "# write some code here\n",
        "\n",
        "r = requests.get(gradebook_url)\n",
        "print(r)\n",
        "print(r.text)"
      ],
      "metadata": {
        "colab": {
          "base_uri": "https://localhost:8080/"
        },
        "id": "1-7dHN0CrCyN",
        "outputId": "aab9f281-789b-4663-86a4-bc97239d8168"
      },
      "execution_count": 31,
      "outputs": [
        {
          "output_type": "stream",
          "name": "stdout",
          "text": [
            "<Response [200]>\n",
            "{\n",
            "  \"downloadDate\": \"2018-06-05\",\n",
            "  \"professorId\": 123,\n",
            "  \"students\":[\n",
            "    {\"studentId\": 1, \"finalGrade\": 76.7},\n",
            "    {\"studentId\": 2, \"finalGrade\": 85.1},\n",
            "    {\"studentId\": 3, \"finalGrade\": 50.3},\n",
            "    {\"studentId\": 4, \"finalGrade\": 89.8},\n",
            "    {\"studentId\": 5, \"finalGrade\": 97.4},\n",
            "    {\"studentId\": 6, \"finalGrade\": 75.5},\n",
            "    {\"studentId\": 7, \"finalGrade\": 87.2},\n",
            "    {\"studentId\": 8, \"finalGrade\": 88.0},\n",
            "    {\"studentId\": 9, \"finalGrade\": 93.9},\n",
            "    {\"studentId\": 10, \"finalGrade\": 92.5}\n",
            "  ]\n",
            "}\n",
            "\n"
          ]
        }
      ]
    },
    {
      "cell_type": "code",
      "source": [
        "import requests\n",
        "\n",
        "gradebook_url = \"https://raw.githubusercontent.com/prof-rossetti/intro-to-python/master/data/gradebook.json\"\n",
        "\n",
        "# Make a GET request to retrieve the gradebook JSON data\n",
        "response = requests.get(gradebook_url)\n",
        "gradebook_data = response.json()\n",
        "\n",
        "# Extract the list of grades from the gradebook data\n",
        "grades = [entry[\"finalGrade\"] for entry in gradebook_data[\"students\"]]\n",
        "\n",
        "# Calculate average, minimum, and maximum grades\n",
        "average_grade = sum(grades) / len(grades)\n",
        "min_grade = min(grades)\n",
        "max_grade = max(grades)\n",
        "\n",
        "# Print the results\n",
        "print(\"Average Grade:\", average_grade)\n",
        "print(\"Minimum Grade:\", min_grade)\n",
        "print(\"Maximum Grade:\", max_grade)\n",
        "\n"
      ],
      "metadata": {
        "colab": {
          "base_uri": "https://localhost:8080/"
        },
        "id": "ELaVKJvZrmQp",
        "outputId": "1b006f34-89e6-430a-bf5e-7d71ac185e2a"
      },
      "execution_count": 35,
      "outputs": [
        {
          "output_type": "stream",
          "name": "stdout",
          "text": [
            "Average Grade: 83.64000000000001\n",
            "Minimum Grade: 50.3\n",
            "Maximum Grade: 97.4\n"
          ]
        }
      ]
    },
    {
      "cell_type": "markdown",
      "source": [
        "ERROR:"
      ],
      "metadata": {
        "id": "YzEgDiQ1sPlH"
      }
    },
    {
      "cell_type": "code",
      "source": [
        "import requests\n",
        "\n",
        "gradebook_url = \"https://raw.githubusercontent.com/prof-rossetti/intro-to-python/master/data/gradebook.json\"\n",
        "\n",
        "# Make a GET request to retrieve the gradebook JSON data\n",
        "response = requests.get(gradebook_url)\n",
        "gradebook_data = response.json()\n",
        "\n",
        "# Extract the list of grades from the gradebook data\n",
        "grades = [entry[\"finalGrade\"] for entry in gradebook_data]\n",
        "\n",
        "# Calculate average, minimum, and maximum grades\n",
        "average_grade = sum(grades) / len(grades)\n",
        "min_grade = min(grades)\n",
        "max_grade = max(grades)\n",
        "\n",
        "# Print the results\n",
        "print(\"Average Grade:\", average_grade)\n",
        "print(\"Minimum Grade:\", min_grade)\n",
        "print(\"Maximum Grade:\", max_grade)\n"
      ],
      "metadata": {
        "colab": {
          "base_uri": "https://localhost:8080/",
          "height": 366
        },
        "id": "kEadTHy0sPIV",
        "outputId": "242a9d84-c28e-42cb-a6f4-99a3413abf59"
      },
      "execution_count": 36,
      "outputs": [
        {
          "output_type": "error",
          "ename": "TypeError",
          "evalue": "ignored",
          "traceback": [
            "\u001b[0;31m---------------------------------------------------------------------------\u001b[0m",
            "\u001b[0;31mTypeError\u001b[0m                                 Traceback (most recent call last)",
            "\u001b[0;32m<ipython-input-36-7f7992639c66>\u001b[0m in \u001b[0;36m<cell line: 10>\u001b[0;34m()\u001b[0m\n\u001b[1;32m      8\u001b[0m \u001b[0;34m\u001b[0m\u001b[0m\n\u001b[1;32m      9\u001b[0m \u001b[0;31m# Extract the list of grades from the gradebook data\u001b[0m\u001b[0;34m\u001b[0m\u001b[0;34m\u001b[0m\u001b[0m\n\u001b[0;32m---> 10\u001b[0;31m \u001b[0mgrades\u001b[0m \u001b[0;34m=\u001b[0m \u001b[0;34m[\u001b[0m\u001b[0mentry\u001b[0m\u001b[0;34m[\u001b[0m\u001b[0;34m\"finalGrade\"\u001b[0m\u001b[0;34m]\u001b[0m \u001b[0;32mfor\u001b[0m \u001b[0mentry\u001b[0m \u001b[0;32min\u001b[0m \u001b[0mgradebook_data\u001b[0m\u001b[0;34m]\u001b[0m\u001b[0;34m\u001b[0m\u001b[0;34m\u001b[0m\u001b[0m\n\u001b[0m\u001b[1;32m     11\u001b[0m \u001b[0;34m\u001b[0m\u001b[0m\n\u001b[1;32m     12\u001b[0m \u001b[0;31m# Calculate average, minimum, and maximum grades\u001b[0m\u001b[0;34m\u001b[0m\u001b[0;34m\u001b[0m\u001b[0m\n",
            "\u001b[0;32m<ipython-input-36-7f7992639c66>\u001b[0m in \u001b[0;36m<listcomp>\u001b[0;34m(.0)\u001b[0m\n\u001b[1;32m      8\u001b[0m \u001b[0;34m\u001b[0m\u001b[0m\n\u001b[1;32m      9\u001b[0m \u001b[0;31m# Extract the list of grades from the gradebook data\u001b[0m\u001b[0;34m\u001b[0m\u001b[0;34m\u001b[0m\u001b[0m\n\u001b[0;32m---> 10\u001b[0;31m \u001b[0mgrades\u001b[0m \u001b[0;34m=\u001b[0m \u001b[0;34m[\u001b[0m\u001b[0mentry\u001b[0m\u001b[0;34m[\u001b[0m\u001b[0;34m\"finalGrade\"\u001b[0m\u001b[0;34m]\u001b[0m \u001b[0;32mfor\u001b[0m \u001b[0mentry\u001b[0m \u001b[0;32min\u001b[0m \u001b[0mgradebook_data\u001b[0m\u001b[0;34m]\u001b[0m\u001b[0;34m\u001b[0m\u001b[0;34m\u001b[0m\u001b[0m\n\u001b[0m\u001b[1;32m     11\u001b[0m \u001b[0;34m\u001b[0m\u001b[0m\n\u001b[1;32m     12\u001b[0m \u001b[0;31m# Calculate average, minimum, and maximum grades\u001b[0m\u001b[0;34m\u001b[0m\u001b[0;34m\u001b[0m\u001b[0m\n",
            "\u001b[0;31mTypeError\u001b[0m: string indices must be integers"
          ]
        }
      ]
    },
    {
      "cell_type": "markdown",
      "metadata": {
        "id": "AY2e14m4Gp3C"
      },
      "source": [
        "# CSV Challenges\n",
        "\n",
        "> FYI: the response text for these challenges will be a string formatted as CSV, so you can use [the `pandas.read_csv` method](https://pandas.pydata.org/pandas-docs/stable/reference/api/pandas.read_csv.html) to parse it.\n",
        "\n"
      ]
    },
    {
      "cell_type": "markdown",
      "metadata": {
        "id": "Z5s2f91GG7ac"
      },
      "source": [
        "\n",
        "## 4) Requesting Products (CSV)\n",
        "\n",
        "Write Python code which issues a GET request for this [products](https://raw.githubusercontent.com/prof-rossetti/intro-to-python/master/data/products.csv) CSV data, then loop through each product and print its \"name\" and \"id\" attributes.\n",
        "\n"
      ]
    },
    {
      "cell_type": "code",
      "metadata": {
        "id": "Z293CsYgGood"
      },
      "source": [
        "products_csv_url = \"https://raw.githubusercontent.com/prof-rossetti/intro-to-python/master/data/products.csv\"\n",
        "\n",
        "# write some code here\n"
      ],
      "execution_count": null,
      "outputs": []
    },
    {
      "cell_type": "markdown",
      "source": [
        "In this code, we're using the csv module to process the CSV data. The csv.DictReader class reads the CSV data as dictionaries, where each row's data is accessible using the column headers as keys. We then loop through each row, extract the \"name\" and \"id\" attributes, and print them."
      ],
      "metadata": {
        "id": "KKKebz2f0uKJ"
      }
    },
    {
      "cell_type": "code",
      "source": [
        "import requests\n",
        "import csv\n",
        "from io import StringIO\n",
        "\n",
        "products_csv_url = \"https://raw.githubusercontent.com/prof-rossetti/intro-to-python/master/data/products.csv\"\n",
        "\n",
        "# Make a GET request to retrieve the products CSV data\n",
        "response = requests.get(products_csv_url)\n",
        "csv_data = response.text\n",
        "\n",
        "# Create a CSV reader\n",
        "csv_reader = csv.DictReader(StringIO(csv_data))\n",
        "\n",
        "# Loop through each product and print its \"name\" and \"id\" attributes\n",
        "for row in csv_reader:\n",
        "    product_name = row[\"name\"]\n",
        "    product_id = row[\"id\"]\n",
        "    print(\"Product Name:\", product_name)\n",
        "    print(\"Product ID:\", product_id)\n",
        "    print(\"-\" * 20)  # Separating line for better readability\n"
      ],
      "metadata": {
        "colab": {
          "base_uri": "https://localhost:8080/"
        },
        "id": "KLpx8a0L0RO8",
        "outputId": "e05e6531-39f3-4fb8-fed4-007e01287eb7"
      },
      "execution_count": 37,
      "outputs": [
        {
          "output_type": "stream",
          "name": "stdout",
          "text": [
            "Product Name: Chocolate Sandwich Cookies\n",
            "Product ID: 1\n",
            "--------------------\n",
            "Product Name: All-Seasons Salt\n",
            "Product ID: 2\n",
            "--------------------\n",
            "Product Name: Robust Golden Unsweetened Oolong Tea\n",
            "Product ID: 3\n",
            "--------------------\n",
            "Product Name: Smart Ones Classic Favorites Mini Rigatoni With Vodka Cream Sauce\n",
            "Product ID: 4\n",
            "--------------------\n",
            "Product Name: Green Chile Anytime Sauce\n",
            "Product ID: 5\n",
            "--------------------\n",
            "Product Name: Dry Nose Oil\n",
            "Product ID: 6\n",
            "--------------------\n",
            "Product Name: Pure Coconut Water With Orange\n",
            "Product ID: 7\n",
            "--------------------\n",
            "Product Name: Cut Russet Potatoes Steam N' Mash\n",
            "Product ID: 8\n",
            "--------------------\n",
            "Product Name: Light Strawberry Blueberry Yogurt\n",
            "Product ID: 9\n",
            "--------------------\n",
            "Product Name: Sparkling Orange Juice & Prickly Pear Beverage\n",
            "Product ID: 10\n",
            "--------------------\n",
            "Product Name: Peach Mango Juice\n",
            "Product ID: 11\n",
            "--------------------\n",
            "Product Name: Chocolate Fudge Layer Cake\n",
            "Product ID: 12\n",
            "--------------------\n",
            "Product Name: Saline Nasal Mist\n",
            "Product ID: 13\n",
            "--------------------\n",
            "Product Name: Fresh Scent Dishwasher Cleaner\n",
            "Product ID: 14\n",
            "--------------------\n",
            "Product Name: Overnight Diapers Size 6\n",
            "Product ID: 15\n",
            "--------------------\n",
            "Product Name: Mint Chocolate Flavored Syrup\n",
            "Product ID: 16\n",
            "--------------------\n",
            "Product Name: Rendered Duck Fat\n",
            "Product ID: 17\n",
            "--------------------\n",
            "Product Name: Pizza for One Suprema  Frozen Pizza\n",
            "Product ID: 18\n",
            "--------------------\n",
            "Product Name: Gluten Free Quinoa Three Cheese & Mushroom Blend\n",
            "Product ID: 19\n",
            "--------------------\n",
            "Product Name: Pomegranate Cranberry & Aloe Vera Enrich Drink\n",
            "Product ID: 20\n",
            "--------------------\n"
          ]
        }
      ]
    },
    {
      "cell_type": "markdown",
      "metadata": {
        "id": "7P61y0ljHL28"
      },
      "source": [
        "## 5) Requesting Stock Prices (CSV)\n",
        "\n",
        "Write Python code which issues a GET request for this [stock price](https://raw.githubusercontent.com/prof-rossetti/intro-to-python/main/data/daily_adjusted_nflx.csv) CSV data, then print the latest (adjusted) closing price."
      ]
    },
    {
      "cell_type": "code",
      "metadata": {
        "id": "TouJEu9FHdpx"
      },
      "source": [
        "\n",
        "nflx_prices_url = \"https://raw.githubusercontent.com/prof-rossetti/intro-to-python/main/data/daily_adjusted_nflx.csv\"\n",
        "\n",
        "# write some code here\n",
        "\n"
      ],
      "execution_count": null,
      "outputs": []
    },
    {
      "cell_type": "markdown",
      "source": [
        "\n",
        "To achieve this, you can use the requests library to make a GET request to the provided CSV URL, process the CSV data to extract the latest adjusted closing price, and then print it."
      ],
      "metadata": {
        "id": "X3sM_7270lV1"
      }
    },
    {
      "cell_type": "code",
      "source": [
        "import requests\n",
        "import csv\n",
        "from io import StringIO\n",
        "\n",
        "nflx_prices_url = \"https://raw.githubusercontent.com/prof-rossetti/intro-to-python/main/data/daily_adjusted_nflx.csv\"\n",
        "\n",
        "# Make a GET request to retrieve the NFLX stock price CSV data\n",
        "response = requests.get(nflx_prices_url)\n",
        "csv_data = response.text\n",
        "\n",
        "# Create a CSV reader\n",
        "csv_reader = csv.DictReader(StringIO(csv_data))\n",
        "\n",
        "# Initialize variables to store the latest date and price\n",
        "latest_date = None\n",
        "latest_price = None\n",
        "\n",
        "# Loop through each row and find the latest adjusted closing price\n",
        "for row in csv_reader:\n",
        "    date = row[\"timestamp\"]\n",
        "    adjusted_close = float(row[\"adjusted_close\"])\n",
        "\n",
        "    if latest_date is None or date > latest_date:\n",
        "        latest_date = date\n",
        "        latest_price = adjusted_close\n",
        "\n",
        "# Print the latest adjusted closing price\n",
        "if latest_price is not None:\n",
        "    print(\"Latest Adjusted Closing Price:\", latest_price)\n",
        "else:\n",
        "    print(\"No data found.\")\n"
      ],
      "metadata": {
        "colab": {
          "base_uri": "https://localhost:8080/"
        },
        "id": "ket-w01U0bdo",
        "outputId": "e1662b20-d06b-45fc-ec9e-f3c62abb03cf"
      },
      "execution_count": 39,
      "outputs": [
        {
          "output_type": "stream",
          "name": "stdout",
          "text": [
            "Latest Adjusted Closing Price: 637.97\n"
          ]
        }
      ]
    },
    {
      "cell_type": "markdown",
      "source": [
        "In this code, we're using the same approach as before to process the CSV data using the csv module. We loop through each row, extracting the \"timestamp\" and \"adjusted_close\" attributes. If the current date is later than the previously recorded latest date, we update the latest date and price accordingly. Finally, we print the latest adjusted closing price."
      ],
      "metadata": {
        "id": "LLIx9BdM0qBi"
      }
    },
    {
      "cell_type": "markdown",
      "metadata": {
        "id": "fwYgUfTmkpmk"
      },
      "source": [
        "# HTML Challenges\n",
        "\n",
        "> FYI: the response text for these challenges will be a string formatted as HTML, so you can use [the `BeautifulSoup` package](https://github.com/prof-rossetti/intro-to-python/blob/master/notes/python/packages/beautifulsoup.md) to parse it.\n",
        "\n",
        "> HINT: it helps to \"inspect\" the HTML contents in the browser first, so you can get a feel for the organizational structure of the page, and know which elements / tags to look for.\n"
      ]
    },
    {
      "cell_type": "markdown",
      "source": [
        "## 6) Practice Parsing HTML Lists"
      ],
      "metadata": {
        "id": "0v5kRA3sy8hC"
      }
    },
    {
      "cell_type": "markdown",
      "source": [
        "\n",
        "Write Python code which issues a GET request for this [example HTML list](https://raw.githubusercontent.com/prof-rossetti/intro-to-python/main/data/my_lists.html) data, then loop through the favorite flavors and print each one."
      ],
      "metadata": {
        "id": "s71xDYBxzN3U"
      }
    },
    {
      "cell_type": "code",
      "source": [
        "my_lists_url = \"https://raw.githubusercontent.com/prof-rossetti/intro-to-python/main/data/my_lists.html\"\n",
        "\n",
        "\n"
      ],
      "metadata": {
        "id": "XQtXiAKIy66i"
      },
      "execution_count": null,
      "outputs": []
    },
    {
      "cell_type": "code",
      "source": [
        "import requests\n",
        "\n",
        "my_lists_url = \"https://raw.githubusercontent.com/prof-rossetti/intro-to-python/main/data/my_lists.html\"\n",
        "\n",
        "# Make a GET request to retrieve the gradebook JSON data\n",
        "response = requests.get(my_lists_url)\n",
        "print(response)"
      ],
      "metadata": {
        "colab": {
          "base_uri": "https://localhost:8080/"
        },
        "id": "yG9FPexl1HKr",
        "outputId": "b6b61b05-6b0f-4ffd-8438-e5efd3208b4e"
      },
      "execution_count": 40,
      "outputs": [
        {
          "output_type": "stream",
          "name": "stdout",
          "text": [
            "<Response [200]>\n"
          ]
        }
      ]
    },
    {
      "cell_type": "code",
      "source": [
        "response.text"
      ],
      "metadata": {
        "colab": {
          "base_uri": "https://localhost:8080/",
          "height": 87
        },
        "id": "czcHZTLt1HDY",
        "outputId": "1e0ac814-d4cd-401f-ca31-2fab6ae0450e"
      },
      "execution_count": 42,
      "outputs": [
        {
          "output_type": "execute_result",
          "data": {
            "text/plain": [
              "'<!DOCTYPE html>\\n<html lang=\"en\">\\n<head>\\n    <meta charset=\"UTF-8\">\\n    <title>HTML List Parsing Exercise</title>\\n</head>\\n<body>\\n\\n    <h1>HTML List Parsing Exercise</h1>\\n\\n    <p>This is an HTML page.</p>\\n\\n    <h2>Favorite Ice cream Flavors</h2>\\n    <ol id=\"my-fav-flavors\">\\n        <li>Vanilla Bean</li>\\n        <li>Chocolate</li>\\n        <li>Strawberry</li>\\n    </ol>\\n\\n    <h2>Skills</h2>\\n    <ul id=\"my-skills\">\\n        <li>HTML</li>\\n        <li>CSS</li>\\n        <li>JavaScript</li>\\n        <li>Python</li>\\n    </ul>\\n\\n</body>\\n</html>\\n'"
            ],
            "application/vnd.google.colaboratory.intrinsic+json": {
              "type": "string"
            }
          },
          "metadata": {},
          "execution_count": 42
        }
      ]
    },
    {
      "cell_type": "code",
      "source": [
        "from bs4 import BeautifulSoup\n",
        "\n",
        "soup = BeautifulSoup(response.text, 'html.parser')\n",
        "print(type(soup))"
      ],
      "metadata": {
        "colab": {
          "base_uri": "https://localhost:8080/"
        },
        "id": "OZFxsav31G3D",
        "outputId": "22d13599-db3a-4348-938b-d5ac4019cc8a"
      },
      "execution_count": 43,
      "outputs": [
        {
          "output_type": "stream",
          "name": "stdout",
          "text": [
            "<class 'bs4.BeautifulSoup'>\n"
          ]
        }
      ]
    },
    {
      "cell_type": "code",
      "source": [
        "dir(soup)"
      ],
      "metadata": {
        "colab": {
          "base_uri": "https://localhost:8080/"
        },
        "id": "bPZ-dP2a16Vd",
        "outputId": "8ed5a415-109a-4957-b41b-a866744e06ae"
      },
      "execution_count": 44,
      "outputs": [
        {
          "output_type": "execute_result",
          "data": {
            "text/plain": [
              "['ASCII_SPACES',\n",
              " 'DEFAULT_BUILDER_FEATURES',\n",
              " 'DEFAULT_INTERESTING_STRING_TYPES',\n",
              " 'NO_PARSER_SPECIFIED_WARNING',\n",
              " 'ROOT_TAG_NAME',\n",
              " '__bool__',\n",
              " '__call__',\n",
              " '__class__',\n",
              " '__contains__',\n",
              " '__copy__',\n",
              " '__delattr__',\n",
              " '__delitem__',\n",
              " '__dict__',\n",
              " '__dir__',\n",
              " '__doc__',\n",
              " '__eq__',\n",
              " '__format__',\n",
              " '__ge__',\n",
              " '__getattr__',\n",
              " '__getattribute__',\n",
              " '__getitem__',\n",
              " '__getstate__',\n",
              " '__gt__',\n",
              " '__hash__',\n",
              " '__init__',\n",
              " '__init_subclass__',\n",
              " '__iter__',\n",
              " '__le__',\n",
              " '__len__',\n",
              " '__lt__',\n",
              " '__module__',\n",
              " '__ne__',\n",
              " '__new__',\n",
              " '__reduce__',\n",
              " '__reduce_ex__',\n",
              " '__repr__',\n",
              " '__setattr__',\n",
              " '__setitem__',\n",
              " '__sizeof__',\n",
              " '__str__',\n",
              " '__subclasshook__',\n",
              " '__unicode__',\n",
              " '__weakref__',\n",
              " '_all_strings',\n",
              " '_decode_markup',\n",
              " '_feed',\n",
              " '_find_all',\n",
              " '_find_one',\n",
              " '_is_xml',\n",
              " '_lastRecursiveChild',\n",
              " '_last_descendant',\n",
              " '_linkage_fixer',\n",
              " '_markup_is_url',\n",
              " '_markup_resembles_filename',\n",
              " '_most_recent_element',\n",
              " '_namespaces',\n",
              " '_popToTag',\n",
              " '_should_pretty_print',\n",
              " 'append',\n",
              " 'attrs',\n",
              " 'builder',\n",
              " 'can_be_empty_element',\n",
              " 'cdata_list_attributes',\n",
              " 'childGenerator',\n",
              " 'children',\n",
              " 'clear',\n",
              " 'contains_replacement_characters',\n",
              " 'contents',\n",
              " 'currentTag',\n",
              " 'current_data',\n",
              " 'declared_html_encoding',\n",
              " 'decode',\n",
              " 'decode_contents',\n",
              " 'decompose',\n",
              " 'decomposed',\n",
              " 'default',\n",
              " 'descendants',\n",
              " 'element_classes',\n",
              " 'encode',\n",
              " 'encode_contents',\n",
              " 'endData',\n",
              " 'extend',\n",
              " 'extract',\n",
              " 'fetchNextSiblings',\n",
              " 'fetchParents',\n",
              " 'fetchPrevious',\n",
              " 'fetchPreviousSiblings',\n",
              " 'find',\n",
              " 'findAll',\n",
              " 'findAllNext',\n",
              " 'findAllPrevious',\n",
              " 'findChild',\n",
              " 'findChildren',\n",
              " 'findNext',\n",
              " 'findNextSibling',\n",
              " 'findNextSiblings',\n",
              " 'findParent',\n",
              " 'findParents',\n",
              " 'findPrevious',\n",
              " 'findPreviousSibling',\n",
              " 'findPreviousSiblings',\n",
              " 'find_all',\n",
              " 'find_all_next',\n",
              " 'find_all_previous',\n",
              " 'find_next',\n",
              " 'find_next_sibling',\n",
              " 'find_next_siblings',\n",
              " 'find_parent',\n",
              " 'find_parents',\n",
              " 'find_previous',\n",
              " 'find_previous_sibling',\n",
              " 'find_previous_siblings',\n",
              " 'format_string',\n",
              " 'formatter_for_name',\n",
              " 'get',\n",
              " 'getText',\n",
              " 'get_attribute_list',\n",
              " 'get_text',\n",
              " 'handle_data',\n",
              " 'handle_endtag',\n",
              " 'handle_starttag',\n",
              " 'has_attr',\n",
              " 'has_key',\n",
              " 'hidden',\n",
              " 'index',\n",
              " 'insert',\n",
              " 'insert_after',\n",
              " 'insert_before',\n",
              " 'interesting_string_types',\n",
              " 'isSelfClosing',\n",
              " 'is_empty_element',\n",
              " 'is_xml',\n",
              " 'known_xml',\n",
              " 'markup',\n",
              " 'name',\n",
              " 'namespace',\n",
              " 'new_string',\n",
              " 'new_tag',\n",
              " 'next',\n",
              " 'nextGenerator',\n",
              " 'nextSibling',\n",
              " 'nextSiblingGenerator',\n",
              " 'next_element',\n",
              " 'next_elements',\n",
              " 'next_sibling',\n",
              " 'next_siblings',\n",
              " 'object_was_parsed',\n",
              " 'open_tag_counter',\n",
              " 'original_encoding',\n",
              " 'parent',\n",
              " 'parentGenerator',\n",
              " 'parents',\n",
              " 'parse_only',\n",
              " 'parserClass',\n",
              " 'parser_class',\n",
              " 'popTag',\n",
              " 'prefix',\n",
              " 'preserve_whitespace_tag_stack',\n",
              " 'preserve_whitespace_tags',\n",
              " 'prettify',\n",
              " 'previous',\n",
              " 'previousGenerator',\n",
              " 'previousSibling',\n",
              " 'previousSiblingGenerator',\n",
              " 'previous_element',\n",
              " 'previous_elements',\n",
              " 'previous_sibling',\n",
              " 'previous_siblings',\n",
              " 'pushTag',\n",
              " 'recursiveChildGenerator',\n",
              " 'renderContents',\n",
              " 'replaceWith',\n",
              " 'replaceWithChildren',\n",
              " 'replace_with',\n",
              " 'replace_with_children',\n",
              " 'reset',\n",
              " 'select',\n",
              " 'select_one',\n",
              " 'setup',\n",
              " 'smooth',\n",
              " 'string',\n",
              " 'string_container',\n",
              " 'string_container_stack',\n",
              " 'strings',\n",
              " 'stripped_strings',\n",
              " 'tagStack',\n",
              " 'text',\n",
              " 'unwrap',\n",
              " 'wrap']"
            ]
          },
          "metadata": {},
          "execution_count": 44
        }
      ]
    },
    {
      "cell_type": "code",
      "source": [
        "soup.find(\"ol\")"
      ],
      "metadata": {
        "colab": {
          "base_uri": "https://localhost:8080/"
        },
        "id": "9KYwqdgC16HK",
        "outputId": "ce0a99a1-3865-40da-f666-1d182af828b7"
      },
      "execution_count": 45,
      "outputs": [
        {
          "output_type": "execute_result",
          "data": {
            "text/plain": [
              "<ol id=\"my-fav-flavors\">\n",
              "<li>Vanilla Bean</li>\n",
              "<li>Chocolate</li>\n",
              "<li>Strawberry</li>\n",
              "</ol>"
            ]
          },
          "metadata": {},
          "execution_count": 45
        }
      ]
    },
    {
      "cell_type": "code",
      "source": [
        "flavors_list = soup.find(\"ol\", id=\"my-fav-flavors\")\n",
        "flavors_list\n",
        "\n",
        "#print(type(flavors_list))"
      ],
      "metadata": {
        "colab": {
          "base_uri": "https://localhost:8080/"
        },
        "id": "1Cghug_x15w3",
        "outputId": "e412d0a0-a6c5-409b-e9b2-0f70d807b7e3"
      },
      "execution_count": 50,
      "outputs": [
        {
          "output_type": "execute_result",
          "data": {
            "text/plain": [
              "<ol id=\"my-fav-flavors\">\n",
              "<li>Vanilla Bean</li>\n",
              "<li>Chocolate</li>\n",
              "<li>Strawberry</li>\n",
              "</ol>"
            ]
          },
          "metadata": {},
          "execution_count": 50
        }
      ]
    },
    {
      "cell_type": "code",
      "source": [
        "flavors = flavors_list.find_all(\"li\")\n",
        "print(len(flavors))\n",
        "print(type(flavors))\n",
        "\n",
        "print(flavors)"
      ],
      "metadata": {
        "colab": {
          "base_uri": "https://localhost:8080/"
        },
        "id": "yYFFgeHB2noW",
        "outputId": "154fc3bc-d07f-4d8f-f530-d3b21443295f"
      },
      "execution_count": 52,
      "outputs": [
        {
          "output_type": "stream",
          "name": "stdout",
          "text": [
            "3\n",
            "<class 'bs4.element.ResultSet'>\n",
            "[<li>Vanilla Bean</li>, <li>Chocolate</li>, <li>Strawberry</li>]\n"
          ]
        }
      ]
    },
    {
      "cell_type": "code",
      "source": [
        "for flavor in flavors:\n",
        "  print(\"----------------------\")\n",
        "  print(flavor)\n",
        "  print(flavor.text)"
      ],
      "metadata": {
        "colab": {
          "base_uri": "https://localhost:8080/"
        },
        "id": "wEsaaUMS2nlX",
        "outputId": "ff8009b1-ecd6-49ea-c844-128058d785c1"
      },
      "execution_count": 56,
      "outputs": [
        {
          "output_type": "stream",
          "name": "stdout",
          "text": [
            "----------------------\n",
            "<li>Vanilla Bean</li>\n",
            "Vanilla Bean\n",
            "----------------------\n",
            "<li>Chocolate</li>\n",
            "Chocolate\n",
            "----------------------\n",
            "<li>Strawberry</li>\n",
            "Strawberry\n"
          ]
        }
      ]
    },
    {
      "cell_type": "code",
      "source": [
        "print(type(flavor))"
      ],
      "metadata": {
        "colab": {
          "base_uri": "https://localhost:8080/"
        },
        "id": "SYG2gLlN2neU",
        "outputId": "9bc9cef5-5fae-463c-d7b7-326dd941ab90"
      },
      "execution_count": 55,
      "outputs": [
        {
          "output_type": "stream",
          "name": "stdout",
          "text": [
            "<class 'bs4.element.Tag'>\n"
          ]
        }
      ]
    },
    {
      "cell_type": "code",
      "source": [
        "clean_flavors = [f.text for f in flavors]\n",
        "print(clean_flavors)"
      ],
      "metadata": {
        "colab": {
          "base_uri": "https://localhost:8080/"
        },
        "id": "zhEVW1_w3fa_",
        "outputId": "fcf17c49-8260-4c75-afec-172e421dcfc2"
      },
      "execution_count": 57,
      "outputs": [
        {
          "output_type": "stream",
          "name": "stdout",
          "text": [
            "['Vanilla Bean', 'Chocolate', 'Strawberry']\n"
          ]
        }
      ]
    },
    {
      "cell_type": "markdown",
      "source": [
        "FINAL CODE:"
      ],
      "metadata": {
        "id": "EOgNesRH362L"
      }
    },
    {
      "cell_type": "code",
      "source": [
        "import requests\n",
        "from bs4 import BeautifulSoup\n",
        "\n",
        "my_lists_url = \"https://raw.githubusercontent.com/prof-rossetti/intro-to-python/main/data/my_lists.html\"\n",
        "\n",
        "# Issue a GET request to fetch the HTML content\n",
        "response = requests.get(my_lists_url)\n",
        "html_content = response.text\n",
        "\n",
        "# Parse the HTML content using BeautifulSoup\n",
        "soup = BeautifulSoup(response.text, 'html.parser')\n",
        "\n",
        "# Find the unordered list containing favorite flavors\n",
        "flavors_list = soup.find(\"ol\", id=\"my-fav-flavors\")\n",
        "flavors = flavors_list.find_all(\"li\")\n",
        "\n",
        "if flavors_list:\n",
        "    # Loop through each list item (flavor) and print it\n",
        "    flavors = flavors_list.find_all(\"li\")\n",
        "    for flavor in flavors:\n",
        "        print(flavor.get_text())\n",
        "else:\n",
        "    print(\"Favorite flavors list not found in the HTML.\")\n"
      ],
      "metadata": {
        "colab": {
          "base_uri": "https://localhost:8080/"
        },
        "id": "L5y2FZf_3fSK",
        "outputId": "10c4cdbd-a388-44ad-91d9-fa715cdf5496"
      },
      "execution_count": 63,
      "outputs": [
        {
          "output_type": "stream",
          "name": "stdout",
          "text": [
            "Vanilla Bean\n",
            "Chocolate\n",
            "Strawberry\n"
          ]
        }
      ]
    },
    {
      "cell_type": "markdown",
      "source": [
        "## 7) Practice Parsing HTML Tables\n",
        "\n",
        "\n",
        "Write Python code which issues a GET request for this [example HTML table](https://raw.githubusercontent.com/prof-rossetti/intro-to-python/main/data/my_tables.html) data, then loop through the products and print the name of each one."
      ],
      "metadata": {
        "id": "lRef5OOhzDdT"
      }
    },
    {
      "cell_type": "code",
      "source": [
        "my_tables_url = \"https://raw.githubusercontent.com/prof-rossetti/intro-to-python/main/data/my_tables.html\"\n",
        "\n",
        "\n"
      ],
      "metadata": {
        "id": "CQOooliDznof"
      },
      "execution_count": null,
      "outputs": []
    },
    {
      "cell_type": "code",
      "source": [
        "import requests\n",
        "from bs4 import BeautifulSoup\n",
        "\n",
        "my_tables_url = \"https://raw.githubusercontent.com/prof-rossetti/intro-to-python/main/data/my_tables.html\"\n",
        "\n",
        "# Issue a GET request to fetch the HTML content\n",
        "response = requests.get(my_tables_url)\n",
        "html_content = response.text\n",
        "\n",
        "# Parse the HTML content using BeautifulSoup\n",
        "soup = BeautifulSoup(html_content, 'html.parser')\n",
        "\n",
        "# Find the table containing product information\n",
        "products_table = soup.find(\"table\", id=\"products\")\n",
        "\n",
        "if products_table:\n",
        "    # Find all table rows within the table\n",
        "    rows = products_table.find_all(\"tr\")\n",
        "\n",
        "    # Loop through each row (skipping the header row) and print the product name\n",
        "    for row in rows[1:]:\n",
        "        columns = row.find_all(\"td\")\n",
        "        if len(columns) >= 2:\n",
        "            product_name = columns[1].get_text()  # Assuming the product name is in the second column\n",
        "            print(product_name)\n",
        "else:\n",
        "    print(\"Products table not found in the HTML.\")\n"
      ],
      "metadata": {
        "colab": {
          "base_uri": "https://localhost:8080/"
        },
        "id": "bdiir9dB8V9R",
        "outputId": "09978a63-d85d-4491-d450-d611eda82f63"
      },
      "execution_count": 64,
      "outputs": [
        {
          "output_type": "stream",
          "name": "stdout",
          "text": [
            "Chocolate Sandwich Cookies\n",
            "All-Seasons Salt\n",
            "Robust Golden Unsweetened Oolong Tea\n",
            "Smart Ones Classic Favorites Mini Rigatoni With Vodka Cream Sauce\n",
            "Green Chile Anytime Sauce\n"
          ]
        }
      ]
    },
    {
      "cell_type": "markdown",
      "metadata": {
        "id": "eC_nfjzUkr7Z"
      },
      "source": [
        "## 8) Requesting Books (HTML)\n",
        "\n",
        "Write Python code which issues a GET request for this [book list](https://www.gutenberg.org/ebooks/author/65) information, then print the titles of all the books authored by Shakespeare.\n",
        "\n",
        "\n"
      ]
    },
    {
      "cell_type": "code",
      "metadata": {
        "id": "BsmsEbE8lTx4"
      },
      "source": [
        "\n",
        "books_url = \"https://www.gutenberg.org/ebooks/author/65\"\n",
        "\n",
        "# write some code here\n",
        "\n"
      ],
      "execution_count": null,
      "outputs": []
    },
    {
      "cell_type": "code",
      "source": [
        "import requests\n",
        "from bs4 import BeautifulSoup\n",
        "\n",
        "books_url = \"https://www.gutenberg.org/ebooks/author/65\"\n",
        "\n",
        "# Issue a GET request to fetch the HTML content\n",
        "response = requests.get(books_url)\n",
        "html_content = response.text\n",
        "\n",
        "# Parse the HTML content using BeautifulSoup\n",
        "soup = BeautifulSoup(html_content, 'html.parser')\n",
        "\n",
        "# Find the book links\n",
        "book_links = soup.find_all(\"li\", class_=\"booklink\")\n",
        "\n",
        "# Loop through each book link and extract title and author information\n",
        "for book_link in book_links:\n",
        "    title = book_link.find(\"span\", class_=\"title\")\n",
        "    author = book_link.find(\"span\", class_=\"subtitle\")\n",
        "\n",
        "    if title and author:\n",
        "        title_text = title.get_text()\n",
        "        author_text = author.get_text()\n",
        "\n",
        "        # Check if the author is Shakespeare\n",
        "        if \"Shakespeare\" in author_text:\n",
        "            print(\"Title:\", title_text)\n",
        "            print(\"Author:\", author_text)\n",
        "            print(\"-\" * 50)\n"
      ],
      "metadata": {
        "colab": {
          "base_uri": "https://localhost:8080/"
        },
        "id": "ZITCuZ5E82Xf",
        "outputId": "3c6552bf-87a8-4631-fa97-291b6706c7af"
      },
      "execution_count": 68,
      "outputs": [
        {
          "output_type": "stream",
          "name": "stdout",
          "text": [
            "Title: Romeo and Juliet\n",
            "Author: William Shakespeare\n",
            "--------------------------------------------------\n",
            "Title: The Complete Works of William Shakespeare\n",
            "Author: William Shakespeare\n",
            "--------------------------------------------------\n",
            "Title: The Tempest\n",
            "Author: William Shakespeare\n",
            "--------------------------------------------------\n",
            "Title: Hamlet, Prince of Denmark\n",
            "Author: William Shakespeare\n",
            "--------------------------------------------------\n",
            "Title: Macbeth\n",
            "Author: William Shakespeare\n",
            "--------------------------------------------------\n",
            "Title: A Midsummer Night's Dream\n",
            "Author: William Shakespeare\n",
            "--------------------------------------------------\n",
            "Title: Beautiful Stories from Shakespeare\n",
            "Author: William Shakespeare and E. Nesbit\n",
            "--------------------------------------------------\n",
            "Title: Much Ado about Nothing\n",
            "Author: William Shakespeare\n",
            "--------------------------------------------------\n",
            "Title: The New Hudson Shakespeare: Julius Cæsar\n",
            "Author: William Shakespeare\n",
            "--------------------------------------------------\n",
            "Title: Hamlet, Prince of Denmark\n",
            "Author: William Shakespeare\n",
            "--------------------------------------------------\n",
            "Title: The Tragedy of King Lear\n",
            "Author: William Shakespeare\n",
            "--------------------------------------------------\n",
            "Title: The Works of William Shakespeare [Cambridge Edition] [Vol. 5 of 9]\n",
            "Author: William Shakespeare\n",
            "--------------------------------------------------\n",
            "Title: The Merchant of Venice\n",
            "Author: William Shakespeare\n",
            "--------------------------------------------------\n",
            "Title: The Tragedy of Romeo and Juliet\n",
            "Author: William Shakespeare\n",
            "--------------------------------------------------\n",
            "Title: Shakespeare's Sonnets\n",
            "Author: William Shakespeare\n",
            "--------------------------------------------------\n",
            "Title: Twelfth Night; Or, What You Will\n",
            "Author: William Shakespeare\n",
            "--------------------------------------------------\n",
            "Title: The Comedy of Errors\n",
            "Author: William Shakespeare\n",
            "--------------------------------------------------\n",
            "Title: The Taming of the Shrew\n",
            "Author: William Shakespeare\n",
            "--------------------------------------------------\n",
            "Title: Othello, the Moor of Venice\n",
            "Author: William Shakespeare\n",
            "--------------------------------------------------\n",
            "Title: Julius Caesar\n",
            "Author: William Shakespeare\n",
            "--------------------------------------------------\n",
            "Title: Macbeth\n",
            "Author: William Shakespeare\n",
            "--------------------------------------------------\n",
            "Title: Hamlet\n",
            "Author: William Shakespeare\n",
            "--------------------------------------------------\n",
            "Title: Measure for Measure\n",
            "Author: William Shakespeare\n",
            "--------------------------------------------------\n",
            "Title: The Winter's Tale\n",
            "Author: William Shakespeare\n",
            "--------------------------------------------------\n",
            "Title: Othello\n",
            "Author: William Shakespeare\n",
            "--------------------------------------------------\n"
          ]
        }
      ]
    },
    {
      "cell_type": "markdown",
      "metadata": {
        "id": "lVTBwkistjdl"
      },
      "source": [
        "## 9) Requesting Events (HTML)\n",
        "\n",
        "\n",
        "Write Python code which issues a GET request for this list of [upcoming events](https://www.georgetown.edu/events/), then print the name, location, and time of each event."
      ]
    },
    {
      "cell_type": "code",
      "metadata": {
        "id": "31kz7lxnti_D"
      },
      "source": [
        "\n",
        "events_url = \"https://www.georgetown.edu/events/\"\n",
        "\n",
        "# write some code here\n",
        "\n",
        "\n"
      ],
      "execution_count": null,
      "outputs": []
    },
    {
      "cell_type": "code",
      "source": [
        "import requests  #need to import this lib\n",
        "events_url = \"https://www.georgetown.edu/events/\"\n",
        "\n",
        "# write some code here\n",
        "\n",
        "r = requests.get(events_url)\n",
        "#print(r.text)"
      ],
      "metadata": {
        "id": "DREv1n28AzQy"
      },
      "execution_count": 70,
      "outputs": []
    },
    {
      "cell_type": "code",
      "source": [
        "from bs4 import BeautifulSoup\n",
        "\n",
        "soup = BeautifulSoup(r.text) # 'html.parser'\n",
        "print(type(soup))"
      ],
      "metadata": {
        "colab": {
          "base_uri": "https://localhost:8080/"
        },
        "id": "NcBD6JOpA9z8",
        "outputId": "f8ca53e6-bba6-409c-f320-f24293999f3b"
      },
      "execution_count": 71,
      "outputs": [
        {
          "output_type": "stream",
          "name": "stdout",
          "text": [
            "<class 'bs4.BeautifulSoup'>\n"
          ]
        }
      ]
    },
    {
      "cell_type": "code",
      "source": [
        "events = soup.find_all(\"div\", \"c--event-teaser-row\")\n",
        "print(len(events))"
      ],
      "metadata": {
        "colab": {
          "base_uri": "https://localhost:8080/"
        },
        "id": "6-sOuLuXBc_6",
        "outputId": "55d0fa52-fde7-4acd-bea6-e83d72b3fd1c"
      },
      "execution_count": 72,
      "outputs": [
        {
          "output_type": "stream",
          "name": "stdout",
          "text": [
            "10\n"
          ]
        }
      ]
    },
    {
      "cell_type": "code",
      "source": [
        "event = events[0]\n",
        "event"
      ],
      "metadata": {
        "colab": {
          "base_uri": "https://localhost:8080/"
        },
        "id": "8tiN5oUiB_RD",
        "outputId": "5e43e46e-76b1-4e98-95b7-d030baede10f"
      },
      "execution_count": 73,
      "outputs": [
        {
          "output_type": "execute_result",
          "data": {
            "text/plain": [
              "<div class=\"c--component c--event-teaser-row\">\n",
              "<div class=\"image-container\">\n",
              "<div class=\"f--field f--image\">\n",
              "<div class=\"image-field-wrapper\">\n",
              "<img alt=\"\" src=\"https://www.georgetown.edu/wp-content/uploads/2023/08/Taliban-in-2010-1600x900.jpeg\"/>\n",
              "</div>\n",
              "</div><!-- f--field f--image -->\n",
              "</div>\n",
              "<div class=\"text-container\">\n",
              "<div class=\"f--field f--date\">\n",
              "\n",
              "    \n",
              "    \n",
              "  August 16\n",
              "\n",
              "\n",
              "</div><!-- f--field f--date -->\n",
              "<div class=\"f--field f--cta-title\">\n",
              "<h3>\n",
              "<a aria-label=\"Afghanistan under the Taliban (Again) August 16 11:00am - 12:15pm\" href=\"https://www.georgetown.edu/event/afghanistan-under-the-taliban-again/\">Afghanistan under the Taliban (Again)</a>\n",
              "</h3>\n",
              "</div><!-- f--field f--cta-title -->\n",
              "<div class=\"f--field f--event-location\">\n",
              "<div>online</div>\n",
              "</div><!-- f--field f--event-location -->\n",
              "<time class=\"f--field f--time-string\" datetime=\"11:00am - 12:15pm\">\n",
              "\n",
              "    \n",
              "    \n",
              "\n",
              "    11:00am - 12:15pm\n",
              "\n",
              "\n",
              "\n",
              "</time><!-- f--field f--time-string -->\n",
              "</div>\n",
              "</div>"
            ]
          },
          "metadata": {},
          "execution_count": 73
        }
      ]
    },
    {
      "cell_type": "code",
      "source": [
        "date_tag = event.find(\"div\", \"f--date\")\n",
        "date_tag"
      ],
      "metadata": {
        "colab": {
          "base_uri": "https://localhost:8080/"
        },
        "id": "oTkBxA4rCDZd",
        "outputId": "ec78572e-603f-4414-941a-e954d455246b"
      },
      "execution_count": 74,
      "outputs": [
        {
          "output_type": "execute_result",
          "data": {
            "text/plain": [
              "<div class=\"f--field f--date\">\n",
              "\n",
              "    \n",
              "    \n",
              "  August 16\n",
              "\n",
              "\n",
              "</div>"
            ]
          },
          "metadata": {},
          "execution_count": 74
        }
      ]
    },
    {
      "cell_type": "code",
      "source": [
        "date_tag.text"
      ],
      "metadata": {
        "colab": {
          "base_uri": "https://localhost:8080/",
          "height": 35
        },
        "id": "dVJhbkgtCgZG",
        "outputId": "cc60606e-8547-4717-d0cd-c1694fad45a0"
      },
      "execution_count": 75,
      "outputs": [
        {
          "output_type": "execute_result",
          "data": {
            "text/plain": [
              "'\\n\\n    \\n    \\n  August 16\\n\\n\\n'"
            ],
            "application/vnd.google.colaboratory.intrinsic+json": {
              "type": "string"
            }
          },
          "metadata": {},
          "execution_count": 75
        }
      ]
    },
    {
      "cell_type": "code",
      "source": [
        "date_tag.text.strip()"
      ],
      "metadata": {
        "colab": {
          "base_uri": "https://localhost:8080/",
          "height": 35
        },
        "id": "7mPO8MlPCmQQ",
        "outputId": "8eaf5ca5-af11-4872-8839-17126d7f01fa"
      },
      "execution_count": 76,
      "outputs": [
        {
          "output_type": "execute_result",
          "data": {
            "text/plain": [
              "'August 16'"
            ],
            "application/vnd.google.colaboratory.intrinsic+json": {
              "type": "string"
            }
          },
          "metadata": {},
          "execution_count": 76
        }
      ]
    },
    {
      "cell_type": "code",
      "source": [
        "title_tag = event.find(\"h3\")\n",
        "title_tag"
      ],
      "metadata": {
        "colab": {
          "base_uri": "https://localhost:8080/"
        },
        "id": "PK12_4QVCq4j",
        "outputId": "772d4f8f-7de3-433f-8016-df22a7f459a4"
      },
      "execution_count": 77,
      "outputs": [
        {
          "output_type": "execute_result",
          "data": {
            "text/plain": [
              "<h3>\n",
              "<a aria-label=\"Afghanistan under the Taliban (Again) August 16 11:00am - 12:15pm\" href=\"https://www.georgetown.edu/event/afghanistan-under-the-taliban-again/\">Afghanistan under the Taliban (Again)</a>\n",
              "</h3>"
            ]
          },
          "metadata": {},
          "execution_count": 77
        }
      ]
    },
    {
      "cell_type": "code",
      "source": [
        "title_tag.text.strip()"
      ],
      "metadata": {
        "colab": {
          "base_uri": "https://localhost:8080/",
          "height": 35
        },
        "id": "npBb8kjZDIPK",
        "outputId": "606c4041-6766-42fe-da36-63caff56ed60"
      },
      "execution_count": 79,
      "outputs": [
        {
          "output_type": "execute_result",
          "data": {
            "text/plain": [
              "'Afghanistan under the Taliban (Again)'"
            ],
            "application/vnd.google.colaboratory.intrinsic+json": {
              "type": "string"
            }
          },
          "metadata": {},
          "execution_count": 79
        }
      ]
    },
    {
      "cell_type": "code",
      "source": [
        "import requests\n",
        "from bs4 import BeautifulSoup\n",
        "\n",
        "events_url = \"https://www.georgetown.edu/events/\"\n",
        "\n",
        "# Issue a GET request to fetch the HTML content\n",
        "response = requests.get(events_url)\n",
        "html_content = response.text\n",
        "\n",
        "# Parse the HTML content using BeautifulSoup\n",
        "soup = BeautifulSoup(html_content, 'html.parser')\n",
        "\n",
        "# Find the event teaser rows\n",
        "events = soup.find_all(\"div\", \"c--event-teaser-row\")\n",
        "\n",
        "# Loop through each event teaser row and extract event information\n",
        "for event in events:\n",
        "  date_tag = event.find(\"div\", \"f--date\")\n",
        "  title_tag = event.find(\"h3\")\n",
        "  event_location = event.find(\"div\", class_=\"f--event-location\")\n",
        "  event_time = event.find(\"time\")\n",
        "  print(\"Event Date:\", date_tag.text.strip())\n",
        "  print(\"Event Title:\", title_tag.text.strip())\n",
        "  print(\"Event Location:\", event_location.text.strip())\n",
        "  print(\"Event Time:\", event_time.text.strip())\n",
        "  print (\"-\" * 50)\n",
        ""
      ],
      "metadata": {
        "colab": {
          "base_uri": "https://localhost:8080/"
        },
        "id": "fEhx3JBlDNyO",
        "outputId": "bbac9dfe-b5aa-4b70-d13a-ad5223855553"
      },
      "execution_count": 99,
      "outputs": [
        {
          "output_type": "stream",
          "name": "stdout",
          "text": [
            "Event Date: August 16\n",
            "Event Title: Afghanistan under the Taliban (Again)\n",
            "Event Location: online\n",
            "Event Time: 11:00am - 12:15pm\n",
            "--------------------------------------------------\n",
            "Event Date: August 16\n",
            "Event Title: Dissertation Defense: Alyssa M. Thornton\n",
            "Event Location: Regents Hall 451\n",
            "Event Time: 12:00pm - 5:00pm\n",
            "--------------------------------------------------\n",
            "Event Date: August 16\n",
            "Event Title: State Policy Solutions for Reducing Student Absenteeism\n",
            "Event Location: Virtual\n",
            "Event Time: 2:00pm - 3:00pm\n",
            "--------------------------------------------------\n",
            "Event Date: August 16\n",
            "Event Title: Israel and Latin America in the Twenty-first Century\n",
            "Event Location: Online via Zoom\n",
            "Event Time: 4:00pm - 5:00pm\n",
            "--------------------------------------------------\n",
            "Event Date: August 17\n",
            "Event Title: Dissertation Defense: Mohammad Fakhreddine\n",
            "Event Location: Arabic and Islamic Studies Department, Poulton Hall, Room 200\n",
            "Event Time: 9:00am - 12:00pm\n",
            "--------------------------------------------------\n",
            "Event Date: August 22\n",
            "Event Title: Center for Social Justice Open House\n",
            "Event Location: Poulton Hall\n",
            "Event Time: 12:00pm - 3:00pm\n",
            "--------------------------------------------------\n",
            "Event Date: August 22\n",
            "Event Title: GU Politics Ice Cream Social & Open House\n",
            "Event Location: Dahlgren Quad\n",
            "Event Time: 1:00pm - 3:00pm\n",
            "--------------------------------------------------\n",
            "Event Date: August 23\n",
            "Event Title: Building A Healthy Feedback Culture Workshop\n",
            "Event Location: Zoom\n",
            "Event Time: 9:00am - 10:30am\n",
            "--------------------------------------------------\n",
            "Event Date: August 24\n",
            "Event Title: UIS Educational Technologies (EdTech) Office Hours\n",
            "Event Location: Online\n",
            "Event Time: 1:00pm - 2:00pm\n",
            "--------------------------------------------------\n",
            "Event Date: August 28\n",
            "Event Title: The Sixtieth Anniversary of the March on Washington for Jobs and Freedom: Keeping the Dream Alive\n",
            "Event Location: Copley Formal Lounge\n",
            "Event Time: 6:00pm - 7:00pm\n",
            "--------------------------------------------------\n"
          ]
        }
      ]
    },
    {
      "cell_type": "code",
      "source": [
        "clean_events = []\n",
        "\n",
        "for event in events:\n",
        "  clean_event = {\n",
        "      \"title\" : event.find(\"h3\").text.strip(),\n",
        "      \"date\" : event.find(\"div\", \"f--date\").text.strip(),\n",
        "      \"time\" : event.find(\"time\").text.strip(),\n",
        "      \"url\" : event.find(\"a\")[\"href\"]\n",
        "  }\n",
        "  clean_events.append(clean_event)\n",
        "\n",
        "clean_events\n"
      ],
      "metadata": {
        "colab": {
          "base_uri": "https://localhost:8080/"
        },
        "outputId": "03872150-b28d-4f5a-cdeb-61f22c417a34",
        "id": "QJVQ6h7mFrek"
      },
      "execution_count": 107,
      "outputs": [
        {
          "output_type": "execute_result",
          "data": {
            "text/plain": [
              "[{'title': 'Afghanistan under the Taliban (Again)',\n",
              "  'date': 'August 16',\n",
              "  'time': '11:00am - 12:15pm',\n",
              "  'url': 'https://www.georgetown.edu/event/afghanistan-under-the-taliban-again/'},\n",
              " {'title': 'Dissertation Defense: Alyssa M. Thornton',\n",
              "  'date': 'August 16',\n",
              "  'time': '12:00pm - 5:00pm',\n",
              "  'url': 'https://www.georgetown.edu/event/dissertation-defense-alyssa-m-thornton/'},\n",
              " {'title': 'State Policy Solutions for Reducing Student Absenteeism',\n",
              "  'date': 'August 16',\n",
              "  'time': '2:00pm - 3:00pm',\n",
              "  'url': 'https://www.georgetown.edu/event/state-policy-solutions-for-reducing-student-absenteeism/'},\n",
              " {'title': 'Israel and Latin America in the Twenty-first Century',\n",
              "  'date': 'August 16',\n",
              "  'time': '4:00pm - 5:00pm',\n",
              "  'url': 'https://www.georgetown.edu/event/israel-and-latin-america-in-the-twenty-first-century/'},\n",
              " {'title': 'Dissertation Defense: Mohammad Fakhreddine',\n",
              "  'date': 'August 17',\n",
              "  'time': '9:00am - 12:00pm',\n",
              "  'url': 'https://www.georgetown.edu/event/dissertation-defense-mohammad-fakhreddine/'},\n",
              " {'title': 'Center for Social Justice Open House',\n",
              "  'date': 'August 22',\n",
              "  'time': '12:00pm - 3:00pm',\n",
              "  'url': 'https://www.georgetown.edu/event/center-for-social-justice-open-house/'},\n",
              " {'title': 'GU Politics Ice Cream Social & Open House',\n",
              "  'date': 'August 22',\n",
              "  'time': '1:00pm - 3:00pm',\n",
              "  'url': 'https://www.georgetown.edu/event/gu-politics-ice-cream-social-open-house/'},\n",
              " {'title': 'Building A Healthy Feedback Culture Workshop',\n",
              "  'date': 'August 23',\n",
              "  'time': '9:00am - 10:30am',\n",
              "  'url': 'https://www.georgetown.edu/event/building-a-healthy-feedback-culture-workshop/2023-08-23/'},\n",
              " {'title': 'UIS Educational Technologies (EdTech) Office Hours',\n",
              "  'date': 'August 24',\n",
              "  'time': '1:00pm - 2:00pm',\n",
              "  'url': 'https://www.georgetown.edu/event/uis-educational-technologies-edtech-office-hours-106/'},\n",
              " {'title': 'The Sixtieth Anniversary of the March on Washington for Jobs and Freedom: Keeping the Dream Alive',\n",
              "  'date': 'August 28',\n",
              "  'time': '6:00pm - 7:00pm',\n",
              "  'url': 'https://www.georgetown.edu/event/the-sixtieth-anniversary-of-the-march-on-washington-for-jobs-and-freedom-keeping-the-dream-alive/'}]"
            ]
          },
          "metadata": {},
          "execution_count": 107
        }
      ]
    },
    {
      "cell_type": "code",
      "source": [],
      "metadata": {
        "id": "wf34ONM8EVHE"
      },
      "execution_count": null,
      "outputs": []
    }
  ]
}