{
  "nbformat": 4,
  "nbformat_minor": 0,
  "metadata": {
    "colab": {
      "provenance": [],
      "authorship_tag": "ABX9TyO1RmUr6zm1eCab+N0fHxhc",
      "include_colab_link": true
    },
    "kernelspec": {
      "name": "python3",
      "display_name": "Python 3"
    },
    "language_info": {
      "name": "python"
    }
  },
  "cells": [
    {
      "cell_type": "markdown",
      "metadata": {
        "id": "view-in-github",
        "colab_type": "text"
      },
      "source": [
        "<a href=\"https://colab.research.google.com/github/singh-priyanshi/TECH-2335/blob/main/1.%20%22Hello_World_(Colab)%22_Exercise.ipynb\" target=\"_parent\"><img src=\"https://colab.research.google.com/assets/colab-badge.svg\" alt=\"Open In Colab\"/></a>"
      ]
    },
    {
      "cell_type": "markdown",
      "source": [
        "# \"Hello World (Colab)\" Exercise\n",
        "\n",
        "![a screenshot of a colab notebook](/img/exercises/hello-world/colab-notebook.png)\n",
        "\n",
        "## Learning Objectives\n",
        "\n",
        "In this exercise, we'll practice using the Google Colab platform for the first time as we gain familiarity with Python notebooks.\n",
        "\n",
        "## Prerequisites\n",
        "\n",
        "You're encouraged to review the [Colab notes](/notes/devtools/google-colab.md) and reference this [Markdown Guide](https://www.markdownguide.org/).\n",
        "\n",
        "\n",
        "\n",
        "## Instructions\n",
        "\n",
        "  1. Use [Google Colab](https://colab.research.google.com/) to create a new notebook document, and give it a title like \"My First Notebook\".\n",
        "  2. Update the editor settings using the gear icon in the top right. Tab using four spaces. Show line numbers and indentation guides. Enable code folding. Save your preferences.\n",
        "  3. Update your notebook's sharing settings so anyone with the link can view.\n",
        "  4. Create a new text cell and write some markdown in it (like the example markdown below).\n",
        "  5. Create a code cell and write some Python code in it (like the example code below).\n",
        "  6. \"Run\" the notebook to see the output of your code cell.\n",
        "\n",
        "\n",
        "Example markdown:\n",
        "\n",
        "```\n",
        "# My First Notebook!\n",
        "\n",
        "This is a text cell. It uses the markdown language. The line above is a heading, starting with the \"#\" sign. Remember \"#\" means something different in Markdown than it does in Python.\n",
        "\n",
        "We can make links like [this](https://github.com/prof-rossetti/intro-to-python).\n",
        "\n",
        "And lists too:\n",
        "\n",
        "  + Item 1\n",
        "  + Item 2\n",
        "  + Item 3\n",
        "\n",
        "For more information about Markdown syntax, see the [Markdown Guide](https://www.markdownguide.org/).\n",
        "```\n",
        "\n",
        "\n",
        "Example Python code:\n",
        "\n"
      ],
      "metadata": {
        "id": "qfsMsb6jK9jH"
      }
    },
    {
      "cell_type": "code",
      "execution_count": 2,
      "metadata": {
        "colab": {
          "base_uri": "https://localhost:8080/"
        },
        "id": "8TuOqpS9J2l4",
        "outputId": "7099b29b-19a7-4f51-9832-3955113c1277"
      },
      "outputs": [
        {
          "output_type": "stream",
          "name": "stdout",
          "text": [
            "HELLO WORLD!\n",
            "4\n"
          ]
        }
      ],
      "source": [
        "# This is some example Python code\n",
        "# These lines starting with \"#\" are \"comments\"\n",
        "# Remember \"#\" means something different in Markdown than it does in Python\n",
        "\n",
        "print(\"HELLO WORLD!\")\n",
        "\n",
        "x = 2 + 2\n",
        "print(x)"
      ]
    },
    {
      "cell_type": "code",
      "source": [],
      "metadata": {
        "id": "Lq2ET5aDLRMN"
      },
      "execution_count": null,
      "outputs": []
    }
  ]
}