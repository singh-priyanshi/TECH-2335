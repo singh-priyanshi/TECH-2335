{
  "nbformat": 4,
  "nbformat_minor": 0,
  "metadata": {
    "colab": {
      "provenance": [],
      "authorship_tag": "ABX9TyP60+GsTgGr/z1U+TXbZ6zD",
      "include_colab_link": true
    },
    "kernelspec": {
      "name": "python3",
      "display_name": "Python 3"
    },
    "language_info": {
      "name": "python"
    }
  },
  "cells": [
    {
      "cell_type": "markdown",
      "metadata": {
        "id": "view-in-github",
        "colab_type": "text"
      },
      "source": [
        "<a href=\"https://colab.research.google.com/github/singh-priyanshi/py/blob/main/3_4_Data_Structures.ipynb\" target=\"_parent\"><img src=\"https://colab.research.google.com/assets/colab-badge.svg\" alt=\"Open In Colab\"/></a>"
      ]
    },
    {
      "cell_type": "markdown",
      "source": [
        "# 5. Data Structures\n",
        "This chapter describes some things you’ve learned about already in more detail, and adds some new things as well.\n",
        "\n",
        "## 5.1. More on Lists\n",
        "The list data type has some more methods. Here are all of the methods of list objects:\n",
        "\n",
        "### list.append(x)\n",
        "Add an item to the end of the list. Equivalent to a[len(a):] = [x].\n",
        "\n",
        "### list.extend(iterable)\n",
        "Extend the list by appending all the items from the iterable. Equivalent to a[len(a):] = iterable.\n",
        "\n",
        "### list.insert(i, x)\n",
        "Insert an item at a given position. The first argument is the index of the element before which to insert, so a.insert(0, x) inserts at the front of the list, and a.insert(len(a), x) is equivalent to a.append(x).\n",
        "\n",
        "### list.remove(x)\n",
        "Remove the first item from the list whose value is equal to x. It raises a ValueError if there is no such item.\n",
        "\n",
        "### list.pop([i])\n",
        "Remove the item at the given position in the list, and return it. If no index is specified, a.pop() removes and returns the last item in the list. (The square brackets around the i in the method signature denote that the parameter is optional, not that you should type square brackets at that position. You will see this notation frequently in the Python Library Reference.)\n",
        "\n",
        "### list.clear()\n",
        "Remove all items from the list. Equivalent to del a[:].\n",
        "\n",
        "### list.index(x[, start[, end]])\n",
        "Return zero-based index in the list of the first item whose value is equal to x. Raises a ValueError if there is no such item.\n",
        "\n",
        "The optional arguments start and end are interpreted as in the slice notation and are used to limit the search to a particular subsequence of the list. The returned index is computed relative to the beginning of the full sequence rather than the start argument.\n",
        "\n",
        "### list.count(x)\n",
        "Return the number of times x appears in the list.\n",
        "\n",
        "### list.sort(*, key=None, reverse=False)\n",
        "Sort the items of the list in place (the arguments can be used for sort customization, see sorted() for their explanation).\n",
        "\n",
        "### list.reverse()\n",
        "Reverse the elements of the list in place.\n",
        "\n",
        "### list.copy()\n",
        "Return a shallow copy of the list. Equivalent to a[:].\n",
        "\n",
        "### An example that uses most of the list methods:"
      ],
      "metadata": {
        "id": "36hQEAeXD-pi"
      }
    },
    {
      "cell_type": "code",
      "execution_count": null,
      "metadata": {
        "colab": {
          "base_uri": "https://localhost:8080/"
        },
        "id": "hxEv_dioDzez",
        "outputId": "30172d20-ac58-49b0-bb9f-c94f7f293750"
      },
      "outputs": [
        {
          "output_type": "execute_result",
          "data": {
            "text/plain": [
              "2"
            ]
          },
          "metadata": {},
          "execution_count": 2
        }
      ],
      "source": [
        "fruits = ['orange', 'apple', 'pear', 'banana', 'kiwi', 'apple', 'banana']\n",
        "fruits.count('apple')"
      ]
    },
    {
      "cell_type": "code",
      "source": [
        "fruits.count('tangerine')"
      ],
      "metadata": {
        "colab": {
          "base_uri": "https://localhost:8080/"
        },
        "id": "AuDaRRioEdxO",
        "outputId": "c7f8be57-9066-4465-c9b5-e80a177d6022"
      },
      "execution_count": null,
      "outputs": [
        {
          "output_type": "execute_result",
          "data": {
            "text/plain": [
              "0"
            ]
          },
          "metadata": {},
          "execution_count": 3
        }
      ]
    },
    {
      "cell_type": "code",
      "source": [
        "fruits.index('banana')"
      ],
      "metadata": {
        "colab": {
          "base_uri": "https://localhost:8080/"
        },
        "id": "MdHlzi6HEr3V",
        "outputId": "b821df47-85e6-4cd8-8c09-fd1b20f2c5b1"
      },
      "execution_count": null,
      "outputs": [
        {
          "output_type": "execute_result",
          "data": {
            "text/plain": [
              "3"
            ]
          },
          "metadata": {},
          "execution_count": 4
        }
      ]
    },
    {
      "cell_type": "code",
      "source": [
        "fruits.index('banana', 4)  # Find next banana starting at position 4"
      ],
      "metadata": {
        "colab": {
          "base_uri": "https://localhost:8080/"
        },
        "id": "1JqMmGJWEu5s",
        "outputId": "fc150a88-0a21-4056-aabe-0431c2f1f1b2"
      },
      "execution_count": null,
      "outputs": [
        {
          "output_type": "execute_result",
          "data": {
            "text/plain": [
              "6"
            ]
          },
          "metadata": {},
          "execution_count": 5
        }
      ]
    },
    {
      "cell_type": "code",
      "source": [
        "fruits.reverse()\n",
        "fruits"
      ],
      "metadata": {
        "colab": {
          "base_uri": "https://localhost:8080/"
        },
        "id": "veibp1THEw23",
        "outputId": "9a874e81-81b2-4ebd-c032-dd4775d3a74a"
      },
      "execution_count": null,
      "outputs": [
        {
          "output_type": "execute_result",
          "data": {
            "text/plain": [
              "['banana', 'apple', 'kiwi', 'banana', 'pear', 'apple', 'orange']"
            ]
          },
          "metadata": {},
          "execution_count": 6
        }
      ]
    },
    {
      "cell_type": "code",
      "source": [
        "fruits.append('grape')\n",
        "fruits"
      ],
      "metadata": {
        "colab": {
          "base_uri": "https://localhost:8080/"
        },
        "id": "WL2eQIFpEyyy",
        "outputId": "b38f961c-9547-4589-b4f0-47e0f7c88b76"
      },
      "execution_count": null,
      "outputs": [
        {
          "output_type": "execute_result",
          "data": {
            "text/plain": [
              "['banana', 'apple', 'kiwi', 'banana', 'pear', 'apple', 'orange', 'grape']"
            ]
          },
          "metadata": {},
          "execution_count": 7
        }
      ]
    },
    {
      "cell_type": "code",
      "source": [
        "fruits.sort()\n",
        "fruits"
      ],
      "metadata": {
        "colab": {
          "base_uri": "https://localhost:8080/"
        },
        "id": "ixjVIyq_E1QI",
        "outputId": "5e44507e-1f1a-4708-bb92-6858c6a5f239"
      },
      "execution_count": null,
      "outputs": [
        {
          "output_type": "execute_result",
          "data": {
            "text/plain": [
              "['apple', 'apple', 'banana', 'banana', 'grape', 'kiwi', 'orange', 'pear']"
            ]
          },
          "metadata": {},
          "execution_count": 8
        }
      ]
    },
    {
      "cell_type": "code",
      "source": [
        "fruits.pop()"
      ],
      "metadata": {
        "colab": {
          "base_uri": "https://localhost:8080/",
          "height": 36
        },
        "id": "13C1kCBvE3by",
        "outputId": "5cdce67b-8525-4b90-c62e-dfa50f9e9498"
      },
      "execution_count": null,
      "outputs": [
        {
          "output_type": "execute_result",
          "data": {
            "text/plain": [
              "'pear'"
            ],
            "application/vnd.google.colaboratory.intrinsic+json": {
              "type": "string"
            }
          },
          "metadata": {},
          "execution_count": 9
        }
      ]
    },
    {
      "cell_type": "markdown",
      "source": [
        "You might have noticed that methods like insert, remove or sort that only modify the list have no return value printed – they return the default None. 1 This is a design principle for all mutable data structures in Python.\n",
        "\n",
        "Another thing you might notice is that not all data can be sorted or compared. For instance, [None, 'hello', 10] doesn’t sort because integers can’t be compared to strings and None can’t be compared to other types. Also, there are some types that don’t have a defined ordering relation. For example, 3+4j < 5+7j isn’t a valid comparison.\n",
        "\n",
        "### 5.1.1. Using Lists as Stacks\n",
        "The list methods make it very easy to use a list as a stack, where the last element added is the first element retrieved (“last-in, first-out”). To add an item to the top of the stack, use append(). To retrieve an item from the top of the stack, use pop() without an explicit index. For example:"
      ],
      "metadata": {
        "id": "UIFylp66E93x"
      }
    },
    {
      "cell_type": "code",
      "source": [
        "stack = [3, 4, 5]\n",
        "stack.append(6)\n",
        "stack.append(7)\n",
        "stack"
      ],
      "metadata": {
        "colab": {
          "base_uri": "https://localhost:8080/"
        },
        "id": "NqH8AaUdE41B",
        "outputId": "f3e4b625-2e81-494c-e8bf-037c1b7701f0"
      },
      "execution_count": null,
      "outputs": [
        {
          "output_type": "execute_result",
          "data": {
            "text/plain": [
              "[3, 4, 5, 6, 7]"
            ]
          },
          "metadata": {},
          "execution_count": 10
        }
      ]
    },
    {
      "cell_type": "code",
      "source": [
        "\n",
        "stack.pop()\n",
        "\n",
        "stack\n"
      ],
      "metadata": {
        "colab": {
          "base_uri": "https://localhost:8080/"
        },
        "id": "S6yNeNHQFQ46",
        "outputId": "39d7e469-eb86-483c-a87c-c8e5c0c20049"
      },
      "execution_count": null,
      "outputs": [
        {
          "output_type": "execute_result",
          "data": {
            "text/plain": [
              "[3, 4, 5, 6]"
            ]
          },
          "metadata": {},
          "execution_count": 11
        }
      ]
    },
    {
      "cell_type": "code",
      "source": [
        "\n",
        "stack.pop()\n",
        "\n",
        "stack.pop()\n",
        "\n",
        "stack\n"
      ],
      "metadata": {
        "colab": {
          "base_uri": "https://localhost:8080/"
        },
        "id": "bUwlHcO6FUSG",
        "outputId": "268f0f6e-a893-46eb-9787-a0e424d2ae40"
      },
      "execution_count": null,
      "outputs": [
        {
          "output_type": "execute_result",
          "data": {
            "text/plain": [
              "[3, 4]"
            ]
          },
          "metadata": {},
          "execution_count": 12
        }
      ]
    },
    {
      "cell_type": "markdown",
      "source": [
        "### 5.1.2. Using Lists as Queues\n",
        "It is also possible to use a list as a queue, where the first element added is the first element retrieved (“first-in, first-out”); however, lists are not efficient for this purpose. While appends and pops from the end of list are fast, doing inserts or pops from the beginning of a list is slow (because all of the other elements have to be shifted by one).\n",
        "\n",
        "To implement a queue, use collections.deque which was designed to have fast appends and pops from both ends. For example:"
      ],
      "metadata": {
        "id": "_surTbPdF7nb"
      }
    },
    {
      "cell_type": "code",
      "source": [
        "from collections import deque\n",
        "queue = deque([\"Eric\", \"John\", \"Michael\"])\n",
        "queue.append(\"Terry\")           # Terry arrives\n",
        "queue.append(\"Graham\")          # Graham arrives\n",
        "queue.popleft()                 # The first to arrive now leaves\n"
      ],
      "metadata": {
        "colab": {
          "base_uri": "https://localhost:8080/",
          "height": 36
        },
        "id": "XMJFy3uLFVI5",
        "outputId": "952335b7-eba0-4d32-a959-69c5808fd209"
      },
      "execution_count": null,
      "outputs": [
        {
          "output_type": "execute_result",
          "data": {
            "text/plain": [
              "'Eric'"
            ],
            "application/vnd.google.colaboratory.intrinsic+json": {
              "type": "string"
            }
          },
          "metadata": {},
          "execution_count": 13
        }
      ]
    },
    {
      "cell_type": "code",
      "source": [
        "\n",
        "queue.popleft()                 # The second to arrive now leaves\n",
        "\n",
        "queue                           # Remaining queue in order of arrival"
      ],
      "metadata": {
        "colab": {
          "base_uri": "https://localhost:8080/"
        },
        "id": "gCgZNK9VGGih",
        "outputId": "e7501a10-314c-4288-82c6-b83a351acf36"
      },
      "execution_count": null,
      "outputs": [
        {
          "output_type": "execute_result",
          "data": {
            "text/plain": [
              "deque(['Michael', 'Terry', 'Graham'])"
            ]
          },
          "metadata": {},
          "execution_count": 14
        }
      ]
    },
    {
      "cell_type": "markdown",
      "source": [
        "### 5.1.3. List Comprehensions\n",
        "List comprehensions provide a concise way to create lists. Common applications are to make new lists where each element is the result of some operations applied to each member of another sequence or iterable, or to create a subsequence of those elements that satisfy a certain condition.\n",
        "\n",
        "For example, assume we want to create a list of squares, like:"
      ],
      "metadata": {
        "id": "mOEKdE0AGL7L"
      }
    },
    {
      "cell_type": "code",
      "source": [
        "squares = []\n",
        "for x in range(10):\n",
        "    squares.append(x**2)\n",
        "\n",
        "squares\n"
      ],
      "metadata": {
        "colab": {
          "base_uri": "https://localhost:8080/"
        },
        "id": "RqcDyhb-GIoO",
        "outputId": "e9169ad6-0e58-4049-cb47-396cf5e5ac75"
      },
      "execution_count": null,
      "outputs": [
        {
          "output_type": "execute_result",
          "data": {
            "text/plain": [
              "[0, 1, 4, 9, 16, 25, 36, 49, 64, 81]"
            ]
          },
          "metadata": {},
          "execution_count": 18
        }
      ]
    },
    {
      "cell_type": "code",
      "source": [
        "#Note that this creates (or overwrites) a variable named x that still exists after the loop completes. We can calculate the list of squares without any side effects using:\n",
        "\n",
        "squares = list(map(lambda x: x**2, range(10)))\n",
        "\n",
        "#or, equivalently:\n",
        "\n",
        "squares = [x**2 for x in range(10)]\n",
        "\n",
        "#which is more concise and readable."
      ],
      "metadata": {
        "id": "cwQ18mmjGPwa"
      },
      "execution_count": 3,
      "outputs": []
    },
    {
      "cell_type": "code",
      "source": [
        "[(x, y) for x in [1,2,3] for y in [3,1,4] if x != y]"
      ],
      "metadata": {
        "id": "4Yi-KcDOGVjY",
        "colab": {
          "base_uri": "https://localhost:8080/"
        },
        "outputId": "151ed8bc-232f-42fb-f44f-f394378b5607"
      },
      "execution_count": 1,
      "outputs": [
        {
          "output_type": "execute_result",
          "data": {
            "text/plain": [
              "[(1, 3), (1, 4), (2, 3), (2, 1), (2, 4), (3, 1), (3, 4)]"
            ]
          },
          "metadata": {},
          "execution_count": 1
        }
      ]
    },
    {
      "cell_type": "code",
      "source": [
        "combs = []\n",
        "for x in [1,2,3]:\n",
        "    for y in [3,1,4]:\n",
        "        if x != y:\n",
        "            combs.append((x, y))\n",
        "\n",
        "combs"
      ],
      "metadata": {
        "colab": {
          "base_uri": "https://localhost:8080/"
        },
        "id": "tK6_nrHL3KUM",
        "outputId": "73466f24-b860-4672-d7be-65716754dfa7"
      },
      "execution_count": 4,
      "outputs": [
        {
          "output_type": "execute_result",
          "data": {
            "text/plain": [
              "[(1, 3), (1, 4), (2, 3), (2, 1), (2, 4), (3, 1), (3, 4)]"
            ]
          },
          "metadata": {},
          "execution_count": 4
        }
      ]
    },
    {
      "cell_type": "code",
      "source": [
        "from math import pi\n",
        "[str(round(pi, i)) for i in range(1, 6)]"
      ],
      "metadata": {
        "colab": {
          "base_uri": "https://localhost:8080/"
        },
        "id": "DfaUM7Gi3Ryp",
        "outputId": "3987000f-9699-41e6-ecba-9c628b299e27"
      },
      "execution_count": 5,
      "outputs": [
        {
          "output_type": "execute_result",
          "data": {
            "text/plain": [
              "['3.1', '3.14', '3.142', '3.1416', '3.14159']"
            ]
          },
          "metadata": {},
          "execution_count": 5
        }
      ]
    },
    {
      "cell_type": "markdown",
      "source": [
        "5.1.4. Nested List Comprehensions\n"
      ],
      "metadata": {
        "id": "KhJgOuQr3e09"
      }
    },
    {
      "cell_type": "code",
      "source": [
        "matrix = [\n",
        "    [1, 2, 3, 4],\n",
        "    [5, 6, 7, 8],\n",
        "    [9, 10, 11, 12],\n",
        "]"
      ],
      "metadata": {
        "id": "OgygruqH3XIT"
      },
      "execution_count": 6,
      "outputs": []
    },
    {
      "cell_type": "code",
      "source": [
        "[[row[i] for row in matrix] for i in range(4)]"
      ],
      "metadata": {
        "colab": {
          "base_uri": "https://localhost:8080/"
        },
        "id": "Nd1LbDvR3h3H",
        "outputId": "9a0aa50f-c1e7-4f50-d9ed-e7ae2a1bc115"
      },
      "execution_count": 7,
      "outputs": [
        {
          "output_type": "execute_result",
          "data": {
            "text/plain": [
              "[[1, 5, 9], [2, 6, 10], [3, 7, 11], [4, 8, 12]]"
            ]
          },
          "metadata": {},
          "execution_count": 7
        }
      ]
    },
    {
      "cell_type": "code",
      "source": [
        "transposed = []\n",
        "for i in range(4):\n",
        "    transposed.append([row[i] for row in matrix])\n",
        "\n",
        "transposed"
      ],
      "metadata": {
        "colab": {
          "base_uri": "https://localhost:8080/"
        },
        "id": "fdGgPKES3jzE",
        "outputId": "ef3e18db-2639-47a8-fa22-8a7525a92c95"
      },
      "execution_count": 8,
      "outputs": [
        {
          "output_type": "execute_result",
          "data": {
            "text/plain": [
              "[[1, 5, 9], [2, 6, 10], [3, 7, 11], [4, 8, 12]]"
            ]
          },
          "metadata": {},
          "execution_count": 8
        }
      ]
    },
    {
      "cell_type": "code",
      "source": [
        "transposed = []\n",
        "for i in range(4):\n",
        "    # the following 3 lines implement the nested listcomp\n",
        "    transposed_row = []\n",
        "    for row in matrix:\n",
        "        transposed_row.append(row[i])\n",
        "    transposed.append(transposed_row)\n",
        "\n",
        "transposed"
      ],
      "metadata": {
        "colab": {
          "base_uri": "https://localhost:8080/"
        },
        "id": "PmmMKRdr3mPH",
        "outputId": "55c385b6-e063-4e84-aeef-61cd7b435a2d"
      },
      "execution_count": 9,
      "outputs": [
        {
          "output_type": "execute_result",
          "data": {
            "text/plain": [
              "[[1, 5, 9], [2, 6, 10], [3, 7, 11], [4, 8, 12]]"
            ]
          },
          "metadata": {},
          "execution_count": 9
        }
      ]
    },
    {
      "cell_type": "code",
      "source": [
        "list(zip(*matrix))"
      ],
      "metadata": {
        "colab": {
          "base_uri": "https://localhost:8080/"
        },
        "id": "I2pa_N-03prJ",
        "outputId": "14159412-d1b7-46a6-853c-8fdd25f49523"
      },
      "execution_count": 10,
      "outputs": [
        {
          "output_type": "execute_result",
          "data": {
            "text/plain": [
              "[(1, 5, 9), (2, 6, 10), (3, 7, 11), (4, 8, 12)]"
            ]
          },
          "metadata": {},
          "execution_count": 10
        }
      ]
    },
    {
      "cell_type": "markdown",
      "source": [
        "5.2. The del statement"
      ],
      "metadata": {
        "id": "ZC7Dh9GW3vgN"
      }
    },
    {
      "cell_type": "code",
      "source": [
        "\n",
        "a = [-1, 1, 66.25, 333, 333, 1234.5]\n",
        "del a[0]\n",
        "a\n"
      ],
      "metadata": {
        "colab": {
          "base_uri": "https://localhost:8080/"
        },
        "id": "Lg9-ar2D3sFk",
        "outputId": "49e731b3-1f61-471c-dfaa-3a3eead2ce6b"
      },
      "execution_count": 11,
      "outputs": [
        {
          "output_type": "execute_result",
          "data": {
            "text/plain": [
              "[1, 66.25, 333, 333, 1234.5]"
            ]
          },
          "metadata": {},
          "execution_count": 11
        }
      ]
    },
    {
      "cell_type": "code",
      "source": [
        "del a[2:4]"
      ],
      "metadata": {
        "id": "dhbxHNSJ31sb"
      },
      "execution_count": 12,
      "outputs": []
    },
    {
      "cell_type": "code",
      "source": [
        "del a[:]\n",
        "a"
      ],
      "metadata": {
        "colab": {
          "base_uri": "https://localhost:8080/"
        },
        "id": "uFzjHm3Z33ol",
        "outputId": "13d25744-2f52-47bc-bedb-2626f2aba0be"
      },
      "execution_count": 13,
      "outputs": [
        {
          "output_type": "execute_result",
          "data": {
            "text/plain": [
              "[]"
            ]
          },
          "metadata": {},
          "execution_count": 13
        }
      ]
    },
    {
      "cell_type": "code",
      "source": [
        "del a\n",
        "a"
      ],
      "metadata": {
        "colab": {
          "base_uri": "https://localhost:8080/",
          "height": 193
        },
        "id": "iGuaAaON35qW",
        "outputId": "c1600f2f-aef6-44fc-eecf-01c8e36ba789"
      },
      "execution_count": 14,
      "outputs": [
        {
          "output_type": "error",
          "ename": "NameError",
          "evalue": "ignored",
          "traceback": [
            "\u001b[0;31m---------------------------------------------------------------------------\u001b[0m",
            "\u001b[0;31mNameError\u001b[0m                                 Traceback (most recent call last)",
            "\u001b[0;32m<ipython-input-14-88f0dc819981>\u001b[0m in \u001b[0;36m<cell line: 2>\u001b[0;34m()\u001b[0m\n\u001b[1;32m      1\u001b[0m \u001b[0;32mdel\u001b[0m \u001b[0ma\u001b[0m\u001b[0;34m\u001b[0m\u001b[0;34m\u001b[0m\u001b[0m\n\u001b[0;32m----> 2\u001b[0;31m \u001b[0ma\u001b[0m\u001b[0;34m\u001b[0m\u001b[0;34m\u001b[0m\u001b[0m\n\u001b[0m",
            "\u001b[0;31mNameError\u001b[0m: name 'a' is not defined"
          ]
        }
      ]
    },
    {
      "cell_type": "markdown",
      "source": [
        "5.3. Tuples and Sequences"
      ],
      "metadata": {
        "id": "dKmF-51O3_Qh"
      }
    },
    {
      "cell_type": "code",
      "source": [
        "empty = ()\n",
        "singleton = 'hello',    # <-- note trailing comma\n",
        "len(empty)\n"
      ],
      "metadata": {
        "colab": {
          "base_uri": "https://localhost:8080/"
        },
        "id": "fHhVpKX538Qh",
        "outputId": "2280142a-7e02-410d-c1a4-cd925febf378"
      },
      "execution_count": 17,
      "outputs": [
        {
          "output_type": "execute_result",
          "data": {
            "text/plain": [
              "0"
            ]
          },
          "metadata": {},
          "execution_count": 17
        }
      ]
    },
    {
      "cell_type": "code",
      "source": [
        "len(singleton)"
      ],
      "metadata": {
        "colab": {
          "base_uri": "https://localhost:8080/"
        },
        "id": "f8RZ7ln14MCl",
        "outputId": "9b11c995-9f74-4022-fd15-8eb533408d88"
      },
      "execution_count": 18,
      "outputs": [
        {
          "output_type": "execute_result",
          "data": {
            "text/plain": [
              "1"
            ]
          },
          "metadata": {},
          "execution_count": 18
        }
      ]
    },
    {
      "cell_type": "code",
      "source": [
        "singleton"
      ],
      "metadata": {
        "colab": {
          "base_uri": "https://localhost:8080/"
        },
        "id": "Hep2j2mQ4Gru",
        "outputId": "c55380d9-b81a-49b7-98fb-050d975b17f3"
      },
      "execution_count": 16,
      "outputs": [
        {
          "output_type": "execute_result",
          "data": {
            "text/plain": [
              "('hello',)"
            ]
          },
          "metadata": {},
          "execution_count": 16
        }
      ]
    },
    {
      "cell_type": "markdown",
      "source": [
        "5.4. Sets"
      ],
      "metadata": {
        "id": "Rj4bTCjv4SB0"
      }
    },
    {
      "cell_type": "code",
      "source": [
        "basket = {'apple', 'orange', 'apple', 'pear', 'orange', 'banana'}\n",
        "print(basket)"
      ],
      "metadata": {
        "colab": {
          "base_uri": "https://localhost:8080/"
        },
        "id": "nEvKMzAD4KOz",
        "outputId": "90fc902c-0554-4f41-c4de-95c67335a1ca"
      },
      "execution_count": 19,
      "outputs": [
        {
          "output_type": "stream",
          "name": "stdout",
          "text": [
            "{'apple', 'pear', 'banana', 'orange'}\n"
          ]
        }
      ]
    },
    {
      "cell_type": "code",
      "source": [
        "'orange' in basket"
      ],
      "metadata": {
        "colab": {
          "base_uri": "https://localhost:8080/"
        },
        "id": "2AaEYlii4Xd9",
        "outputId": "1333cfff-2ede-4d0f-91f9-179c6083f32e"
      },
      "execution_count": 20,
      "outputs": [
        {
          "output_type": "execute_result",
          "data": {
            "text/plain": [
              "True"
            ]
          },
          "metadata": {},
          "execution_count": 20
        }
      ]
    },
    {
      "cell_type": "code",
      "source": [
        "'crabgrass' in basket"
      ],
      "metadata": {
        "colab": {
          "base_uri": "https://localhost:8080/"
        },
        "id": "vgzSkXG74ZgG",
        "outputId": "5bb7f206-5cbd-4c19-ffc6-3b4a450fcef4"
      },
      "execution_count": 21,
      "outputs": [
        {
          "output_type": "execute_result",
          "data": {
            "text/plain": [
              "False"
            ]
          },
          "metadata": {},
          "execution_count": 21
        }
      ]
    },
    {
      "cell_type": "code",
      "source": [
        "a = set('abracadabra')\n",
        "b = set('alacazam')\n",
        "a"
      ],
      "metadata": {
        "colab": {
          "base_uri": "https://localhost:8080/"
        },
        "id": "xbiceG_B4a4Q",
        "outputId": "3709688c-9ca2-4754-f11b-d5c3ce412713"
      },
      "execution_count": 22,
      "outputs": [
        {
          "output_type": "execute_result",
          "data": {
            "text/plain": [
              "{'a', 'b', 'c', 'd', 'r'}"
            ]
          },
          "metadata": {},
          "execution_count": 22
        }
      ]
    },
    {
      "cell_type": "code",
      "source": [
        "a = {x for x in 'abracadabra' if x not in 'abc'}\n",
        "a"
      ],
      "metadata": {
        "colab": {
          "base_uri": "https://localhost:8080/"
        },
        "id": "7pF6b12U4d-C",
        "outputId": "4c037506-114d-40f7-c44e-1303b12596c7"
      },
      "execution_count": 23,
      "outputs": [
        {
          "output_type": "execute_result",
          "data": {
            "text/plain": [
              "{'d', 'r'}"
            ]
          },
          "metadata": {},
          "execution_count": 23
        }
      ]
    },
    {
      "cell_type": "markdown",
      "source": [
        "5.5. Dictionaries"
      ],
      "metadata": {
        "id": "Kd_Cm_0p4pMW"
      }
    },
    {
      "cell_type": "code",
      "source": [
        "tel = {'jack': 4098, 'sape': 4139}\n",
        "tel['guido'] = 4127\n",
        "tel"
      ],
      "metadata": {
        "colab": {
          "base_uri": "https://localhost:8080/"
        },
        "id": "R96GTCWF4gEl",
        "outputId": "3dc676e9-7c92-453c-e25d-ed7afab3147b"
      },
      "execution_count": 24,
      "outputs": [
        {
          "output_type": "execute_result",
          "data": {
            "text/plain": [
              "{'jack': 4098, 'sape': 4139, 'guido': 4127}"
            ]
          },
          "metadata": {},
          "execution_count": 24
        }
      ]
    },
    {
      "cell_type": "code",
      "source": [
        "tel['jack']"
      ],
      "metadata": {
        "colab": {
          "base_uri": "https://localhost:8080/"
        },
        "id": "6zhjUWpj4rhw",
        "outputId": "f7de4846-6607-428c-b5fa-57d15b8bd985"
      },
      "execution_count": 25,
      "outputs": [
        {
          "output_type": "execute_result",
          "data": {
            "text/plain": [
              "4098"
            ]
          },
          "metadata": {},
          "execution_count": 25
        }
      ]
    },
    {
      "cell_type": "code",
      "source": [
        "del tel['sape']\n",
        "tel['irv'] = 4127\n",
        "tel"
      ],
      "metadata": {
        "colab": {
          "base_uri": "https://localhost:8080/"
        },
        "id": "AzfipmJP4tS8",
        "outputId": "e1f8b3f0-a9f4-48a4-84fc-ba89a4f9edd0"
      },
      "execution_count": 26,
      "outputs": [
        {
          "output_type": "execute_result",
          "data": {
            "text/plain": [
              "{'jack': 4098, 'guido': 4127, 'irv': 4127}"
            ]
          },
          "metadata": {},
          "execution_count": 26
        }
      ]
    },
    {
      "cell_type": "code",
      "source": [
        "list(tel)"
      ],
      "metadata": {
        "colab": {
          "base_uri": "https://localhost:8080/"
        },
        "id": "A3ZLHhho4u4b",
        "outputId": "aef6cc78-7c55-4920-9bb0-53fb929b0014"
      },
      "execution_count": 27,
      "outputs": [
        {
          "output_type": "execute_result",
          "data": {
            "text/plain": [
              "['jack', 'guido', 'irv']"
            ]
          },
          "metadata": {},
          "execution_count": 27
        }
      ]
    },
    {
      "cell_type": "code",
      "source": [
        "sorted(tel)"
      ],
      "metadata": {
        "colab": {
          "base_uri": "https://localhost:8080/"
        },
        "id": "nI_O9G034wyx",
        "outputId": "11840061-1ba7-42e7-f846-1d4c64145c0d"
      },
      "execution_count": 28,
      "outputs": [
        {
          "output_type": "execute_result",
          "data": {
            "text/plain": [
              "['guido', 'irv', 'jack']"
            ]
          },
          "metadata": {},
          "execution_count": 28
        }
      ]
    },
    {
      "cell_type": "code",
      "source": [
        "'guido' in tel"
      ],
      "metadata": {
        "colab": {
          "base_uri": "https://localhost:8080/"
        },
        "id": "u0AhIuM94zRK",
        "outputId": "7c96135b-4382-4443-fece-ad49ae12513a"
      },
      "execution_count": 29,
      "outputs": [
        {
          "output_type": "execute_result",
          "data": {
            "text/plain": [
              "True"
            ]
          },
          "metadata": {},
          "execution_count": 29
        }
      ]
    },
    {
      "cell_type": "code",
      "source": [
        "'jack' not in tel"
      ],
      "metadata": {
        "colab": {
          "base_uri": "https://localhost:8080/"
        },
        "id": "P2Gim4pt407U",
        "outputId": "16686ee7-0414-4097-cf99-984c77f09f9d"
      },
      "execution_count": 30,
      "outputs": [
        {
          "output_type": "execute_result",
          "data": {
            "text/plain": [
              "False"
            ]
          },
          "metadata": {},
          "execution_count": 30
        }
      ]
    },
    {
      "cell_type": "code",
      "source": [
        "dict([('sape', 4139), ('guido', 4127), ('jack', 4098)])"
      ],
      "metadata": {
        "colab": {
          "base_uri": "https://localhost:8080/"
        },
        "id": "5UrUjZ9442uo",
        "outputId": "03bf696c-3bf6-40b2-aacc-a9b7e5dfa7c4"
      },
      "execution_count": 31,
      "outputs": [
        {
          "output_type": "execute_result",
          "data": {
            "text/plain": [
              "{'sape': 4139, 'guido': 4127, 'jack': 4098}"
            ]
          },
          "metadata": {},
          "execution_count": 31
        }
      ]
    },
    {
      "cell_type": "code",
      "source": [
        "{x: x**2 for x in (2, 4, 6)}"
      ],
      "metadata": {
        "colab": {
          "base_uri": "https://localhost:8080/"
        },
        "id": "K_P8JwFi44s3",
        "outputId": "2dd7d813-662c-480e-a96e-94698a941ac2"
      },
      "execution_count": 32,
      "outputs": [
        {
          "output_type": "execute_result",
          "data": {
            "text/plain": [
              "{2: 4, 4: 16, 6: 36}"
            ]
          },
          "metadata": {},
          "execution_count": 32
        }
      ]
    },
    {
      "cell_type": "code",
      "source": [
        "dict(sape=4139, guido=4127, jack=4098)"
      ],
      "metadata": {
        "colab": {
          "base_uri": "https://localhost:8080/"
        },
        "id": "76FUHOar46oE",
        "outputId": "15393db5-1fc6-4acd-fdcd-1b39767a48aa"
      },
      "execution_count": 33,
      "outputs": [
        {
          "output_type": "execute_result",
          "data": {
            "text/plain": [
              "{'sape': 4139, 'guido': 4127, 'jack': 4098}"
            ]
          },
          "metadata": {},
          "execution_count": 33
        }
      ]
    },
    {
      "cell_type": "markdown",
      "source": [
        "5.6. Looping Techniques"
      ],
      "metadata": {
        "id": "aUJMPz_V4-1d"
      }
    },
    {
      "cell_type": "code",
      "source": [
        "knights = {'gallahad': 'the pure', 'robin': 'the brave'}\n",
        "for k, v in knights.items():\n",
        "    print(k, v)"
      ],
      "metadata": {
        "colab": {
          "base_uri": "https://localhost:8080/"
        },
        "id": "cOc_mNHQ48Yh",
        "outputId": "99b260d0-d1cb-4ce8-9135-dca7ba4ed137"
      },
      "execution_count": 34,
      "outputs": [
        {
          "output_type": "stream",
          "name": "stdout",
          "text": [
            "gallahad the pure\n",
            "robin the brave\n"
          ]
        }
      ]
    },
    {
      "cell_type": "code",
      "source": [
        "for i, v in enumerate(['tic', 'tac', 'toe']):\n",
        "    print(i, v)"
      ],
      "metadata": {
        "colab": {
          "base_uri": "https://localhost:8080/"
        },
        "id": "-y5Rjo8T5BKc",
        "outputId": "64f823f9-6e93-4c7d-f5a4-234e482c6201"
      },
      "execution_count": 35,
      "outputs": [
        {
          "output_type": "stream",
          "name": "stdout",
          "text": [
            "0 tic\n",
            "1 tac\n",
            "2 toe\n"
          ]
        }
      ]
    },
    {
      "cell_type": "code",
      "source": [
        "questions = ['name', 'quest', 'favorite color']\n",
        "answers = ['lancelot', 'the holy grail', 'blue']\n",
        "for q, a in zip(questions, answers):\n",
        "    print('What is your {0}?  It is {1}.'.format(q, a))"
      ],
      "metadata": {
        "colab": {
          "base_uri": "https://localhost:8080/"
        },
        "id": "pQL88J-q5C1N",
        "outputId": "f3a53511-30cd-45e7-c056-9eb58be85480"
      },
      "execution_count": 36,
      "outputs": [
        {
          "output_type": "stream",
          "name": "stdout",
          "text": [
            "What is your name?  It is lancelot.\n",
            "What is your quest?  It is the holy grail.\n",
            "What is your favorite color?  It is blue.\n"
          ]
        }
      ]
    },
    {
      "cell_type": "code",
      "source": [
        "for i in reversed(range(1, 10, 2)):\n",
        "    print(i)"
      ],
      "metadata": {
        "colab": {
          "base_uri": "https://localhost:8080/"
        },
        "id": "Z1N-6onQ5Elq",
        "outputId": "69eaa387-920c-423e-ef9d-643ac6dcc15c"
      },
      "execution_count": 37,
      "outputs": [
        {
          "output_type": "stream",
          "name": "stdout",
          "text": [
            "9\n",
            "7\n",
            "5\n",
            "3\n",
            "1\n"
          ]
        }
      ]
    },
    {
      "cell_type": "code",
      "source": [
        "basket = ['apple', 'orange', 'apple', 'pear', 'orange', 'banana']\n",
        "for i in sorted(basket):\n",
        "    print(i)"
      ],
      "metadata": {
        "colab": {
          "base_uri": "https://localhost:8080/"
        },
        "id": "9rsoI-a75GhV",
        "outputId": "67183f66-ebca-40b2-aafb-a321a4972f79"
      },
      "execution_count": 38,
      "outputs": [
        {
          "output_type": "stream",
          "name": "stdout",
          "text": [
            "apple\n",
            "apple\n",
            "banana\n",
            "orange\n",
            "orange\n",
            "pear\n"
          ]
        }
      ]
    },
    {
      "cell_type": "code",
      "source": [
        "basket = ['apple', 'orange', 'apple', 'pear', 'orange', 'banana']\n",
        "for f in sorted(set(basket)):\n",
        "    print(f)"
      ],
      "metadata": {
        "colab": {
          "base_uri": "https://localhost:8080/"
        },
        "id": "IbUDAIv_5Iag",
        "outputId": "dc94fa2a-1547-4d22-e09d-503516bf0571"
      },
      "execution_count": 39,
      "outputs": [
        {
          "output_type": "stream",
          "name": "stdout",
          "text": [
            "apple\n",
            "banana\n",
            "orange\n",
            "pear\n"
          ]
        }
      ]
    },
    {
      "cell_type": "code",
      "source": [
        "import math\n",
        "raw_data = [56.2, float('NaN'), 51.7, 55.3, 52.5, float('NaN'), 47.8]\n",
        "filtered_data = []\n",
        "for value in raw_data:\n",
        "    if not math.isnan(value):\n",
        "        filtered_data.append(value)\n",
        "\n",
        "filtered_data"
      ],
      "metadata": {
        "colab": {
          "base_uri": "https://localhost:8080/"
        },
        "id": "MKpaqO-Y5J93",
        "outputId": "89254710-b4ff-417d-fb44-ed029e981b0b"
      },
      "execution_count": 40,
      "outputs": [
        {
          "output_type": "execute_result",
          "data": {
            "text/plain": [
              "[56.2, 51.7, 55.3, 52.5, 47.8]"
            ]
          },
          "metadata": {},
          "execution_count": 40
        }
      ]
    },
    {
      "cell_type": "code",
      "source": [
        "string1, string2, string3 = '', 'Trondheim', 'Hammer Dance'\n",
        "non_null = string1 or string2 or string3\n",
        "non_null"
      ],
      "metadata": {
        "id": "mmSQ-2H55Ltj",
        "outputId": "8956e1e4-ae2e-4607-86fc-80d9f2d8dc1e",
        "colab": {
          "base_uri": "https://localhost:8080/",
          "height": 35
        }
      },
      "execution_count": 41,
      "outputs": [
        {
          "output_type": "execute_result",
          "data": {
            "text/plain": [
              "'Trondheim'"
            ],
            "application/vnd.google.colaboratory.intrinsic+json": {
              "type": "string"
            }
          },
          "metadata": {},
          "execution_count": 41
        }
      ]
    },
    {
      "cell_type": "code",
      "source": [],
      "metadata": {
        "id": "D1X7Ghhw5OCJ"
      },
      "execution_count": null,
      "outputs": []
    }
  ]
}