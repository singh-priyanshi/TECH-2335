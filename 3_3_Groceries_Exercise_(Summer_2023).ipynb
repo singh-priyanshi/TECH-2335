{
  "nbformat": 4,
  "nbformat_minor": 0,
  "metadata": {
    "colab": {
      "provenance": [],
      "collapsed_sections": [
        "eDLu9Zvgfuvq"
      ],
      "include_colab_link": true
    },
    "kernelspec": {
      "name": "python3",
      "display_name": "Python 3"
    }
  },
  "cells": [
    {
      "cell_type": "markdown",
      "metadata": {
        "id": "view-in-github",
        "colab_type": "text"
      },
      "source": [
        "<a href=\"https://colab.research.google.com/github/singh-priyanshi/TECH-2335/blob/main/3_3_Groceries_Exercise_(Summer_2023).ipynb\" target=\"_parent\"><img src=\"https://colab.research.google.com/assets/colab-badge.svg\" alt=\"Open In Colab\"/></a>"
      ]
    },
    {
      "cell_type": "markdown",
      "source": [
        "version: 2023-07-14 (adds unit tests to setup section)"
      ],
      "metadata": {
        "id": "7ZNicZyEDvkQ"
      }
    },
    {
      "cell_type": "markdown",
      "metadata": {
        "id": "qO82jWpUzFYe"
      },
      "source": [
        "## References\n",
        "\n",
        "  + [Lists](https://github.com/prof-rossetti/intro-to-python/blob/master/notes/python/datatypes/lists.md)\n",
        "  + [Dictionaries](https://github.com/prof-rossetti/intro-to-python/blob/master/notes/python/datatypes/dictionaries.md)\n",
        "  + [List Comprehensions](https://docs.python.org/3/tutorial/datastructures.html?#list-comprehensions)"
      ]
    },
    {
      "cell_type": "markdown",
      "metadata": {
        "id": "cj2a-V0qfs8X"
      },
      "source": [
        "# Instructions\n",
        "\n",
        "Make a copy of this notebook so you can edit and save your own version of it. Do the work in your copy of the notebook.\n",
        "\n",
        "The setup cell provides a Python variable called `products` and a function called `to_usd`. Remember to run the setup cells before proceeding to development.\n",
        "\n",
        "Write Python code in the cells below to transform the provided `products` variable into the desired information outputs.\n",
        "\n",
        "# Collaboration\n",
        "\n",
        "It is OK to discuss this exercise generally with other students, to work together, and even to share some small code snippets!\n",
        "\n",
        "NOTE: if you receive any help from another student, you are expected to provide appropriate attribution in a corresponding text cell or code comment, like \"Student X helped me with this part\", or \"Student Y and I worked on this part together\".\n",
        "\n",
        "# Evaluation\n",
        "\n",
        "Exercise submissions will be evaluated according to the rubric below:\n",
        "\n",
        "Question | Weight\n",
        "-- | --\n",
        "Part I | 50%\n",
        "Part II | 50%\n",
        "\n",
        "\n",
        "This rubric is tentative, and may be subject to slight adjustments during the grading process.\n"
      ]
    },
    {
      "cell_type": "markdown",
      "metadata": {
        "id": "eDLu9Zvgfuvq"
      },
      "source": [
        "# Setup"
      ]
    },
    {
      "cell_type": "code",
      "source": [
        "#\n",
        "# SETUP CELL (run and leave as-is)\n",
        "#\n",
        "\n",
        "def to_usd(my_price):\n",
        "    \"\"\"\n",
        "    Converts a numeric value to usd-formatted string, for printing and display purposes.\n",
        "\n",
        "    Param: my_price (int or float) like 4000.444444\n",
        "\n",
        "    Example: to_usd(4000.444444)\n",
        "\n",
        "    Returns: $4,000.44\n",
        "    \"\"\"\n",
        "    return f\"${my_price:,.2f}\" #> $12,000.71\n",
        "\n",
        "\n",
        "assert to_usd(3.5) == \"$3.50\"\n",
        "assert to_usd(4.44444) == \"$4.44\"\n",
        "assert to_usd(1234567890) == \"$1,234,567,890.00\"\n",
        "\n",
        "print(to_usd(12345.6789))"
      ],
      "metadata": {
        "colab": {
          "base_uri": "https://localhost:8080/"
        },
        "id": "4_kC0rW0Dsd7",
        "outputId": "0e24ba1b-0ce5-4fab-b693-72d6f9f9b041"
      },
      "execution_count": null,
      "outputs": [
        {
          "output_type": "stream",
          "name": "stdout",
          "text": [
            "$12,345.68\n"
          ]
        }
      ]
    },
    {
      "cell_type": "code",
      "metadata": {
        "id": "bMCg7sm9UuKL"
      },
      "source": [
        "\n",
        "\n",
        "\n",
        "#\n",
        "# SETUP CELL (run and leave as-is)\n",
        "#\n",
        "\n",
        "products = [\n",
        "    {\"id\":1, \"name\": \"Chocolate Sandwich Cookies\", \"department\": \"snacks\", \"aisle\": \"cookies cakes\", \"price\": 3.50},\n",
        "    {\"id\":2, \"name\": \"All-Seasons Salt\", \"department\": \"pantry\", \"aisle\": \"spices seasonings\", \"price\": 4.99},\n",
        "    {\"id\":3, \"name\": \"Robust Golden Unsweetened Oolong Tea\", \"department\": \"beverages\", \"aisle\": \"tea\", \"price\": 2.49},\n",
        "    {\"id\":4, \"name\": \"Smart Ones Classic Favorites Mini Rigatoni With Vodka Cream Sauce\", \"department\": \"frozen\", \"aisle\": \"frozen meals\", \"price\": 6.99},\n",
        "    {\"id\":5, \"name\": \"Green Chile Anytime Sauce\", \"department\": \"pantry\", \"aisle\": \"marinades meat preparation\", \"price\": 7.99},\n",
        "    {\"id\":6, \"name\": \"Dry Nose Oil\", \"department\": \"personal care\", \"aisle\": \"cold flu allergy\", \"price\": 21.99},\n",
        "    {\"id\":7, \"name\": \"Pure Coconut Water With Orange\", \"department\": \"beverages\", \"aisle\": \"juice nectars\", \"price\": 3.50},\n",
        "    {\"id\":8, \"name\": \"Cut Russet Potatoes Steam N' Mash\", \"department\": \"frozen\", \"aisle\": \"frozen produce\", \"price\": 4.25},\n",
        "    {\"id\":9, \"name\": \"Light Strawberry Blueberry Yogurt\", \"department\": \"dairy eggs\", \"aisle\": \"yogurt\", \"price\": 6.50},\n",
        "    {\"id\":10, \"name\": \"Sparkling Orange Juice & Prickly Pear Beverage\", \"department\": \"beverages\", \"aisle\": \"water seltzer sparkling water\", \"price\": 2.99},\n",
        "    {\"id\":11, \"name\": \"Peach Mango Juice\", \"department\": \"beverages\", \"aisle\": \"refrigerated\", \"price\": 1.99},\n",
        "    {\"id\":12, \"name\": \"Chocolate Fudge Layer Cake\", \"department\": \"frozen\", \"aisle\": \"frozen dessert\", \"price\": 18.50},\n",
        "    {\"id\":13, \"name\": \"Saline Nasal Mist\", \"department\": \"personal care\", \"aisle\": \"cold flu allergy\", \"price\": 16.00},\n",
        "    {\"id\":14, \"name\": \"Fresh Scent Dishwasher Cleaner\", \"department\": \"household\", \"aisle\": \"dish detergents\", \"price\": 4.99},\n",
        "    {\"id\":15, \"name\": \"Overnight Diapers Size 6\", \"department\": \"babies\", \"aisle\": \"diapers wipes\", \"price\": 25.50},\n",
        "    {\"id\":16, \"name\": \"Mint Chocolate Flavored Syrup\", \"department\": \"snacks\", \"aisle\": \"ice cream toppings\", \"price\": 4.50},\n",
        "    {\"id\":17, \"name\": \"Rendered Duck Fat\", \"department\": \"meat seafood\", \"aisle\": \"poultry counter\", \"price\": 9.99},\n",
        "    {\"id\":18, \"name\": \"Pizza for One Suprema Frozen Pizza\", \"department\": \"frozen\", \"aisle\": \"frozen pizza\", \"price\": 12.50},\n",
        "    {\"id\":19, \"name\": \"Gluten Free Quinoa Three Cheese & Mushroom Blend\", \"department\": \"dry goods pasta\", \"aisle\": \"grains rice dried goods\", \"price\": 3.99},\n",
        "    {\"id\":20, \"name\": \"Pomegranate Cranberry & Aloe Vera Enrich Drink\", \"department\": \"beverages\", \"aisle\": \"juice nectars\", \"price\": 4.25}\n",
        "] # based on data from Instacart: https://www.instacart.com/datasets/grocery-shopping-2017\n"
      ],
      "execution_count": 22,
      "outputs": []
    },
    {
      "cell_type": "code",
      "metadata": {
        "id": "QbTs7ScTnsjJ",
        "colab": {
          "base_uri": "https://localhost:8080/"
        },
        "outputId": "9c2e169d-80fc-44ef-a31a-22bb41305a90"
      },
      "source": [
        "# testing the setup process:\n",
        "print(products)\n",
        "print(to_usd(12345.6789))"
      ],
      "execution_count": null,
      "outputs": [
        {
          "output_type": "stream",
          "name": "stdout",
          "text": [
            "[{'id': 1, 'name': 'Chocolate Sandwich Cookies', 'department': 'snacks', 'aisle': 'cookies cakes', 'price': 3.5}, {'id': 2, 'name': 'All-Seasons Salt', 'department': 'pantry', 'aisle': 'spices seasonings', 'price': 4.99}, {'id': 3, 'name': 'Robust Golden Unsweetened Oolong Tea', 'department': 'beverages', 'aisle': 'tea', 'price': 2.49}, {'id': 4, 'name': 'Smart Ones Classic Favorites Mini Rigatoni With Vodka Cream Sauce', 'department': 'frozen', 'aisle': 'frozen meals', 'price': 6.99}, {'id': 5, 'name': 'Green Chile Anytime Sauce', 'department': 'pantry', 'aisle': 'marinades meat preparation', 'price': 7.99}, {'id': 6, 'name': 'Dry Nose Oil', 'department': 'personal care', 'aisle': 'cold flu allergy', 'price': 21.99}, {'id': 7, 'name': 'Pure Coconut Water With Orange', 'department': 'beverages', 'aisle': 'juice nectars', 'price': 3.5}, {'id': 8, 'name': \"Cut Russet Potatoes Steam N' Mash\", 'department': 'frozen', 'aisle': 'frozen produce', 'price': 4.25}, {'id': 9, 'name': 'Light Strawberry Blueberry Yogurt', 'department': 'dairy eggs', 'aisle': 'yogurt', 'price': 6.5}, {'id': 10, 'name': 'Sparkling Orange Juice & Prickly Pear Beverage', 'department': 'beverages', 'aisle': 'water seltzer sparkling water', 'price': 2.99}, {'id': 11, 'name': 'Peach Mango Juice', 'department': 'beverages', 'aisle': 'refrigerated', 'price': 1.99}, {'id': 12, 'name': 'Chocolate Fudge Layer Cake', 'department': 'frozen', 'aisle': 'frozen dessert', 'price': 18.5}, {'id': 13, 'name': 'Saline Nasal Mist', 'department': 'personal care', 'aisle': 'cold flu allergy', 'price': 16.0}, {'id': 14, 'name': 'Fresh Scent Dishwasher Cleaner', 'department': 'household', 'aisle': 'dish detergents', 'price': 4.99}, {'id': 15, 'name': 'Overnight Diapers Size 6', 'department': 'babies', 'aisle': 'diapers wipes', 'price': 25.5}, {'id': 16, 'name': 'Mint Chocolate Flavored Syrup', 'department': 'snacks', 'aisle': 'ice cream toppings', 'price': 4.5}, {'id': 17, 'name': 'Rendered Duck Fat', 'department': 'meat seafood', 'aisle': 'poultry counter', 'price': 9.99}, {'id': 18, 'name': 'Pizza for One Suprema Frozen Pizza', 'department': 'frozen', 'aisle': 'frozen pizza', 'price': 12.5}, {'id': 19, 'name': 'Gluten Free Quinoa Three Cheese & Mushroom Blend', 'department': 'dry goods pasta', 'aisle': 'grains rice dried goods', 'price': 3.99}, {'id': 20, 'name': 'Pomegranate Cranberry & Aloe Vera Enrich Drink', 'department': 'beverages', 'aisle': 'juice nectars', 'price': 4.25}]\n",
            "$12,345.68\n"
          ]
        }
      ]
    },
    {
      "cell_type": "markdown",
      "metadata": {
        "id": "da-yL2tWU6R8"
      },
      "source": [
        "# Part 1\n",
        "\n",
        "Write python code which references the `products` variable to reproduce the following output, representing a human-friendly list of products:\n",
        "\n",
        "```\n",
        "--------------\n",
        "THERE ARE 20 PRODUCTS:\n",
        "--------------\n",
        " + All-Seasons Salt ($4.99)\n",
        " + Chocolate Fudge Layer Cake ($18.50)\n",
        " + Chocolate Sandwich Cookies ($3.50)\n",
        " + Cut Russet Potatoes Steam N' Mash ($4.25)\n",
        " + Dry Nose Oil ($21.99)\n",
        " + Fresh Scent Dishwasher Cleaner ($4.99)\n",
        " + Gluten Free Quinoa Three Cheese & Mushroom Blend ($3.99)\n",
        " + Green Chile Anytime Sauce ($7.99)\n",
        " + Light Strawberry Blueberry Yogurt ($6.50)\n",
        " + Mint Chocolate Flavored Syrup ($4.50)\n",
        " + Overnight Diapers Size 6 ($25.50)\n",
        " + Peach Mango Juice ($1.99)\n",
        " + Pizza For One Suprema Frozen Pizza ($12.50)\n",
        " + Pomegranate Cranberry & Aloe Vera Enrich Drink ($4.25)\n",
        " + Pure Coconut Water With Orange ($3.50)\n",
        " + Rendered Duck Fat ($9.99)\n",
        " + Robust Golden Unsweetened Oolong Tea ($2.49)\n",
        " + Saline Nasal Mist ($16.00)\n",
        " + Smart Ones Classic Favorites Mini Rigatoni With Vodka Cream Sauce ($6.99)\n",
        " + Sparkling Orange Juice & Prickly Pear Beverage ($2.99)\n",
        " ```\n"
      ]
    },
    {
      "cell_type": "code",
      "metadata": {
        "id": "H5U_nR6cgEon"
      },
      "source": [
        "#\n",
        "# PART 1 CODE HERE!\n",
        "#\n",
        "\n",
        "diction = '\\n'.join(sorted([ f\"+ {product['name']} (${product['price']})\" for product in products]))"
      ],
      "execution_count": null,
      "outputs": []
    },
    {
      "cell_type": "code",
      "source": [
        "print(\"--------------\")\n",
        "print(\"THERE ARE 20 PRODUCTS:\")\n",
        "print(\"--------------\")\n",
        "print(diction)"
      ],
      "metadata": {
        "id": "tdG3F6pR29XP",
        "colab": {
          "base_uri": "https://localhost:8080/"
        },
        "outputId": "c277dc13-fc71-4fb2-ba42-3c8049cde042"
      },
      "execution_count": null,
      "outputs": [
        {
          "output_type": "stream",
          "name": "stdout",
          "text": [
            "--------------\n",
            "THERE ARE 20 PRODUCTS:\n",
            "--------------\n",
            "+ All-Seasons Salt ($4.99)\n",
            "+ Chocolate Fudge Layer Cake ($18.5)\n",
            "+ Chocolate Sandwich Cookies ($3.5)\n",
            "+ Cut Russet Potatoes Steam N' Mash ($4.25)\n",
            "+ Dry Nose Oil ($21.99)\n",
            "+ Fresh Scent Dishwasher Cleaner ($4.99)\n",
            "+ Gluten Free Quinoa Three Cheese & Mushroom Blend ($3.99)\n",
            "+ Green Chile Anytime Sauce ($7.99)\n",
            "+ Light Strawberry Blueberry Yogurt ($6.5)\n",
            "+ Mint Chocolate Flavored Syrup ($4.5)\n",
            "+ Overnight Diapers Size 6 ($25.5)\n",
            "+ Peach Mango Juice ($1.99)\n",
            "+ Pizza for One Suprema Frozen Pizza ($12.5)\n",
            "+ Pomegranate Cranberry & Aloe Vera Enrich Drink ($4.25)\n",
            "+ Pure Coconut Water With Orange ($3.5)\n",
            "+ Rendered Duck Fat ($9.99)\n",
            "+ Robust Golden Unsweetened Oolong Tea ($2.49)\n",
            "+ Saline Nasal Mist ($16.0)\n",
            "+ Smart Ones Classic Favorites Mini Rigatoni With Vodka Cream Sauce ($6.99)\n",
            "+ Sparkling Orange Juice & Prickly Pear Beverage ($2.99)\n"
          ]
        }
      ]
    },
    {
      "cell_type": "code",
      "source": [],
      "metadata": {
        "id": "nUWWf7Tu29RJ"
      },
      "execution_count": null,
      "outputs": []
    },
    {
      "cell_type": "markdown",
      "metadata": {
        "id": "HJiIxGI7Vw20"
      },
      "source": [
        "# Part 2\n",
        "\n",
        "Write python code which references the `products` variable to reproduce the following output, representing a human-friendly list of departments:\n"
      ]
    },
    {
      "cell_type": "markdown",
      "metadata": {
        "id": "PHGh4bUYVgW2"
      },
      "source": [
        "```\n",
        "--------------\n",
        "THERE ARE 10 DEPARTMENTS:\n",
        "--------------\n",
        " + Babies (1 product)\n",
        " + Beverages (5 products)\n",
        " + Dairy Eggs (1 product)\n",
        " + Dry Goods Pasta (1 product)\n",
        " + Frozen (4 products)\n",
        " + Household (1 product)\n",
        " + Meat Seafood (1 product)\n",
        " + Pantry (2 products)\n",
        " + Personal Care (2 products)\n",
        " + Snacks (2 products)\n",
        " ```"
      ]
    },
    {
      "cell_type": "code",
      "metadata": {
        "id": "snjnvaT-gCVj",
        "colab": {
          "base_uri": "https://localhost:8080/"
        },
        "outputId": "c16767d7-c565-4ac2-e198-13ece7aa71be"
      },
      "source": [
        "#\n",
        "# PART 2 CODE HERE!\n",
        "#\n",
        "\n",
        "from collections import Counter\n",
        "\n",
        "departments = [product['department'] for product in products]\n",
        "department_counts = Counter(departments)\n",
        "\n",
        "print(\"--------------\")\n",
        "print(\"THERE ARE\", len(department_counts), \"DEPARTMENTS:\")\n",
        "print(\"--------------\")\n",
        "\n",
        "for department, count in department_counts.items():\n",
        "    print(\" +\", department.capitalize(), \"(\", count, \"product)\" if count == 1 else \"products\", \")\")\n",
        "\n",
        "\n",
        "\n"
      ],
      "execution_count": 23,
      "outputs": [
        {
          "output_type": "stream",
          "name": "stdout",
          "text": [
            "--------------\n",
            "THERE ARE 10 DEPARTMENTS:\n",
            "--------------\n",
            " + Snacks ( 2 products )\n",
            " + Pantry ( 2 products )\n",
            " + Beverages ( 5 products )\n",
            " + Frozen ( 4 products )\n",
            " + Personal care ( 2 products )\n",
            " + Dairy eggs ( 1 product) )\n",
            " + Household ( 1 product) )\n",
            " + Babies ( 1 product) )\n",
            " + Meat seafood ( 1 product) )\n",
            " + Dry goods pasta ( 1 product) )\n"
          ]
        }
      ]
    },
    {
      "cell_type": "code",
      "source": [
        "# Get unique department names\n",
        "departments = set(product[\"department\"] for product in products)\n",
        "\n",
        "# Create a dictionary to store the department counts\n",
        "department_counts = {department: 0 for department in departments}\n",
        "\n",
        "# Count the number of products in each department\n",
        "for product in products:\n",
        "    department_counts[product[\"department\"]] += 1\n",
        "\n",
        "# Sort the departments alphabetically\n",
        "sorted_departments = sorted(department_counts.keys())\n",
        "\n",
        "# Print the department list\n",
        "print(\"--------------\")\n",
        "print(\"THERE ARE\", len(departments), \"DEPARTMENTS:\")\n",
        "print(\"--------------\")\n",
        "for department in sorted_departments:\n",
        "    product_count = department_counts[department]\n",
        "    print(\"+\", department.capitalize(), \"({} product{})\".format(product_count, \"s\" if product_count > 1 else \"\"))\n"
      ],
      "metadata": {
        "colab": {
          "base_uri": "https://localhost:8080/"
        },
        "id": "WUbwF9MFN1M8",
        "outputId": "fd6c6865-94a1-4776-c0b8-7ce2fec1f83d"
      },
      "execution_count": 24,
      "outputs": [
        {
          "output_type": "stream",
          "name": "stdout",
          "text": [
            "--------------\n",
            "THERE ARE 10 DEPARTMENTS:\n",
            "--------------\n",
            "+ Babies (1 product)\n",
            "+ Beverages (5 products)\n",
            "+ Dairy eggs (1 product)\n",
            "+ Dry goods pasta (1 product)\n",
            "+ Frozen (4 products)\n",
            "+ Household (1 product)\n",
            "+ Meat seafood (1 product)\n",
            "+ Pantry (2 products)\n",
            "+ Personal care (2 products)\n",
            "+ Snacks (2 products)\n"
          ]
        }
      ]
    },
    {
      "cell_type": "code",
      "source": [
        "dept_count = {}\n",
        "\n",
        "for product in products:\n",
        "  # print(product)\n",
        "  if product['department'] in dept_count.keys():\n",
        "    dept_count[product['department']] +=1\n",
        "\n",
        "  else:\n",
        "    dept_count[product['department']] = 1"
      ],
      "metadata": {
        "id": "rEX_WsBHNweu"
      },
      "execution_count": null,
      "outputs": []
    },
    {
      "cell_type": "code",
      "source": [
        "dept_count"
      ],
      "metadata": {
        "colab": {
          "base_uri": "https://localhost:8080/"
        },
        "id": "Kbb3OLzTPLwG",
        "outputId": "d954ee5c-92d7-44fd-f46f-d2293366b8d7"
      },
      "execution_count": null,
      "outputs": [
        {
          "output_type": "execute_result",
          "data": {
            "text/plain": [
              "{'snacks': 2,\n",
              " 'pantry': 2,\n",
              " 'beverages': 5,\n",
              " 'frozen': 4,\n",
              " 'personal care': 2,\n",
              " 'dairy eggs': 1,\n",
              " 'household': 1,\n",
              " 'babies': 1,\n",
              " 'meat seafood': 1,\n",
              " 'dry goods pasta': 1}"
            ]
          },
          "metadata": {},
          "execution_count": 11
        }
      ]
    },
    {
      "cell_type": "code",
      "source": [
        "diction1 = '\\n'.join(sorted([ f\"+ {product['department'].title()} ({dept_count[product['department']]})\" for count in dept_count]))"
      ],
      "metadata": {
        "id": "AspOghftPTvt"
      },
      "execution_count": null,
      "outputs": []
    },
    {
      "cell_type": "code",
      "source": [
        "for dept in dept_count:\n",
        "  print(dept)"
      ],
      "metadata": {
        "colab": {
          "base_uri": "https://localhost:8080/"
        },
        "id": "8tPAvE8FQXCP",
        "outputId": "ece9f65f-0812-4041-ea7c-89436618a236"
      },
      "execution_count": null,
      "outputs": [
        {
          "output_type": "stream",
          "name": "stdout",
          "text": [
            "snacks\n",
            "pantry\n",
            "beverages\n",
            "frozen\n",
            "personal care\n",
            "dairy eggs\n",
            "household\n",
            "babies\n",
            "meat seafood\n",
            "dry goods pasta\n"
          ]
        }
      ]
    },
    {
      "cell_type": "code",
      "source": [
        "diction1 = sorted([f'{key} ({value})'.title() for key, value in dept_count.items()])\n"
      ],
      "metadata": {
        "id": "AMnvvTykQiVD"
      },
      "execution_count": null,
      "outputs": []
    },
    {
      "cell_type": "code",
      "source": [
        "print(\"--------------\")\n",
        "print(\"THERE ARE 10 DEPARTMENTS:\")\n",
        "print(\"--------------\")\n",
        "print(diction1)"
      ],
      "metadata": {
        "id": "P5TvylpxSL08",
        "colab": {
          "base_uri": "https://localhost:8080/"
        },
        "outputId": "d2809e64-9334-4161-c3e8-e1085a9908ce"
      },
      "execution_count": null,
      "outputs": [
        {
          "output_type": "stream",
          "name": "stdout",
          "text": [
            "--------------\n",
            "THERE ARE 10 DEPARTMENTS:\n",
            "--------------\n",
            "['Babies (1)', 'Beverages (5)', 'Dairy Eggs (1)', 'Dry Goods Pasta (1)', 'Frozen (4)', 'Household (1)', 'Meat Seafood (1)', 'Pantry (2)', 'Personal Care (2)', 'Snacks (2)']\n"
          ]
        }
      ]
    },
    {
      "cell_type": "code",
      "source": [],
      "metadata": {
        "id": "bM8PaFWl-P3t"
      },
      "execution_count": null,
      "outputs": []
    }
  ]
}